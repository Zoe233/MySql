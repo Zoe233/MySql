{
 "cells": [
  {
   "cell_type": "markdown",
   "metadata": {},
   "source": [
    "# 1. 什么是MySQL多实例？"
   ]
  },
  {
   "cell_type": "markdown",
   "metadata": {},
   "source": [
    "简单的说，就是**一台机器上开启多个不同的服务端口（如3306,3307），运行多个MySQL服务进程，这些进程通过不同的socket监听不同的服务端口来提供各自的服务**。\n",
    "\n",
    "这些MySQL多实例共用一套MySQL安装程序，使用\n",
    "- 不同（也可以相同）的my.cnf配置文件、启动程序文件，数据文件。\n",
    "\n",
    "本次的案例采用共用一套安装程序，使用不同的配置文件、不同的启动程序、不同的数据文件的mysql多实例。\n",
    "\n",
    "在提供服务的时候，多实例MySQL在逻辑上看来是各自独立的，多个实例的自身是根据配置文件对应的设置值，来取得服务器的相关硬件资源多少的。\n",
    "\n",
    "做一个形象的比喻，MySQL多实例相当于房子的多个卧室一样，每个实例可以看作是一个卧室，整个服务器就是一套房子，服务器的硬件资源可以看作是房子的卫生间、厨房一样是房子的公共资源。就像是北漂住在一套房子里，肯定要共享资源。其实很多服务都可以有多实例如nginx,apache,redias等。"
   ]
  },
  {
   "cell_type": "markdown",
   "metadata": {},
   "source": [
    "# 2. MySQL多实例的作用与存在的问题"
   ]
  },
  {
   "cell_type": "markdown",
   "metadata": {},
   "source": [
    "1. 有效利用服务器资源\n",
    "\n",
    "当单个服务器资源有剩余时，可以充分利用剩余的资源提供更多的服务。一般服务器资源占用率应该到60%-70%。\n",
    "\n",
    "2. 节约服务器资源\n",
    "\n",
    "当公司资金比较紧张，但是数据库又需要各自尽量独立提供服务，而且需要主从同步技术时多实例就再好不过了。\n",
    "\n",
    "3. 资源互相抢占问题\n",
    "\n",
    "当某个实例并发很高或者慢查询时，整个实例会消耗整个服务器更多的内存、cpu、磁盘IO资源，导致服务器上的其他实例提供服务的质量下降，这就相当于大家住在一个房子的不同卧室一样，早晨起来要上班，都要刷牙、洗脸等等。这样卫生间就会长期占用，其他人要等待一样的道理。"
   ]
  },
  {
   "cell_type": "markdown",
   "metadata": {},
   "source": [
    "# 3. MySQL多实例生产应用场景\n",
    "### 1. 资金紧张型公司的选择    \n",
    "当公司业务访问量不太大，又不舍得花钱，但又希望不同业务的数据库服务各自尽量独立的听过服务互相不受影响，而且，需要**主从同步**进行等技术**提供备份或读写分离服务**，多实例就再好不过了。\n",
    "如：   \n",
    "可以通过3台服务器部署6-9个实例，交叉做主从同步备份及读写分离，实现6-9台服务器才有的效果。这里要强调的是，所谓的尽量独立是相对的。\n",
    "\n",
    "### 2. 并发访问不是特别大的业务\n",
    "当公司业务访问量不太大的时候，服务器的资源基本都是浪费的，这时就很适合多实例的应用，如果对SQL语句优化做的比较好，MySQL多实例一个很值得使用的技术，即使并发很大，合理分配好系统资源，也不会有太大问题。\n",
    "\n",
    "### 3. 门户网应用MySQL多实例场景\n",
    " \n",
    "百度搜索引擎的数据库就是多实例，一般是从库，48核，内存96G，跑3-4个实例，sina网也是用的多实例，内存48G左右。门户网站使用多实例的目的是配硬件好的服务器节省IDC机柜空间，同时，跑多实例让硬件资源不浪费。"
   ]
  },
  {
   "cell_type": "markdown",
   "metadata": {},
   "source": [
    "# 4. mysql多实例常见配置方案"
   ]
  },
  {
   "cell_type": "markdown",
   "metadata": {},
   "source": [
    "- 1. 通过多个配置文件及多个启动程序来实现多实例 \n",
    "生产中比较推荐此方法，本随笔中也将采取此方法.\n",
    "\n",
    "- 2. 单一配置文件方案即一个配置文件里写多个实例的内容\n",
    "通过**mysqld_muti参数**实现，此方法耦合性太高，可参见 http://blog.51cto.com/suifu/1850560"
   ]
  },
  {
   "cell_type": "markdown",
   "metadata": {},
   "source": [
    "## 1. 多配置文件部署方案"
   ]
  },
  {
   "cell_type": "markdown",
   "metadata": {},
   "source": [
    "### 多实例MySQL详细步骤\n",
    "#### 1.1 建立MySQL多实例的条件\n",
    "- 安装好MySQL安装依赖的包\n",
    "\n",
    "yum -y install ncurses-devel\n",
    "\n",
    "yum -y install libaio-devel\n",
    "\n",
    "- 选择二进制方式安装MySQL5.5,或者源码编译安装MySQL\n",
    "\n",
    "#### 1.2 建立MySQL账号\n",
    "首先以root身份登录到linux系统中，然后执行如下命令创建mysql组及用户\n",
    "\n",
    "[root@mysql ~]# groupadd mysql\n",
    "\n",
    "[root@mysql ~]# useradd -s /sbin/nologin -g mysql -M mysql\n",
    "\n",
    "Useradd命令参数简要说明：\n",
    "\n",
    "- -s /sbin/nologin 表示禁止该用户登录，加强安全。\n",
    "\n",
    "- -g mysql 指定属于mysql组\n",
    "\n",
    "- -M表示不创建用户家目录\n",
    "\n",
    "#### 1.3 下载MySQL软件\n",
    "通过rz或sftp等命令从本地上传mysql软件包到linux服务器\n",
    "\n",
    "[root@mysql ~]# mkdir -p /application/tools/                     ß建立存放mysql软件包的目录\n",
    "\n",
    "[root@mysql ~]# cd /application/tools/            ß进入软件包目录\n",
    "\n",
    "[root@mysql tools]# ll mysql-5.5.32-linux2.6-x86_64.tar.gz   ß查看上传软件包\n",
    "\n",
    "-rw-r--r-- 1 root root 186722932 Jun 20  2013 mysql-5.5.32-linux2.6-x86_64.tar.gz\n",
    "\n",
    "#### 1.4 安装MYSQL软件\n",
    "1. 解压软件包，移动到规范的软件安装目录下\n",
    "\n",
    "2. 生成不带版本号的软链接/application/mysql，即mysql安装路径。\n",
    "\n",
    "[root@mysql tools]# tar xf mysql-5.5.32-linux2.6-x86_64.tar.gz  ß解包\n",
    "\n",
    "[root@mysql tools]# mv mysql-5.5.32-linux2.6-x86_64 /application/ß移动到规范的软件安装目录下\n",
    "\n",
    "[root@mysql tools]#ln -s /application/mysql-5.5.32/ /application/mysql  ß生成不带版本链接/application/mysql，即mysql安装路径"
   ]
  },
  {
   "cell_type": "markdown",
   "metadata": {},
   "source": [
    "#### 1.5 创建MySQL多实例的数据文件目录\n",
    " "
   ]
  },
  {
   "cell_type": "raw",
   "metadata": {},
   "source": [
    "# 杀进程，防止冲突\n",
    "[root@oldboy mysql-5.5.32]# pkill mysqld\n",
    "\n",
    "[root@oldboy mysql-5.5.32]# ps -ef|grep msyql\n",
    "root      3520  3090  0 13:46 pts/0    00:00:00 grep msyql"
   ]
  },
  {
   "cell_type": "raw",
   "metadata": {},
   "source": [
    "# 删除/etc/init.d/mysqld这种启动方式（单实例）\n",
    "rm -f /etc/init.d/mysqld  "
   ]
  },
  {
   "cell_type": "markdown",
   "metadata": {},
   "source": [
    "下面是多实例的目录结构："
   ]
  },
  {
   "cell_type": "raw",
   "metadata": {},
   "source": [
    "[root@mysql ~]# mkdir -p /data/{3306,3307}/data          ß上传相关mysql多实例的目录\n",
    "\n",
    "/data/                        ß总的多实例根目录\n",
    "\n",
    "|-- 3306                    ß3306实例的目录\n",
    "\n",
    "|   |-- data           ß3306实例的数据文件目录\n",
    "\n",
    "|   |-- my.cnf      ß3306实例配置文件\n",
    "\n",
    "|   `-- mysql         ß3306实例的启动脚本\n",
    "\n",
    "`-- 3307                     ß3307实例的目录\n",
    "\n",
    "    |-- data           ß3307实例的数据文件目录\n",
    "\n",
    "    |-- my.cnf      ß3307实例配置文件\n",
    "\n",
    "    `-- mysql         ß3307实例的启动脚本\n",
    "\n",
    "提示：\n",
    "\n",
    "1、mkdir -p /data/{3306,3307}/data相当于mkdir -p /data/3306/data; mkdir -p /data/3307/data两条命令。\n",
    "\n",
    "2、如果是创建多个目录可以增加，如33008、3309，一般生产环境中2-3个实例就可以了。\n",
    "\n",
    "生产硬件配置：MEM 32g、双8核、磁盘6*600g、sas15k、2-3个实例。"
   ]
  },
  {
   "cell_type": "markdown",
   "metadata": {},
   "source": [
    "#### 1.6 创建MySQL多实例的配置文件my.cnf"
   ]
  },
  {
   "cell_type": "markdown",
   "metadata": {},
   "source": [
    "创建MySQL多实例的配置文件，vim /data/3307/my.cnf，内容如下:"
   ]
  },
  {
   "cell_type": "raw",
   "metadata": {},
   "source": [
    "[client]\n",
    "port\t= 3307  # 不同实例，端口不一样\n",
    "socket\t= /data/3307/mysql.sock   # socket目录\n",
    "\n",
    "[mysql]\n",
    "no-auto-rehash\n",
    "\n",
    "[mysqld]\n",
    "user\t= mysql  \n",
    "port\t= 3307    # 端口\n",
    "socket\t= /data/3307/mysql.sock   # socket目录\n",
    "basedir\t= /usr/local/mysql\n",
    "datadir\t= /data/3307/data  # data目录\n",
    "open_files_limit\t= 1024\n",
    "read-only\n",
    "back_log\t= 600\n",
    "max_connections\t= 800\n",
    "max_connect_errors\t= 3000\n",
    "#table_cache\t= 614\n",
    "external-locking\t= FALSE\n",
    "max_allowed_packet\t= 8M\n",
    "sort_buffer_size\t= 1M\n",
    "join_buffer_size\t= 1M\n",
    "thread_cache_size\t= 100\n",
    "thread_concurrency\t= 2\n",
    "query_cache_size\t= 2M\n",
    "query_cache_limit\t= 1M\n",
    "query_cache_min_res_unit\t= 2K\n",
    "#default_table_type\t= InnoDB\n",
    "thread_stack\t= 192K\n",
    "#transaction_isolation\t= READ-COMMITTED\n",
    "tmp_table_size\t= 2M\n",
    "max_heap_table_size\t= 2M\n",
    "long_query_time\t=1 \n",
    "pid-file\t= /data/3307/mysql.pid  # pid文件目录\n",
    "relay-log\t= /data/3307/relay-bin  # 日志文件目录\n",
    "relay-log-info-file = /data/3307/relay-log.info   # 日志文件目录 \n",
    "binlog_cache_size\t= 1M\n",
    "max_binlog_cache_size\t= 1M\n",
    "max_binlog_size\t= 2M\n",
    "key_buffer_size\t= 16M\n",
    "read_rnd_buffer_size\t= 1M\n",
    "bulk_insert_buffer_size\t= 1M\n",
    "lower_case_table_names\t= 1\n",
    "skip-name-resolve\n",
    "slave-skip-errors\t= 1032,1062\n",
    "replicate-ignore-db=mysql\n",
    "\n",
    "server-id\t= 3        # 不同实例的server-id不一样的，3306端口的server_id我设置为52了，这里不能是52\n",
    "\n",
    "#innodb_additional_mem_pool_size\t= 4M\n",
    "innodb_buffer_pool_size\t= 32M\n",
    "innodb_data_file_path\t = ibdata1:128M:autoextend\n",
    "innodb_file_io_threads\t= 4\n",
    "#innodb_threads_concurrency\t= 8\n",
    "innodb_flush_log_at_trx_commit\t= 2\n",
    "innodb_log_buffer_size\t= 2M\n",
    "innodb_log_file_size\t= 4M\n",
    "innodb_log_files_in_group\t= 3 \n",
    "innodb_max_dirty_pages_pct\t= 90\n",
    "innodb_lock_wait_timeout\t= 120\n",
    "innodb_file_per_table\t= 0\n",
    "[mysqldump]\n",
    "quick\n",
    "max_allowed_packet\t= 2M\n",
    "\n",
    "[mysql_safe]\n",
    "log-error=/data/3307/mysql_pcm3307.err  # 日志文件目录\n",
    "pid-file=/data/3307/mysqld.pid   # 实例启动程序目录"
   ]
  },
  {
   "cell_type": "markdown",
   "metadata": {},
   "source": [
    "#### 1.7 创建多实例启动文件的脚本"
   ]
  },
  {
   "cell_type": "markdown",
   "metadata": {},
   "source": [
    "多实例启动文件的启动mysql的服务实质："
   ]
  },
  {
   "cell_type": "raw",
   "metadata": {},
   "source": [
    "mysqld_safe --defaults-file=/data/3306/my.cnf 2>&1 >/dev/null &\n",
    "mysqld_safe --defaults-file=/data/3307/my.cnf 2>&1 >/dev/null &"
   ]
  },
  {
   "cell_type": "markdown",
   "metadata": {},
   "source": [
    "多实例启动文件的停止mysql服务实质："
   ]
  },
  {
   "cell_type": "raw",
   "metadata": {},
   "source": [
    "mysqladmin -u root -poldboy123 -S /data/3306/mysql.sock shutdown\n",
    "mysqladmin -u root -poldboy123 -S /data/3307/mysql.scok shutdown"
   ]
  },
  {
   "cell_type": "markdown",
   "metadata": {},
   "source": [
    "平滑停止数据库。"
   ]
  },
  {
   "cell_type": "markdown",
   "metadata": {},
   "source": [
    "##### 创建MySQL多实例的启动文件，vim /data/3307/mysql ，内容如下："
   ]
  },
  {
   "cell_type": "raw",
   "metadata": {},
   "source": [
    "#!/bin/bash\n",
    "\n",
    "#init\n",
    "port=3307\n",
    "mysql_user=\"root\"\n",
    "mysql_pwd=\"pcm123456\"\n",
    "CmdPath=\"/usr/local/mysql/bin\"\n",
    "mysql_sock=\"/data/${port}/mysql.sock\"\n",
    "\n",
    "#startup function\n",
    "function_start_mysql(){\n",
    "\tif [ ! -e \"$mysql_sock\" ];then\n",
    "\t\tprintf \"Starting Mysql...\\n\"\n",
    "\t\t/bin/sh\t${CmdPath}/mysqld_safe --defaults-file=/data/${port}/my.cnf 2>&1 >/dev/null &    #启动命令\n",
    "\telse\n",
    "\t\tprintf \"Mysql is running...\\n\"\n",
    "\texit\n",
    "\tfi\n",
    "}\n",
    "\n",
    "\n",
    "#stop function\n",
    "function_stop_mysql(){\n",
    "\tif [ ! -e \"$mysql_sock\" ];then\n",
    "\t\tprintf \"Mysql is stopped...\\n\"\n",
    "\t\texit \n",
    "\telse\n",
    "\t\tprintf \"Stoping Mysql...\\n\"\n",
    "\t\t${CmdPath}/mysqladmin -u ${mysql_user} -p${mysql_pwd} -S /data/${port}/mysql.sock shutdown    #停止命令\n",
    "\tfi\n",
    "}\n",
    "\n",
    "#restart function\n",
    "function_restart_mysql(){\n",
    "\tprintf \"Restart Mysql...\\n\"\n",
    "\tfunction_stop_mysql\n",
    "\tsleep 2\n",
    "\tfunction_start_mysql\n",
    "}\n",
    "\n",
    "case $1 in\n",
    "start)\n",
    "\tfunction_start_mysql\n",
    "\t;;\n",
    "stop)\n",
    "\tfunction_stop_mysql\n",
    "\t;;\n",
    "restart)\n",
    "\tfunction_restart_mysql\n",
    "\t;;\n",
    "*)\n",
    "\tprintf \"Usage:/data/${port}/mysql.sh {start|stop|restart}\\n\"\n",
    "esac"
   ]
  },
  {
   "cell_type": "markdown",
   "metadata": {},
   "source": [
    "#### 1.8 配置MySQL多实例的文件权限"
   ]
  },
  {
   "cell_type": "raw",
   "metadata": {},
   "source": [
    "chown -R mysql:mysql /data/\n",
    "\n",
    "[root@oldboy 3307]# find /data -name mysql|xargs ls -l\n",
    "-rw-r--r-- 1 mysql mysql 961 9月   2 14:12 /data/3306/mysql\n",
    "-rw-r--r-- 1 mysql mysql 961 9月   2 14:13 /data/3307/mysql\n",
    "\n",
    "# 修改权限为700，因为里面有数据库的密码，要求较高的安全性\n",
    "[root@oldboy 3307]# find /data -name mysql|xargs chmod 700\n",
    "[root@oldboy 3307]# find /data -name mysql|xargs ls -l    \n",
    "-rwx------ 1 mysql mysql 961 9月   2 14:12 /data/3306/mysql\n",
    "-rwx------ 1 mysql mysql 961 9月   2 14:13 /data/3307/mysql\n"
   ]
  },
  {
   "cell_type": "markdown",
   "metadata": {},
   "source": [
    "#### 1.9 初始化MySQL多实例的数据库文件"
   ]
  },
  {
   "cell_type": "raw",
   "metadata": {},
   "source": [
    "mysql初始化文件注意要配置全局变量PATH（配置MySQL命令全局使用路径）\n",
    "\n",
    "[root@oldboy 3307]# tail -1 /etc/profile\n",
    "export PATH=/usr/local/mysql/bin:/usr/local/sbin:/usr/local/bin:/sbin:/bin:/usr/sbin:/usr/bin:/root/bin"
   ]
  },
  {
   "cell_type": "raw",
   "metadata": {},
   "source": [
    "1、初始化命令为：\n",
    "\n",
    "[root@mysql ~]# /usr/local/mysql/scripts/mysql_install_db --basedir=/usr/local/mysql --datadir=/data/3306/data/ --user=mysql    ß初始3306数据库\n",
    "\n",
    "[root@mysql ~]# /usr/local/mysql/scripts/mysql_install_db --basedir=/usr/local/mysql --datadir=/data/3307/data/ --user=mysql    ß初始3307数据库"
   ]
  },
  {
   "cell_type": "markdown",
   "metadata": {},
   "source": [
    "查看3307目录下data目录，可以看到多出了不少的数据文件\n",
    "\n"
   ]
  },
  {
   "cell_type": "raw",
   "metadata": {},
   "source": [
    "[root@oldboy data]# ls /data/3307/data\n",
    "mysql  performance_schema  test"
   ]
  },
  {
   "cell_type": "markdown",
   "metadata": {},
   "source": [
    "2、为什么要初始化数据库？\n",
    "\n",
    "初始化的主要目的就是创建基础的数据库文件，例如：生成mysql库表等。\n",
    "\n",
    "初始化后/data/{3306,3307}/data目录下就会有mysql等数据文件。"
   ]
  },
  {
   "cell_type": "markdown",
   "metadata": {},
   "source": [
    "#### 1.10 启动MySQL多实例数据库，检查看到3307的端口已经启动"
   ]
  },
  {
   "cell_type": "raw",
   "metadata": {},
   "source": [
    "/data/3307/mysql start\n",
    "/data/3306/mysql start"
   ]
  },
  {
   "cell_type": "markdown",
   "metadata": {},
   "source": [
    "----"
   ]
  },
  {
   "cell_type": "markdown",
   "metadata": {},
   "source": [
    "### MySQL故障排错多实例数据库"
   ]
  },
  {
   "cell_type": "markdown",
   "metadata": {},
   "source": [
    "如果mysql没有起来排查方法如下：\n",
    "\n",
    "1. 如果发现没有显示MySQL的端口，请等待几秒mysql服务启动会有点慢。\n",
    "2. 如果还是不行，请查看错误日志，错误日志路径在my.cnf配置文件路径下面。    \n",
    "   grep log-error /data/3306/mysql_linzhongniaao3306.err|tail -1\n",
    "3. 细看所有执行命令返回的输出，不要忽略关键的输出结果。\n",
    "4. 查看系统的/var/log/messages。\n",
    "5. 如果是关联服务，要同时查看相关服务的LOG。"
   ]
  },
  {
   "cell_type": "markdown",
   "metadata": {},
   "source": [
    "### Mysql多实例登录"
   ]
  },
  {
   "cell_type": "markdown",
   "metadata": {},
   "source": [
    "Mysql安装完成后，默认情况下管理员账号root是无密码的。登录不同的mysql数据库需要指定不同库的sock文件。如果是远程的话就指定IP地址。"
   ]
  },
  {
   "cell_type": "raw",
   "metadata": {},
   "source": [
    "[root@mysql ~]# mysql -S /data/3306/mysql.sock \n",
    "[root@mysql ~]# mysql -S /data/3307/mysql.sock"
   ]
  },
  {
   "cell_type": "markdown",
   "metadata": {},
   "source": [
    "-----"
   ]
  },
  {
   "cell_type": "markdown",
   "metadata": {},
   "source": [
    "### MySQL安全配置"
   ]
  },
  {
   "cell_type": "markdown",
   "metadata": {},
   "source": [
    "为root增加密码"
   ]
  },
  {
   "cell_type": "raw",
   "metadata": {},
   "source": [
    "mysqladmin -u root -S /data/3306/mysql.sock password '123456'\n",
    "mysqladmin -u root -S /data/3307/mysql.sock password '123456'"
   ]
  },
  {
   "cell_type": "markdown",
   "metadata": {},
   "source": [
    "设置完数据路密码登录数据库的方法"
   ]
  },
  {
   "cell_type": "raw",
   "metadata": {},
   "source": [
    "[root@mysql 3306]# mysql -uroot -p123456 -S /data/3306/mysql.sock\n",
    "[root@mysql 3306]# mysql -uroot -p123456 -S /data/3307/mysql.sock"
   ]
  },
  {
   "cell_type": "markdown",
   "metadata": {},
   "source": [
    "### 为mysql多实例启动脚本修改执行权限，只允许root用户有执行权限"
   ]
  },
  {
   "cell_type": "raw",
   "metadata": {},
   "source": [
    "[root@mysql ~]# find /data -type f -name \"mysql\" -exec ls -l {} \\;\n",
    " -rwxr-xr-x. 1 mysql mysql 1267 Oct 12 23:01 /data/3307/mysql\n",
    " -rwxr-xr-x. 1 mysql mysql 1138 Oct 12 23:01 /data/3306/mysql\n",
    "[root@mysql ~]# find /data -type f -name \"mysql\" -exec chown root.root {} \\; \n",
    "[root@mysql ~]# find /data -type f -name \"mysql\" -exec chmod 700 {} \\;   \n",
    "[root@mysql ~]# find /data -type f -name \"mysql\" -exec ls -l {} \\;  \n",
    " -rwx------. 1 root root 1267 Oct 12 23:01 /data/3307/mysql\n",
    " -rwx------. 1 root root 1138 Oct 12 23:01 /data/3306/mysql"
   ]
  }
 ],
 "metadata": {
  "kernelspec": {
   "display_name": "Python 3",
   "language": "python",
   "name": "python3"
  },
  "language_info": {
   "codemirror_mode": {
    "name": "ipython",
    "version": 3
   },
   "file_extension": ".py",
   "mimetype": "text/x-python",
   "name": "python",
   "nbconvert_exporter": "python",
   "pygments_lexer": "ipython3",
   "version": "3.6.5"
  }
 },
 "nbformat": 4,
 "nbformat_minor": 2
}
