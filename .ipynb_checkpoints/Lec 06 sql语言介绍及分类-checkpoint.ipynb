{
 "cells": [
  {
   "cell_type": "markdown",
   "metadata": {},
   "source": [
    "# 1. 什么是sql"
   ]
  },
  {
   "cell_type": "markdown",
   "metadata": {},
   "source": [
    "SQL英文全称是Structured Query Language，中文意思是结构化查询语言。它是一种对关系型数据库中的数据进行定义和操作的语言方法。是大多数关系数据库管理系统所支持的工业标准。"
   ]
  },
  {
   "cell_type": "markdown",
   "metadata": {},
   "source": [
    "# 2. SQL的分类"
   ]
  },
  {
   "cell_type": "markdown",
   "metadata": {},
   "source": [
    "SQL结构化查询语言包含6部分。\n",
    "\n",
    "## 1. 数据查询语言（DQL）\n",
    "\n",
    "DQL全称(Data Query Language) ，其语句也称为数据检索语句，作用是从表中获取数据，确定数据怎样在程序中给出。\n",
    "\n",
    "#### 关键字SELECT是DQL（也是所有SQL）用的最多的动词，其他DQL常用的保留字有WHERE、ORDER BY、GROUP BY和HAVING。\n",
    "这些DQL保留字常与其他类型的SQL语句一起使用，"
   ]
  },
  {
   "cell_type": "markdown",
   "metadata": {},
   "source": [
    "## 2. 数据操作语言（DML）\n",
    "DML全称（Data Manipulation Language），其语句包括**动词INSERT，UPDATE和DELETE**。它们分别用于添加，修改和删除表中的行（数据）。\n",
    "\n",
    "也称为动作查询语言。"
   ]
  },
  {
   "cell_type": "markdown",
   "metadata": {},
   "source": [
    "## 3. 事务处理语言（TRL）\n",
    "\n",
    "它的语句能确保被DML语句影响的表的所有行及时得以更新，TPL语句包括**BEGIN，TRANSACTION，COMMIT和ROLLBACK**。\n",
    "\n",
    "\n",
    "主要了解后两种COMMIT和ROLLBACK。"
   ]
  },
  {
   "cell_type": "markdown",
   "metadata": {},
   "source": [
    "## 4. 数据控制语言（DCL）"
   ]
  },
  {
   "cell_type": "markdown",
   "metadata": {},
   "source": [
    "DCL全称（Data Control Language）它在语句通过**GRANT或REVOKE获取许可**（授权和取消授权）。\n",
    "\n",
    "## 5. 数据定义语言（DDL）\n",
    "\n",
    "全称（Data Definition Language）其语句包括动词**CREATE和DROP**，在数据库中创建新表或删除表（CREAT TABLE或DROP TABLE）;为表加入索引等。\n",
    "\n",
    "## 6. 指针控制语言（CCL）\n",
    "\n",
    "全称CURSOR Control Language,它的语句像**DECLARE CURSOR，FETCH INTO和UPDATE WHERE CURRENT 用于对一个或多个表单独行的操作**。\n",
    "\n",
    "### 小结：SQL语句最常见的分类一般就3类：\n",
    "\n",
    "- DDL数据定义语言（CREATE，ALTER，DROP）运维必会\n",
    "\n",
    "- DML数据操作语言（SELECT，INSERT，DELETE，UPDATE）开发\n",
    "\n",
    "- DCL数据控制语言（GRANT，REVOKE，COMMIT，ROLLBACK）运维必会"
   ]
  },
  {
   "cell_type": "markdown",
   "metadata": {},
   "source": []
  }
 ],
 "metadata": {
  "kernelspec": {
   "display_name": "Python 3",
   "language": "python",
   "name": "python3"
  },
  "language_info": {
   "codemirror_mode": {
    "name": "ipython",
    "version": 3
   },
   "file_extension": ".py",
   "mimetype": "text/x-python",
   "name": "python",
   "nbconvert_exporter": "python",
   "pygments_lexer": "ipython3",
   "version": "3.6.5"
  }
 },
 "nbformat": 4,
 "nbformat_minor": 2
}
