{
 "cells": [
  {
   "cell_type": "markdown",
   "metadata": {},
   "source": [
    "## 1.非关系型数据库种类\n",
    "（1） 键值（key-value）存储数据库  \n",
    "- 键值数据库就类似传统语言中使用的哈希表，可以通过key来添加、查询或者删除数据，因为使用key主键访问，所以会获得很高的性能及扩展性。  \n",
    "- 键值（key-value）数据库主要是使用一个哈希表，这个表中有一个特定的键和一个指针指向特定的数据，key-value模型对于IT系统来说的优势在于**简单、易部署、高并发**。  \n",
    "- 典型产品：Memcached, Redis, MemcacheDB, Berkeley DB  \n",
    "        \n",
    "（2）列存储（Column-oriented）数据库    \n",
    "- 列存储数据库将数据储存在列表（column family）中，一个列族存储经常被一起查询的相关数据。    \n",
    "- 举个例子，如果我们有一个Person类，我们通常会一起查询他们的姓名和年龄而不是薪资，这种情况下，姓名和年龄就会被放入一个列族中，而薪资则在另一个列族中。  \n",
    "- 这部分数据库通常是用来应对分布式存储的海量数据，键仍然存储，但是它们的特点是指向了多个列。这些列是由列家族来安排的。\n",
    "- 典型产品：Cassandra，HBase\n",
    "\n",
    "（3）面向文档（Document-Oriented）数据库     \n",
    "- 文档型数据库的灵感是来自于Lotus Notes办公软件的，而且它同第一种键值存储相类似。\n",
    "- 该类型的数据模型是版本化的文档，半结构化的文档以特定的格式存储，比如：JSON。\n",
    "- 文档型数据库可以看作是键值数据库的升级版，允许之间嵌套键值，而且**文档型数据库比键值数据库的查询效率更高**。\n",
    "- 面向文档数据库会将数据以文档的形式储存，每个文档都是自包含的数据但愿你，是一系列数据项的集合，每个数据项都有一个名称与对应的值，值既可以是简单的数据类型，如：字符串，数字和日期等；也可以是复杂的类型，如有序列表和关联对象，数据存储的最小单位是文档，同一个表中存储的文档属性可以是不同的，数据可以使用XML，JSON或者JSONB等多种形式存储。\n",
    "- 典型产品：MongoDB，CouchDB\n",
    "\n",
    "（4）图形（Graph）数据库    \n",
    "- 图形数据库允许我们将数据以图的方式存储，实体会被作为顶点，而实体之间的关系则会被作为边。\n",
    "- 比如：我们有三个实体，Steve Jobs，Apple和Next，则会有两个“Founded by”的边将Apple和Next链接到Steve Jobs。\n",
    "- 图形结构的数据库同其他行列以及刚性结构的SQL数据库不同，它是使用灵活的图形模型，并且能够拓展到多个服务器上。\n",
    "- NoSQL数据库没有标准的查询语言（SQL），因此进行数据库查询需要指定数据模型，许多NoSQL数据库都有REST式的数据接口或者查询API。\n",
    "- 典型产品：Neo4J，InfoGrid"
   ]
  },
  {
   "cell_type": "markdown",
   "metadata": {},
   "source": [
    "按照早期的数据库理论，比较流行的数据库模型有三种，分别为**层次式数据库**、**网络式数据库**和**关系型数据库**。\n",
    "\n",
    "目前最常用的数据库模型主要是两种：关系型数据库和非关系型数据库。\n",
    "\n",
    "我们主要了解关系型数据库和非关系型数据库这两类最重要的也是目前实现使用最多的数据库种类。"
   ]
  },
  {
   "cell_type": "markdown",
   "metadata": {},
   "source": [
    "注意：   \n",
    "列存储Column-oriented中小企业不用，非高阶人士不用，基本上属于高阶使用，了解即可。\n",
    "\n",
    "MongoDB很灵活，搭建非常容易。\n",
    "\n",
    "Memcached基于内存的数据库；Redis是支持内存和磁盘的持久化的数据库。\n"
   ]
  },
  {
   "cell_type": "markdown",
   "metadata": {},
   "source": [
    "## 2. 关系型数据库介绍"
   ]
  },
  {
   "cell_type": "markdown",
   "metadata": {},
   "source": [
    "### 关系型数据库的由来：\n",
    "    虽然网状数据库和层次数据库已经很好地解决了数据的集中和共享问题，但是在数据独立性和抽象级别上仍有很大欠缺。   \n",
    "    用户在对这两种数据进行存取时，仍然需要明确数据的存储结构，指出存取路径，而关系型数据库可以比较好地解决这些问题。"
   ]
  },
  {
   "cell_type": "markdown",
   "metadata": {},
   "source": [
    "### 关系型数据库介绍\n",
    "关系型数据库模型是把复杂的数据结构归结为简单的二元关系（即二维表格形式）。  \n",
    "例如：学校某一学年的学生关系就是二元关系。\n",
    "\n",
    "在关系型数据库中，对数据的操作几乎全部建立在一个或多个关系表格上，通过对这些关联的表格分类、合并、连接或选取等运算来实现数据的管理。\n",
    "\n",
    "典型产品：MySQL，Oracle，SqlServer"
   ]
  },
  {
   "cell_type": "code",
   "execution_count": null,
   "metadata": {},
   "outputs": [],
   "source": []
  },
  {
   "cell_type": "code",
   "execution_count": null,
   "metadata": {},
   "outputs": [],
   "source": []
  },
  {
   "cell_type": "code",
   "execution_count": null,
   "metadata": {},
   "outputs": [],
   "source": []
  },
  {
   "cell_type": "code",
   "execution_count": null,
   "metadata": {},
   "outputs": [],
   "source": []
  },
  {
   "cell_type": "markdown",
   "metadata": {},
   "source": []
  },
  {
   "cell_type": "code",
   "execution_count": null,
   "metadata": {},
   "outputs": [],
   "source": []
  }
 ],
 "metadata": {
  "kernelspec": {
   "display_name": "Python 3",
   "language": "python",
   "name": "python3"
  },
  "language_info": {
   "codemirror_mode": {
    "name": "ipython",
    "version": 3
   },
   "file_extension": ".py",
   "mimetype": "text/x-python",
   "name": "python",
   "nbconvert_exporter": "python",
   "pygments_lexer": "ipython3",
   "version": "3.6.5"
  }
 },
 "nbformat": 4,
 "nbformat_minor": 2
}
