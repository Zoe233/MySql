{
 "cells": [
  {
   "cell_type": "markdown",
   "metadata": {},
   "source": [
    "# 1. 服务器宕机"
   ]
  },
  {
   "cell_type": "markdown",
   "metadata": {},
   "source": [
    "## 1.1 实验环境"
   ]
  },
  {
   "cell_type": "markdown",
   "metadata": {},
   "source": [
    "- 主服务器：mysql3306\n",
    "- 从服务器1：mysql3307\n",
    "- 从服务器2：mysql3309\n",
    "\n",
    "一主多从模式：3306--> 3307；3306 --> 3309"
   ]
  },
  {
   "cell_type": "markdown",
   "metadata": {},
   "source": [
    "### 问题：主服务器宕机，切换3307为主库\n",
    "我用的是多实例，模拟服务器宕机将3306端口数据库停掉。"
   ]
  },
  {
   "cell_type": "markdown",
   "metadata": {},
   "source": [
    "## 1.2 查看两个从库同步的状态"
   ]
  },
  {
   "cell_type": "markdown",
   "metadata": {},
   "source": [
    "查看3307线程的状态；查看3309线程的状态："
   ]
  },
  {
   "cell_type": "markdown",
   "metadata": {},
   "source": [
    "查看看两个线程的更新状态，确保所有relay log已经复制完毕，在每个从库上执行下面命令，直到看到has read all relay或者Slave has read all relay log"
   ]
  },
  {
   "cell_type": "raw",
   "metadata": {},
   "source": [
    "mysql> stop slave io_thread;\n",
    "Query OK, 0 rows affected, 1 warning (0.00 sec)\n",
    "\n",
    "mysql> show processlist\\G "
   ]
  },
  {
   "cell_type": "markdown",
   "metadata": {},
   "source": [
    "## 1.3 选择要切换的从库"
   ]
  },
  {
   "cell_type": "markdown",
   "metadata": {},
   "source": [
    "分别查看从库master.info，将binlog位置最靠前的更新最快的（即：POS最大），作为主库的从库，切换到主库，这里将3309切换为主库。"
   ]
  },
  {
   "cell_type": "markdown",
   "metadata": {},
   "source": []
  },
  {
   "cell_type": "markdown",
   "metadata": {},
   "source": []
  },
  {
   "cell_type": "markdown",
   "metadata": {},
   "source": []
  },
  {
   "cell_type": "markdown",
   "metadata": {},
   "source": []
  },
  {
   "cell_type": "markdown",
   "metadata": {},
   "source": []
  },
  {
   "cell_type": "markdown",
   "metadata": {},
   "source": []
  },
  {
   "cell_type": "code",
   "execution_count": null,
   "metadata": {},
   "outputs": [],
   "source": []
  },
  {
   "cell_type": "markdown",
   "metadata": {},
   "source": []
  },
  {
   "cell_type": "markdown",
   "metadata": {},
   "source": []
  }
 ],
 "metadata": {
  "kernelspec": {
   "display_name": "Python 3",
   "language": "python",
   "name": "python3"
  },
  "language_info": {
   "codemirror_mode": {
    "name": "ipython",
    "version": 3
   },
   "file_extension": ".py",
   "mimetype": "text/x-python",
   "name": "python",
   "nbconvert_exporter": "python",
   "pygments_lexer": "ipython3",
   "version": "3.6.5"
  }
 },
 "nbformat": 4,
 "nbformat_minor": 2
}
