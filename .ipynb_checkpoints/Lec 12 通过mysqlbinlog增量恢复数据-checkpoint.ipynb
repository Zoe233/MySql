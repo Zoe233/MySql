{
 "cells": [
  {
   "cell_type": "markdown",
   "metadata": {},
   "source": [
    "# 1. mysqlbinlog命令介绍\n",
    "mysqlbinlog是解析mysql的binlog日志的命令。\n",
    "\n",
    "要想让数据有binlog记录日志功能必须在my.cnf配置文件中开启binlog功能。"
   ]
  },
  {
   "cell_type": "markdown",
   "metadata": {},
   "source": [
    "### binlog日志，即binary log，是二进制日志文件。\n",
    "它有两个作用：\n",
    "- 一是增量备份，即只备份新增的内容；\n",
    "- 二是用于主从复制等，即主节点维护了一个binlog日志文件，从节点从binlog中同步数据。\n",
    "\n",
    "我们可以通过binlog日志恢复数据。\n",
    "\n",
    "下面就介绍一下开启MySQL binlog日志的过程：\n"
   ]
  },
  {
   "cell_type": "markdown",
   "metadata": {},
   "source": [
    "1. 登录MySQL后，输入show variables like '%log_bin%'；查看到binlog日志为OFF关闭状态;"
   ]
  },
  {
   "cell_type": "raw",
   "metadata": {},
   "source": [
    "root@localhost:mysql.sock [test]->show variables like '%log_bin%';\n",
    "+---------------------------------+-------+\n",
    "| Variable_name                   | Value |\n",
    "+---------------------------------+-------+\n",
    "| log_bin                         | OFF   |\n",
    "| log_bin_trust_function_creators | OFF   |\n",
    "| sql_log_bin                     | ON    |\n",
    "+---------------------------------+-------+\n",
    "3 rows in set (0.00 sec)"
   ]
  },
  {
   "cell_type": "markdown",
   "metadata": {},
   "source": [
    "2. 开启MySQL binlog日志"
   ]
  },
  {
   "cell_type": "markdown",
   "metadata": {},
   "source": [
    "退出MySQL，使用vi编辑器修改MySQL的my.cnf配置文件。"
   ]
  },
  {
   "cell_type": "raw",
   "metadata": {},
   "source": [
    "[mysqld]\n",
    "server-id = 52\n",
    "log_bin = /data/3306/binlog/mysql-bin\n",
    "binlog_format = ROW"
   ]
  },
  {
   "cell_type": "markdown",
   "metadata": {},
   "source": [
    "server-id表示单个结点的id，这里由于只有一个结点，所以可以把id随机指定为一个数，这里将id设置成52。若集群中有多个结点，则id不能相同。\n",
    "\n",
    "log_bin = /data/3306/binlog/mysql-bin，是指定binlog日志文件的名字为mysql-bin，以及其存储路径。\n",
    "\n",
    "log_bin路径的设置：\n",
    "mkdir /data/3306/binlog\n",
    "chown -R mysql.mysql /bin/log\n",
    "chmod 777 /data/3306/binlog"
   ]
  },
  {
   "cell_type": "markdown",
   "metadata": {},
   "source": [
    "3. 重启MySQL"
   ]
  },
  {
   "cell_type": "raw",
   "metadata": {},
   "source": [
    "[root@oldboy sql_file]# /data/3306/mysql restart\n",
    "/data/3306/mysql: line 8: 数据库设置的密码是多少这里就填多少: command not found\n",
    "Restarting MySQL...\n",
    "Stoping MySQL....\n",
    "Enter password: \n",
    "190902 05:08:49 mysqld_safe mysqld from pid file /data/3306/mysql.pid ended\n",
    "Starting MySQL......\n",
    "[1]+  Done                    mysqld_safe --defaults-file=/data/3306/my.cnf --skip-grant-table  (wd: /etc)\n",
    "(wd now: /sql_file)\n",
    "\n",
    "[root@oldboy sql_file]# echo $?\n",
    "0"
   ]
  },
  {
   "cell_type": "markdown",
   "metadata": {},
   "source": [
    "注意：每次服务器（数据库）重启，服务器会调用flush logs;，新创建一个binlog日志"
   ]
  },
  {
   "cell_type": "markdown",
   "metadata": {},
   "source": [
    "# 2. mysql的日志文件是什么呢\n",
    "用来记录mysql内部增删改查等，对mysql数据库所有库的更新内容的记录"
   ]
  },
  {
   "cell_type": "markdown",
   "metadata": {},
   "source": [
    "# 3 mysqlbinlog参数说明\n",
    "\n",
    "常用选项：\n",
    "- -d, --database=name 指定数据库名称，只列出指定的数据库相关操作   \n",
    "- -o, --offset=number 忽略掉日志中的前number行   \n",
    "- -r, --result-file=name 将输出的文本格式日志输出到指定文件   \n",
    "- -s, --short-form 显示简单格式，省略掉一些信息   \n",
    "- --set-charset=char-name 在输出为文本格式时，在文件第一行加上set names char-name,这个选项在某些情况下装载数据时非常有用   \n",
    "- --start-datetime=name --stop-datetime=name 指定日期间隔内的所有日志   \n",
    "- --start-position=# --stop-position=#  指定位置间隔内的所有日志\n",
    "\n",
    "## 3.1 -d参数，拆分binlog日志，截取指定库的binlog\n",
    "Mysqlbinlog的-d参数拆分binlog日志，截取指定库的binlog。   \n",
    "binlog日志里记录了所有库更新的内容的记录，在恢复数据库时不能把所有库更新的内容全部恢复会报错，因为不是所有库都出故障。\n",
    "\n",
    "-d参数，指定想要恢复的库\n",
    "\n",
    "> [root@oldboy ~]# mysqlbinlog -d oldboy  /data/3306/mysqlbin_oldboy.000015 >oldboy.sql\n",
    "\n",
    "## 3.2 --start-position，--stop-position基于位置的增量恢复\n",
    "指定开始位置和结束位置。\n",
    "如果只指定开始位置截取从开始位置到结尾。\n",
    "\n",
    "实践：-r相当于重定向\n",
    "\n",
    "> [root@localhost data]# mysqlbinlog --no-defaults mysql-bin.000011 --start-position=906 --stop-position=1051 -r pos.sql\n",
    "\n",
    "## 3.3 --start-datetime,--stop-datetime, 基于时间点的增量恢复（基于时间就不准确了）\n",
    "指定开始时间和结束时间。\n",
    "\n",
    "比如我想恢复180201 2:45:16到180201 2:47:01之间的数据。\n",
    "\n",
    "实践：\n",
    "\n",
    "> [root@localhost data]# mysqlbinlog --no-defaults mysql-bin.000011 --start-datetime='2018-02-01 2:45:16' --stop-datetime='2018-02-01 2:47:01' -r time.sql\n",
    "\n",
    "比如说谁谁谁在几点用drop删除了一条记录，那我们在恢复数据的时候就要把这个时间段跳过去。\n",
    "\n"
   ]
  },
  {
   "cell_type": "code",
   "execution_count": null,
   "metadata": {},
   "outputs": [],
   "source": []
  }
 ],
 "metadata": {
  "kernelspec": {
   "display_name": "Python 3",
   "language": "python",
   "name": "python3"
  },
  "language_info": {
   "codemirror_mode": {
    "name": "ipython",
    "version": 3
   },
   "file_extension": ".py",
   "mimetype": "text/x-python",
   "name": "python",
   "nbconvert_exporter": "python",
   "pygments_lexer": "ipython3",
   "version": "3.6.5"
  }
 },
 "nbformat": 4,
 "nbformat_minor": 2
}
