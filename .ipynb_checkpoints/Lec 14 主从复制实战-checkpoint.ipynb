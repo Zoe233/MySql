{
 "cells": [
  {
   "cell_type": "markdown",
   "metadata": {},
   "source": [
    "# 1. 主从复制准备"
   ]
  },
  {
   "cell_type": "markdown",
   "metadata": {},
   "source": [
    "一般常规主从复制在不同的机器上，并且监听的端口均为默认的3306。  \n",
    "本文主从复制技术环境以单数据库多实例来讲解学习，上文已经写了怎么配置mysql多实例。"
   ]
  },
  {
   "cell_type": "markdown",
   "metadata": {},
   "source": [
    "## 1.1 定义服务器角色"
   ]
  },
  {
   "cell_type": "markdown",
   "metadata": {},
   "source": [
    "主库（mysql master）:ip为192.168.0.107 port为3306\n",
    "\n",
    "从库1（mysql slave）:ip为192.168.0.107 port为3307\n",
    "\n",
    "从库2 （mysql slave）:ip为192.168.0.107 port为3308\n",
    "\n",
    "从库3 (mysql salve)：ip为192.168.0.107，port 为3309"
   ]
  },
  {
   "cell_type": "markdown",
   "metadata": {},
   "source": [
    "## 1.2 数据库环境准备"
   ]
  },
  {
   "cell_type": "markdown",
   "metadata": {},
   "source": [
    "- 具备单机单数据库多实例的环境。\n",
    "- 或两台服务器每个机器一个数据库环境。"
   ]
  },
  {
   "cell_type": "markdown",
   "metadata": {},
   "source": [
    "## 1.3 数据库读法的约定"
   ]
  },
  {
   "cell_type": "markdown",
   "metadata": {},
   "source": [
    "- 主库，master\n",
    "- 从库，slave"
   ]
  },
  {
   "cell_type": "markdown",
   "metadata": {},
   "source": [
    "# 2. 主库上执行的操作"
   ]
  },
  {
   "cell_type": "markdown",
   "metadata": {},
   "source": [
    "### 2.1 设置server-id值，并且开启binlog参数"
   ]
  },
  {
   "cell_type": "markdown",
   "metadata": {},
   "source": [
    "MySQL的主从复制的关键因素就是binlog日志是否开启，所有首先打开bin-log日志，按如下两个参数修改。重启服务器生效。"
   ]
  },
  {
   "cell_type": "raw",
   "metadata": {},
   "source": [
    "[root@oldboy 3306]# grep 'server-id' /data/3306/my.cnf -A 2\n",
    "server-id       = 52  \n",
    "log_bin = /data/3306/binlog/mysql-bin\n",
    "binlog_format = ROW"
   ]
  },
  {
   "cell_type": "markdown",
   "metadata": {},
   "source": [
    "注意：\n",
    "1. server-id, log_bin参数要放在my.cnf中的[mysqld]模块下，否则会出错。\n",
    "2. 一般server-id的值使用服务器ip地址的最后8位。如107，目的是避免不同机器或实例ID重复（不适合多实例）"
   ]
  },
  {
   "cell_type": "markdown",
   "metadata": {},
   "source": [
    "查看主库log_bin是否开启："
   ]
  },
  {
   "cell_type": "raw",
   "metadata": {},
   "source": [
    "mysql> show variables like '%log_bin%';             \n",
    "+---------------------------------+-------+\n",
    "| Variable_name                   | Value |\n",
    "+---------------------------------+-------+\n",
    "| log_bin                         | ON    |\n",
    "| log_bin_trust_function_creators | OFF   |\n",
    "| sql_log_bin                     | ON    |\n",
    "+---------------------------------+-------+\n",
    "3 rows in set (0.00 sec)"
   ]
  },
  {
   "cell_type": "raw",
   "metadata": {},
   "source": [
    "mysql> show variables like '%server_id%'; \n",
    "+---------------+-------+\n",
    "| Variable_name | Value |\n",
    "+---------------+-------+\n",
    "| server_id     | 52    |\n",
    "+---------------+-------+\n",
    "1 row in set (0.00 sec)\n"
   ]
  },
  {
   "cell_type": "markdown",
   "metadata": {},
   "source": [
    "看3306目录下有没有日志，有日志生成则成功开启："
   ]
  },
  {
   "cell_type": "raw",
   "metadata": {},
   "source": [
    "[root@oldboy binlog]# ls /data/3306/binlog/\n",
    "mysql-bin.000001  mysql-bin.000002  mysql-bin.000003  mysql-bin.index"
   ]
  },
  {
   "cell_type": "markdown",
   "metadata": {},
   "source": [
    "### 2.2 创建用于同步的账号"
   ]
  },
  {
   "cell_type": "markdown",
   "metadata": {},
   "source": [
    "创建用户rep，用户与从库 主从复制。"
   ]
  },
  {
   "cell_type": "raw",
   "metadata": {},
   "source": [
    "mysql> grant replication slave on *.* to 'rep'@'192.168.0.%' identified by '123456';\n",
    "Query OK, 0 rows affected (0.00 sec)"
   ]
  },
  {
   "cell_type": "raw",
   "metadata": {},
   "source": [
    "mysql> show grants for 'rep'@'192.168.0.%'\\G\n",
    "*************************** 1. row ***************************\n",
    "Grants for rep@192.168.0.%: GRANT REPLICATION SLAVE ON *.* TO 'rep'@'192.168.0.%' IDENTIFIED BY PASSWORD '*6BB4837EB74329105EE4568DDA7DC67ED2CA2AD9'\n",
    "1 row in set (0.00 sec)"
   ]
  },
  {
   "cell_type": "raw",
   "metadata": {},
   "source": [
    "mysql> flush privileges;\n",
    "Query OK, 0 rows affected (0.00 sec)"
   ]
  },
  {
   "cell_type": "markdown",
   "metadata": {},
   "source": [
    "提示：\n",
    "1. replication slave同步的必须权限，不要授权all。\n",
    "2. 表示所有库所有表。\n",
    "3. 'rep'@'192.168.0.%' rep为同步账号，192.168.0.%授权主机段。"
   ]
  },
  {
   "cell_type": "markdown",
   "metadata": {},
   "source": [
    "### 2.3 对数据库锁表只读"
   ]
  },
  {
   "cell_type": "markdown",
   "metadata": {},
   "source": [
    "生产环境操作主从复制需要申请停机时间，数据量很大锁表会影响业务可以在备份数据库数据的时候让--master-data的值等于1。\n",
    "\n",
    "mysql5.1.X版本的锁表是flush tables，mysql5.5.X及以上版本是flush table。锁表不要退出窗口。"
   ]
  },
  {
   "cell_type": "raw",
   "metadata": {},
   "source": [
    "mysql> flush table with read lock;\n",
    "Query OK, 0 rows affected (0.00 sec)"
   ]
  },
  {
   "cell_type": "markdown",
   "metadata": {},
   "source": [
    "提示：  \n",
    "这个锁表命令的时间，在不同引擎的情况下,会受到下面参数的限制，超过设置的时间会自动解锁。\n",
    "\n",
    "- Interaction_timeout = 28800\n",
    "- wait_timeout = 28800\n",
    "\n",
    "默认情况下的时间长为：28800秒(8小时)，主要看interactive_timeout和wait_timeout这两个参数。"
   ]
  },
  {
   "cell_type": "markdown",
   "metadata": {},
   "source": [
    "### 2.4 查看主库的状态 show master status"
   ]
  },
  {
   "cell_type": "markdown",
   "metadata": {},
   "source": [
    "查看主库的状态及当前binlog日志文件名和二进制binlog日志偏移量\n",
    "show master status;命令显示的数据要记录下来，后面的从库复制时是从这个位置开始的。"
   ]
  },
  {
   "cell_type": "raw",
   "metadata": {},
   "source": [
    "mysql> show master status\\G\n",
    "*************************** 1. row ***************************\n",
    "            File: mysql-bin.000004\n",
    "        Position: 107\n",
    "    Binlog_Do_DB: \n",
    "Binlog_Ignore_DB:"
   ]
  },
  {
   "cell_type": "markdown",
   "metadata": {},
   "source": [
    "### 2.5 导出数据库数据"
   ]
  },
  {
   "cell_type": "markdown",
   "metadata": {},
   "source": [
    "导出数据库数据，如果数据量很大并且允许停机可以停库直接将主库的所有数据文件打包不用mysqldump，并拷贝到从库的数据文件目录。"
   ]
  },
  {
   "cell_type": "raw",
   "metadata": {},
   "source": [
    "mysqldump -uroot -p123456 -S /data/3306/mysql.sock -A -B --events --master-data=2 >/opt/rep.sql"
   ]
  },
  {
   "cell_type": "markdown",
   "metadata": {},
   "source": [
    "- -A参数表示所有数据库，\n",
    "- -B参数增加use db和drop语句。\n",
    "- --master-data参数最小化备份mysql数据库可以帮助从库直接找到binlog的位置。"
   ]
  },
  {
   "cell_type": "raw",
   "metadata": {},
   "source": [
    "[root@oldboy sql_file]# sed -n '22p' rep.sql \n",
    "-- CHANGE MASTER TO MASTER_LOG_FILE='mysql-bin.000004', MASTER_LOG_POS=107;"
   ]
  },
  {
   "cell_type": "markdown",
   "metadata": {},
   "source": [
    "为了保证导库期间，数据库没有数据写入，可以再检查主库状态信息，如果和之前查看的不对就出问题了没锁住表。"
   ]
  },
  {
   "cell_type": "raw",
   "metadata": {},
   "source": [
    "mysql> show master status;\n",
    "+------------------+----------+--------------+------------------+\n",
    "| File             | Position | Binlog_Do_DB | Binlog_Ignore_DB |\n",
    "+------------------+----------+--------------+------------------+\n",
    "| mysql-bin.000004 |      107 |              |                  |\n",
    "+------------------+----------+--------------+------------------+\n",
    "1 row in set (0.00 sec)"
   ]
  },
  {
   "cell_type": "markdown",
   "metadata": {},
   "source": [
    "备份数据后解锁主库恢复可写；"
   ]
  },
  {
   "cell_type": "raw",
   "metadata": {},
   "source": [
    "mysql> unlock tables;\n",
    "Query OK, 0 rows affected (0.00 sec)"
   ]
  },
  {
   "cell_type": "markdown",
   "metadata": {},
   "source": [
    "### 2.6 把主库导出的mysql数据迁移到从库"
   ]
  },
  {
   "cell_type": "markdown",
   "metadata": {},
   "source": [
    "可以就用scp将备份的日志文件传给从服务器就可以，这里使用多实例就不讲解了。"
   ]
  },
  {
   "cell_type": "markdown",
   "metadata": {},
   "source": [
    "-----"
   ]
  },
  {
   "cell_type": "markdown",
   "metadata": {},
   "source": [
    "# 3. 从库上执行的操作"
   ]
  },
  {
   "cell_type": "markdown",
   "metadata": {},
   "source": [
    "### 3.1 设置server-id值，并关闭binlog参数"
   ]
  },
  {
   "cell_type": "markdown",
   "metadata": {},
   "source": [
    "数据库的server-id值是唯一的，这里的server-id要和主库及其他从库不同，并注释掉从库里的binlog参数配置。"
   ]
  },
  {
   "cell_type": "raw",
   "metadata": {},
   "source": [
    "[root@oldboy sql_file]# grep server-id /data/3307/my.cnf\n",
    "server-id       = 3  "
   ]
  },
  {
   "cell_type": "markdown",
   "metadata": {},
   "source": [
    "有两种情况需要打开log-bin记录数据库更新的sql语句\n",
    "\n",
    "1. 级联同步A->B->C;那中间的B就要开启log-bin。如下所示：是从库开启binlog的配置"
   ]
  },
  {
   "cell_type": "raw",
   "metadata": {},
   "source": [
    "[root@linzhongniao ~]# egrep \"\\[mysqld]|log-bin|log-slave|expire_logs\" /data/3307/my.cnf \n",
    "[mysqld]\n",
    "log-bin = /data/3307/binlog/mysql-bin\n",
    "log-slave-updates\n",
    "expire_logs_days = 7"
   ]
  },
  {
   "cell_type": "markdown",
   "metadata": {},
   "source": [
    "这个地方看一下expire_logs_days，定期删除binlog日志文件，例如把参数的值设为7，就会把最近7天以前的binlog日志文件删除。"
   ]
  },
  {
   "cell_type": "markdown",
   "metadata": {},
   "source": [
    "2. 在从库做数据备份数据备份必须要有全备和binlog日志，才是完整的备份。\n",
    "\n",
    "重启从库："
   ]
  },
  {
   "cell_type": "raw",
   "metadata": {},
   "source": [
    "/data/3307/mysql restart"
   ]
  },
  {
   "cell_type": "markdown",
   "metadata": {},
   "source": [
    "### 3.2 还原主库导出的数据到从库"
   ]
  },
  {
   "cell_type": "raw",
   "metadata": {},
   "source": [
    "[root@oldboy sql_file]# mysql -u system -p -S /data/3307/mysql.sock < /sql_file/rep.sql\n",
    "Enter password: "
   ]
  },
  {
   "cell_type": "markdown",
   "metadata": {},
   "source": [
    "### 3.3 登录从库配置同步参数"
   ]
  },
  {
   "cell_type": "raw",
   "metadata": {},
   "source": [
    "system@slave1_3307 >change master to \n",
    "    -> master_host='192.168.0.107',    # 主库的ip\n",
    "    -> master_port=3306,     # 主库的端口\n",
    "    -> master_user='rep',     # 主库上建立的用于复制的用户rep\n",
    "    -> master_password='123456',   # rep的密码\n",
    "    -> master_log_file='mysql-bin.000004',    # show master status的binlog的文件名\n",
    "    -> master_log_pos=107;   # show master status 的binlog偏移量位置\n",
    "Query OK, 0 rows affected (0.03 sec)"
   ]
  },
  {
   "cell_type": "markdown",
   "metadata": {},
   "source": [
    "### 3.4 启动从库同步开关"
   ]
  },
  {
   "cell_type": "markdown",
   "metadata": {},
   "source": [
    "启动从库同步开关并查看同步状态，关闭主从复制stop slave;"
   ]
  },
  {
   "cell_type": "raw",
   "metadata": {},
   "source": [
    "system@slave1_3307 >start slave;\n",
    "Query OK, 0 rows affected (0.00 sec)\n",
    "\n",
    "system@slave1_3307 >show slave status\\G\n",
    "*************************** 1. row ***************************\n",
    "               Slave_IO_State: Waiting for master to send event\n",
    "                  Master_Host: 192.168.0.107\n",
    "                  Master_User: rep\n",
    "                  Master_Port: 3306\n",
    "                Connect_Retry: 60\n",
    "              Master_Log_File: mysql-bin.000004\n",
    "          Read_Master_Log_Pos: 107\n",
    "               Relay_Log_File: relay-bin.000002\n",
    "                Relay_Log_Pos: 253\n",
    "        Relay_Master_Log_File: mysql-bin.000004\n",
    "             Slave_IO_Running: Yes\n",
    "            Slave_SQL_Running: Yes\n",
    "              Replicate_Do_DB: \n",
    "          Replicate_Ignore_DB: mysql\n",
    "           Replicate_Do_Table: \n",
    "       Replicate_Ignore_Table: \n",
    "      Replicate_Wild_Do_Table: \n",
    "  Replicate_Wild_Ignore_Table: \n",
    "                   Last_Errno: 0\n",
    "                   Last_Error: \n",
    "                 Skip_Counter: 0\n",
    "          Exec_Master_Log_Pos: 107\n",
    "              Relay_Log_Space: 403\n",
    "              Until_Condition: None\n",
    "               Until_Log_File: \n",
    "                Until_Log_Pos: 0\n",
    "           Master_SSL_Allowed: No\n",
    "           Master_SSL_CA_File: \n",
    "           Master_SSL_CA_Path: \n",
    "              Master_SSL_Cert: \n",
    "            Master_SSL_Cipher: \n",
    "               Master_SSL_Key: \n",
    "        Seconds_Behind_Master: 0\n",
    "Master_SSL_Verify_Server_Cert: No\n",
    "                Last_IO_Errno: 0\n",
    "                Last_IO_Error: \n",
    "               Last_SQL_Errno: 0\n",
    "               Last_SQL_Error: \n",
    "  Replicate_Ignore_Server_Ids: \n",
    "             Master_Server_Id: 52\n",
    "1 row in set (0.00 sec)"
   ]
  },
  {
   "cell_type": "markdown",
   "metadata": {},
   "source": [
    "判断复制是否搭建成功就看如下IO和SQL两个线程是否显示yes状态"
   ]
  },
  {
   "cell_type": "raw",
   "metadata": {},
   "source": [
    "Slave_IO_Running: Yes\n",
    "Slave_SQL_Running: Yes"
   ]
  },
  {
   "cell_type": "markdown",
   "metadata": {},
   "source": [
    "### 3.5 测试复制结果"
   ]
  },
  {
   "cell_type": "markdown",
   "metadata": {},
   "source": [
    "在主数据库上创建一个test_slave库:"
   ]
  },
  {
   "cell_type": "raw",
   "metadata": {},
   "source": [
    "root@master_3006 >create database test_slave;\n",
    "Query OK, 1 row affected (0.00 sec)"
   ]
  },
  {
   "cell_type": "markdown",
   "metadata": {},
   "source": [
    "在从库上检查是否有test_slave库。"
   ]
  },
  {
   "cell_type": "raw",
   "metadata": {},
   "source": [
    "system@slave1_3307 >show databases like 'test_slave'\\G\n",
    "*************************** 1. row ***************************\n",
    "Database (test_slave): test_slave\n",
    "1 row in set (0.00 sec)"
   ]
  },
  {
   "cell_type": "markdown",
   "metadata": {},
   "source": [
    "提示：  \n",
    "Master-info和relay-info中继日志都会自动记录主库binlog更新数据的位置，例如我们在主库上创建一个库，master-info和relay-info中记录主库binlog日志的位置就由107变成了202。"
   ]
  },
  {
   "cell_type": "raw",
   "metadata": {},
   "source": [
    "[root@oldboy data]# cat /data/3307/data/master.info\n",
    "18\n",
    "mysql-bin.000004\n",
    "202\n",
    "192.168.0.107\n",
    "rep\n",
    "123456\n",
    "3306\n",
    "60\n",
    "0\n",
    "\n",
    "\n",
    "\n",
    "\n",
    "\n",
    "0\n",
    "1800.000\n",
    "\n",
    "0"
   ]
  },
  {
   "cell_type": "markdown",
   "metadata": {},
   "source": [
    "----"
   ]
  },
  {
   "cell_type": "markdown",
   "metadata": {},
   "source": [
    "# 4. 总结：MySQL主从同步配置步骤"
   ]
  },
  {
   "cell_type": "markdown",
   "metadata": {},
   "source": [
    "1. 准备两台数据库环境，或者单台多实例环境，能否正常启动和登录。\n",
    "2. 配置my.cnf文件，主库配置log-bin和server-id功能。注意：配置参数后要重启生效。\n",
    "3. 登录主库添加用于从库连接主库的账号列如：rep并授权replication slave同步的权限。\n",
    "4. 登录主库，整库锁表flush table with read lock(窗口关闭后及失效，超时参数到了也会失效)；然后show master status;查看binlog的位置状态。\n",
    "5. 新开窗口，linux命令行备份或导出原有的数据库数据，并拷贝到从库所在的服务器目录。如果数据量很大并且允许停机，可以停机打包将数据直接拷贝到从库的数据库目录中，而不用mysqldump。\n",
    "6. 解锁主库 unlock tables。\n",
    "7. 把主库导出的原有数据恢复到从库。\n",
    "8. 根据主库的show master status查看binlog的位置状态，在从库执行change master to ...语句，配置主库的IP，端口号，用于主从同步的用户账号，密码，binlog日志名称，偏移量位置。\n",
    "10. 从库开启同步开关，start slave。\n",
    "11. 从库show slave stutes\\G.检查同步状态，并在主库进行更新测试。"
   ]
  },
  {
   "cell_type": "raw",
   "metadata": {},
   "source": [
    "1. 准备两台数据库环境，或者单台多实例环境，能否正常启动和登录。\n",
    "/data/3306/mysql start\n",
    "/data/3307/mysql start\n",
    "\n",
    "2. 配置my.cnf文件，主库配置log-bin和server-id功能。注意：配置参数后要重启生效。\n",
    "[mysqld]\n",
    "log_bin = /data/3306/binlog/mysql-bin\n",
    "server-id = 52\n",
    "\n",
    "show variables like '%log_bin%';\n",
    "\n",
    "3. 登录主库添加用于从库连接主库的账号列如：rep并授权replication slave同步的权限。\n",
    "grant replication slave on *.* to 'rep'@'192.168.0.%' identified by  '123456';\n",
    "\n",
    "4. 登录主库，整库锁表flush table with read lock(窗口关闭后及失效，超时参数到了也会失效)；然后show master status;查看binlog的位置状态。\n",
    "flush table with read lock;\n",
    "show master status;\n",
    "\n",
    "mysqldump -u root -p -S /data/3306/mysql.sock -A -B --events --master-data=2 > /sql_file/rep.sql\n",
    "\n",
    "5. 新开窗口，linux命令行备份或导出原有的数据库数据，并拷贝到从库所在的服务器目录。如果数据量很大并且允许停机，可以停机打包将数据直接拷贝到从库的数据库目录中，而不用mysqldump。\n",
    "mysql -u system -p -S /data/3307/mysql.sock < /sql_file/rep.sql\n",
    "\n",
    "6. 解锁主库 unlock tables。\n",
    "unlock tables;\n",
    "\n",
    "7. 把主库导出的原有数据恢复到从库。\n",
    "mysql -u system -p -S /data/3307/mysql.sock < /sql_file/rep.sql\n",
    "\n",
    "8. 根据主库的show master status查看binlog的位置状态，在从库执行change master to ...语句，配置主库的IP，端口号，用于主从同步的用户账号，密码，binlog日志名称，偏移量位置。\n",
    "change master to master_host='192.168.0.107', master_port=3306, master_user='rep', master_password='123456', master_log_file='mysql-bin.000004', master_log_pos=107; \n",
    "\n",
    "10. 从库开启同步开关，start slave。\n",
    "start slave; \n",
    "\n",
    "11. 从库show slave status\\G.检查同步状态，并在主库进行更新测试。\n",
    "show slave status\\G"
   ]
  },
  {
   "cell_type": "markdown",
   "metadata": {},
   "source": [
    "# 5. 回顾mysql主从复制原理要点\n",
    "1. 异步方式同步。\n",
    "\n",
    "2. 逻辑同步模式，多种模式，默认是通过sql语句执行。\n",
    "\n",
    "3. 主库通过记录binlog实现对从库的同步。binlog是记录数据库的更新语句。\n",
    "\n",
    "4. 主库1个IO线程，从库由1个IO线程和2个SQL线程来完成的。\n",
    "\n",
    "5. 从库关键文件master.info记录了change master的所有信息，relay-log被称为中继日志记录了主库IO线程发过来的binlog日志，relay-info是SQL线程把binlog应用到数据库里的一个位置点功能。\n",
    "\n",
    "6. 如果从库还想级联从库，需要打开log-bin和log-slave-updates参数。"
   ]
  },
  {
   "cell_type": "markdown",
   "metadata": {},
   "source": [
    "# 6.生产环境快速配置mysql主从复制方案\n",
    "1. 安装好要配置从库的数据库，配置好log-bin和server-id参数。\n",
    "2. 无需配置主库my.cnf文件，主库的log-bin和server-id 参数默认就是最好的。\n",
    "3. 登录主库增加用于从库连接主库同步的账户例如：rep并授权replication slave 同步的权限。\n",
    "4. 在半夜使用mysqldump带--master-data=1全备数据并恢复到从库，在从库配置同步参数是不用配置二进制文件的名称和主从同步的位置。\n",
    "5. 在从库执行change master to..语句，无需binlog文件及对应位置点。\n",
    "6. 从库开启同步开关，start slave。\n",
    "7. 从库show master status\\G 检查同步的状态，并在主库进行更新测试。"
   ]
  },
  {
   "cell_type": "markdown",
   "metadata": {},
   "source": []
  },
  {
   "cell_type": "markdown",
   "metadata": {},
   "source": []
  },
  {
   "cell_type": "markdown",
   "metadata": {},
   "source": []
  },
  {
   "cell_type": "markdown",
   "metadata": {},
   "source": []
  },
  {
   "cell_type": "markdown",
   "metadata": {},
   "source": []
  },
  {
   "cell_type": "markdown",
   "metadata": {},
   "source": []
  },
  {
   "cell_type": "markdown",
   "metadata": {},
   "source": []
  }
 ],
 "metadata": {
  "kernelspec": {
   "display_name": "Python 3",
   "language": "python",
   "name": "python3"
  },
  "language_info": {
   "codemirror_mode": {
    "name": "ipython",
    "version": 3
   },
   "file_extension": ".py",
   "mimetype": "text/x-python",
   "name": "python",
   "nbconvert_exporter": "python",
   "pygments_lexer": "ipython3",
   "version": "3.6.5"
  }
 },
 "nbformat": 4,
 "nbformat_minor": 2
}
