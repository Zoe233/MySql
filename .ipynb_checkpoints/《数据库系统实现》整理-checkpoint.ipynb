{
 "cells": [
  {
   "cell_type": "markdown",
   "metadata": {},
   "source": [
    "# 第一章 DBMS系统概述"
   ]
  },
  {
   "cell_type": "markdown",
   "metadata": {},
   "source": [
    "## 1.1 数据库系统的发展"
   ]
  },
  {
   "cell_type": "markdown",
   "metadata": {},
   "source": [
    "### 什么是数据库？\n",
    "本质上讲，数据库就是信息的集合，它可以存在很长时间。\n",
    "\n",
    "一般而言，数据库这个词指的是由数据库管理系统的数据的集合。\n",
    "\n",
    "数据库管理系统满足：\n",
    "- 允许用户使用专门的数据定义语言来创建新的数据库并指定其模式schema（数据的逻辑结构）。\n",
    "- 给予用户使用适当的语言来**查询数据**（“查询”是数据库术语，指关于数据的问题）和修改数据的能力，这种语言你通常被称为**查询语言（query language）**或**数据操纵语言（data-manipulation language）**\n",
    "- 支持对非常大量的数据（许多TB或者更多）长期地进行存储，允许高效地存储数据以进行查询和数据库修改。\n",
    "- 使数据具有持久性（durability），即能够从故障、多种类型的错误或者故意滥用中进行恢复。\n",
    "- 控制多个用户同时对数据进行访问，不允许用户间有不恰当的相互影响（称作**孤立性isolation**），并且不会发生在数据上进行了部分的而不是完整的操作的情况（称作**原子性atomicity**)"
   ]
  },
  {
   "cell_type": "code",
   "execution_count": null,
   "metadata": {},
   "outputs": [],
   "source": []
  }
 ],
 "metadata": {
  "kernelspec": {
   "display_name": "Python 3",
   "language": "python",
   "name": "python3"
  },
  "language_info": {
   "codemirror_mode": {
    "name": "ipython",
    "version": 3
   },
   "file_extension": ".py",
   "mimetype": "text/x-python",
   "name": "python",
   "nbconvert_exporter": "python",
   "pygments_lexer": "ipython3",
   "version": "3.6.5"
  }
 },
 "nbformat": 4,
 "nbformat_minor": 2
}
