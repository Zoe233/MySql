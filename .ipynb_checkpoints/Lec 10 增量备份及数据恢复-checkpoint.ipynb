{
 "cells": [
  {
   "cell_type": "markdown",
   "metadata": {},
   "source": [
    "# 1. mysqldump的工作原理？"
   ]
  },
  {
   "cell_type": "markdown",
   "metadata": {},
   "source": [
    "利用mysqldump命令备份的过程，实际上就是把数据从mysql库里以逻辑的sql语句的形式直接输出或者生成备份的文件的过程。\n",
    "\n",
    "备份的数据过滤注释都是sql语句。"
   ]
  },
  {
   "cell_type": "markdown",
   "metadata": {},
   "source": [
    "# 2. 备份数据库mysqldump命令实战"
   ]
  },
  {
   "cell_type": "markdown",
   "metadata": {},
   "source": [
    "mysql数据库自带了一个很好用的备份命令就是mysqldump，它的基本使用语法如下：\n",
    "\n",
    "    mysqldump –u用户名 –p密码 参数 库1 库2 > 备份的文件名"
   ]
  },
  {
   "cell_type": "markdown",
   "metadata": {},
   "source": [
    "## 2.1 备份test库，不指定参数\n",
    "查看要备份数库，mysql命令的-e参数可以实现非交互式对话"
   ]
  },
  {
   "cell_type": "markdown",
   "metadata": {},
   "source": [
    "mysqldump -uroot -p -S /data/3306/mysql.sock test >/sql_file/1.sql"
   ]
  },
  {
   "cell_type": "markdown",
   "metadata": {},
   "source": [
    "查看备份的结果："
   ]
  },
  {
   "cell_type": "raw",
   "metadata": {},
   "source": [
    "[root@oldboy sql_file]# egrep -v '#|--|\\*|^$' 1.sql\n",
    "DROP TABLE IF EXISTS `student`;\n",
    "CREATE TABLE `student` (\n",
    "  `id` int(4) NOT NULL AUTO_INCREMENT,\n",
    "  `name` char(20) NOT NULL,\n",
    "  PRIMARY KEY (`id`)\n",
    ") ENGINE=InnoDB AUTO_INCREMENT=10 DEFAULT CHARSET=utf8;\n",
    "LOCK TABLES `student` WRITE;\n",
    "INSERT INTO `student` VALUES (1,'zhangsan'),(2,'lisi'),(3,'xiaozhang'),(4,'xiaohong'),(5,'小明'),(6,'李四'),(7,'王五'),(8,'å¼ ä¸‰'),(9,'张三');\n",
    "UNLOCK TABLES;"
   ]
  },
  {
   "cell_type": "markdown",
   "metadata": {},
   "source": [
    "## 2.2 mysqldump命令参数说明"
   ]
  },
  {
   "cell_type": "markdown",
   "metadata": {},
   "source": [
    "### 2.2.1 --default-character-set参数，字符集设置\n",
    "备份前查看数据库客户端及服务器端的字符集设置，最好把字符集调成utf8。 \n",
    "我这里已经在编译安装的时候指定utf8字符集。为避免备份出来的数据存在乱码的可能，可以指定字符集备份数据。\n",
    "\n",
    "### 2.2.2 -B参数，增加创建数据库和使用数据库命令\n",
    "mysqldump的-B参数可以增加创建数据库和连接数据库的命令，即下面两条语句："
   ]
  },
  {
   "cell_type": "raw",
   "metadata": {},
   "source": [
    "CREATE DATABASE /*!32312 IF NOT EXISTS*/ `cuizhong` /*!40100 DEFAULT CHARACTER SET latin1 */;\n",
    "USE `cuizhong`;"
   ]
  },
  {
   "cell_type": "markdown",
   "metadata": {},
   "source": [
    "### 2.2.3 --compact参数，优化输出"
   ]
  },
  {
   "cell_type": "markdown",
   "metadata": {},
   "source": [
    "测试时用的比较多，可以优化输出的内容，让容量更少适合调适。  \n",
    "\n",
    "如果备份的数据不用做测试，想达到优化磁盘空间的效果可以对备份的数据用gzip进行压缩。"
   ]
  },
  {
   "cell_type": "raw",
   "metadata": {},
   "source": [
    "mysqldump -uroot -p -S /data/3306/mysql.sock --compact test|gzip>/sql_file/test_bakcompact.sql.gz"
   ]
  },
  {
   "cell_type": "markdown",
   "metadata": {},
   "source": [
    "### 2.2.4 -A参数，备份所有数据库"
   ]
  },
  {
   "cell_type": "markdown",
   "metadata": {},
   "source": [
    "--all-databases, -A：备份所有数据库，在所有数据库中转储所有表。这与使用——database选项和在命令行中命名所有数据库。\n",
    "\n",
    "mysqldump -uroot -p -S /data/3306/mysql.sock -A >/opt/linzhongniao_bakA.sql   -- Warning: Skipping the data of table mysql.event. Specify the --events option explicitly.\n",
    "\n",
    "这个地方有一个警告：   \n",
    "警告：跳过表mysql.event的数据。   \n",
    "显式指定——events选项，看一下mysqldump的--events参数。events(事件)官方的意思是在输出中包含转储数据库的事件调度器事件。出现警告我们就将这个参数加上。"
   ]
  },
  {
   "cell_type": "raw",
   "metadata": {},
   "source": [
    "mysqldump -uroot -p123456 -S /data/3306/mysql.sock --events -A >/opt/linzhongniao_bakA.sql"
   ]
  },
  {
   "cell_type": "markdown",
   "metadata": {},
   "source": [
    "### 2.2.5 -d参数，只备份表结构"
   ]
  },
  {
   "cell_type": "markdown",
   "metadata": {},
   "source": [
    "没有数据，-d不要写入任何表行信息(也就是说，不要转储表内容)。\n",
    "\n",
    "这是如果您只想转储表的CREATE TABLE语句(例如，通过加载转储文件来创建表的空副本)。\n",
    "\n",
    "只备份表结构。"
   ]
  },
  {
   "cell_type": "markdown",
   "metadata": {},
   "source": [
    "### 2.2.6 -t 参数，只备份数据\n",
    "相当于--no-create-info：不要编写重新创建每个转储表的CREATE TABLE语句。只备份数据。"
   ]
  },
  {
   "cell_type": "markdown",
   "metadata": {},
   "source": [
    "### 2.2.7 -f参数，刷新binlog\n",
    "-F参数刷新binlog，在备份数据的时候可能还会有用户写入为了防止binlog记录的数据丢失，需要用-F参数对binlog日志文件进行切割然后会产生一个新的binlog日志文件，有新的数据就会往新生成的binlog日志中写入。\n",
    "\n",
    "如果想让mysql有记录日志的功能就要已开启binlog。"
   ]
  },
  {
   "cell_type": "markdown",
   "metadata": {},
   "source": [
    "### 2.2.8 --master-data参数，主从同步"
   ]
  },
  {
   "cell_type": "markdown",
   "metadata": {},
   "source": [
    "1. --master-data等于1时\n",
    "\n",
    "--master-data等于1时，可以帮助我们找到binlog的位置，在主从从同步的时候就不用用show master status;命令，查看binlog最后写入数据的位置以及不用在从库中(change master)配置从不参数了。\n",
    "\n",
    "1. --master-data等于2时\n",
    "\n",
    "--master-data等于2时会在CHANGE MASTER TO MASTER_LOG_FILE前面加注释，恢复数据的时候就不执行了。"
   ]
  },
  {
   "cell_type": "markdown",
   "metadata": {},
   "source": [
    "### 2.2.9 -q参数"
   ]
  },
  {
   "cell_type": "markdown",
   "metadata": {},
   "source": [
    "-q(quick快速)参数，什么都不做，只是导出时加了一个sql_no_chche来确保不会读取缓存里的数据"
   ]
  },
  {
   "cell_type": "markdown",
   "metadata": {},
   "source": [
    "### 2.2.10 --lock-table 参数，锁表"
   ]
  },
  {
   "cell_type": "markdown",
   "metadata": {},
   "source": [
    "锁表，导出数据时加了一个read local lock，该锁不会阻止读，也不会阻止写入数据。"
   ]
  },
  {
   "cell_type": "markdown",
   "metadata": {},
   "source": [
    "### 2.2.11 --lock-all-tables 参数，全局读锁"
   ]
  },
  {
   "cell_type": "markdown",
   "metadata": {},
   "source": [
    "这个就不一样了，它请求发起一个全局的读锁，会阻止对所有表的写入操作，以此来确保数据的一致性，备份完成后，该会话会断开，会自动解锁。"
   ]
  },
  {
   "cell_type": "markdown",
   "metadata": {},
   "source": [
    "### 2.2.12 --single-transaction 参数，innodb表备份，保证备份一致性"
   ]
  },
  {
   "cell_type": "markdown",
   "metadata": {},
   "source": [
    "Inodb表在备份时，通常启用选项--single-transaction来保证备份的一致性。\n",
    "\n",
    "实际上它的工作原理是设定本次会话的时间间隔级别为：PEPEATABLE READ，以确保本次会话dump时，不会看到其他会话已经提交了的数据。"
   ]
  },
  {
   "cell_type": "markdown",
   "metadata": {},
   "source": [
    "---"
   ]
  },
  {
   "cell_type": "markdown",
   "metadata": {},
   "source": [
    "## 2.3 mysqldump的关键参数说明\n",
    "关键参数：更多参数可以通过mysqldump –-help查看\n",
    "\n",
    "1. –B指定多个库，增加建库语句和use语句。\n",
    "\n",
    "2. --compact 去掉注释适合调适输出，生产不用\n",
    "\n",
    "3. –A所有库\n",
    "\n",
    "4. –F刷新binlog日志\n",
    "\n",
    "5. –master-data 增加binlog日志文件名及对应的位置点\n",
    "\n",
    "6. –x相当于--lock-all-tables 不允许读写，备份会话结束后解锁\n",
    "\n",
    "7. –l相当于--lock-tables 锁表允许读写\n",
    "\n",
    "8. –d 只备份表结构\n",
    "\n",
    "9. –t 备份数据\n",
    "\n",
    "10. –-single-transaction 适合innodb事务数据库备份\n",
    "\n",
    "下面是有关mysqldump常用命令的博文\n",
    "\n",
    "http://imysql.cn/2008_10_24_deep_into_mysqldump_options"
   ]
  },
  {
   "cell_type": "markdown",
   "metadata": {},
   "source": [
    "## 2.4 生产场景常用的备份命令\n",
    "### Myisam引擎备份命令：\n",
    "\n",
    "> mysqldump –uroot –p123456 –A –F –-master-data=2 –x –events |gzip >/opt/all.sql.gz\n",
    "\n",
    "### Inodb引擎备份命令：推荐使用\n",
    "\n",
    "> mysqldump –uroot –p123456 –A –B  –-master-data=2 –single-transaction --events |gzip >/opt/all.sql.gz\n"
   ]
  },
  {
   "cell_type": "markdown",
   "metadata": {},
   "source": [
    "----"
   ]
  },
  {
   "cell_type": "markdown",
   "metadata": {},
   "source": [
    "# 3. 恢复数据"
   ]
  },
  {
   "cell_type": "markdown",
   "metadata": {},
   "source": [
    "## 3.1 用source命令恢复数据库"
   ]
  },
  {
   "cell_type": "markdown",
   "metadata": {},
   "source": [
    "1. 删除linzhongniao库\n",
    ">show databases;   \n",
    ">drop database test;\n",
    "\n",
    "2. 恢复数据\n",
    "> system ls /sql_file/    \n",
    "> source /sql_file/1.sql"
   ]
  },
  {
   "cell_type": "markdown",
   "metadata": {},
   "source": [
    "## 3.2 用输入重定向方法"
   ]
  },
  {
   "cell_type": "markdown",
   "metadata": {},
   "source": [
    "1. 删除linzhongniao库\n",
    ">show databases;   \n",
    ">drop database test;\n",
    "\n",
    "2. 恢复数据    \n",
    "    shell终端：\n",
    "> mysql -uroot -p123456 -S /data/3306/mysql.sock </sql_file/1.sql \n"
   ]
  },
  {
   "cell_type": "markdown",
   "metadata": {},
   "source": [
    "# 4. 分库备份的数据如何快速恢复?"
   ]
  },
  {
   "cell_type": "markdown",
   "metadata": {},
   "source": [
    "通过脚本指定库和表，指定mysql恢复。\n",
    "\n",
    "1. 备份数据\n",
    "> mysqldump -uroot -p123456 -S /data/3306/mysql.sock --single-transaction -B test>/bak/test_bak.sql     \n",
    "> mysqldump -uroot -p123456 -S /data/3306/mysql.sock --single-transaction -B school>/bak/school_bak.sql\n",
    "\n",
    "2. 删除test库和school库\n",
    "> drop database test;   \n",
    "> drop database school;"
   ]
  },
  {
   "cell_type": "markdown",
   "metadata": {},
   "source": [
    "3. 恢复数据\n",
    "\n",
    "如果数据库比较多不知道库名可以筛选备份的文件得到库名。"
   ]
  },
  {
   "cell_type": "raw",
   "metadata": {},
   "source": [
    "方法一：用sed命令\n",
    "    ls /bak/ |sort|sed 's#_bak.sql##g'\n",
    "\n",
    "方法二：用awk命令\n",
    "    ls /bak/ |sort|awk -F \"_\" '{print $1}'\n",
    "\n",
    "在命令行用for循环批量恢复数据:\n",
    "    for dbname in `ls /bak/|sort|awk -F \"_\" '{print $1}'`;do mysql -uroot -p123456 -S /data/3306/mysql.sock </bak/${dbname}_bak.sql;done"
   ]
  }
 ],
 "metadata": {
  "kernelspec": {
   "display_name": "Python 3",
   "language": "python",
   "name": "python3"
  },
  "language_info": {
   "codemirror_mode": {
    "name": "ipython",
    "version": 3
   },
   "file_extension": ".py",
   "mimetype": "text/x-python",
   "name": "python",
   "nbconvert_exporter": "python",
   "pygments_lexer": "ipython3",
   "version": "3.6.5"
  }
 },
 "nbformat": 4,
 "nbformat_minor": 2
}
