{
 "cells": [
  {
   "cell_type": "markdown",
   "metadata": {},
   "source": [
    "# MySQL数据库安装方法"
   ]
  },
  {
   "cell_type": "markdown",
   "metadata": {},
   "source": [
    "- yum/rpm方式安装MySQL\n",
    "- 常规方式编译安装MySQL（configure;make;make install)\n",
    "- 采用cmake方式编译安装MySQL\n",
    "- 采用二进制方式免编译安装MySQL\n",
    "\n",
    "如何正确选择MySQL的安装方式"
   ]
  },
  {
   "cell_type": "markdown",
   "metadata": {},
   "source": [
    "在当前的大中型互联网企业里，MySQL数据库服务几乎都是运行在Linux系列操作系统上，当然，你也可以运行在Windows、Unix等商业操作系统上，**大中型互联网企业**使用开源领域的产品MySQL数据库目的是：\n",
    "- 软件代码的开放性\n",
    "- 无版权免费应用节约成本\n",
    "\n",
    "因此，作者推荐中小企业使用**LAMP/LNMP**网站架构，后面的数据库知识我们也是以Linux（Centos6.5）平台为例来讲述如何安装及使用MySQL软件的。"
   ]
  },
  {
   "cell_type": "markdown",
   "metadata": {},
   "source": [
    "## yum/rpm方式安装MySQL\n"
   ]
  },
  {
   "cell_type": "markdown",
   "metadata": {},
   "source": [
    "MySQL官方网站提供不同版本的**RPM安装包**，并且针对不同硬件或操作系统平台，又分为不同类型的安装包，大家都可以在官方网站下载页面进行选择，国内也有一些互联网公司提供了镜像，比如**网易，阿里云公司提供的镜像资源**就非常不错。"
   ]
  },
  {
   "cell_type": "markdown",
   "metadata": {},
   "source": [
    "注意：yum/rpm 方式安装MySQL适合所有MySQL软件产品系列\n"
   ]
  },
  {
   "cell_type": "markdown",
   "metadata": {},
   "source": [
    "### rpm包方式安装MySQL\n",
    "rpm包的安装非常简单，以mysql-5.1.40为例，我们可以光盘或者网上下载到四个安装包：\n",
    "\n",
    "<img src=\"./files/images/mysql_install01.png\" width=340/>"
   ]
  },
  {
   "cell_type": "markdown",
   "metadata": {},
   "source": [
    "其中，我们必须安装MySQL-server和MySQL-client软件包，对于另外两个则可视实际需要，但是建议一起安装，为此我们可以把这四个RPM包至于某个目录中，然后执行shell命令："
   ]
  },
  {
   "cell_type": "markdown",
   "metadata": {},
   "source": [
    "> rpm-ivh MySQL-*"
   ]
  },
  {
   "cell_type": "markdown",
   "metadata": {},
   "source": [
    "就可以完成MySQL软件安装任务，剩下的就是如何配置的问题了。"
   ]
  },
  {
   "cell_type": "markdown",
   "metadata": {},
   "source": [
    "### yum方式安装MySQL"
   ]
  },
  {
   "cell_type": "markdown",
   "metadata": {},
   "source": [
    "yum方式安装MySQL安装极其简单，只要执行yum install mysql-server即可。"
   ]
  },
  {
   "cell_type": "markdown",
   "metadata": {},
   "source": [
    "> yum install mysql-server"
   ]
  },
  {
   "cell_type": "markdown",
   "metadata": {},
   "source": [
    "### yum/rpm方式安装MySQL应用场景"
   ]
  },
  {
   "cell_type": "markdown",
   "metadata": {},
   "source": [
    "yum/rpm安装适合对数据库要求不太高的场合，例如**并发不大**，公司内部，企业内部的一些应用场景。"
   ]
  },
  {
   "cell_type": "markdown",
   "metadata": {},
   "source": [
    "大的门户网站会把源码根据企业的需求制作成rpm，自己搭建yum仓库，然后yum install xxx-y。\n",
    "\n",
    "**rpm包制作介绍及实战操作讲解**\n",
    "参考页面：https://blog.51cto.com/oldboy/1121725"
   ]
  },
  {
   "cell_type": "markdown",
   "metadata": {},
   "source": [
    "-----"
   ]
  },
  {
   "cell_type": "markdown",
   "metadata": {},
   "source": [
    "### 常规方式编译安装MySQL"
   ]
  },
  {
   "cell_type": "markdown",
   "metadata": {},
   "source": [
    "第一条最正宗的产品线（5.1.xx及以前）："
   ]
  },
  {
   "cell_type": "markdown",
   "metadata": {},
   "source": [
    "所谓常规方式编译安装MySQL就是延续早期MySQL的3部曲安装方式，即：\n",
    "\n",
    "**./configure;make;make install**，\n",
    "\n",
    "生产场景的具体命令及参数为："
   ]
  },
  {
   "cell_type": "markdown",
   "metadata": {},
   "source": [
    "./configure --prefix=/application/mysql5.1.72 --with-unix-socket-path=/application/mysql5.1.72/tmp/mysql.sock --localstatedir=/application/mysql5.1.72/data --enable-assembler --enable-thread-safe-client --with-ysqld-user=mysql --with-big-tables --without-debug --with-pthread --enable-assembler --with-extra-charsets=complex --with-readline --with-ssl --with-embedded-server --enable-local-infile --with-plugins=partition,innobase --with-mysqld-ldflags=-all-static --with-client-ldflag=-all-static \n",
    "\n",
    "make\n",
    "\n",
    "make install"
   ]
  },
  {
   "cell_type": "markdown",
   "metadata": {},
   "source": [
    "此种方式适合所有MySQL5.0.xx-5.1.xx产品系列，是最常规的编译方式。"
   ]
  },
  {
   "cell_type": "markdown",
   "metadata": {},
   "source": [
    "-----"
   ]
  },
  {
   "cell_type": "markdown",
   "metadata": {},
   "source": [
    "### 采用cmake方式编译安装MySQL"
   ]
  },
  {
   "cell_type": "markdown",
   "metadata": {},
   "source": [
    "由于MySQL5.5.xx-5.6.xx产品系列特殊性，所以编译方式也和早期的产品安装方式不同，采用cmake或gmake方式编译。"
   ]
  },
  {
   "cell_type": "markdown",
   "metadata": {},
   "source": [
    "即：\n",
    "> ./configure;cmake;make install\n",
    "\n",
    "生产场景的具体命令及参数为：\n",
    "> tar zxf mysql-5.5.32.tar.gz  # 解压   \n",
    "> cd mysql-5.5.32  # 进入目录   \n",
    "> cmake .  -DCMAKE_INSTALL_PREFIX=/application/mysql-5.5.32 \\\n",
    "> -DMYSQL_DATADIR=/application/mysql-5.5.32/data \\ \n",
    "> -DMYSQL_UNIX_ADDR=/application/mysql-5.5.32/tmp/mysql.sock \\\n",
    "> -DDEFAULT_CHARSET=utf8 \\\n",
    "> -DDEFAULT_COLLATION=utf8_general_ci \\\n",
    "> -DEXTRA_CHARSETS=gbk,gb2312,utf8,ascii \\\n",
    "> -DENABLED_LOCAL_INFILE=ON \\\n",
    "> -DWITH_INNOBASE_STORAGE_ENGINE=1 \\\n",
    "> -DWITH_FEDERATED_STORAGE_ENGINE=1 \\\n",
    "> -DWITH_BLACKHOLE_STORAGE_ENGINE=1 \\\n",
    "> -DWITHOUT_EXAMPLES_STORAGE_ENGINE=1 \\\n",
    "> -DWITHOUT_PARITION_STORAGE_ENGINE=1 \\\n",
    "> -DWITH_FAST_MUTEXES=1 \\\n",
    "> -DWITH_ZLIB=bundled \\\n",
    "> -DENABLED_LOCAL_INFILE=1 \\\n",
    "> -DWITH_READLINE=1 \\\n",
    "> -DENABLED_LOCAL_INFILE=1 \\\n",
    "> -DWITH_READLINE=1 \\\n",
    "> -DWITH_EMBEDDED_SERVER=1 \\\n",
    "> -DWITH_DEBUG=0\n",
    "\n",
    "\n",
    "'--Build files have been written to : /home/oldboy/tools/mysql-5.5.32\n",
    "提示，编译时可配置的选项很多，具体可参考结尾附录或官方文档。'\n",
    "\n",
    "> cmake\n",
    "\n",
    "'[100%] Built target my_safe_process'\n",
    ">make install\n",
    "\n",
    "> ln -s /application/mysql-5.5.32/ /application/mysql"
   ]
  },
  {
   "cell_type": "markdown",
   "metadata": {},
   "source": [
    "如果上述操作未出现错误，则MySQL5.5.32软件cmake方式的安装就算成功了。"
   ]
  },
  {
   "cell_type": "markdown",
   "metadata": {},
   "source": [
    "---"
   ]
  },
  {
   "cell_type": "markdown",
   "metadata": {},
   "source": [
    "### 采用二进制方式免编译安装MySQL"
   ]
  },
  {
   "cell_type": "markdown",
   "metadata": {},
   "source": [
    "采用二进制方式免编译安装mysql，这种方法和yum/rpm包安装方式类似，适合各类MySQL产品系列，不需要复杂的编译设置及编译时间等待，直接解压下载的软件包，初始化即可完成mysql的安装启动。"
   ]
  },
  {
   "cell_type": "markdown",
   "metadata": {},
   "source": [
    "这种方式适应所有的产品线。"
   ]
  },
  {
   "cell_type": "markdown",
   "metadata": {},
   "source": [
    "---"
   ]
  },
  {
   "cell_type": "markdown",
   "metadata": {},
   "source": [
    "## 如何正确选择MySQL的安装方式"
   ]
  },
  {
   "cell_type": "markdown",
   "metadata": {},
   "source": [
    "yum/rpm安装适合对数据库要求不太高的场合，例如：并发不大，公司内部，企业内部的一些应用产经。（但不是绝对的，是一般情况下适合这样做）\n"
   ]
  },
  {
   "cell_type": "markdown",
   "metadata": {},
   "source": [
    "二进制面编译安装比较简单方便，适合5.0-5.1和5.5-5.6系列，是很多专业DBA的选择。\n",
    "\n",
    "普通运维人员多采用编译的方式，5.0-5.1系列就是常规编译方式，5.5-5.6系列就是cmake编译方式。"
   ]
  },
  {
   "cell_type": "markdown",
   "metadata": {},
   "source": [
    "综合来讲，这些安装方式都是可以使用的，只是不同层次的人的习惯不同，性能差距不是很大。"
   ]
  },
  {
   "cell_type": "markdown",
   "metadata": {},
   "source": [
    "### 建议：\n",
    "首先是mysql5.5及以上的版本，安装方式机器数量少的话，推荐cmake编译方式，这是大多数运维人员的选择。数量多的话就用二进制免编译安装，也是没问题的。"
   ]
  },
  {
   "cell_type": "markdown",
   "metadata": {},
   "source": [
    "---"
   ]
  },
  {
   "cell_type": "markdown",
   "metadata": {},
   "source": [
    "----"
   ]
  },
  {
   "cell_type": "markdown",
   "metadata": {},
   "source": [
    "# MySQL5.5编译方式安装记录"
   ]
  },
  {
   "cell_type": "markdown",
   "metadata": {},
   "source": [
    "参考01-第一部-MySQL基础入门 第20节课的安装实例"
   ]
  },
  {
   "cell_type": "markdown",
   "metadata": {},
   "source": [
    "本机需要重新部署，安装虚拟机和centos，部署环境。"
   ]
  },
  {
   "cell_type": "markdown",
   "metadata": {},
   "source": []
  },
  {
   "cell_type": "markdown",
   "metadata": {},
   "source": []
  },
  {
   "cell_type": "markdown",
   "metadata": {},
   "source": []
  },
  {
   "cell_type": "markdown",
   "metadata": {},
   "source": []
  },
  {
   "cell_type": "markdown",
   "metadata": {},
   "source": []
  },
  {
   "cell_type": "markdown",
   "metadata": {},
   "source": []
  },
  {
   "cell_type": "markdown",
   "metadata": {},
   "source": []
  },
  {
   "cell_type": "markdown",
   "metadata": {},
   "source": []
  },
  {
   "cell_type": "markdown",
   "metadata": {},
   "source": []
  },
  {
   "cell_type": "markdown",
   "metadata": {},
   "source": []
  },
  {
   "cell_type": "markdown",
   "metadata": {},
   "source": []
  },
  {
   "cell_type": "markdown",
   "metadata": {},
   "source": []
  },
  {
   "cell_type": "markdown",
   "metadata": {},
   "source": []
  },
  {
   "cell_type": "markdown",
   "metadata": {},
   "source": []
  },
  {
   "cell_type": "markdown",
   "metadata": {},
   "source": []
  },
  {
   "cell_type": "markdown",
   "metadata": {},
   "source": []
  },
  {
   "cell_type": "markdown",
   "metadata": {},
   "source": []
  },
  {
   "cell_type": "markdown",
   "metadata": {},
   "source": []
  }
 ],
 "metadata": {
  "kernelspec": {
   "display_name": "Python 3",
   "language": "python",
   "name": "python3"
  },
  "language_info": {
   "codemirror_mode": {
    "name": "ipython",
    "version": 3
   },
   "file_extension": ".py",
   "mimetype": "text/x-python",
   "name": "python",
   "nbconvert_exporter": "python",
   "pygments_lexer": "ipython3",
   "version": "3.6.5"
  }
 },
 "nbformat": 4,
 "nbformat_minor": 2
}
