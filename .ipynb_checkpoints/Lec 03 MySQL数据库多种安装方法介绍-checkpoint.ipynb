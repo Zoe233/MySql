{
 "cells": [
  {
   "cell_type": "markdown",
   "metadata": {},
   "source": [
    "# MySQL数据库安装方法"
   ]
  },
  {
   "cell_type": "markdown",
   "metadata": {},
   "source": [
    "- yum/rpm方式安装MySQL\n",
    "- 常规方式编译安装MySQL（configure;make;make install)\n",
    "- 采用cmake方式编译安装MySQL\n",
    "- 采用二进制方式免编译安装MySQL\n",
    "\n",
    "如何正确选择MySQL的安装方式"
   ]
  },
  {
   "cell_type": "markdown",
   "metadata": {},
   "source": [
    "在当前的大中型互联网企业里，MySQL数据库服务几乎都是运行在Linux系列操作系统上，当然，你也可以运行在Windows、Unix等商业操作系统上，**大中型互联网企业**使用开源领域的产品MySQL数据库目的是：\n",
    "- 软件代码的开放性\n",
    "- 无版权免费应用节约成本\n",
    "\n",
    "因此，作者推荐中小企业使用**LAMP/LNMP**网站架构，后面的数据库知识我们也是以Linux（Centos6.5）平台为例来讲述如何安装及使用MySQL软件的。"
   ]
  },
  {
   "cell_type": "markdown",
   "metadata": {},
   "source": [
    "## yum/rpm方式安装MySQL\n"
   ]
  },
  {
   "cell_type": "markdown",
   "metadata": {},
   "source": [
    "MySQL官方网站提供不同版本的**RPM安装包**，并且针对不同硬件或操作系统平台，又分为不同类型的安装包，大家都可以在官方网站下载页面进行选择，国内也有一些互联网公司提供了镜像，比如**网易，阿里云公司提供的镜像资源**就非常不错。"
   ]
  },
  {
   "cell_type": "markdown",
   "metadata": {},
   "source": [
    "注意：yum/rpm 方式安装MySQL适合所有MySQL软件产品系列\n"
   ]
  },
  {
   "cell_type": "markdown",
   "metadata": {},
   "source": [
    "### rpm包方式安装MySQL\n",
    "rpm包的安装非常简单，以mysql-5.1.40为例，我们可以光盘或者网上下载到四个安装包：\n",
    "\n",
    "<img src=\"./files/images/mysql_install01.png\" width=340/>"
   ]
  },
  {
   "cell_type": "markdown",
   "metadata": {},
   "source": [
    "其中，我们必须安装MySQL-server和MySQL-client软件包，对于另外两个则可视实际需要，但是建议一起安装，为此我们可以把这四个RPM包至于某个目录中，然后执行shell命令："
   ]
  },
  {
   "cell_type": "markdown",
   "metadata": {},
   "source": [
    "> rpm-ivh MySQL-*"
   ]
  },
  {
   "cell_type": "markdown",
   "metadata": {},
   "source": [
    "就可以完成MySQL软件安装任务，剩下的就是如何配置的问题了。"
   ]
  },
  {
   "cell_type": "markdown",
   "metadata": {},
   "source": [
    "### yum方式安装MySQL"
   ]
  },
  {
   "cell_type": "markdown",
   "metadata": {},
   "source": [
    "yum方式安装MySQL安装极其简单，只要执行yum install mysql-server即可。"
   ]
  },
  {
   "cell_type": "markdown",
   "metadata": {},
   "source": [
    "> yum install mysql-server"
   ]
  },
  {
   "cell_type": "markdown",
   "metadata": {},
   "source": [
    "### yum/rpm方式安装MySQL应用场景"
   ]
  },
  {
   "cell_type": "markdown",
   "metadata": {},
   "source": [
    "yum/rpm安装适合对数据库要求不太高的场合，例如**并发不大**，公司内部，企业内部的一些应用场景。"
   ]
  },
  {
   "cell_type": "markdown",
   "metadata": {},
   "source": [
    "大的门户网站会把源码根据企业的需求制作成rpm，自己搭建yum仓库，然后yum install xxx-y。\n",
    "\n",
    "**rpm包制作介绍及实战操作讲解**\n",
    "参考页面：https://blog.51cto.com/oldboy/1121725"
   ]
  },
  {
   "cell_type": "markdown",
   "metadata": {},
   "source": [
    "-----"
   ]
  },
  {
   "cell_type": "markdown",
   "metadata": {},
   "source": [
    "### 常规方式编译安装MySQL"
   ]
  },
  {
   "cell_type": "markdown",
   "metadata": {},
   "source": [
    "第一条最正宗的产品线（5.1.xx及以前）："
   ]
  },
  {
   "cell_type": "markdown",
   "metadata": {},
   "source": [
    "所谓常规方式编译安装MySQL就是延续早期MySQL的3部曲安装方式，即：\n",
    "\n",
    "**./configure;make;make install**，\n",
    "\n",
    "生产场景的具体命令及参数为："
   ]
  },
  {
   "cell_type": "markdown",
   "metadata": {},
   "source": [
    "./configure --prefix=/application/mysql5.1.72 --with-unix-socket-path=/application/mysql5.1.72/tmp/mysql.sock --localstatedir=/application/mysql5.1.72/data --enable-assembler --enable-thread-safe-client --with-ysqld-user=mysql --with-big-tables --without-debug --with-pthread --enable-assembler --with-extra-charsets=complex --with-readline --with-ssl --with-embedded-server --enable-local-infile --with-plugins=partition,innobase --with-mysqld-ldflags=-all-static --with-client-ldflag=-all-static \n",
    "\n",
    "make\n",
    "\n",
    "make install"
   ]
  },
  {
   "cell_type": "markdown",
   "metadata": {},
   "source": [
    "此种方式适合所有MySQL5.0.xx-5.1.xx产品系列，是最常规的编译方式。"
   ]
  },
  {
   "cell_type": "markdown",
   "metadata": {},
   "source": [
    "-----"
   ]
  },
  {
   "cell_type": "markdown",
   "metadata": {},
   "source": [
    "### 采用cmake方式编译安装MySQL"
   ]
  },
  {
   "cell_type": "markdown",
   "metadata": {},
   "source": [
    "由于MySQL5.5.xx-5.6.xx产品系列特殊性，所以编译方式也和早期的产品安装方式不同，采用cmake或gmake方式编译。"
   ]
  },
  {
   "cell_type": "markdown",
   "metadata": {},
   "source": [
    "即：\n",
    "> ./configure;cmake;make install\n",
    "\n",
    "生产场景的具体命令及参数为：\n",
    "> tar zxf mysql-5.5.32.tar.gz  # 解压   \n",
    "> cd mysql-5.5.32  # 进入目录   \n",
    "> cmake .  -DCMAKE_INSTALL_PREFIX=/application/mysql-5.5.32 \\\n",
    "> -DMYSQL_DATADIR=/application/mysql-5.5.32/data \\ \n",
    "> -DMYSQL_UNIX_ADDR=/application/mysql-5.5.32/tmp/mysql.sock \\\n",
    "> -DDEFAULT_CHARSET=utf8 \\\n",
    "> -DDEFAULT_COLLATION=utf8_general_ci \\\n",
    "> -DEXTRA_CHARSETS=gbk,gb2312,utf8,ascii \\\n",
    "> -DENABLED_LOCAL_INFILE=ON \\\n",
    "> -DWITH_INNOBASE_STORAGE_ENGINE=1 \\\n",
    "> -DWITH_FEDERATED_STORAGE_ENGINE=1 \\\n",
    "> -DWITH_BLACKHOLE_STORAGE_ENGINE=1 \\\n",
    "> -DWITHOUT_EXAMPLES_STORAGE_ENGINE=1 \\\n",
    "> -DWITHOUT_PARITION_STORAGE_ENGINE=1 \\\n",
    "> -DWITH_FAST_MUTEXES=1 \\\n",
    "> -DWITH_ZLIB=bundled \\\n",
    "> -DENABLED_LOCAL_INFILE=1 \\\n",
    "> -DWITH_READLINE=1 \\\n",
    "> -DENABLED_LOCAL_INFILE=1 \\\n",
    "> -DWITH_READLINE=1 \\\n",
    "> -DWITH_EMBEDDED_SERVER=1 \\\n",
    "> -DWITH_DEBUG=0\n",
    "\n",
    "\n",
    "'--Build files have been written to : /home/oldboy/tools/mysql-5.5.32\n",
    "提示，编译时可配置的选项很多，具体可参考结尾附录或官方文档。'\n",
    "\n",
    "> cmake\n",
    "\n",
    "'[100%] Built target my_safe_process'\n",
    ">make install\n",
    "\n",
    "> ln -s /application/mysql-5.5.32/ /application/mysql"
   ]
  },
  {
   "cell_type": "markdown",
   "metadata": {},
   "source": [
    "如果上述操作未出现错误，则MySQL5.5.32软件cmake方式的安装就算成功了。"
   ]
  },
  {
   "cell_type": "markdown",
   "metadata": {},
   "source": [
    "---"
   ]
  },
  {
   "cell_type": "markdown",
   "metadata": {},
   "source": [
    "### 采用二进制方式免编译安装MySQL"
   ]
  },
  {
   "cell_type": "markdown",
   "metadata": {},
   "source": [
    "采用二进制方式免编译安装mysql，这种方法和yum/rpm包安装方式类似，适合各类MySQL产品系列，不需要复杂的编译设置及编译时间等待，直接解压下载的软件包，初始化即可完成mysql的安装启动。"
   ]
  },
  {
   "cell_type": "markdown",
   "metadata": {},
   "source": [
    "这种方式适应所有的产品线。"
   ]
  },
  {
   "cell_type": "markdown",
   "metadata": {},
   "source": [
    "---"
   ]
  },
  {
   "cell_type": "markdown",
   "metadata": {},
   "source": [
    "## 如何正确选择MySQL的安装方式"
   ]
  },
  {
   "cell_type": "markdown",
   "metadata": {},
   "source": [
    "yum/rpm安装适合对数据库要求不太高的场合，例如：并发不大，公司内部，企业内部的一些应用产经。（但不是绝对的，是一般情况下适合这样做）\n"
   ]
  },
  {
   "cell_type": "markdown",
   "metadata": {},
   "source": [
    "二进制面编译安装比较简单方便，适合5.0-5.1和5.5-5.6系列，是很多专业DBA的选择。\n",
    "\n",
    "普通运维人员多采用编译的方式，5.0-5.1系列就是常规编译方式，5.5-5.6系列就是cmake编译方式。"
   ]
  },
  {
   "cell_type": "markdown",
   "metadata": {},
   "source": [
    "综合来讲，这些安装方式都是可以使用的，只是不同层次的人的习惯不同，性能差距不是很大。"
   ]
  },
  {
   "cell_type": "markdown",
   "metadata": {},
   "source": [
    "### 建议：\n",
    "首先是mysql5.5及以上的版本，安装方式机器数量少的话，推荐cmake编译方式，这是大多数运维人员的选择。数量多的话就用二进制免编译安装，也是没问题的。"
   ]
  },
  {
   "cell_type": "markdown",
   "metadata": {},
   "source": [
    "---"
   ]
  },
  {
   "cell_type": "markdown",
   "metadata": {},
   "source": [
    "----"
   ]
  },
  {
   "cell_type": "markdown",
   "metadata": {},
   "source": [
    "# MySQL5.5编译方式安装记录"
   ]
  },
  {
   "cell_type": "markdown",
   "metadata": {},
   "source": [
    "参考01-第一部-MySQL基础入门 第20节课的安装实例"
   ]
  },
  {
   "cell_type": "markdown",
   "metadata": {},
   "source": [
    "本机需要重新部署，安装虚拟机和centos，部署环境。"
   ]
  },
  {
   "cell_type": "markdown",
   "metadata": {},
   "source": [
    "## 1. 源码cmake方式编译安装MySQL5.5.62"
   ]
  },
  {
   "cell_type": "markdown",
   "metadata": {},
   "source": [
    "### 1.1 下载MySQL安装包："
   ]
  },
  {
   "cell_type": "markdown",
   "metadata": {},
   "source": [
    "MySQL从5.3开始使用cmake的安装方式，本次实战选用mysql5.5.62\n",
    "\n",
    "MySQL系列下载地址\n",
    "\n",
    "http://dev.mysql.com/downloads/mysql/5.5.html#downloads"
   ]
  },
  {
   "cell_type": "raw",
   "metadata": {},
   "source": [
    "wget /home/oldboy/tools 下载网址"
   ]
  },
  {
   "cell_type": "markdown",
   "metadata": {},
   "source": [
    "下载完成后，可以通过 rz -y 工具讲本地的mysql安装包上传到服务器（虚拟机），或虚拟机本地下载。\n",
    "\n",
    "安装包放置目录为 /home/oldboy/tools"
   ]
  },
  {
   "cell_type": "markdown",
   "metadata": {},
   "source": [
    "### 1.2 下载cmake编译工具到本地/home/oldboy/tools"
   ]
  },
  {
   "cell_type": "raw",
   "metadata": {},
   "source": [
    "wget /home/oldboy/tools http://www.cmake.org/files/v2.8/cmake-2.8.8.tar.gz"
   ]
  },
  {
   "cell_type": "markdown",
   "metadata": {},
   "source": [
    "## 2. 查看系统环境"
   ]
  },
  {
   "cell_type": "raw",
   "metadata": {},
   "source": [
    "[root@oldboy rules.d]# cat /etc/redhat-release\n",
    "CentOS release 6.7 (Final)\n",
    "[root@oldboy rules.d]# uname -r \n",
    "2.6.32-573.el6.x86_64\n",
    "[root@oldboy rules.d]# uname -m\n",
    "x86_64"
   ]
  },
  {
   "cell_type": "markdown",
   "metadata": {},
   "source": [
    "## 3. 安装相关包"
   ]
  },
  {
   "cell_type": "markdown",
   "metadata": {},
   "source": [
    "### 3.1 安装cmake软件"
   ]
  },
  {
   "cell_type": "raw",
   "metadata": {},
   "source": [
    "[root@oldboy tools]# cd /home/oldboy/tools\n",
    "[root@mysql tools]# tar -zxf cmake-2.8.8.tar.gz \n",
    "[root@mysql tools]# cd cmake-2.8.8\n",
    "[root@mysql cmake-2.8.8]# ./configure"
   ]
  },
  {
   "cell_type": "markdown",
   "metadata": {},
   "source": [
    "提示用gmake安装，用make也可以"
   ]
  },
  {
   "cell_type": "raw",
   "metadata": {},
   "source": [
    "[root@mysql cmake-2.8.8]# gmake\n",
    "[root@mysql cmake-2.8.8]# gmake install"
   ]
  },
  {
   "cell_type": "markdown",
   "metadata": {},
   "source": [
    "安装依赖包"
   ]
  },
  {
   "cell_type": "raw",
   "metadata": {},
   "source": [
    "[root@mysql tools]# yum install ncurses-devel -y"
   ]
  },
  {
   "cell_type": "markdown",
   "metadata": {},
   "source": [
    "## 4. 开始安装mysql"
   ]
  },
  {
   "cell_type": "markdown",
   "metadata": {},
   "source": [
    "### 4.1 创建用户和组"
   ]
  },
  {
   "cell_type": "raw",
   "metadata": {},
   "source": [
    "[root@mysql tools]# groupadd mysql\n",
    "[root@mysql tools]# useradd mysql -s /sbin/nologin -M -g mysql"
   ]
  },
  {
   "cell_type": "markdown",
   "metadata": {},
   "source": [
    "### 4.2 解压编译mysql安装"
   ]
  },
  {
   "cell_type": "raw",
   "metadata": {},
   "source": [
    "[root@mysql tools]# tar -zxf mysql-5.5.32.tar.gz\n",
    "[root@mysql tools]# cd mysql-5.5.32\n",
    "[root@mysql mysql-5.5.32]#cmake . -DCMAKE_INSTALL_PREFIX=/usr/local/mysql         #指定安装目录\n",
    " -DMYSQL_DATADIR=/usr/local/mysql/data   #指定数据存放目录重要\n",
    " -DMYSQL_UNIX_ADDR=/usr/local/mysql/tmp/mysql.sock  #指定sock路径\n",
    " -DDEFAULT_CHARSET=utf8   #指定默认字符集\n",
    " -DDEFAULT_COLLATION=utf8_general_ci  #指定校准字符集编码\n",
    " -DEXTRA_CHARSETS=all       #安装所需字符集\n",
    " -DENABLED_LOCAL_INFILE=ON  #启用加载本地数据\n",
    " -DWITH_INNOBASE_STORAGE_ENGINE=1   #支持innode引擎 \n",
    " -DWITH_FEDERATED_STORAGE_ENGINE=1  #支持federated引擎\n",
    " -DWITH_BLACKHOLE_STORAGE_ENGINE=1  #支持黑洞存储引擎\n",
    " -DWITHOUT_EXAMPLE_STORAGE_ENGINE=1  \n",
    " -DWITHOUT_PARTITION_STORAGE_ENGINE=1   #支持安装数据库分区 \n",
    " -DWITH_FAST_MUTEXES=1  \n",
    " -DWITH_ZLIB=bundled    #zlib压缩模式\n",
    " -DENABLED_LOCAL_INFILE=1  \n",
    " -DWITH_READLINE=1  \n",
    " -DWITH_EMBEDDED_SERVER=1  \n",
    " -DWITH_DEBUG=0     #禁用debug,开启影响性能\n",
    " [root@mysql mysql-5.5.32]# make && make install\n",
    " [root@mysql mysql-5.5.32]# ln -s /home/zbf/tools/mysql-5.5.32 /usr/local/mysql/"
   ]
  },
  {
   "cell_type": "markdown",
   "metadata": {},
   "source": [
    "粘贴下面内容："
   ]
  },
  {
   "cell_type": "markdown",
   "metadata": {},
   "source": [
    "cmake . -DCMAKE_INSTALL_PREFIX=/usr/local/mysql -DMYSQL_DATADIR=/usr/local/mysql/data -DMYSQL_UNIX_ADDR=/usr/local/mysql/tmp/mysql.sock -DDEFAULT_CHARSET=utf8 -DDEFAULT_COLLATION=utf8_general_ci -DEXTRA_CHARSETS=all  -DENABLED_LOCAL_INFILE=ON -DWITH_INNOBASE_STORAGE_ENGINE=1 -DWITH_FEDERATED_STORAGE_ENGINE=1 -DWITH_BLACKHOLE_STORAGE_ENGINE=1 -DWITHOUT_EXAMPLE_STORAGE_ENGINE=1 -DWITHOUT_PARTITION_STORAGE_ENGINE=1 -DWITH_FAST_MUTEXES=1 -DWITH_ZLIB=bundled -DENABLED_LOCAL_INFILE=1 -DWITH_READLINE=1 -DWITH_EMBEDDED_SERVER=1 -DWITH_DEBUG=0"
   ]
  },
  {
   "cell_type": "markdown",
   "metadata": {},
   "source": [
    "编译出现下面问题，yum安装bison重新编译"
   ]
  },
  {
   "cell_type": "markdown",
   "metadata": {},
   "source": [
    "-- Performing Test HAVE_PEERCRED - Success\n",
    "Warning: Bison executable not found in PATH"
   ]
  },
  {
   "cell_type": "markdown",
   "metadata": {},
   "source": [
    "特别说明：常规configure编译方式安装以及免编译方式安装等等的安装方法，只是上面的过程不同，下面初始化的内容相同相同。"
   ]
  },
  {
   "cell_type": "markdown",
   "metadata": {},
   "source": [
    "### 4.3 初始化配置MySQL"
   ]
  },
  {
   "cell_type": "markdown",
   "metadata": {},
   "source": [
    "#### 4.3.1 查看默认模板配置文件"
   ]
  },
  {
   "cell_type": "raw",
   "metadata": {},
   "source": [
    "[root@mysql mysql-5.5.32]# ll support-files/my*cnf\n",
    " -rw-r--r--. 1 root root  4723 1月  11 19:03 support-files/my-huge.cnf\n",
    " -rw-r--r--. 1 root root 19791 1月  11 19:03 support-files/my-innodb-heavy-4G.cnf\n",
    " -rw-r--r--. 1 root root  4697 1月  11 19:03 support-files/my-large.cnf\n",
    " -rw-r--r--. 1 root root  4708 1月  11 19:03 support-files/my-medium.cnf\n",
    " -rw-r--r--. 1 root root  2872 1月  11 19:03 support-files/my-small.cnf "
   ]
  },
  {
   "cell_type": "markdown",
   "metadata": {},
   "source": [
    "#### 4.3.2 选择配置文件"
   ]
  },
  {
   "cell_type": "markdown",
   "metadata": {},
   "source": [
    "配置文件很多我们选一个小的，因为是测试环境"
   ]
  },
  {
   "cell_type": "raw",
   "metadata": {},
   "source": [
    "[root@mysql mysql-5.5.32]# cp support-files/my-small.cnf /etc/my.cnf\n",
    "cp：是否覆盖\"/etc/my.cnf\"？ y"
   ]
  },
  {
   "cell_type": "markdown",
   "metadata": {},
   "source": [
    "#### 4.3.3 配置环境变量"
   ]
  },
  {
   "cell_type": "markdown",
   "metadata": {},
   "source": [
    "[root@mysql mysql-5.5.32]# echo \"export PATH=/usr/local/mysql/bin:$PATH\" >> /etc/profile\n",
    "[root@mysql mysql-5.5.32]# tail -1 /etc/profile\n",
    "export PATH=/usr/local/mysql/bin:$PATH\n",
    "[root@mysql mysql-5.5.32]# source /etc/profile\n",
    "[root@mysql mysql-5.5.32]# echo $PATH\n",
    "/usr/local/mysql/bin:/usr/local/sbin:/usr/local/bin:/sbin:/bin:/usr/sbin:/usr/bin:/root/bin"
   ]
  },
  {
   "cell_type": "markdown",
   "metadata": {},
   "source": [
    "注意一定要把/usr/local/mysql/bin放在前边，因为在以后安装的系统里很可能有yum安装的mysql客户端。如果不把/usr/local/mysql/bin放在前边，当我们输入mysql的时候它会调用系统rpm安装的mysql命令。这里有一个配置环境变量的例子，https://blog.51cto.com/oldboy/1122867。"
   ]
  },
  {
   "cell_type": "markdown",
   "metadata": {},
   "source": [
    "#### 4.3.4 初始化数据文件"
   ]
  },
  {
   "cell_type": "markdown",
   "metadata": {},
   "source": [
    "已经有了，没有的话创建一个mysql数据文件目录"
   ]
  },
  {
   "cell_type": "markdown",
   "metadata": {},
   "source": []
  },
  {
   "cell_type": "markdown",
   "metadata": {},
   "source": []
  },
  {
   "cell_type": "markdown",
   "metadata": {},
   "source": []
  },
  {
   "cell_type": "markdown",
   "metadata": {},
   "source": []
  },
  {
   "cell_type": "markdown",
   "metadata": {},
   "source": []
  },
  {
   "cell_type": "markdown",
   "metadata": {},
   "source": []
  },
  {
   "cell_type": "markdown",
   "metadata": {},
   "source": []
  },
  {
   "cell_type": "markdown",
   "metadata": {},
   "source": []
  },
  {
   "cell_type": "markdown",
   "metadata": {},
   "source": []
  },
  {
   "cell_type": "markdown",
   "metadata": {},
   "source": []
  },
  {
   "cell_type": "markdown",
   "metadata": {},
   "source": []
  }
 ],
 "metadata": {
  "kernelspec": {
   "display_name": "Python 3",
   "language": "python",
   "name": "python3"
  },
  "language_info": {
   "codemirror_mode": {
    "name": "ipython",
    "version": 3
   },
   "file_extension": ".py",
   "mimetype": "text/x-python",
   "name": "python",
   "nbconvert_exporter": "python",
   "pygments_lexer": "ipython3",
   "version": "3.6.5"
  }
 },
 "nbformat": 4,
 "nbformat_minor": 2
}
