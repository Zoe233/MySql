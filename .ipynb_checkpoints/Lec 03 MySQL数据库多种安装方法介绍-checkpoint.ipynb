{
 "cells": [
  {
   "cell_type": "markdown",
   "metadata": {},
   "source": [
    "# MySQL数据库安装方法"
   ]
  },
  {
   "cell_type": "markdown",
   "metadata": {},
   "source": [
    "- yum/rpm方式安装MySQL\n",
    "- 常规方式编译安装MySQL\n",
    "- 采用cmake方式编译安装MySQL\n",
    "- 采用二进制方式免编译安装MySQL\n",
    "- 如何正确选择MySQL的安装方式"
   ]
  },
  {
   "cell_type": "markdown",
   "metadata": {},
   "source": [
    "在当前的大中型互联网企业里，MySQL数据库服务几乎都是运行在Linux系列操作系统上，当然，你也可以运行在Windows、Unix等商业操作系统上，**大中型互联网企业**使用开源领域的产品MySQL数据库目的是：\n",
    "- 软件代码的开放性\n",
    "- 无版权免费应用节约成本\n",
    "\n",
    "因此，作者推荐中小企业使用**LAMP/LNMP**网站架构，后面的数据库知识我们也是以Linux（Centos6.5）平台为例来讲述如何安装及使用MySQL软件的。"
   ]
  },
  {
   "cell_type": "markdown",
   "metadata": {},
   "source": [
    "## yum/rpm方式安装MySQL\n"
   ]
  },
  {
   "cell_type": "markdown",
   "metadata": {},
   "source": [
    "MySQL官方网站提供不同版本的**RPM安装包**，并且针对不同硬件或操作系统平台，又分为不同类型的安装包，大家都可以在官方网站下载页面进行选择，国内也有一些互联网公司提供了镜像，比如**网易，阿里云公司提供的镜像资源**就非常不错。"
   ]
  },
  {
   "cell_type": "markdown",
   "metadata": {},
   "source": [
    "注意：yum/rpm 方式安装MySQL适合所有MySQL软件产品系列\n"
   ]
  },
  {
   "cell_type": "markdown",
   "metadata": {},
   "source": [
    "### rpm包方式安装MySQL\n",
    "rpm包的安装非常简单，以mysql-5.1.40为例，我们可以光盘或者网上下载到四个安装包：\n",
    "\n",
    "<img src=\"./files/images/mysql_install01.png\" width=340/>"
   ]
  },
  {
   "cell_type": "markdown",
   "metadata": {},
   "source": [
    "其中，我们必须安装MySQL-server和MySQL-client软件包，对于另外两个则可视实际需要，但是建议一起安装，为此我们可以把这四个RPM包至于某个目录中，然后执行shell命令："
   ]
  },
  {
   "cell_type": "markdown",
   "metadata": {},
   "source": [
    "> rpm-ivh MySQL-*"
   ]
  },
  {
   "cell_type": "markdown",
   "metadata": {},
   "source": [
    "就可以完成MySQL软件安装任务，剩下的就是如何配置的问题了。"
   ]
  },
  {
   "cell_type": "markdown",
   "metadata": {},
   "source": [
    "### yum方式安装MySQL"
   ]
  },
  {
   "cell_type": "markdown",
   "metadata": {},
   "source": [
    "yum方式安装MySQL安装极其简单，只要执行yum install mysql-server即可。"
   ]
  },
  {
   "cell_type": "markdown",
   "metadata": {},
   "source": [
    "> yum install mysql-server"
   ]
  },
  {
   "cell_type": "markdown",
   "metadata": {},
   "source": [
    "### yum/rpm方式安装MySQL应用场景"
   ]
  },
  {
   "cell_type": "markdown",
   "metadata": {},
   "source": [
    "yum/rpm安装适合对数据库要求不太高的场合，例如**并发不大**，公司内部，企业内部的一些应用场景。"
   ]
  },
  {
   "cell_type": "markdown",
   "metadata": {},
   "source": [
    "大的门户网站会把源码根据企业的需求制作成rpm，自己搭建yum仓库，然后yum install xxx-y。\n",
    "\n",
    "**rpm包制作介绍及实战操作讲解**\n",
    "参考页面：https://blog.51cto.com/oldboy/1121725"
   ]
  },
  {
   "cell_type": "markdown",
   "metadata": {},
   "source": [
    "-----"
   ]
  },
  {
   "cell_type": "markdown",
   "metadata": {},
   "source": [
    "### 常规方式编译安装MySQL"
   ]
  },
  {
   "cell_type": "markdown",
   "metadata": {},
   "source": [
    "第一条最正宗的产品线（5.1.xx及以前）："
   ]
  },
  {
   "cell_type": "markdown",
   "metadata": {},
   "source": [
    "所谓常规方式编译安装MySQL就是延续早期MySQL的3部曲安装方式，即：\n",
    "\n",
    "**./configure;make;make install**，\n",
    "\n",
    "生产场景的具体命令及参数为："
   ]
  },
  {
   "cell_type": "markdown",
   "metadata": {},
   "source": [
    "./configure --prefix=/application/mysql5.1.72 --with-unix-socket-path=/application/mysql5.1.72/tmp/mysql.sock --localstatedir=/application/mysql5.1.72/data --enable-assembler --enable-thread-safe-client --with-ysqld-user=mysql --with-big-tables --without-debug --with-pthread --enable-assembler --with-extra-charsets=complex --with-readline --with-ssl --with-embedded-server --enable-local-infile --with-plugins=partition,innobase --with-mysqld-ldflags=-all-static --with-client-ldflag=-all-static \n",
    "\n",
    "make\n",
    "\n",
    "make install"
   ]
  },
  {
   "cell_type": "markdown",
   "metadata": {},
   "source": [
    "此种方式适合所有MySQL5.0.xx-5.1.xx产品系列，是最常规的编译方式。"
   ]
  },
  {
   "cell_type": "markdown",
   "metadata": {},
   "source": [
    "-----"
   ]
  },
  {
   "cell_type": "markdown",
   "metadata": {},
   "source": [
    "### 采用cmake方式编译安装MySQL"
   ]
  },
  {
   "cell_type": "markdown",
   "metadata": {},
   "source": []
  },
  {
   "cell_type": "markdown",
   "metadata": {},
   "source": []
  },
  {
   "cell_type": "markdown",
   "metadata": {},
   "source": []
  },
  {
   "cell_type": "markdown",
   "metadata": {},
   "source": []
  },
  {
   "cell_type": "markdown",
   "metadata": {},
   "source": []
  },
  {
   "cell_type": "markdown",
   "metadata": {},
   "source": []
  },
  {
   "cell_type": "markdown",
   "metadata": {},
   "source": []
  },
  {
   "cell_type": "markdown",
   "metadata": {},
   "source": []
  },
  {
   "cell_type": "markdown",
   "metadata": {},
   "source": []
  },
  {
   "cell_type": "markdown",
   "metadata": {},
   "source": []
  },
  {
   "cell_type": "markdown",
   "metadata": {},
   "source": []
  },
  {
   "cell_type": "code",
   "execution_count": null,
   "metadata": {},
   "outputs": [],
   "source": []
  },
  {
   "cell_type": "code",
   "execution_count": null,
   "metadata": {},
   "outputs": [],
   "source": []
  },
  {
   "cell_type": "markdown",
   "metadata": {},
   "source": []
  }
 ],
 "metadata": {
  "kernelspec": {
   "display_name": "Python 3",
   "language": "python",
   "name": "python3"
  },
  "language_info": {
   "codemirror_mode": {
    "name": "ipython",
    "version": 3
   },
   "file_extension": ".py",
   "mimetype": "text/x-python",
   "name": "python",
   "nbconvert_exporter": "python",
   "pygments_lexer": "ipython3",
   "version": "3.6.5"
  }
 },
 "nbformat": 4,
 "nbformat_minor": 2
}
