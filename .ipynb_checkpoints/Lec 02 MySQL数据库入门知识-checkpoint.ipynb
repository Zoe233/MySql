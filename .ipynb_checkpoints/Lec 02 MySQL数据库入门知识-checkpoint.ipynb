{
 "cells": [
  {
   "cell_type": "markdown",
   "metadata": {},
   "source": [
    "# MySQL数据库介绍"
   ]
  },
  {
   "cell_type": "markdown",
   "metadata": {},
   "source": [
    "开源，重要的，关系型数据库。"
   ]
  },
  {
   "cell_type": "markdown",
   "metadata": {},
   "source": [
    "MySQL属于传统关系型数据库产品，它的开放式的架构使得用户选择性很强，同时社区开发与维护人员众多，其功能比较稳定，性能卓越，且在遵守GPL协议的前提下，可以免费使用与修改，也为MySQL的推广与使用带来了更多利好。   "
   ]
  },
  {
   "cell_type": "markdown",
   "metadata": {},
   "source": [
    "MySQL是一种关系型数据库管理系统，关系型数据库的特点是将数据保存在不同的表中，将这些表放入不同的数据库中，而不是把所有数据统一放在一个大仓库里，这样设计增加了MySQL的读取速度，灵活性可管理性也得到了很大提高。\n",
    "\n",
    "访问以及管理MySQL数据库的最常用标准化语言为SQL结构化查询语言。"
   ]
  },
  {
   "cell_type": "markdown",
   "metadata": {},
   "source": [
    "# 为什么选择MySQL数据库"
   ]
  },
  {
   "cell_type": "markdown",
   "metadata": {},
   "source": [
    "绝大多数使用Linux操作系统的大中小互联网网站都在使用MySQL作为其后端的数据库存储，从大型的BAT门户，到电商平台，分类门户等无一例外都使用MySQL数据库。"
   ]
  },
  {
   "cell_type": "markdown",
   "metadata": {},
   "source": [
    "MySQL数据库的优势和特点：\n",
    "- 性能卓越，服务稳定，很少出现异常宕机\n",
    "- 开放源代码且无版权制约，自主性及使用成本低\n",
    "- 历史悠久，社区及用户非常活跃，遇到问题，可以寻求帮助\n",
    "- 软件体积小，安装使用简单，并且易于维护，安全及维护成本低\n",
    "- 品牌口碑效应，无需考虑可以直接使用，LAMP，LEMP流行架构\n",
    "- 支持多种操作系统，提供多种API接口，支持多种开发语言"
   ]
  },
  {
   "cell_type": "markdown",
   "metadata": {},
   "source": [
    "# MySQL数据库分类与版本升级"
   ]
  },
  {
   "cell_type": "markdown",
   "metadata": {},
   "source": [
    "官方网站：www.mysql.com\n",
    "\n",
    "其发布的版本采用双授权政策，和大多数开源产品的路线一样，分为社区版和商业版，而这两个版本又各自分四个版本依次发布，这四个版本为：Alpha版，Beta版，RC版，GA版。"
   ]
  },
  {
   "cell_type": "markdown",
   "metadata": {},
   "source": [
    "商业版与社区版的区别在于：\n",
    "- 商业版本组织管理与测试环节控制更严格，稳定性方面，会比社区版本更稳定\n",
    "- MySQL是成熟产品，商业版与社区版之间性能方面相差不大\n",
    "- 商业版不遵守GPL协议，社区版遵守GPL协议可以免费试用\n",
    "- 使用商业版后可以购买相关的服务，享受7x24小时技术支持以及定时打补丁等服务，但是用户必须为此支付服务费用\n",
    "- 社区版本的维护服务只能靠社区提供，无法像商业版本获得故障及补丁解决服务，但是社区版是完全免费的方式，社区版的服务质量与时效性等方面就无法与MySQL AB公司提供的服务相比了。"
   ]
  },
  {
   "cell_type": "markdown",
   "metadata": {},
   "source": [
    "MySQL的商业版和社区版又分为四个版本为：Alpha版，Beta版，RC版，GA版。\n",
    "\n",
    "（1） Alpha版     \n",
    "**Alpha版一般只在开发的公司内部运行，不对外公开**。主要是开发者自己对产品进行测试，检查产品是否存在缺陷，错误，验证产品功能与说明书、用户手册是否一致。MySQL是属于开放源代码的开元产品，因此需要世界各地开发者、爱好者和用户参与软件的开发，测试和手册编写等工作。所以会对外公布此版本的源码和产品，方便任何人可以参与开发或测试工作，甚至编写与修改用户手册。\n",
    "\n",
    "\n",
    "（2） Beta版   \n",
    "Beta版一般是完成功能的开发和所有的测试工作之后的产品，不会存在较大的功能和性能的BUG，并且邀请或提供给用户体验与测试，以便更全面地测试软件的不足之处或存在的问题。\n",
    "\n",
    "\n",
    "（3） RC版    \n",
    "RC版属于生产环境发布之前的一个小版本或称候选版本，是根据Beta版本测试结果，收集到的BUG或缺陷之处等收集到的信息，进行修复和完善之后的一版产品。\n",
    "\n",
    "\n",
    "（4） GA版   \n",
    "**GA版是软件生产正式发布的版本，也称为版本的产品**。一般情况下，企业的生产环境都会选择GA版本的MySQL软件，用于真实的生产环境中。偶尔有个别大型企业会追求新功能驱动而牺牲稳定性使用其他版本，但这是个例。"
   ]
  },
  {
   "cell_type": "markdown",
   "metadata": {},
   "source": [
    "MySQL AB公司官方网站会把物种数据库版本都提供下载，主要是MySQL数据库属于开放源代码的数据库产品，鼓励全球的级数爱好者参与研发、测试、文档编写和经验分享，也甚至包过产品发展规划，对于Development版本、Alpha版本和Beta版本是绝对不允许使用的。"
   ]
  },
  {
   "cell_type": "markdown",
   "metadata": {},
   "source": [
    "如阿里等大公司，追求新功能，会选择Beta版，大部分公司都选择GA版。"
   ]
  },
  {
   "cell_type": "markdown",
   "metadata": {},
   "source": [
    "# MySQL产品路线"
   ]
  },
  {
   "cell_type": "markdown",
   "metadata": {},
   "source": [
    "MySQL产品路线变更历史背景\n",
    "早期，MySQL也是遵循版本号逐渐增加的方式发展，格式如：mysql-X.XX.XX.tar.gz，例如，DBA老鸟们都非常熟悉的生产场景版本：4.1.7，5.0.56等。\n",
    "\n",
    "近几年，为了提高MySQL产品的竞争优势、以及提高性能、降低开发维护成本等原因，同时，更方便企业用户更精准的选择适合的版本产品用于自己的企业生产环境中，MySQL在发展到5.1系列版本之后，重新规划为三条产品线。"
   ]
  },
  {
   "cell_type": "markdown",
   "metadata": {},
   "source": [
    "**第一条-5.0.xx到5.1.xx产品线系列介绍**：   \n",
    "第一条产品线：5.0.xx及升级到5.1.xx的产品系列，这条产品线继续完善与改进其用户体验和性能，同时增加新功能，这条路线可以说是MySQL早期产品的延续系列，这一系列的产品发布情况及历史版本如下：\n",
    "- MySQL5.1是当前稳定（产品质量）发布系列。只针对漏洞修复重新发布；没有增加会影响稳定性的新功能；\n",
    "    MySQL 5.1：Previous stable (production-quality) release\n",
    "- MySQL5.0是前一稳定（产品质量）发布系列。只针对严重漏洞修复和安全修复重新发布；没有增加会影响该系列的重要功能。\n",
    "    MySQL 5.0：Older stable release nearing the end of the product lifecycle\n",
    "- MySQL 4.0和3.23是旧的稳定（产品质量）发布系列。该版本不再使用，新的发布只用来修复特别严重的漏洞（以前的安全问题）。\n"
   ]
  },
  {
   "cell_type": "markdown",
   "metadata": {},
   "source": [
    "**第二条-5.4.xx到5.7.xx产品线系列介绍：**   \n",
    "第二条产品线：为了更好地整合MySQL AB公司社区和第三方公司开发的新存储引擎，以及吸收新的实现算法等，从而更好地支持SMP架构，提高性能而做了大量的代码重构。版本编号为从5.4.xx开始，目前发展到了5.6.x。\n",
    "\n",
    "MySQL 5.5：Latest General Availability(Production) release"
   ]
  },
  {
   "cell_type": "markdown",
   "metadata": {},
   "source": [
    "互联网公司用mysql 5.5是目前的主流。"
   ]
  },
  {
   "cell_type": "markdown",
   "metadata": {},
   "source": [
    "**第三条-6.0.xx到7.1.xx产品线系列介绍：**    \n",
    "第三条产品线：为了更好地推广MySQL Cluster版本，以及提高MySQL Cluster的性能和稳定性，以及功能改进和增加，以及改动MySQl基础功能，使其对Cluster存储音年青提供更有效的支持与优化，版本号为6.0.xx开发，目前发展到7.1.xx。\n",
    "\n",
    "下载地址：http://dev.mysql.com/download/mysql/"
   ]
  },
  {
   "cell_type": "markdown",
   "metadata": {},
   "source": [
    "cluster集群，在国内发展不好，大公司几乎没有在使用的，中小公司有少数用。  \n",
    "为什么不受欢迎呢？ \n",
    "已经有解决大并发的问题，分布式数据库等，就不需要用到这个集群版本了。"
   ]
  },
  {
   "cell_type": "markdown",
   "metadata": {},
   "source": [
    "# MySQL数据库软件命名介绍\n",
    "MySQL数据库软件的名字是由3个数字和一个后缀组成的版本号。\n",
    "\n",
    "如：mysql-5.0.56.tar.gz的版本号。\n",
    "\n",
    "- 第一个数字（5）是主版本号，描述了文件的格式。所有版本5发型都有相同你那个文件格式\n",
    "- 第二个数字（0）是发行级别。主版本号和发行级别组合到一起便构成了发行序列号\n",
    "- 第三个数字（56）是在此发行系列的版本号，随每个新分发版递增，通常你需要已经选择的发行（release）的最新版本（版本）。\n",
    "\n",
    "    - 每次更新后，版本字符串的最后一个数字递增。   \n",
    "\n",
    "    - 如果相对于前一个版本增加了新功能或有微小的不兼容性，字符串的第二个数字递增。如果文件格式改变，第一个数字递增。\n",
    "\n",
    "- 后缀显示发行的稳定性级别。通过一系列后缀显示如何改进稳定性。可能的后缀有：\n",
    "    - alpha版。\n",
    "\n",
    "        表明发行包含大量未被彻底测试的新代码。已知的缺陷应该在新闻小节被记录。在大多数alpha版本中也有新的命令和扩展。alpha版本也可能有主要代码更改等开发。但我们在发布前一定对其进行测试。\n",
    "    - beta版\n",
    "    \n",
    "        意味着该版本是完整的，并且所有的新代码被测试，没有增加重要的新特征，应该没有已知的缺陷。当alpha版本至少一个月没有出现报导的致命漏洞，并且没有计划增加导致已经实施的功能不稳定的新功能时，版本则从alpha版变为beta版。在以后的beta版、发布版（RC）或产品发布（GA）中，所有API、外部可是结构和SQL命令列均不再更改。\n",
    "        \n",
    "    - rc版 \n",
    "         \n",
    "         是发布代表：是一个发行了一段时间的beta版本，看起来运行正常。只增加了很小的修复。（发布代表即以前所称的gamma版）\n",
    "     \n",
    "    - 没有后缀\n",
    "         \n",
    "         例如：mysql-5.0.56.tar.gz，这意味着该版本在很多地方运行了一段时间了，而且没有非平台特定的缺陷报告。这就是我们称为一个产品（稳定）或“通用”版本的东西。"
   ]
  },
  {
   "cell_type": "markdown",
   "metadata": {},
   "source": []
  },
  {
   "cell_type": "markdown",
   "metadata": {},
   "source": []
  },
  {
   "cell_type": "markdown",
   "metadata": {},
   "source": []
  },
  {
   "cell_type": "markdown",
   "metadata": {},
   "source": []
  }
 ],
 "metadata": {
  "kernelspec": {
   "display_name": "Python 3",
   "language": "python",
   "name": "python3"
  },
  "language_info": {
   "codemirror_mode": {
    "name": "ipython",
    "version": 3
   },
   "file_extension": ".py",
   "mimetype": "text/x-python",
   "name": "python",
   "nbconvert_exporter": "python",
   "pygments_lexer": "ipython3",
   "version": "3.6.5"
  }
 },
 "nbformat": 4,
 "nbformat_minor": 2
}
