{
 "cells": [
  {
   "cell_type": "markdown",
   "metadata": {},
   "source": [
    "# 1. MySQL数据库字符集介绍"
   ]
  },
  {
   "cell_type": "markdown",
   "metadata": {},
   "source": [
    "简单的说是一套文字符号及其编码、比较规则的集合。\n",
    "\n",
    "MySQL数据库字符集包括\n",
    "- 字符集（CHARACTER）\n",
    "- 校对规则（COLLATION）两个概念。\n",
    "\n",
    "其中，字符集是用来定义MySQL数据字符串的存储方式，而校对规则则是定义比较字符串的方式。\n",
    "\n",
    "前面建库的语句中CHARACTER SET latin1即为数据库字符集而COLLATE latin1_swedish_ci 为校对字符集，有关字符集详细内容参考mysql手册，第10张字符集章节。"
   ]
  },
  {
   "cell_type": "markdown",
   "metadata": {},
   "source": [
    "# 2. MySQL数据库常见字符集介绍"
   ]
  },
  {
   "cell_type": "markdown",
   "metadata": {},
   "source": [
    "使用MySQL时常用的字符集有四种：\n",
    "- utf8，长度3，中英文混合的环境，建议使用此字符集\n",
    "- gbk，长度2，不是国际标准\n",
    "- latin1，长度1，MySQL的默认字符集\n",
    "- utf8mb4，长度4，UTF-8 Unicode，移动互联网。"
   ]
  },
  {
   "cell_type": "markdown",
   "metadata": {},
   "source": [
    "# 3. MySQL如何选择合适的字符集\n",
    "1. 如果处理各种各样的文字，发布到不同国家和地区，应选Unicode字符集。对mysql来说就是UTF-8（每个汉字三个字节），如果应用需处理英文，有少量汉字使用UTF-8字符集更好。\n",
    "\n",
    "2. 如果只需支持中文，并且数据量很大，性能要求也很高，可选GBK（定长，每个汉字占双字节，英文也占双字节），处理大量运算，比较顺序等。定长字符集更快，性能高。\n",
    "\n",
    "3. 处理移动互联网业务，可能需要使用utf8mb4字符集。"
   ]
  },
  {
   "cell_type": "markdown",
   "metadata": {},
   "source": [
    "# 4. 查看当前MySQL系统支持的字符集"
   ]
  },
  {
   "cell_type": "raw",
   "metadata": {},
   "source": [
    "root@3306 ]show character set;\n",
    "+----------+-----------------------------+---------------------+--------+\n",
    "| Charset  | Description                 | Default collation   | Maxlen |\n",
    "+----------+-----------------------------+---------------------+--------+\n",
    "| big5     | Big5 Traditional Chinese    | big5_chinese_ci     |      2 |\n",
    "| dec8     | DEC West European           | dec8_swedish_ci     |      1 |\n",
    "| cp850    | DOS West European           | cp850_general_ci    |      1 |\n",
    "| hp8      | HP West European            | hp8_english_ci      |      1 |\n",
    "| koi8r    | KOI8-R Relcom Russian       | koi8r_general_ci    |      1 |\n",
    "| latin1   | cp1252 West European        | latin1_swedish_ci   |      1 |\n",
    "| latin2   | ISO 8859-2 Central European | latin2_general_ci   |      1 |\n",
    "| swe7     | 7bit Swedish                | swe7_swedish_ci     |      1 |\n",
    "| ascii    | US ASCII                    | ascii_general_ci    |      1 |\n",
    "| ujis     | EUC-JP Japanese             | ujis_japanese_ci    |      3 |\n",
    "| sjis     | Shift-JIS Japanese          | sjis_japanese_ci    |      2 |\n",
    "| hebrew   | ISO 8859-8 Hebrew           | hebrew_general_ci   |      1 |\n",
    "| tis620   | TIS620 Thai                 | tis620_thai_ci      |      1 |\n",
    "| euckr    | EUC-KR Korean               | euckr_korean_ci     |      2 |\n",
    "| koi8u    | KOI8-U Ukrainian            | koi8u_general_ci    |      1 |\n",
    "| gb2312   | GB2312 Simplified Chinese   | gb2312_chinese_ci   |      2 |\n",
    "| greek    | ISO 8859-7 Greek            | greek_general_ci    |      1 |\n",
    "| cp1250   | Windows Central European    | cp1250_general_ci   |      1 |\n",
    "| gbk      | GBK Simplified Chinese      | gbk_chinese_ci      |      2 |\n",
    "| latin5   | ISO 8859-9 Turkish          | latin5_turkish_ci   |      1 |\n",
    "| armscii8 | ARMSCII-8 Armenian          | armscii8_general_ci |      1 |\n",
    "| utf8     | UTF-8 Unicode               | utf8_general_ci     |      3 |\n",
    "| ucs2     | UCS-2 Unicode               | ucs2_general_ci     |      2 |\n",
    "| cp866    | DOS Russian                 | cp866_general_ci    |      1 |\n",
    "| keybcs2  | DOS Kamenicky Czech-Slovak  | keybcs2_general_ci  |      1 |\n",
    "| macce    | Mac Central European        | macce_general_ci    |      1 |\n",
    "| macroman | Mac West European           | macroman_general_ci |      1 |\n",
    "| cp852    | DOS Central European        | cp852_general_ci    |      1 |\n",
    "| latin7   | ISO 8859-13 Baltic          | latin7_general_ci   |      1 |\n",
    "| utf8mb4  | UTF-8 Unicode               | utf8mb4_general_ci  |      4 |\n",
    "| cp1251   | Windows Cyrillic            | cp1251_general_ci   |      1 |\n",
    "| utf16    | UTF-16 Unicode              | utf16_general_ci    |      4 |\n",
    "| cp1256   | Windows Arabic              | cp1256_general_ci   |      1 |\n",
    "| cp1257   | Windows Baltic              | cp1257_general_ci   |      1 |\n",
    "| utf32    | UTF-32 Unicode              | utf32_general_ci    |      4 |\n",
    "| binary   | Binary pseudo charset       | binary              |      1 |\n",
    "| geostd8  | GEOSTD8 Georgian            | geostd8_general_ci  |      1 |\n",
    "| cp932    | SJIS for Windows Japanese   | cp932_japanese_ci   |      2 |\n",
    "| eucjpms  | UJIS for Windows Japanese   | eucjpms_japanese_ci |      3 |\n",
    "+----------+-----------------------------+---------------------+--------+\n",
    "39 rows in set (0.00 sec)"
   ]
  },
  {
   "cell_type": "markdown",
   "metadata": {},
   "source": [
    "# 5. mysql数据库默认设置的字符集是什么？"
   ]
  },
  {
   "cell_type": "markdown",
   "metadata": {},
   "source": [
    "查看mysql当前的字符集设置情况:"
   ]
  },
  {
   "cell_type": "raw",
   "metadata": {},
   "source": [
    "root@localhost:mysql.sock [(none)]->show variables like 'chara%';\n",
    "+--------------------------+----------------------------------+\n",
    "| Variable_name            | Value                            |\n",
    "+--------------------------+----------------------------------+\n",
    "| character_set_client     | latin1                           |\n",
    "| character_set_connection | latin1                           |\n",
    "| character_set_database   | utf8                             |\n",
    "| character_set_filesystem | binary                           |\n",
    "| character_set_results    | latin1                           |\n",
    "| character_set_server     | utf8                             |\n",
    "| character_set_system     | utf8                             |\n",
    "| character_sets_dir       | /usr/local/mysql/share/charsets/ |\n",
    "+--------------------------+----------------------------------+\n",
    "8 rows in set (0.00 sec)"
   ]
  },
  {
   "cell_type": "markdown",
   "metadata": {},
   "source": [
    "提示：   \n",
    "默认情况下character_set_client，character_set_connection，character_set_results三者的字符集和系统的字符集是一致的，是同时修改的。\n"
   ]
  },
  {
   "cell_type": "markdown",
   "metadata": {},
   "source": [
    "更改linux系统字符集变量后(/etc/sysconfig/i18n)，查看MySQL中字符集的变化。"
   ]
  },
  {
   "cell_type": "raw",
   "metadata": {},
   "source": [
    "root@localhost:mysql.sock [(none)]->show variables like 'char%';\n",
    "+--------------------------+----------------------------------+\n",
    "| Variable_name            | Value                            |\n",
    "+--------------------------+----------------------------------+\n",
    "| character_set_client     | utf8                             |\n",
    "| character_set_connection | utf8                             |\n",
    "| character_set_database   | utf8                             |\n",
    "| character_set_filesystem | binary                           |\n",
    "| character_set_results    | utf8                             |\n",
    "| character_set_server     | utf8                             |\n",
    "| character_set_system     | utf8                             |\n",
    "| character_sets_dir       | /usr/local/mysql/share/charsets/ |\n",
    "+--------------------------+----------------------------------+\n",
    "8 rows in set (0.00 sec)"
   ]
  },
  {
   "cell_type": "markdown",
   "metadata": {},
   "source": [
    "我们发现character_set_connection，character_set_client，character_set_server 三者的字符集和系统的一致也都改成utf8了。"
   ]
  },
  {
   "cell_type": "markdown",
   "metadata": {},
   "source": [
    "注意：虚拟机上安装的MySQL在二进制编译时就指定了默认的字符集，可以通过/etc/my.cnf更改字符集，但是更改系统字符集/etc/sysconfig/i18n，并不能实现上述跟随系统字符集变更的状况。\n",
    "\n",
    "更加稳定。"
   ]
  },
  {
   "cell_type": "markdown",
   "metadata": {},
   "source": [
    "# 6. 执行set names latin1 到底做了什么？"
   ]
  },
  {
   "cell_type": "markdown",
   "metadata": {},
   "source": [
    "无论linux系统的字符集是gb2312还是utf8，默认情况下插入数据都是乱码的。"
   ]
  },
  {
   "cell_type": "markdown",
   "metadata": {},
   "source": [
    "set names latin1 ，将character_set_client, character_set_connection, character_set_results的参数修改为latin1。"
   ]
  },
  {
   "cell_type": "raw",
   "metadata": {},
   "source": [
    "root@localhost:mysql.sock [(none)]->show variables like 'char%';\n",
    "+--------------------------+----------------------------------+\n",
    "| Variable_name            | Value                            |\n",
    "+--------------------------+----------------------------------+\n",
    "| character_set_client     | latin1                           |\n",
    "| character_set_connection | latin1                           |\n",
    "| character_set_database   | utf8                             |\n",
    "| character_set_filesystem | binary                           |\n",
    "| character_set_results    | latin1                           |\n",
    "| character_set_server     | utf8                             |\n",
    "| character_set_system     | utf8                             |\n",
    "| character_sets_dir       | /usr/local/mysql/share/charsets/ |\n",
    "+--------------------------+----------------------------------+\n",
    "8 rows in set (0.00 sec)"
   ]
  },
  {
   "cell_type": "markdown",
   "metadata": {},
   "source": [
    "# 7. mysql命令参数--default-character-set=latin1在做什么？"
   ]
  },
  {
   "cell_type": "markdown",
   "metadata": {},
   "source": [
    "--default-character-set=latin1，修改了character_set_client, character_set_connection, character_set_results的参数修改为latin1"
   ]
  },
  {
   "cell_type": "raw",
   "metadata": {},
   "source": [
    "[root@localhost ~]# mysql -uroot -p123456 --default-character-set=latin1 -e \"show variables like 'character_set%';\"\n",
    "+--------------------------+----------------------------------+\n",
    "| Variable_name| Value|\n",
    "+--------------------------+----------------------------------+\n",
    "| character_set_client | latin1   |\n",
    "| character_set_connection | latin1   |\n",
    "| character_set_database   | latin1   |\n",
    "| character_set_filesystem | binary   |\n",
    "| character_set_results| latin1   |\n",
    "| character_set_server | latin1   |\n",
    "| character_set_system | utf8 |\n",
    "| character_sets_dir   | /usr/local/mysql/share/charsets/ |\n",
    "+--------------------------+----------------------------------+\n",
    "\n",
    "[root@localhost ~]# mysql -uroot -p123456 -e \"show variables like 'character_set%';\"\n",
    "+--------------------------+----------------------------------+\n",
    "| Variable_name| Value|\n",
    "+--------------------------+----------------------------------+\n",
    "| character_set_client | utf8 |\n",
    "| character_set_connection | utf8 |\n",
    "| character_set_database   | latin1   |\n",
    "| character_set_filesystem | binary   |\n",
    "| character_set_results| utf8 |\n",
    "| character_set_server | latin1   |\n",
    "| character_set_system | utf8 |\n",
    "| character_sets_dir   | /usr/local/mysql/share/charsets/ |\n",
    "+--------------------------+----------------------------------+"
   ]
  },
  {
   "cell_type": "markdown",
   "metadata": {},
   "source": [
    "# 8. 确保MySQL数据库插入数据不乱码解决方案"
   ]
  },
  {
   "cell_type": "markdown",
   "metadata": {},
   "source": [
    "## 8.1 统一客户端字符集\n",
    "1. MySQL数据库的下面几个字符集（客户端和服务端）统一成一个字符集才能确保插入的中文数据库可以正常输出。当然，linux系统的字符集也要尽可能和数据库字符集统一。\n",
    "\n",
    "2. mysql数据库字符集的含义："
   ]
  },
  {
   "cell_type": "raw",
   "metadata": {},
   "source": [
    "Variable_name              | Value \n",
    "+--------------------------+--------------------------------+\n",
    "①character_set_client      | latin1  客户端字符集\n",
    "②character_set_connection  | latin1  连接字符集\n",
    "③character_set_database    | latin1   数据库字符集\n",
    "④character_set_results     | latin1   返回结果字符集\n",
    "⑤character_set_server      | latin1   服务器字符集，配置文件制定或建库建表指定"
   ]
  },
  {
   "cell_type": "markdown",
   "metadata": {},
   "source": [
    "其中，①②④三个参数默认情况采用linux系统字符集设置，人工登录数据库执行set names latin1以及mysql指定字符集登录操作，都是改变mysql客户端的client、connection、results3个参数的字符集都为latin1,从而解决插入乱码问题，这个操作可以在my.cnf配置文件里修改mysql客户端的字符集，配置方法如下："
   ]
  },
  {
   "cell_type": "raw",
   "metadata": {},
   "source": [
    "[client]\n",
    "Default-character-set=latin1\n",
    "提示：不需要重启\n",
    "\n",
    "[root@localhost ~]# sed -n \"18,22p\" /etc/my.cnf \n",
    "[client]\n",
    "#password    = your_password\n",
    "port        = 3306\n",
    "socket        = /usr/local/mysql/tmp/mysql.sock\n",
    "default-character-set = latin1\n",
    "\n",
    "[root@localhost ~]# mysql -uroot -p123456 -e \"show variables like 'character_set%';\"\n",
    "+--------------------------+----------------------------------+\n",
    "| Variable_name| Value|\n",
    "+--------------------------+----------------------------------+\n",
    "| character_set_client | latin1   |\n",
    "| character_set_connection | latin1   |\n",
    "| character_set_database   | latin1   |\n",
    "| character_set_filesystem | binary   |\n",
    "| character_set_results| latin1   |\n",
    "| character_set_server | latin1   |\n",
    "| character_set_system | utf8 |\n",
    "| character_sets_dir   | /usr/local/mysql/share/charsets/ |\n",
    "+--------------------------+----------------------------------+"
   ]
  },
  {
   "cell_type": "markdown",
   "metadata": {},
   "source": [
    "3. 修改完客户端字符集不用set查询表数据就不会乱码了"
   ]
  },
  {
   "cell_type": "markdown",
   "metadata": {},
   "source": [
    "## 8.2 统一MySQL服务端字符集"
   ]
  },
  {
   "cell_type": "raw",
   "metadata": {},
   "source": [
    "1. 按下面要求修改my.cnf参数\n",
    "\n",
    "    [mysqld]\n",
    "    default-character-set = latin1 适合5.1及以前版本\n",
    "    character-set-server = utf8 适合5.5版本\n",
    "    \n",
    "2. 修改前查看当前字符集\n",
    "\n",
    "[root@localhost ~]# mysql -uroot -p123456 -e \"show variables like 'character_set%';\"\n",
    "+--------------------------+----------------------------------+\n",
    "| Variable_name| Value|\n",
    "+--------------------------+----------------------------------+\n",
    "| character_set_client | utf8 |\n",
    "| character_set_connection | utf8 |\n",
    "| character_set_database   | latin1   |\n",
    "| character_set_filesystem | binary   |\n",
    "| character_set_results| utf8 |\n",
    "| character_set_server | latin1   |\n",
    "| character_set_system | utf8 |\n",
    "| character_sets_dir   | /usr/local/mysql/share/charsets/ |\n",
    "+--------------------------+----------------------------------+\n",
    "\n",
    "3.  查看修改的参数\n",
    "\n",
    "[root@localhost ~]# sed -n \"26,27p\" /etc/my.cnf \n",
    "[mysqld]\n",
    "character-set-server = utf8  \n",
    "\n",
    "4. 重启mysql服务（生产环境是不允许重启的）\n",
    "\n",
    "[root@localhost ~]# /etc/init.d/mysqld restart\n",
    "Shutting down MySQL.. SUCCESS! \n",
    "Starting MySQL.. SUCCESS!\n",
    "\n",
    "5. 查看更改后的字符集\n",
    "\n",
    "[root@localhost ~]# mysql -uroot -p123456 -e \"show variables like 'character_set%';\"\n",
    "+--------------------------+----------------------------------+\n",
    "| Variable_name| Value|\n",
    "+--------------------------+----------------------------------+\n",
    "| character_set_client | utf8 |\n",
    "| character_set_connection | utf8 |\n",
    "| character_set_database   | utf8 |\n",
    "| character_set_filesystem | binary   |\n",
    "| character_set_results| utf8 |\n",
    "| character_set_server | utf8 |\n",
    "| character_set_system | utf8 |\n",
    "| character_sets_dir   | /usr/local/mysql/share/charsets/ |\n",
    "+--------------------------+----------------------------------+"
   ]
  },
  {
   "cell_type": "markdown",
   "metadata": {},
   "source": [
    "提示：以上在[mysqld]下设置的参数会更改下面2个参数的字符集设置。\n",
    "\n",
    "| Variable_name            | Value|\n",
    "|::|::|\n",
    "| character_set_database   | utf8 |\n",
    "| character_set_server     | utf8 |"
   ]
  },
  {
   "cell_type": "markdown",
   "metadata": {},
   "source": [
    "这个时候我们再修改系统字符集(/etc/sysconfig/i18n)，mysql数据库字符集就不乱码了."
   ]
  },
  {
   "cell_type": "markdown",
   "metadata": {},
   "source": [
    "## 8.3 统一字符集方法总结"
   ]
  },
  {
   "cell_type": "markdown",
   "metadata": {},
   "source": [
    "保证数据库数据不乱码的方法：建议中英文环境选择utf8，linux系统，客户端，服务端，库，表，程序字符集统一。\n",
    "\n",
    "1. Linux系统字符集统一utf8     \n",
    "    /etc/sysconfig/i18n \n",
    "\n",
    "     提示，Linux客户端也要更改字符集，例如：xshell，secureCRT\n",
    "\n",
    "2. 临时修改：set names latin1\n",
    "3. 永久修改：更改my.cnf配置文件   \n",
    "                [client]\n",
    "                Default-character-set=latin1\n",
    "                [client]\n",
    "                Default-character-set=latin1\n",
    "4. 库表，程序制定字符集建库     \n",
    "create database linzhongniao_utf8 DEFAULT CHARACTER SET UTF8 COLLATE  utf8_general_ci;"
   ]
  },
  {
   "cell_type": "markdown",
   "metadata": {},
   "source": [
    "# 9. 如何更改生产MySQL数据库表的字符集"
   ]
  },
  {
   "cell_type": "markdown",
   "metadata": {},
   "source": [
    "对于已有数据库，想修改字符集不能直接通过“alter database character set ”或者”alter table tablename character set ”，这两个命令都不能更新已有数据的字符集。   \n",
    "而只是对新创建的表或者数据生效。\n",
    "\n",
    "**已经有记录的字符集的调整必须将数据导出，经过修改字符集之后重新导入才可完成。**\n",
    "\n",
    "### 修改数据库默认编码命令：  \n",
    "\n",
    "alter database [your db name] charset [your character setting]\n"
   ]
  },
  {
   "cell_type": "markdown",
   "metadata": {},
   "source": [
    "下面模拟将latin1字符集的数据库修改成GBK字符集的过程。\n",
    "\n",
    "#### 1. 导出表结构\n",
    "\n",
    "使用mysqldump的-d参数导出表结构\n",
    "\n",
    "> mysqldump –uroot –p123456 –-default-character-set=latin1 –d dbname>alltable.sql –-default-character-set=gbk \n",
    "\n",
    "- 表示以GBK字符集进行连接;\n",
    "- –d只导表结构。\n",
    "\n",
    "\n",
    "#### 2. 然后编辑alltable.sql将latin1用sed替换成GBK\n",
    "\n",
    "#### 3. 确保数据不在更新，导出所有数据\n",
    "\n",
    "> mysqldmup –uroot –p123456 –-quick –-no-create-info –-extended-insert –-default-character-set=latin1 dbname>alltables.sql\n",
    "\n",
    "\n",
    "参数说明：\n",
    "- --quick：用于转储大的表，强制mysqldump从服务器一次一行的检索数据而不是检索所有行并输出前CACHE到内存中。\n",
    "- --no-create-info：不创建CREATE TABLE 语句。\n",
    "- --extended-insert：使用包括几个VALUES列表的多行INSERT语法，这样文件更小节省IO导入数据非常快。\n",
    "- --default-character-set=latin1：按照原有字符集导出数据，这样导出的文件中，所有中文都是可见的，不会保存成乱码。\n",
    "\n",
    "#### 4. 打开alltable.sql将set names latin1修改成set names gbk(或者修改my.cnf配置文件)\n",
    "\n",
    "#### 5. 建库\n",
    "> create database dbname default charset gbk;\n",
    "#### 6.创建表执行，alltable.sql\n",
    "> mysql –uroot –p123456 dbname<alltable.sql\n",
    "\n",
    "#### 7. 导入数据\n",
    "> mysql –uroot –p123456 dbname<alltables.sql"
   ]
  }
 ],
 "metadata": {
  "kernelspec": {
   "display_name": "Python 3",
   "language": "python",
   "name": "python3"
  },
  "language_info": {
   "codemirror_mode": {
    "name": "ipython",
    "version": 3
   },
   "file_extension": ".py",
   "mimetype": "text/x-python",
   "name": "python",
   "nbconvert_exporter": "python",
   "pygments_lexer": "ipython3",
   "version": "3.6.5"
  }
 },
 "nbformat": 4,
 "nbformat_minor": 2
}
