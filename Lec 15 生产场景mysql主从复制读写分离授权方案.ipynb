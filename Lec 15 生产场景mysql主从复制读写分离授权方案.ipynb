{
 "cells": [
  {
   "cell_type": "markdown",
   "metadata": {},
   "source": [
    "当配置好MySQL主从复制以后所有对数据内容的更新就必须在主库上进行。\n",
    "\n",
    "那么**为什么所有的更新都要在主服务器上进行呢？**    \n",
    "这是因为数据复制时单向的，只有在主库上更新，才能避免用户对主服务器上数据库内容的更新与对从服务器上内容的一致，而不发生冲突。"
   ]
  },
  {
   "cell_type": "markdown",
   "metadata": {},
   "source": [
    "# 1. 生产MySQL主从复制环境用户授权方案一"
   ]
  },
  {
   "cell_type": "markdown",
   "metadata": {},
   "source": [
    "#### 那么怎么才能达到主从读写分离的效果呢？\n",
    "\n",
    "只创建一个用户，在主库中给该用户读写修改删除权限，在从库中给该用户只读权限，也可以不收回从库权限，设置read-only参数保证从库只读。"
   ]
  },
  {
   "cell_type": "markdown",
   "metadata": {},
   "source": [
    "### 授权表的生产授权方案：    \n",
    "#### 方法1：    \n",
    "> 主库：web oldboy123 10.0.0.1 3306 (select,insert,delete,update)      \n",
    "> 从库：主库的web用户同步到从库，然后回收insert,delete, update权限     \n",
    "\n",
    "注意：这样主库的web用户就不能修改了，因为一旦修改，主从同步会重新更新从库的web用户。\n",
    "\n",
    "#### 方法2：  \n",
    "> 主库：web_w oldboy123 10.0.0.1 3306 (select,insert,delete,update)     \n",
    "> 从库：web_r  oldboy123 10.0.0.2 3306 (select) \n",
    "\n",
    "风险：拿web_w连接从库。对开发而言，多套用户密码不专业"
   ]
  },
  {
   "cell_type": "markdown",
   "metadata": {},
   "source": [
    "#### 1. 生产环境：主库用户授权"
   ]
  },
  {
   "cell_type": "raw",
   "metadata": {},
   "source": [
    "grant select,insert,update,delete on *.* to 'blog'@'192.168.0.%' identified by '123456'"
   ]
  },
  {
   "cell_type": "markdown",
   "metadata": {},
   "source": [
    "提示：特殊业务可能权限会略多，如果业务安全性不高也可以all privileges"
   ]
  },
  {
   "cell_type": "markdown",
   "metadata": {},
   "source": [
    "#### 2. 生产环境：从库用户授权，给相同用户授予所有权限，然后revoke权限，留下只读权限"
   ]
  },
  {
   "cell_type": "raw",
   "metadata": {},
   "source": [
    "grant select,update,insert,delete on *.* to 'blog'@'192.168.136.%' identified by '123456';\n",
    "\n",
    "revoke insert,update,delete on *.* from 'blog'@'192.168.136.%';"
   ]
  },
  {
   "cell_type": "markdown",
   "metadata": {},
   "source": [
    "# 2. 忽略授权表的方式，防止数据写从库的方法及实践"
   ]
  },
  {
   "cell_type": "markdown",
   "metadata": {},
   "source": [
    "从技术手段上让开发人员写不了，而不是约定不让他写。\n",
    "\n",
    "生产环境中老男孩一般会**采取忽略授权表方式的同步**，然后对服务器slave上的用户仅授权select读权限。\n",
    "\n",
    "不同步mysql库，这样我们就保证主库和从库的相同的用户可以授权不同的权限。\n",
    "\n",
    "方案：   \n",
    "> mysql库不同步，再主从库分别进行授权。"
   ]
  },
  {
   "cell_type": "markdown",
   "metadata": {},
   "source": [
    "- 问题： 从库切换主库时候，连接用户权限问题。\n",
    "- 解决办法：可以保留一个库专门准备接替主库。"
   ]
  },
  {
   "cell_type": "markdown",
   "metadata": {},
   "source": [
    "忽略mysql库和information_schema 库的主从同步。"
   ]
  },
  {
   "cell_type": "markdown",
   "metadata": {},
   "source": [
    "## 2.1 忽略mysql库的配置方法"
   ]
  },
  {
   "cell_type": "markdown",
   "metadata": {},
   "source": [
    "在主库my.cnf配置文件中添加："
   ]
  },
  {
   "cell_type": "raw",
   "metadata": {},
   "source": [
    "[mysqld]\n",
    "replicate-ignore-db = mysql\n",
    "binlog-ignore-db = mysql\n",
    "binlog-ignore-db = performance_schema\n",
    "binlog-ignore-db = information_schema"
   ]
  },
  {
   "cell_type": "markdown",
   "metadata": {},
   "source": [
    "在从库的my.cnf配置文件中添加："
   ]
  },
  {
   "cell_type": "raw",
   "metadata": {},
   "source": [
    "[mysqld]\n",
    "replicate-ignore-db = mysql\n",
    "binlog-ignore-db = mysql\n",
    "binlog-ignore-db = performance_schema\n",
    "binlog-ignore-db = information_schema"
   ]
  },
  {
   "cell_type": "markdown",
   "metadata": {},
   "source": [
    "提示：这种方法有一个缺陷，就是在主库中如果创建用户不use mysql，主从还是复制的；必须先use mysql才能保证配置生效及主从不复制。\n",
    "\n",
    "这个问题也是使我非常苦恼，在测试的时候发现禁止mysql库主从复制一会儿生效一会儿不生效，后来查看mysql官方手册发现了问题所在，下面是mysql官方手册的解释："
   ]
  },
  {
   "cell_type": "raw",
   "metadata": {},
   "source": [
    "· --replicate-ignore-db=db_name\n",
    "\n",
    "告诉从服务器不要复制默认数据库(由USE所选择)为db_name的语句。要想忽略多个数据库，应多次使用该选项，每个数据库使用一次。如果正进行跨数据库更新并且不想复制这些更新，不应使用该选项。请读取该选项后面的注意事项。\n",
    "\n",
    "一个不能按照期望工作的例如：如果用--replicate-ignore-db=sales启动从服务器，并且在主服务器上执行下面的语句，UPDATE语句不会复制：\n",
    "\n",
    "·USE prices;\n",
    "·UPDATE sales.january SET amount=amount+1000;\n",
    "如果需要跨数据库更新，应使用--replicate-wild-ignore-table=db_name.%。\n",
    "\n",
    "· --replicate-wild-ignore-table=db_name.tbl_name\n",
    "\n",
    "告诉从服务器线程不要复制表匹配给出的通配符模式的语句。要想忽略多个表，应多次使用该选项，每个表使用一次。该选项可以跨数据库进行更新。请读取该选项后面的注意事项。\n",
    "\n",
    "例如：--replicate-wild-ignore-table=foo%.bar%不复制数据库名以foo开始和表名以bar开始的表的更新。\n",
    "\n",
    "关于匹配如何工作的信息，参见--replicate-wild-do-table选项的描述。在选项值中包括通配符的规则与--replicate-wild-ignore-table相同\n",
    "\n",
    "· --binlog-ignore-db=db_name\n",
    "\n",
    "告诉主服务器，如果当前的数据库(即USE选定的数据库)是db_name，不应将更新保存到二进制日志中。如果你使用该选项，你应确保只对当前的数据库进行更新。\n",
    "\n",
    "一个不能按照你期望的执行的例子：如果服务器用binlog-ignore-db=sales启动，并且执行USE prices; UPDATE sales.january SET amount=amount+1000；，该语句不写入二进制日志。\n",
    "\n",
    "类似于--binlog-do-db，对于CREATE DATABASE、ALTER DATABASE和DROP DATABASE语句，有一个例外，即通过操作的数据库来决定是否应记录语句，而不是用当前的数据库。\n",
    "\n",
    "要想记录或忽视多个数据库，使用多个选项，为每个数据库指定相应的选项。\n",
    "\n",
    "服务器根据下面的规则对选项进行评估，以便将更新记录到二进制日志中或忽视。请注意对于CREATE/ALTER/DROP DATABASE语句有一个例外。在这些情况下，根据以下规则，所创建、修改或删除的数据库将代替当前的数据库。\n",
    "\n",
    " 1.是否有binlog-do-db或binlog-ignore-db规则? \n",
    "\n",
    "· 没有：将语句写入二进制日志并退出。\n",
    "\n",
    "· 有：执行下一步。\n",
    "\n",
    " 2.有一些规则(binlog-do-db或binlog-ignore-db或二者都有)。当前有一个数据库(USE是否选择了数据库?)? \n",
    "\n",
    "· 没有：不要写入语句，并退出。\n",
    "\n",
    "· 有：执行下一步。\n",
    "\n",
    " 3.有当前的数据库。是否有binlog-do-db规则? \n",
    "\n",
    "· 有：当前的数据库是否匹配binlog-do-db规则? \n",
    "\n",
    "o有：写入语句并退出。\n",
    "\n",
    "o没有：不要写入语句，退出。\n",
    "\n",
    "· No：执行下一步。\n",
    "\n",
    " 4.有一些binlog-ignore-db规则。当前的数据库是否匹配binlog-ignore-db规则? \n",
    "\n",
    "· 有：不要写入语句，并退出。\n",
    "\n",
    "· 没有：写入查询并退出。\n"
   ]
  },
  {
   "cell_type": "markdown",
   "metadata": {},
   "source": [
    "也就是说如果想让replicate-ignore-db和binlog-ignore-db的配置生效，必须用use选择要禁止主从复制的库（比如mysql库）。更好的办法就是在从库的配置文件中配置replicate-wild-ignore-table参数禁止指定的库表主从复制。更多解释请查看mysql官方手册的5.11.3二进制日志章节和第六章mysql的复制。"
   ]
  },
  {
   "cell_type": "markdown",
   "metadata": {},
   "source": [
    "## 2.2 方法二（推荐）"
   ]
  },
  {
   "cell_type": "raw",
   "metadata": {},
   "source": [
    "[root@oldboy ~]# egrep \"\\[mysqld]|replicate-wild-ignore-table\" /data/3307/my.cnf   \n",
    "[mysqld]\n",
    "replicate-wild-ignore-table = mysql.%"
   ]
  },
  {
   "cell_type": "markdown",
   "metadata": {},
   "source": [
    "配置完重启数据"
   ]
  },
  {
   "cell_type": "markdown",
   "metadata": {},
   "source": [
    "# 3. 通过read-only参数防止数据库写从库的方案"
   ]
  },
  {
   "cell_type": "markdown",
   "metadata": {},
   "source": [
    "除了上面从库仅做SELECT的授权外，还可以在slave服务器启动选项增加参数或者在my.cnf配置文件中加read-only参数来确保从库只读，使用授权用户和read-only参数二者同时操作效果更佳。\n",
    "\n",
    "注意：\n",
    "- read-only参数可以让slave服务器只允许来自slave服务器线程或具有SUPER权限的用户的更新。\n",
    "- 可以确保slave服务器不接受来自普通用户的更新。"
   ]
  },
  {
   "cell_type": "markdown",
   "metadata": {},
   "source": [
    "配置从库my.cnf的文件："
   ]
  },
  {
   "cell_type": "raw",
   "metadata": {},
   "source": [
    "[mysqld]\n",
    "read-only"
   ]
  }
 ],
 "metadata": {
  "kernelspec": {
   "display_name": "Python 3",
   "language": "python",
   "name": "python3"
  },
  "language_info": {
   "codemirror_mode": {
    "name": "ipython",
    "version": 3
   },
   "file_extension": ".py",
   "mimetype": "text/x-python",
   "name": "python",
   "nbconvert_exporter": "python",
   "pygments_lexer": "ipython3",
   "version": "3.6.5"
  }
 },
 "nbformat": 4,
 "nbformat_minor": 2
}
