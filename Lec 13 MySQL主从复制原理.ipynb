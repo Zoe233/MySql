{
 "cells": [
  {
   "cell_type": "markdown",
   "metadata": {},
   "source": [
    "# 1. 普通文件数据同步"
   ]
  },
  {
   "cell_type": "markdown",
   "metadata": {},
   "source": [
    "- NFS网络文件共享可以同步存储数据。\n",
    "- Samba共享数据：https://blog.51cto.com/taokey/1203553。\n",
    "- 定时任务或守护进程结合。\n",
    "- Inotify+rsync触发式实时数据同步。\n",
    "- ftp数据同步。http://down.51cto.com/data/1094997。\n",
    "- ssh key+scp/rsync。\n",
    "- svn版本管理。\n",
    "- rsync，sersync，inotify，union(双向同步)，csync(多向同步)。"
   ]
  },
  {
   "cell_type": "markdown",
   "metadata": {},
   "source": [
    "# 2. Linux运维场景数据同步方案"
   ]
  },
  {
   "cell_type": "markdown",
   "metadata": {},
   "source": [
    "## 2.1 scp，NFS，sftp，http，samba，rsync，csync，union\n",
    "思想：\n",
    "1. 文件级别也可以利用mysql，mongodb等软件。\n",
    "2. 两个服务器同时写数据，双写就是一个同步机制。\n",
    "\n",
    "## 2.2 文件系统级别同步\n",
    "drdb（基于文件系统同步网络RAID1），同步几乎任何业务数据。\n",
    "\n",
    "mysql数据库的官方推荐drdb同步数据，所有单点服务例如:NFS，MFS(DRBD)等都可以用drdb。"
   ]
  },
  {
   "cell_type": "markdown",
   "metadata": {},
   "source": [
    "## 2.3 数据库同步方案\n",
    "1. 自动同步机制：\n",
    "\n",
    "Mysql replication，mysql 主从复制（逻辑的SQL从写）。\n",
    "\n",
    "Oracle dataguard(物理的磁盘块，逻辑的sql语句从写)。\n",
    "\n",
    "2. 第三方drdb\n",
    "\n",
    "https://blog.51cto.com/oldboy/1240412。"
   ]
  },
  {
   "cell_type": "markdown",
   "metadata": {},
   "source": [
    "# 3. MySQL主从复制"
   ]
  },
  {
   "cell_type": "markdown",
   "metadata": {},
   "source": [
    "#### 为什么要做主从复制？\n",
    "1. 在业务复杂的系统中，有这么一个情景，有一句sql语句需要锁表，导致暂时不能使用读的服务，那么就很影响运行中的业务，使用主从复制，让主库负责写，从库负责读，这样，即使主库出现了锁表的情景，通过读从库也可以保证业务的正常运作。\n",
    "2. 做数据的热备\n",
    "3. 架构的扩展。业务量越来越大，I/O访问频率过高，单机无法满足，此时做多库的存储，降低磁盘I/O访问的频率，提高单个机器的I/O性能。"
   ]
  },
  {
   "cell_type": "markdown",
   "metadata": {},
   "source": [
    "## 3.1 mysql主从复制介绍\n",
    "MySQL支持单向，双向，链式级联，实时、异步同步，在复制过程中一台服务器充当主服务器（master），而一个或多个其他的服务器充当从服务器（slave）。\n",
    "\n",
    "复制可以是单向：M ==> S，也可以是双向M <==> M，当然也可以多M环状同步等。  \n",
    "\n",
    "如果设置了链式级联复制，那么从（slave）服务器本身除了充当从服务器外，也会同时充当其下面从服务器的主服务器。\n",
    "\n",
    "链式级联复制类似A->B->C->D的复制形式。"
   ]
  },
  {
   "cell_type": "markdown",
   "metadata": {},
   "source": [
    "#### 1. 单向主从同步逻辑图\n",
    "\n",
    "<img src='./files/images/master_slave.png' width=400/>\n",
    "<img src='./files/images/master_slaves.png' width=400/>\n",
    "\n",
    "#### 2. 双向主主同步逻辑图\n",
    "\n",
    "<img src='./files/images/double_masters.png' width=400/>\n",
    "\n",
    "#### 3. 线性级联单向双主同步逻辑图\n",
    "\n",
    "<img src='./files/images/series_master.png' width=400/>\n",
    "\n",
    "#### 4. 环状级联单向多主同步\n",
    "\n",
    "<img src='./files/images/circle_master.png' width=400/>\n",
    "\n",
    "#### 5. 环状级联单向多主多从同步逻辑图\n",
    "\n",
    "<img src='./files/images/circle_masters.png' width=400/>"
   ]
  },
  {
   "cell_type": "markdown",
   "metadata": {},
   "source": [
    "<img src='./files/images/mysql001.png' width=400/>"
   ]
  },
  {
   "cell_type": "markdown",
   "metadata": {},
   "source": [
    "在生产环境中所有对数据库内容的更新，就必须在主服务器上进行，以避免用户对主服务器上数据内容的更新与对从服务器上数据库内容的更新不一致而导致发生冲突。"
   ]
  },
  {
   "cell_type": "markdown",
   "metadata": {},
   "source": [
    "## 3.2 主从复制的应用场景"
   ]
  },
  {
   "cell_type": "markdown",
   "metadata": {},
   "source": [
    "mysql主从复制有利于数据库架构的健壮性，提升访问速度和易于维护管理。\n",
    "\n",
    "### 1. 主从服务器**互为备份**\n",
    "\n",
    "主从服务器架构的设置，可以大大的加强数据库架构的健壮性，例如当主服务器出现问题时，我们可以人工或自动切换到从服务器继续提供服务。\n",
    "\n",
    "对于非人为的硬件，服务故障，对于人为的执行drop，delete无能为力。\n",
    "\n",
    "### 2. 主从服务器**读写分离**分担网站压力\n",
    "\n",
    "主从服务器架构可通过程序（php,java）或代理软件（mysql-proxy,amoeba）对用户（客户端）的请求实现**读写分离**，即通过在**从库上仅仅处理用户的select查询请求**，降低用户查询响应时间及读写请求对主服务器的压力，对于更新的数据（update，insert，delete）仍然交给主服务器处理，确保主服务器和从服务器保持实时同步。\n",
    "\n",
    "中大型公司：通过程序（php,java）。  \n",
    "\n",
    "测试环境：代理软件（mysql-proxy,amoeba）。  \n",
    "\n",
    "门户网站：分布式dbproxy(读写分离，hash负载均衡，健康检查)。  \n",
    "\n",
    "### 3. 根据服务器拆分业务独立并分担压力\n",
    "\n",
    "可以把几个不同的从服务器，根据公司的业务进行拆分。\n",
    "\n",
    "例如：\n",
    "- 有为用户提供查询功能的从服务器，\n",
    "- 有DBA用来备份的从服务器，\n",
    "- 还有提供公司内部人员访问的后台，脚本，日志分析及开发人员服务的从服务器      \n",
    "这样的拆分除了减轻主服务器的压力外使得对外用户浏览，对内处理公司内部用户业务，及DBA备份业务互不受影响。\n",
    "\n",
    "主从架构生产环境从服务器分业务拆分使用案例：\n",
    "\n",
    "M—>S1 ==>对外部用户提供服务（浏览帖子、浏览博客、浏览文章）负载均衡。\n",
    "\n",
    "-->S2 ==>对外部用户提供服务（浏览帖子、浏览博客、浏览文章）负载均衡。\n",
    "\n",
    "-->S3 ==>对外部用户提供服务（浏览帖子、浏览博客、浏览文章）负载均衡\n",
    "\n",
    "-->S4 ==>对内部用户提供服务（后台访问、脚本任务、数据分析、开发人员浏览）\n",
    "\n",
    "-->S5==>数据库备份服务（开启从服务器binlog功能，可实现增量备份及恢复）\n"
   ]
  },
  {
   "cell_type": "markdown",
   "metadata": {},
   "source": [
    "## 3.3 如何实现MySQL主从读写分离"
   ]
  },
  {
   "cell_type": "markdown",
   "metadata": {},
   "source": [
    "1. 通过程序实现读写分离（性能，效率最佳，推荐）\n",
    "\n",
    "php和java程序都可以通过设置多个连接文件轻松的实现对数据库的读写分离，及当select查询时就去连接读库的连接文件，当update，insert，delete时就连接写库的连接文件。\n",
    "\n",
    "2. 通过软件实现读写分离\n",
    "\n",
    "MySQL-proxy，amoeba等代理软件也可以实现读写分离功能，但**最好用程序实现读写分离**。\n",
    "\n",
    "3. 开发dbproxy\n",
    "\n",
    "读写分离逻辑图如下所示：\n"
   ]
  },
  {
   "cell_type": "markdown",
   "metadata": {},
   "source": [
    "### 3.4 mysql主从复制原理"
   ]
  },
  {
   "cell_type": "markdown",
   "metadata": {},
   "source": [
    "<img src='./files/images/mysql002.png' width=400/>\n",
    "\n",
    "左边是主库，右边是从库。\n",
    "\n",
    "首先，从库  上需要两个线程来完成其中一个叫做sql线程另一个叫IO线程；   \n",
    "在主库上只有一个线程负责完成主从同步叫IO线程。\n",
    "\n",
    "要想完成主从同步主库必须**开启binlog**。  \n",
    "\n",
    "当用户请求主数据库有增删改操作的时候主库会把数据写到数据文件里面，并更新binlog，在主从同步的时候是由从库找主库的binlog文件中的change master这个位置，从库的配置文件要有主库的，主机ip、用户、密码、端口等。\n",
    "\n",
    "#### start master to …start slave开启同步。   \n",
    "- 开启同步之后首先是由从库的IO向主库发起请求，主库接收到从库的IO请求就会验证这个请求合不合法看用户名，密码，IP地址，端口是不是正确如果正确就可以连接了。    \n",
    "- 然后从库在连接主库的时候会通过IO线程中的pos告诉主库我要从你的主库那个位置那个点给从库发binlog，比如说MASTER_LOG_FILE='mysql-bin.000010'MASTER_LOG_POS=4321，那主库的IO就会收到从库的这个请求，然后就会从mysql-bin.000010日志文件的的4321这个位置开始会给从库一直发binlog，从库收到log日志会把log日志写到relay-log中（称为中继日志），这时IO线程就不管了。\n",
    "- 然后还有一个文件叫masterinfo这个文件记录了change master的内容，这时IO线程取到的日志扔到relay-log里面会根据最后取到的日志文件的位置点来更新change master。接下来再向主库的IO线程请求要上一次的那个文件的位置点往下的binlog，然后主库的IO把这些log再给从库发过来将日志写到slave-master里面，更新master info 里面的内容。那我们也没有同步啊没有将数据写到从库的磁盘中；其实在第一次从库的IO线程把binlog放到relay-log里面这个SQL线程就发现了，发现了就会时时把relay-log的语句经过转换写到从库的主句文件里。然后IO不断的往里面写sql不断的读，不断的写。\n",
    "\n",
    "注意：如果需要在从库后面再加从库，从库一定要再开binlog。\n",
    "\n",
    "\n",
    "#### 开启binlog的方法:\n",
    "1. 在从库上开binlog两条命令，将binlog打开。\n",
    "2. 再加一个log-slave-updates参数。"
   ]
  },
  {
   "cell_type": "markdown",
   "metadata": {},
   "source": [
    "#### MySQL主从复制的原理是什么？\n",
    "在主库里：\n",
    "- binlog: binary log，主库中保存所有**更新事件日志**的二进制文件。\n",
    "    - 主从复制的基础是主库记录数据库的所有变更记录到binlog。binlog是数据库服务器启动的那一刻起，保存所有修改数据库结构或内容的一个文件。\n",
    "    - mysql主从复制是一个**异步**的复制过程，主库发送更新事件到从库，从库读取更新记录，并执行更新记录，使得从库的内容与主库保持一致。\n",
    "    - 在主库里，只要有更新事件出现，就会被依次地写入到binlog里面，之后会推到从库中作为从库进行复制的数据源。\n",
    "\n",
    "- binlog输出线程。\n",
    "    - 每当有从库连接到主库的时候，主库都会创建一个线程然后发送binlog内容到从库。\n",
    "    - 对于每一个即将发送给从库的sql事件，binlog输出线程会将其锁住。一旦该事件被线程读取完之后，该锁会被释放，即使在该事件完全发送到从库的时候，该锁也会被释放。\n",
    "\n",
    "在从库里，当复制开始的时候，从库就会创建两个线程进行处理：\n",
    "- 从库I/O线程。\n",
    "    - 当START SLAVE语句在从库开始执行之后，从库创建一个I/O线程，该线程连接到主库并请求主库发送binlog里面的更新记录到从库上。 \n",
    "    - 从库I/O线程读取主库的binlog输出线程发送的更新并拷贝这些更新到本地文件，其中包括relay log文件。\n",
    "\n",
    "- 从库的SQL线程。\n",
    "    - 从库创建一个SQL线程，这个线程读取从库I/O线程写到relay log的更新事件并执行。\n",
    "\n",
    "\n",
    "----\n",
    "可以知道，对于每一个主从复制的连接，都有三个线程。\n",
    "\n",
    "拥有多个从库的主库为每一个连接到主库的从库创建一个binlog输出线程，每一个从库都有它自己的I/O线程和SQL线程。\n",
    "\n",
    "从库通过创建两个独立的线程，使得在进行复制时，从库的读和写进行了分离。因此，即使负责执行的线程运行较慢，负责读取更新语句的线程并不会因此变得缓慢。    \n",
    "比如说，如果从库有一段时间没运行了，当它在此启动的时候，尽管它的SQL线程执行比较慢，它的I/O线程可以快速地从主库里读取所有的binlog内容。这样一来，即使从库在SQL线程执行完所有读取到的语句前停止运行了，I/O线程也至少完全读取了所有的内容，并将其安全地备份在从库本地的relay log，随时准备在从库下一次启动的时候执行语句。"
   ]
  },
  {
   "cell_type": "markdown",
   "metadata": {},
   "source": [
    "-------\n",
    "步骤一：主库db的更新事件(update、insert、delete)被写到binlog\n",
    "\n",
    "步骤二：从库发起连接，连接到主库\n",
    "\n",
    "步骤三：此时主库创建一个binlog dump thread，把binlog的内容发送到从库\n",
    "\n",
    "步骤四：从库启动之后，创建一个I/O线程，读取主库传过来的binlog内容并写入到relay log\n",
    "\n",
    "步骤五：还会创建一个SQL线程，从relay log里面读取内容，从Exec_Master_Log_Pos位置开始执行读取到的更新事件，将更新内容写入到slave的db\n",
    "\n"
   ]
  },
  {
   "cell_type": "markdown",
   "metadata": {},
   "source": [
    "1. 同步的时候从库有两个线程来完成IO，SQL;主库有一个线程来完成IO线程。\n",
    "\n",
    "2. 要在从库上面配置连接主库的IP、用户名、账号、密码、连接主库的文件位置以及pos点，在从库开启start salve之前要在同步位置点之前的所有数据要灌到从库上面来要不然从位置点以后是一致的前面不一致。\n",
    "\n",
    "3. 在开启开关之前要保证主从库基于位置点是一致的，就是在文件的位置点以前从库是有完整数据的。\n",
    "\n",
    "4. 要在主库上建立专门用与主库同步的账号。\n",
    "\n",
    "5. 主库要打开binlog开关否则没法实现同步。\n",
    "\n",
    "6. 从库打开开关的过程就是让IO，SQL线程都工作。"
   ]
  },
  {
   "cell_type": "markdown",
   "metadata": {},
   "source": []
  },
  {
   "cell_type": "markdown",
   "metadata": {},
   "source": []
  }
 ],
 "metadata": {
  "kernelspec": {
   "display_name": "Python 3",
   "language": "python",
   "name": "python3"
  },
  "language_info": {
   "codemirror_mode": {
    "name": "ipython",
    "version": 3
   },
   "file_extension": ".py",
   "mimetype": "text/x-python",
   "name": "python",
   "nbconvert_exporter": "python",
   "pygments_lexer": "ipython3",
   "version": "3.6.5"
  }
 },
 "nbformat": 4,
 "nbformat_minor": 2
}
