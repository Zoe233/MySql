{
 "cells": [
  {
   "cell_type": "markdown",
   "metadata": {},
   "source": [
    "# 1. Oracle的视图介绍"
   ]
  },
  {
   "cell_type": "markdown",
   "metadata": {},
   "source": [
    "视图(view)，也称虚表, 不占用物理空间，这个也是相对概念，因为视图本身的定义语句还是要存储在数据字典里的。  \n",
    "\n",
    "视图只有逻辑定义。每次使用的时候,只是重新执行SQL。"
   ]
  },
  {
   "cell_type": "markdown",
   "metadata": {},
   "source": [
    "视图是从一个或多个实际表中获得的，这些表的数据存放在数据库中。那些用于产生视图的表叫做该视图的基表。\n",
    "\n",
    "一个视图也可以从另一个视图中产生。"
   ]
  },
  {
   "cell_type": "markdown",
   "metadata": {},
   "source": [
    "视图的定义存在数据库中，与此定义相关的数据并没有再存一份于数据库中。通过视图看到的数据存放在基表中。\n",
    "\n",
    "视图看上去非常象数据库的物理表，对它的操作同任何其它的表一样。当通过视图修改数据时，实际上是在改变基表中的数据；相反地，基表数据的改变也会自动反映在由基表产生的视图中。由于逻辑上的原因，有些Oracle视图可以修改对应的基表，有些则不能（仅仅能查询）"
   ]
  },
  {
   "cell_type": "markdown",
   "metadata": {},
   "source": [
    "还有一种视图：**物化视图（MATERIALIZED VIEW ），也称实体化视图**，快照 （8i 以前的说法） ，它是含有数据的，占用存储空间。\n",
    "\n",
    "注意：  \n",
    "- 查询视图没有什么限制, 插入/更新/删除视图的操作会受到一定的限制; 所有针对视图的操作都会影响到视图的基表; \n",
    "- 为了防止用户通过视图间接修改基表的数据, 可以将视图创建为只读视图(带上with read only选项)\n",
    "\n",
    " "
   ]
  },
  {
   "cell_type": "markdown",
   "metadata": {},
   "source": [
    "语法: \n",
    "    \n",
    "    create [ or replace ] [ force ] view [schema.]view_name\n",
    "                      [ (column1,column2,...) ]\n",
    "                      as \n",
    "                      select ...\n",
    "                      [ with check option ]                      [ constraint constraint_name ]\n",
    "                      [ with read only ];\n",
    "\n",
    "\n",
    "1. or replace: 如果存在同名的视图, 则使用新视图\"替代\"已有的视图\n",
    "2. force: \"强制\"创建视图,不考虑基表是否存在,也不考虑是否具有使用基表的权限\n",
    "3. column1,column2,...：视图的列名, 列名的个数必须与select查询中列的个数相同; 如果select查询包含函数或表达式, 则必须为其定义列名.此时, 既可以用column1, column2指定列名, 也可以在select查询中指定列名.\n",
    "4. with check option: 指定对视图执行的dml操作必须满足“视图子查询”的条件即，对通过视图进行的增删改操作进行\"检查\",要求增删改操作的数据, 必须是select查询所能查询到的数据,否则不允许操作并返回错误提示。默认情况下, 在增删改之前\"并不会检查\"这些行是否能被select查询检索到. \n",
    "5. with read only：创建的视图只能用于查询数据, 而不能用于更改数据."
   ]
  },
  {
   "cell_type": "markdown",
   "metadata": {},
   "source": [
    "下面是MySQL的创建视图的语法："
   ]
  },
  {
   "cell_type": "raw",
   "metadata": {},
   "source": [
    "Syntax:\n",
    "CREATE\n",
    "    [OR REPLACE]\n",
    "    [ALGORITHM = {UNDEFINED | MERGE | TEMPTABLE}]\n",
    "    [DEFINER = { user | CURRENT_USER }]\n",
    "    [SQL SECURITY { DEFINER | INVOKER }]\n",
    "    VIEW view_name [(column_list)]\n",
    "    AS select_statement\n",
    "    [WITH [CASCADED | LOCAL] CHECK OPTION]"
   ]
  },
  {
   "cell_type": "markdown",
   "metadata": {},
   "source": [
    "### 物化视图创建"
   ]
  },
  {
   "cell_type": "raw",
   "metadata": {},
   "source": [
    "create materialized view [view_name] \n",
    "refresh [fast|complete|force] \n",
    "[ \n",
    "on [commit|demand] | \n",
    "start with (start_time) next (next_time) \n",
    "] \n",
    "as \n",
    "{创建物化视图用的查询语句} \n"
   ]
  },
  {
   "cell_type": "markdown",
   "metadata": {},
   "source": [
    "https://blog.csdn.net/hjm4702192/article/details/79880756"
   ]
  },
  {
   "cell_type": "markdown",
   "metadata": {},
   "source": [
    "# 2. MySQL实现物化视图实例"
   ]
  },
  {
   "cell_type": "markdown",
   "metadata": {},
   "source": [
    "物化视图是是查询结果的预运算，物化视图的结果一般存储于表中。物化视图用于需要对查询立即做出响应，而又需要耗费长时间获得结果。物化视图必须能快速更新。它去介于对更新频率和内容的准确性的要求。一般来说物化视图能够在易订时间内及时更新。\n",
    "\n",
    "Mysql本来不支持视图的。但是在5.0以上的版本，支持了视图功能，但是可惜的是不提供物化视图，但是这也难不住咱们，自己动手丰衣足食。"
   ]
  },
  {
   "cell_type": "markdown",
   "metadata": {},
   "source": [
    "1. 创建一个存储所有 InnoDB 行的表。"
   ]
  },
  {
   "cell_type": "raw",
   "metadata": {},
   "source": [
    "mysql> show create table innodb_row_count\\G\n",
    "*************************** 1. row ***************************\n",
    "       Table: innodb_row_count\n",
    "Create Table: CREATE TABLE `innodb_row_count` (\n",
    "  `id` int(10) unsigned NOT NULL AUTO_INCREMENT,\n",
    "  `schema_name` varchar(64) NOT NULL,\n",
    "  `table_name` varchar(64) NOT NULL,\n",
    "  `row_count` int(10) unsigned NOT NULL,\n",
    "  PRIMARY KEY (`id`)\n",
    ") ENGINE=InnoDB DEFAULT CHARSET=utf8\n",
    "1 row in set (0.00 sec)"
   ]
  },
  {
   "cell_type": "markdown",
   "metadata": {},
   "source": [
    "- 取决于对该信息结果正确性的需要，该表可以每天更新一次（花费系统资源最少，结果错误最大），一小时一次甚至是极端情况下每次改变都更新（最慢）。\n",
    "\n",
    "- 另一种可能就是从信息架构中读取数据。但是信息会有高达20%的错误。\n",
    "    - **information_schema**库"
   ]
  },
  {
   "cell_type": "raw",
   "metadata": {},
   "source": [
    "mysql> select table_schema,table_name,table_rows from information_schema.tables where table_type='BASE TABLE'\\G\n",
    "*************************** 1. row ***************************\n",
    "table_schema: materialized_view\n",
    "  table_name: innodb_row_count\n",
    "  table_rows: 0\n",
    "*************************** 2. row ***************************\n",
    "table_schema: mysql\n",
    "  table_name: columns_priv\n",
    "  table_rows: 0\n",
    "*************************** 3. row ***************************\n",
    "table_schema: mysql\n",
    "  table_name: db\n",
    "  table_rows: 2"
   ]
  },
  {
   "cell_type": "markdown",
   "metadata": {},
   "source": [
    "2. 更新物化视图"
   ]
  },
  {
   "cell_type": "raw",
   "metadata": {},
   "source": [
    "oracle的物化视图语法：\n",
    "create materialized view [view_name] \n",
    "refresh [fast|complete|force] \n",
    "[ \n",
    "on [commit|demand] | \n",
    "start with (start_time) next (next_time) \n",
    "] \n",
    "as \n",
    "{创建物化视图用的查询语句} "
   ]
  },
  {
   "cell_type": "markdown",
   "metadata": {},
   "source": [
    "物化视图的更新方式有多种：\n",
    "- 从不更新（只在现在开始更新，只用于静态数据）\n",
    "- 根据需要（比如每天，比如每夜）\n",
    "- 及时（每次数据修改之后）"
   ]
  },
  {
   "cell_type": "markdown",
   "metadata": {},
   "source": [
    "一般使用的更新方法：\n",
    "- 全部更新（速度慢，完全从无到有）\n",
    "- 延时跟新（速度快，使用log表）"
   ]
  },
  {
   "cell_type": "markdown",
   "metadata": {},
   "source": [
    "通过在日志表中存储变更信息，通常会产生简单的“快照”或延时状况：\n",
    "- 及时更新\n",
    "- 完全更新"
   ]
  },
  {
   "cell_type": "markdown",
   "metadata": {},
   "source": [
    "3. 测试--理解概念和物化的实现方式"
   ]
  },
  {
   "cell_type": "markdown",
   "metadata": {},
   "source": [
    "#### 3.1 数据准备"
   ]
  },
  {
   "cell_type": "raw",
   "metadata": {},
   "source": [
    "mysql> show create table sales\\G\n",
    "*************************** 1. row ***************************\n",
    "       Table: sales\n",
    "Create Table: CREATE TABLE `sales` (\n",
    "  `sales_id` int(10) unsigned NOT NULL AUTO_INCREMENT,\n",
    "  `product_name` varchar(128) NOT NULL,\n",
    "  `product_price` decimal(8,2) NOT NULL,\n",
    "  `product_amount` smallint(6) NOT NULL,\n",
    "  PRIMARY KEY (`sales_id`)\n",
    ") ENGINE=InnoDB AUTO_INCREMENT=7 DEFAULT CHARSET=utf8\n",
    "1 row in set (0.00 sec)"
   ]
  },
  {
   "cell_type": "raw",
   "metadata": {},
   "source": [
    "mysql> select * from sales;\n",
    "+----------+--------------+---------------+----------------+\n",
    "| sales_id | product_name | product_price | product_amount |\n",
    "+----------+--------------+---------------+----------------+\n",
    "|        1 | Apple        |          1.25 |              1 |\n",
    "|        2 | Apple        |          2.40 |              2 |\n",
    "|        3 | Apple        |          4.05 |              3 |\n",
    "|        4 | Pear         |          6.30 |              2 |\n",
    "|        5 | Pear         |         12.20 |              4 |\n",
    "|        6 | Plum         |          4.85 |              3 |\n",
    "+----------+--------------+---------------+----------------+\n",
    "6 rows in set (0.00 sec)"
   ]
  },
  {
   "cell_type": "markdown",
   "metadata": {},
   "source": [
    "我们要知道售价和每种产品获得的利润，就要使用到两次的分组查询，我们晓得在mysql中连接查询和分组排序是会用到临时表和filesort的，这个如果数据量大的话，是十分耗时，如题查询如下：\n",
    "(注意，示例的计算平均价格的方式是错误的，但仅是示例，不做数据计算上的修改，仅为更好地理解实现物化视图而准备数据）"
   ]
  },
  {
   "cell_type": "raw",
   "metadata": {},
   "source": [
    "mysql> explain select product_name,sum(product_price) as price_sum, sum(product_amount) as amount_sum,avg(product_price) as price_avg, avg(product_amount) as amout_agg,count(*) from sales group by product_name order by price_sum\\G\n",
    "*************************** 1. row ***************************\n",
    "           id: 1\n",
    "  select_type: SIMPLE\n",
    "        table: sales\n",
    "         type: ALL\n",
    "possible_keys: NULL\n",
    "          key: NULL\n",
    "      key_len: NULL\n",
    "          ref: NULL\n",
    "         rows: 6\n",
    "        Extra: Using temporary; Using filesort\n",
    "1 row in set (0.00 sec)"
   ]
  },
  {
   "cell_type": "markdown",
   "metadata": {},
   "source": [
    "因为表中记录较少，因此速度很快，但是如果记录量很大这种，查询将会花费很多时间。"
   ]
  },
  {
   "cell_type": "markdown",
   "metadata": {},
   "source": [
    "#### 3.2 创建物化视图"
   ]
  },
  {
   "cell_type": "raw",
   "metadata": {},
   "source": [
    "mysql> show create table sales_mv\\G\n",
    "*************************** 1. row ***************************\n",
    "       Table: sales_mv\n",
    "Create Table: CREATE TABLE `sales_mv` (\n",
    "  `product_name` varchar(128) NOT NULL,\n",
    "  `price_sum` decimal(10,2) NOT NULL,\n",
    "  `amount_sum` int(11) NOT NULL,\n",
    "  `price_avg` float NOT NULL,\n",
    "  `amount_avg` float NOT NULL,\n",
    "  `sales_cnt` int(11) NOT NULL,\n",
    "  UNIQUE KEY `product` (`product_name`)\n",
    ") ENGINE=InnoDB DEFAULT CHARSET=utf8\n",
    "1 row in set (0.00 sec)"
   ]
  },
  {
   "cell_type": "raw",
   "metadata": {},
   "source": [
    "insert into sales_mv select product_name, sum(product_price),sum(product_amount),avg(product_price),avg(product_amount),count(*) from sales group by product_name;"
   ]
  },
  {
   "cell_type": "markdown",
   "metadata": {},
   "source": [
    "最简单的方法，我们得到了预期的正确结果："
   ]
  },
  {
   "cell_type": "raw",
   "metadata": {},
   "source": [
    "mysql> select * from sales_mv;     \n",
    "+--------------+-----------+------------+-----------+------------+-----------+\n",
    "| product_name | price_sum | amount_sum | price_avg | amount_avg | sales_cnt |\n",
    "+--------------+-----------+------------+-----------+------------+-----------+\n",
    "| Apple        |      7.70 |          6 |   2.56667 |          2 |         3 |\n",
    "| Pear         |     18.50 |          6 |      9.25 |          3 |         2 |\n",
    "| Plum         |      4.85 |          3 |      4.85 |          3 |         1 |\n",
    "+--------------+-----------+------------+-----------+------------+-----------+\n",
    "3 rows in set (0.00 sec)"
   ]
  },
  {
   "cell_type": "markdown",
   "metadata": {},
   "source": [
    "这会导致我们刚才提到的“从不更新”模式失败。但是这不是我们想要的。"
   ]
  },
  {
   "cell_type": "markdown",
   "metadata": {},
   "source": [
    "#### 3.3 按需更新物化视图"
   ]
  },
  {
   "cell_type": "markdown",
   "metadata": {},
   "source": [
    "根据需要更新物化视图，我们可以用存储过程来实现。"
   ]
  },
  {
   "cell_type": "raw",
   "metadata": {},
   "source": [
    "# 创建存储过程，清空得到的数据表，插入需要的数据\n",
    "mysql> drop procedure if exists refresh_mv_now;\n",
    "Query OK, 0 rows affected, 1 warning (0.00 sec)\n",
    "\n",
    "mysql> delimiter //\n",
    "mysql> create procedure refresh_mv_now(OUT rc INT)     \n",
    "    -> BEGIN\n",
    "    -> truncate table sales_mv;\n",
    "    -> insert into sales_mv select product_name,sum(product_price),sum(product_amount),avg(product_price),avg(product_amount),count(*) from sales group by product_name;\n",
    "    -> set rc=0;\n",
    "    -> END;\n",
    "    -> //\n",
    "Query OK, 0 rows affected (0.00 sec)\n",
    "\n",
    "mysql> delimiter;"
   ]
  },
  {
   "cell_type": "raw",
   "metadata": {},
   "source": [
    "mysql> call refresh_mv_now(@rc);\n",
    "Query OK, 3 rows affected (0.00 sec)\n",
    "\n",
    "mysql> select * from sales_mv;\n",
    "+--------------+-----------+------------+-----------+------------+-----------+\n",
    "| product_name | price_sum | amount_sum | price_avg | amount_avg | sales_cnt |\n",
    "+--------------+-----------+------------+-----------+------------+-----------+\n",
    "| Apple        |      7.70 |          6 |   2.56667 |          2 |         3 |\n",
    "| Pear         |     18.50 |          6 |      9.25 |          3 |         2 |\n",
    "| Plum         |      4.85 |          3 |      4.85 |          3 |         1 |\n",
    "+--------------+-----------+------------+-----------+------------+-----------+\n",
    "3 rows in set (0.00 sec)"
   ]
  },
  {
   "cell_type": "markdown",
   "metadata": {},
   "source": [
    "更新sales表，然后再次调用存储过程refresh_mv_now(@rc);"
   ]
  },
  {
   "cell_type": "raw",
   "metadata": {},
   "source": [
    "mysql> insert into sales(product_name,product_price,product_amount) values('Apple',2.25,3),('Plum',3.35,1),('Pear',1.80,2);\n",
    "Query OK, 3 rows affected (0.00 sec)\n",
    "Records: 3  Duplicates: 0  Warnings: 0\n",
    "\n",
    "mysql> call refresh_mv_now(@rc);\n",
    "Query OK, 3 rows affected (0.00 sec)\n",
    "\n",
    "mysql> select * from sales_mv;\n",
    "+--------------+-----------+------------+-----------+------------+-----------+\n",
    "| product_name | price_sum | amount_sum | price_avg | amount_avg | sales_cnt |\n",
    "+--------------+-----------+------------+-----------+------------+-----------+\n",
    "| Apple        |      9.95 |          9 |    2.4875 |       2.25 |         4 |\n",
    "| Pear         |     20.30 |          8 |   6.76667 |    2.66667 |         3 |\n",
    "| Plum         |      8.20 |          4 |       4.1 |          2 |         2 |\n",
    "+--------------+-----------+------------+-----------+------------+-----------+\n",
    "3 rows in set (0.00 sec)"
   ]
  },
  {
   "cell_type": "markdown",
   "metadata": {},
   "source": [
    "#### 3.3 即时更新物化视图"
   ]
  },
  {
   "cell_type": "markdown",
   "metadata": {},
   "source": [
    "每条语句之后做全部更新没有任何意义。\n",
    "\n",
    "但是我们想要合适的结果。做到这一点还是有点复杂的。\n",
    "\n",
    "在每次insert sales 表我们都要更新物化视图。\n",
    "\n",
    "我们可以在sales表中，**使用insert/update/delete触发器**实现。"
   ]
  },
  {
   "cell_type": "markdown",
   "metadata": {},
   "source": [
    "创建触发器：  \n",
    "设置参数旧的数值，通过select查看最新的NEW的值，放入old参数，将重新计算得到的新的结果放到new参数中，更新sales_mv表。"
   ]
  },
  {
   "cell_type": "markdown",
   "metadata": {},
   "source": [
    "下面是insert的触发器的示例，更多的示例去navicat保存的查询中查看。"
   ]
  },
  {
   "cell_type": "raw",
   "metadata": {},
   "source": [
    "mysql> delimiter //\n",
    "mysql> create trigger sales_ins\n",
    "    -> after insert on sales\n",
    "    -> for each row\n",
    "    -> BEGIN\n",
    "    -> set @old_price_sum = 0;\n",
    "    -> set @old_amount_sum = 0;\n",
    "    -> set @old_price_avg = 0;\n",
    "    -> set @old_amount_avg = 0;\n",
    "    -> set @old_sales_cnt = 0;\n",
    "    -> select ifnull(price_sum,0),ifnull(amount_sum,0),ifnull(price_avg,0),ifnull(amount_avg,0),ifnull(sales_cnt,0)\n",
    "    -> from sales_mv\n",
    "    -> where product_name = NEW.product_name\n",
    "    -> into @old_price_sum,@old_amount_sum,@old_price_avg,@old_amount_avg,@old_sales_cnt;\n",
    "    -> \n",
    "    -> set @new_price_sum = @old_price_sum + NEW.product_price;\n",
    "    -> set @new_amount_sum = @old_amount_sum + NEW.product_amount;\n",
    "    -> set @new_sales_cnt = @old_sales_cnt + 1;\n",
    "    -> set @new_price_avg = @new_price_sum / @new_sales_cnt;\n",
    "    -> set @new_amount_avg = @new_amount_sum / @new_sales_cnt;\n",
    "    -> \n",
    "    -> replace into sales_mv\n",
    "    -> values(NEW.product_name,@new_price_sum,@new_amount_sum,@new_price_avg,@new_amount_avg,@new_sales_cnt);\n",
    "    -> \n",
    "    -> END; //\n",
    "Query OK, 0 rows affected (0.01 sec)\n",
    "\n",
    "mysql> delimiter ;"
   ]
  },
  {
   "cell_type": "markdown",
   "metadata": {},
   "source": [
    "#### 3.4 具有快速拍摄功能的物化视图"
   ]
  },
  {
   "cell_type": "markdown",
   "metadata": {},
   "source": [
    "与上面例子的不同之处，在于改变并不立即使用，改变存放在日志表中，在一定时间之后才更新物化视图。"
   ]
  },
  {
   "cell_type": "raw",
   "metadata": {},
   "source": [
    "mysql> select * from sales_mv1;\n",
    "Empty set (0.00 sec)\n",
    "\n",
    "mysql> insert into sales values(NULL,'Apple',1.25,1);\n",
    "Query OK, 1 row affected (0.00 sec)\n",
    "\n",
    "mysql> select * from sales_mv1;                      \n",
    "+--------------+---------------+----------------+----------+---------------------+\n",
    "| product_name | product_price | product_amount | sales_id | product_ts          |\n",
    "+--------------+---------------+----------------+----------+---------------------+\n",
    "| Apple        |          1.25 |              1 |       16 | 2019-09-02 12:27:27 |\n",
    "+--------------+---------------+----------------+----------+---------------------+\n",
    "1 row in set (0.00 sec)"
   ]
  },
  {
   "cell_type": "markdown",
   "metadata": {},
   "source": [
    "#### 3.5 建立一个物化视图的存储过程。"
   ]
  },
  {
   "cell_type": "markdown",
   "metadata": {},
   "source": [
    "建立一个更新物化视图的存储过程。\n",
    "\n",
    "可能模式：\n",
    "- 完全更新（更新至当前）\n",
    "- 更新（更新到特定时间戳）\n",
    "- 重建（全部重建清除MV日志表）"
   ]
  },
  {
   "cell_type": "raw",
   "metadata": {},
   "source": [
    "-- #### 创建一个更新物化视图的存储过程\n",
    "-- # 可能的模式有：完全更新（更新至当前），更新（更新到特定时间戳），重建（全部重建清楚MV日志表）\n",
    "\n",
    "drop procedure if exists refresh_mv;\n",
    "\n",
    "delimiter //\n",
    "\n",
    "create procedure refresh_mv(\n",
    "\tIN method varchar(16),\n",
    "    IN ts TIMESTAMP,\n",
    "    OUT rc INT)\n",
    "\n",
    "BEGIN\n",
    "\n",
    "\n",
    "\n",
    "\n",
    "IF UPPER(method) = 'REBUILD' THEN\n",
    "\tTRUNCATE TABLE sales_mv1 ; \n",
    "\tTRUNCATE TABLE sales_mv ;\n",
    "\n",
    "\tINSERT INTO sales_mv \n",
    "    SELECT product_name, SUM(product_price),SUM(product_amount),AVG(product_price), AVG(product_amount),COUNT(*) \n",
    "    FROM sales\n",
    "    GROUP BY product_name;\n",
    "ELSEIF UPPER(method) = 'REFRESH FULL' THEN\n",
    "\tREPLACE INTO sales_mv\n",
    "\tSELECT product_name, SUM(price_sum), SUM(amount_sum),SUM(price_sum)/SUM(sales_cnt),SUM(amount_sum)/SUM(sales_cnt),SUM(sales_cnt)\n",
    "\tFROM (\n",
    "\t\tSELECT product_name, price_sum, amount_sum, sales_cnt FROM sales_mv \n",
    "\t\tUNION ALL\n",
    "\t\tSELECT product_name, SUM(product_price), SUM(product_amount), COUNT(*) FROM sales_mv1 GROUP BY product_name\n",
    "\t\t) as x\n",
    "\tGROUP BY product_name;\n",
    "\n",
    "\tTRUNCATE TABLE sales_mv1;\n",
    "\tSET rc = 0 ;\n",
    "\n",
    "ELSEIF UPPER(method) = 'REFRESH' THEN\n",
    "\tREPLACE INTO sales_mv\n",
    "\tSELECT product_name, SUM(price_sum), SUM(amount_sum), SUM(price_sum)/SUM(sales_cnt),SUM(amount_sum)/SUM(sales_cnt),SUM(sales_cnt)\n",
    "\tFROM (\n",
    "\t\tSELECT product_name, price_sum, amount_sum, sales_cnt FROM sales_mv\n",
    "\t\tUNION ALL \n",
    "        SELECT product_name, SUM(product_price), SUM(product_amount), COUNT(*) FROM sales_mv1 WHERE product_ts < ts GROUP BY product_name\n",
    "\t\t) as x\n",
    "\tGROUP BY product_name;\n",
    "\n",
    "\tDELETE FROM sales_mv1 WHERE product_ts < ts ;\n",
    "\tSET rc = 0;\n",
    "\n",
    "\n",
    "\n",
    "ELSE\n",
    "\n",
    "SET rc = 1 ; \n",
    "\n",
    "END IF ;\n",
    "END ;//\n",
    "delimiter ;"
   ]
  },
  {
   "cell_type": "markdown",
   "metadata": {},
   "source": [
    "### 结论:\n",
    "通过存储过程和mysql的触发器去进行更新，不过如果是项目中的一些后台展示功能，不是很紧要的展示功能可以通过java的scheduled执行定时任务，比如，一个小时查询一次新增数据。\n",
    "\n",
    "MySQL中的触发器是不是非常快。  \n",
    "\n",
    "大量数据时，物化视图可以提高及时查询速度。   \n",
    "\n",
    "如果插入数据速度上不受限制，这个方法可以提高查询速度。   \n",
    "\n",
    "在大量数据，或者是非内存表、或者内存不够大时，可以提高性能(即，在基础表中查询耗时较大时)\n"
   ]
  },
  {
   "cell_type": "markdown",
   "metadata": {},
   "source": []
  },
  {
   "cell_type": "markdown",
   "metadata": {},
   "source": []
  },
  {
   "cell_type": "markdown",
   "metadata": {},
   "source": []
  },
  {
   "cell_type": "markdown",
   "metadata": {},
   "source": []
  },
  {
   "cell_type": "markdown",
   "metadata": {},
   "source": []
  }
 ],
 "metadata": {
  "kernelspec": {
   "display_name": "Python 3",
   "language": "python",
   "name": "python3"
  },
  "language_info": {
   "codemirror_mode": {
    "name": "ipython",
    "version": 3
   },
   "file_extension": ".py",
   "mimetype": "text/x-python",
   "name": "python",
   "nbconvert_exporter": "python",
   "pygments_lexer": "ipython3",
   "version": "3.6.5"
  }
 },
 "nbformat": 4,
 "nbformat_minor": 2
}
