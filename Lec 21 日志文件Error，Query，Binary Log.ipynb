{
 "cells": [
  {
   "cell_type": "markdown",
   "metadata": {},
   "source": [
    "# 1. 错误日志（Error Log）"
   ]
  },
  {
   "cell_type": "markdown",
   "metadata": {},
   "source": [
    "1. 错误日志的介绍\n",
    "    - 记录MySQL服务进程mysqld在自动/关闭或运行过程中遇到的错误信息\n",
    "\n",
    "2. 错误日志的设置\n",
    "    - 在my.cnf配置文件里面查看错误日志log-error"
   ]
  },
  {
   "cell_type": "markdown",
   "metadata": {},
   "source": [
    "log-error=/data/3306/mysql_pcm3306.err  # 日志文件目录"
   ]
  },
  {
   "cell_type": "markdown",
   "metadata": {},
   "source": [
    "# 2. 查询日志Query Log"
   ]
  },
  {
   "cell_type": "markdown",
   "metadata": {},
   "source": [
    "查询日志（query log）:\n",
    "- 普通查询日志（general query log）：记录客户端连接信息和执行的SQL语句信息。\n",
    "- 慢查询日志（slow query log）：记录执行时间超出指定值。（long_query_time）的SQL语句。"
   ]
  },
  {
   "cell_type": "markdown",
   "metadata": {},
   "source": [
    "## 2.1 配置普通查询日志"
   ]
  },
  {
   "cell_type": "markdown",
   "metadata": {},
   "source": [
    "普通查询日志不重要，在工作中是不开启的；我们先登录mysql看一下general log有没有开启。"
   ]
  },
  {
   "cell_type": "markdown",
   "metadata": {},
   "source": [
    "mysql> show variables like '%general_log%';\n",
    "+------------------+----------------------------+\n",
    "| Variable_name    | Value                      |\n",
    "+------------------+----------------------------+\n",
    "| general_log      | OFF                        |\n",
    "| general_log_file | /data/3306/data/oldboy.log |\n",
    "+------------------+----------------------------+\n",
    "2 rows in set (0.00 sec)r"
   ]
  },
  {
   "cell_type": "markdown",
   "metadata": {},
   "source": [
    "通过查询我们得知general_log没有开启，下面我们将general_log开启"
   ]
  },
  {
   "cell_type": "raw",
   "metadata": {},
   "source": [
    "set global general_log=ON;"
   ]
  },
  {
   "cell_type": "markdown",
   "metadata": {},
   "source": [
    "## 2.2 慢查询的配置"
   ]
  },
  {
   "cell_type": "markdown",
   "metadata": {},
   "source": [
    "重要，优化SQL语句做增量备份主从同步都需要。"
   ]
  },
  {
   "cell_type": "raw",
   "metadata": {},
   "source": [
    "[mysqld]  \n",
    "log-slow-queries = /data/3306/slow.log\n",
    "long_query_time = 1\n",
    "log_queries_not_using_indexes"
   ]
  },
  {
   "cell_type": "markdown",
   "metadata": {},
   "source": [
    "- long_query_time参数多长时间记录慢查询，\n",
    "- log-slow-queries慢查询日志文件存放的的位置，\n",
    "- log_queries_not_using_indexes参数是将使用索引的语句记录到log里面去。"
   ]
  },
  {
   "cell_type": "raw",
   "metadata": {},
   "source": [
    "[root@linzhongniao ~]# cat /data/3306/slow.log \n",
    "/usr/local/mysql/bin/mysqld, Version: 5.5.32-log (Source distribution). started with:\n",
    "Tcp port: 3306  Unix socket: /data/3306/mysql.sock\n",
    "Time Id CommandArgument"
   ]
  },
  {
   "cell_type": "markdown",
   "metadata": {},
   "source": [
    "# 3. 二进制日志（Binary Log）\n",
    "## 3.1 二进制日志的介绍\n",
    "\n",
    "二进制日志（binary log）:记录数据被修改的相关信息。\n",
    "\n",
    "## 3.2 二进制日志的设置\n",
    "从库提升主库必须开启log-slave-updates"
   ]
  },
  {
   "cell_type": "raw",
   "metadata": {},
   "source": [
    "[mysqld]\n",
    "log-bin = /data/3306/mysqlbin_linzhongniao\n",
    "log-slave-updates"
   ]
  },
  {
   "cell_type": "markdown",
   "metadata": {},
   "source": [
    "- log_bin是记录binlog，\n",
    "- sql_log_bin参数的值为OFF，是不更新临时不记录binlog，可以用set global设置，查看没有修改可以退出在登陆查看\n",
    "    - set global sql_log_bin=OFF; "
   ]
  },
  {
   "cell_type": "markdown",
   "metadata": {},
   "source": [
    "# 4. binlog日志的三种模式"
   ]
  },
  {
   "cell_type": "markdown",
   "metadata": {},
   "source": [
    "## 4.1 Statement Level模式\n",
    "每一条被修改数据的sql语句都会记录到主服务器(master)的binlog中，从服务器(slave)在主从复制的时候sql进程会解析成和主服务器(master)端执行的相同的sql语句来再次执行。\n",
    "\n",
    "- 优点：\n",
    "    - 首先就是解决了row level下的缺点，不需要记录每一行数据的变化，减少bin-log日志量，节约IO，提高性能。\n",
    "    - 因为他只需要记录在Master上所执行的语句的细节，以及执行语句时候的上下文的信息。\n",
    "\n",
    "- 缺点：\n",
    "    - 由于他是记录的执行语句，所以为了让这些语句在slave端也能正确执行，那么他还必须记录每条语句在执行的时候的一些相关信息，也就是上下文信息，以保证所有语句在slave端执行的时候能够得到和在master端执行时候相同的语句。\n",
    "    - 另外就是，由于MySQL现在发展比较快，很多的新功能不断的加入，使MySQL的复制遇到了不小的挑战，自然复制的时候涉及到越复杂的内容，bug也就越容易出现。在statement level下，目前已经发现的就有不少情况会造成MySQL的复制出现问题，主要是修改数据的时候使用了某些特定的函数或者功能的时候会出现问题，比如：sleep()函数在有些版本中就不能正确复制，在存储过程中使用了last_insert_id()函数，可能会在slave和master上得到不一致的id等等，由于row level是基于每一行来记录的变化，所以不会出现类似的问题。"
   ]
  },
  {
   "cell_type": "markdown",
   "metadata": {},
   "source": [
    "## 4.2 Row Level模式\n",
    "row level模式的日志中会记录每一行数据被修改的形式，然后再对slave端相同的数据进行修改。\n",
    "\n",
    "- 优点：\n",
    "    - 在row level模式下，binlog中可以不记录执行的sql语句的上下文相关的信息，仅仅只需要记录那一条记录被修改了，修改成什么样了，所以row level的日志内容会非常清楚的记录下每一行数据修改的细节，非常容易理解。\n",
    "    - 而且不会出现某些特定情况下的存储过程，或function,以及trigger的调用和触发无法被正确复制的问题。他能够解决statement level模式解决不了的问题。\n",
    "\n",
    "- 缺点：\n",
    "    - row level模式下，所有的执行的语句当记录到日志中的时候，都将以每行的修改为记录，这样可能会产生大量的日志内容，比如这样的一条update语句：update student set name=’nishishei’where name=’linzhongniao’,执行之后，日志中记录的不是这条update语句而是这条语句所更新的每一条记录的变化情况，这样一条记录就会被更新成很多个事件。自然会导致bin-log日志的存储量增大。"
   ]
  },
  {
   "cell_type": "markdown",
   "metadata": {},
   "source": [
    "1. 修改为row模式"
   ]
  },
  {
   "cell_type": "raw",
   "metadata": {},
   "source": [
    "set global binlog_format='ROW';"
   ]
  },
  {
   "cell_type": "markdown",
   "metadata": {},
   "source": [
    "2. 刷新binlog"
   ]
  },
  {
   "cell_type": "markdown",
   "metadata": {},
   "source": [
    "为了更好的演示我们刷新一下binlog,这时候我们再更新数据的时候就会往新生成的binlog日志文件里面写了。"
   ]
  },
  {
   "cell_type": "raw",
   "metadata": {},
   "source": [
    "[root@mysql 3306]# mysqladmin -uroot -p -S /data/3306/mysql.sock flush-logs"
   ]
  },
  {
   "cell_type": "markdown",
   "metadata": {},
   "source": [
    "3. 登录mysql，修改数据库信息"
   ]
  },
  {
   "cell_type": "markdown",
   "metadata": {},
   "source": [
    "update 语句；然后查看binlog日志信息，可以发现row模式记录了每一行记录被修改前后的内容，这样就会导致bin-log日志的存储量就会很大。"
   ]
  },
  {
   "cell_type": "markdown",
   "metadata": {},
   "source": [
    "## 4.3 Mixed模式"
   ]
  },
  {
   "cell_type": "markdown",
   "metadata": {},
   "source": [
    "Mixed模式是前两种模式的混合。\n",
    "\n",
    "在Mixed模式下，MySQL会根据执行的每一条具体的sql语句来划分记录的日志形式，也就是在Statement和Row两种模式之间的选择一种。\n",
    "\n",
    "新版本中的Statement level 还是和以前一样，仅仅记录执行的语句。\n",
    "\n",
    "而新版本MySQL中对row level 模式也被做了优化，并不是所有的数据都会以row level模式来记录，当遇到表结构变更的时候就会以statement 模式来记录，如果sql语句确实就是update或者delete等语句，那么还是会记录所有行的变更。"
   ]
  },
  {
   "cell_type": "markdown",
   "metadata": {},
   "source": [
    "----"
   ]
  },
  {
   "cell_type": "markdown",
   "metadata": {},
   "source": [
    "# 5. 调整binlog日志模式方法"
   ]
  },
  {
   "cell_type": "markdown",
   "metadata": {},
   "source": [
    "## 5.1 在配置文件中修改的方法\n",
    "下面是Mysql5.5默认模式也是我们前面主从复制默认的模式"
   ]
  },
  {
   "cell_type": "raw",
   "metadata": {},
   "source": [
    "[mysqld] \n",
    "binlog_format = MIXED  # 还可以有STATEMENT，ROW"
   ]
  },
  {
   "cell_type": "markdown",
   "metadata": {},
   "source": [
    "工作中推荐使用混合模式MIXED"
   ]
  },
  {
   "cell_type": "markdown",
   "metadata": {},
   "source": [
    "## 5.2 在线修改，立即生效的方法"
   ]
  },
  {
   "cell_type": "markdown",
   "metadata": {},
   "source": [
    "### 1. 运行时在线修改，当前会话生效\n"
   ]
  },
  {
   "cell_type": "raw",
   "metadata": {},
   "source": [
    "mysql> set session binlog_formant = 'STATEMENT';\n",
    "mysql> set session binlog_formant = 'ROW';\n",
    "mysql> set session binlog_formant = 'MIXED';"
   ]
  },
  {
   "cell_type": "markdown",
   "metadata": {},
   "source": [
    "### 2. 全局生效，所有用户都生效："
   ]
  },
  {
   "cell_type": "raw",
   "metadata": {},
   "source": [
    "mysql> set global binlog_format = 'ROW';\n",
    "mysql> set global binlog_format = 'STATEMENT';\n",
    "mysql> set global binlog_format = 'MIXED';"
   ]
  }
 ],
 "metadata": {
  "kernelspec": {
   "display_name": "Python 3",
   "language": "python",
   "name": "python3"
  },
  "language_info": {
   "codemirror_mode": {
    "name": "ipython",
    "version": 3
   },
   "file_extension": ".py",
   "mimetype": "text/x-python",
   "name": "python",
   "nbconvert_exporter": "python",
   "pygments_lexer": "ipython3",
   "version": "3.6.5"
  }
 },
 "nbformat": 4,
 "nbformat_minor": 2
}
