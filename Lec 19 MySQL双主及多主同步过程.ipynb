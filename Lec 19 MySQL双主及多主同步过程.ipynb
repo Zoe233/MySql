{
 "cells": [
  {
   "cell_type": "markdown",
   "metadata": {},
   "source": [
    "# 1. MySQL双主及多主同步，互为主从"
   ]
  },
  {
   "cell_type": "markdown",
   "metadata": {},
   "source": [
    "### 使用主主前提：表的主键不冲突\n",
    "\n",
    "a. 表的主键自增(M库id1,3,5；M库id 2,4,6)\n",
    "\n",
    "### 准备：两台机器，这里用多实例来讲解\n",
    "\n",
    "第一台：\n",
    "\n",
    "Ip:192.168.0.107\n",
    "Port:3306\n",
    "\n",
    "第二台：\n",
    "\n",
    "Ip:192.168.0.107\n",
    "Port:3307"
   ]
  },
  {
   "cell_type": "markdown",
   "metadata": {},
   "source": [
    "## 1.2 3306第一台机器的操作"
   ]
  },
  {
   "cell_type": "markdown",
   "metadata": {},
   "source": [
    "#### 1. 配置3306的my.cnf配置文件添加打开下面参数\n"
   ]
  },
  {
   "cell_type": "raw",
   "metadata": {},
   "source": [
    "[mysqld]\n",
    "auto_increment_increment= 2 # 自增的间隔如1 3 5 间隔为2\n",
    "auto_increment_offset   = 1 # ID的初始位置\n",
    "log-bin = /data/3306/mysql-bin\n",
    "log-slave-updates"
   ]
  },
  {
   "cell_type": "markdown",
   "metadata": {},
   "source": [
    "#### 2. 重启3306mysql数据库服务\n",
    "\n",
    "\n",
    "#### 3. 配置同步参数\n"
   ]
  },
  {
   "cell_type": "raw",
   "metadata": {},
   "source": [
    "CHANGE MASTER TO\n",
    "MASTER_HOST='192.168.0.107', \n",
    "MASTER_PORT=3307,\n",
    "MASTER_USER='rep',\n",
    "MASTER_PASSWORD='123456';"
   ]
  },
  {
   "cell_type": "markdown",
   "metadata": {},
   "source": [
    "提示：如果之前是主从同步想给改成双主同步，我们要带—master-data参数备份之前主库的数据然后导入到从库。\n",
    "\n",
    "例如：备份3306更新的数据："
   ]
  },
  {
   "cell_type": "raw",
   "metadata": {},
   "source": [
    "mysqldump -uroot -p -S /data/3306/mysql.sock -A -B --master-data=1 --events >/sql_file/3306bak.sql"
   ]
  },
  {
   "cell_type": "markdown",
   "metadata": {},
   "source": [
    "#### 4. 启动从库同步开关，并查看同步状态"
   ]
  },
  {
   "cell_type": "raw",
   "metadata": {},
   "source": [
    "start slave;\n",
    "show slave status\\G"
   ]
  },
  {
   "cell_type": "markdown",
   "metadata": {},
   "source": [
    "## 1.3 3307第二台机器操作"
   ]
  },
  {
   "cell_type": "markdown",
   "metadata": {},
   "source": [
    "1. 配置3307的配置文件my.cnf添加参数"
   ]
  },
  {
   "cell_type": "raw",
   "metadata": {},
   "source": [
    "[mysqld]\n",
    "auto_increment_increment= 2\n",
    "auto_increment_offset   = 2\n",
    "log-bin = /data/3307/mysql-bin\n",
    "log-slave-updates"
   ]
  },
  {
   "cell_type": "markdown",
   "metadata": {},
   "source": [
    "2. 重启3307数据库服务"
   ]
  },
  {
   "cell_type": "markdown",
   "metadata": {},
   "source": [
    "3. 配置同步参数"
   ]
  },
  {
   "cell_type": "raw",
   "metadata": {},
   "source": [
    "CHANGE MASTER TO\n",
    "MASTER_HOST='192.168.0.107', \n",
    "MASTER_PORT=3306,\n",
    "MASTER_USER='rep',\n",
    "MASTER_PASSWORD='123456';"
   ]
  },
  {
   "cell_type": "markdown",
   "metadata": {},
   "source": [
    "4. 启动从库同步开关并查看同步状态"
   ]
  },
  {
   "cell_type": "raw",
   "metadata": {},
   "source": [
    "start slave;\n",
    "show slave status\\G"
   ]
  }
 ],
 "metadata": {
  "kernelspec": {
   "display_name": "Python 3",
   "language": "python",
   "name": "python3"
  },
  "language_info": {
   "codemirror_mode": {
    "name": "ipython",
    "version": 3
   },
   "file_extension": ".py",
   "mimetype": "text/x-python",
   "name": "python",
   "nbconvert_exporter": "python",
   "pygments_lexer": "ipython3",
   "version": "3.6.5"
  }
 },
 "nbformat": 4,
 "nbformat_minor": 2
}
