{
 "cells": [
  {
   "cell_type": "markdown",
   "metadata": {},
   "source": [
    "# 1. 什么是MySQL多实例？"
   ]
  },
  {
   "cell_type": "markdown",
   "metadata": {},
   "source": [
    "简单的说，就是**一台机器上开启多个不同的服务端口（如3306,3307），运行多个MySQL服务进程，这些进程通过不同的socket监听不同的服务端口来提供各自的服务**。\n",
    "\n",
    "这些MySQL多实例共用一套MySQL安装程序，使用\n",
    "- 不同（也可以相同）的my.cnf配置文件、启动程序文件，数据文件。\n",
    "\n",
    "本次的案例采用共用一套安装程序，使用不同的配置文件、不同的启动程序、不同的数据文件的mysql多实例。\n",
    "\n",
    "在提供服务的时候，多实例MySQL在逻辑上看来是各自独立的，多个实例的自身是根据配置文件对应的设置值，来取得服务器的相关硬件资源多少的。\n",
    "\n",
    "做一个形象的比喻，MySQL多实例相当于房子的多个卧室一样，每个实例可以看作是一个卧室，整个服务器就是一套房子，服务器的硬件资源可以看作是房子的卫生间、厨房一样是房子的公共资源。就像是北漂住在一套房子里，肯定要共享资源。其实很多服务都可以有多实例如nginx,apache,redias等。"
   ]
  },
  {
   "cell_type": "markdown",
   "metadata": {},
   "source": [
    "# 2. MySQL多实例的作用与存在的问题"
   ]
  },
  {
   "cell_type": "markdown",
   "metadata": {},
   "source": [
    "1. 有效利用服务器资源\n",
    "\n",
    "当单个服务器资源有剩余时，可以充分利用剩余的资源提供更多的服务。一般服务器资源占用率应该到60%-70%。\n",
    "\n",
    "2. 节约服务器资源\n",
    "\n",
    "当公司资金比较紧张，但是数据库又需要各自尽量独立提供服务，而且需要主从同步技术时多实例就再好不过了。\n",
    "\n",
    "3. 资源互相抢占问题\n",
    "\n",
    "当某个实例并发很高或者慢查询时，整个实例会消耗整个服务器更多的内存、cpu、磁盘IO资源，导致服务器上的其他实例提供服务的质量下降，这就相当于大家住在一个房子的不同卧室一样，早晨起来要上班，都要刷牙、洗脸等等。这样卫生间就会长期占用，其他人要等待一样的道理。"
   ]
  },
  {
   "cell_type": "markdown",
   "metadata": {},
   "source": [
    "# 3. MySQL多实例生产应用场景\n",
    "### 1. 资金紧张型公司的选择    \n",
    "当公司业务访问量不太大，又不舍得花钱，但又希望不同业务的数据库服务各自尽量独立的听过服务互相不受影响，而且，需要**主从同步**进行等技术**提供备份或读写分离服务**，多实例就再好不过了。\n",
    "如：   \n",
    "可以通过3台服务器部署6-9个实例，交叉做主从同步备份及读写分离，实现6-9台服务器才有的效果。这里要强调的是，所谓的尽量独立是相对的。\n",
    "\n",
    "### 2. 并发访问不是特别大的业务\n",
    "当公司业务访问量不太大的时候，服务器的资源基本都是浪费的，这时就很适合多实例的应用，如果对SQL语句优化做的比较好，MySQL多实例一个很值得使用的技术，即使并发很大，合理分配好系统资源，也不会有太大问题。\n",
    "\n",
    "### 3. 门户网应用MySQL多实例场景\n",
    " \n",
    "百度搜索引擎的数据库就是多实例，一般是从库，48核，内存96G，跑3-4个实例，sina网也是用的多实例，内存48G左右。门户网站使用多实例的目的是配硬件好的服务器节省IDC机柜空间，同时，跑多实例让硬件资源不浪费。"
   ]
  },
  {
   "cell_type": "markdown",
   "metadata": {},
   "source": [
    "# 4. mysql多实例常见配置方案"
   ]
  },
  {
   "cell_type": "markdown",
   "metadata": {},
   "source": [
    "- 1. 通过多个配置文件及多个启动程序来实现多实例 \n",
    "生产中比较推荐此方法，本随笔中也将采取此方法.\n",
    "\n",
    "- 2. 单一配置文件方案即一个配置文件里写多个实例的内容\n",
    "通过**mysqld_muti参数**实现，此方法耦合性太高，可参见 http://blog.51cto.com/suifu/1850560"
   ]
  },
  {
   "cell_type": "markdown",
   "metadata": {},
   "source": [
    "## 1. 多配置文件部署方案"
   ]
  },
  {
   "cell_type": "markdown",
   "metadata": {},
   "source": [
    "本文的配置：\n",
    "tree "
   ]
  },
  {
   "cell_type": "markdown",
   "metadata": {},
   "source": []
  },
  {
   "cell_type": "markdown",
   "metadata": {},
   "source": []
  },
  {
   "cell_type": "markdown",
   "metadata": {},
   "source": []
  },
  {
   "cell_type": "markdown",
   "metadata": {},
   "source": []
  },
  {
   "cell_type": "markdown",
   "metadata": {},
   "source": []
  },
  {
   "cell_type": "markdown",
   "metadata": {},
   "source": []
  },
  {
   "cell_type": "markdown",
   "metadata": {},
   "source": []
  },
  {
   "cell_type": "markdown",
   "metadata": {},
   "source": []
  },
  {
   "cell_type": "markdown",
   "metadata": {},
   "source": []
  },
  {
   "cell_type": "markdown",
   "metadata": {},
   "source": []
  },
  {
   "cell_type": "markdown",
   "metadata": {},
   "source": []
  },
  {
   "cell_type": "markdown",
   "metadata": {},
   "source": []
  },
  {
   "cell_type": "markdown",
   "metadata": {},
   "source": []
  },
  {
   "cell_type": "code",
   "execution_count": null,
   "metadata": {},
   "outputs": [],
   "source": []
  },
  {
   "cell_type": "markdown",
   "metadata": {},
   "source": []
  },
  {
   "cell_type": "markdown",
   "metadata": {},
   "source": []
  },
  {
   "cell_type": "markdown",
   "metadata": {},
   "source": []
  },
  {
   "cell_type": "markdown",
   "metadata": {},
   "source": []
  },
  {
   "cell_type": "code",
   "execution_count": null,
   "metadata": {},
   "outputs": [],
   "source": []
  },
  {
   "cell_type": "markdown",
   "metadata": {},
   "source": []
  },
  {
   "cell_type": "markdown",
   "metadata": {},
   "source": []
  },
  {
   "cell_type": "markdown",
   "metadata": {},
   "source": []
  },
  {
   "cell_type": "markdown",
   "metadata": {},
   "source": []
  },
  {
   "cell_type": "code",
   "execution_count": null,
   "metadata": {},
   "outputs": [],
   "source": []
  }
 ],
 "metadata": {
  "kernelspec": {
   "display_name": "Python 3",
   "language": "python",
   "name": "python3"
  },
  "language_info": {
   "codemirror_mode": {
    "name": "ipython",
    "version": 3
   },
   "file_extension": ".py",
   "mimetype": "text/x-python",
   "name": "python",
   "nbconvert_exporter": "python",
   "pygments_lexer": "ipython3",
   "version": "3.6.5"
  }
 },
 "nbformat": 4,
 "nbformat_minor": 2
}
