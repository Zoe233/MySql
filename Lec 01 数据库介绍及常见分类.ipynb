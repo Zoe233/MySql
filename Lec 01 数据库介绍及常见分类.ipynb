{
 "cells": [
  {
   "cell_type": "markdown",
   "metadata": {},
   "source": [
    "## 1.非关系型数据库种类\n",
    "（1） 键值（key-value）存储数据库  \n",
    "- 键值数据库就类似传统语言中使用的哈希表，可以通过key来添加、查询或者删除数据，因为使用key主键访问，所以会获得很高的性能及扩展性。  \n",
    "- 键值（key-value）数据库主要是使用一个哈希表，这个表中有一个特定的键和一个指针指向特定的数据，key-value模型对于IT系统来说的优势在于**简单、易部署、高并发**。  \n",
    "- 典型产品：Memcached, Redis, MemcacheDB, Berkeley DB  \n",
    "        \n",
    "（2）列存储（Column-oriented）数据库    \n",
    "- 列存储数据库将数据储存在列表（column family）中，一个列族存储经常被一起查询的相关数据。    \n",
    "- 举个例子，如果我们有一个Person类，我们通常会一起查询他们的姓名和年龄而不是薪资，这种情况下，姓名和年龄就会被放入一个列族中，而薪资则在另一个列族中。  \n",
    "- 这部分数据库通常是用来应对分布式存储的海量数据，键仍然存储，但是它们的特点是指向了多个列。这些列是由列家族来安排的。\n",
    "- 典型产品：Cassandra，HBase\n",
    "\n",
    "（3）面向文档（Document-Oriented）数据库     \n",
    "- 文档型数据库的灵感是来自于Lotus Notes办公软件的，而且它同第一种键值存储相类似。\n",
    "- 该类型的数据模型是版本化的文档，半结构化的文档以特定的格式存储，比如：JSON。\n",
    "- 文档型数据库可以看作是键值数据库的升级版，允许之间嵌套键值，而且**文档型数据库比键值数据库的查询效率更高**。\n",
    "- 面向文档数据库会将数据以文档的形式储存，每个文档都是自包含的数据但愿你，是一系列数据项的集合，每个数据项都有一个名称与对应的值，值既可以是简单的数据类型，如：字符串，数字和日期等；也可以是复杂的类型，如有序列表和关联对象，数据存储的最小单位是文档，同一个表中存储的文档属性可以是不同的，数据可以使用XML，JSON或者JSONB等多种形式存储。\n",
    "- 典型产品：MongoDB，CouchDB\n",
    "\n",
    "（4）图形（Graph）数据库    \n",
    "- 图形数据库允许我们将数据以图的方式存储，实体会被作为顶点，而实体之间的关系则会被作为边。\n",
    "- 比如：我们有三个实体，Steve Jobs，Apple和Next，则会有两个“Founded by”的边将Apple和Next链接到Steve Jobs。\n",
    "- 图形结构的数据库同其他行列以及刚性结构的SQL数据库不同，它是使用灵活的图形模型，并且能够拓展到多个服务器上。\n",
    "- NoSQL数据库没有标准的查询语言（SQL），因此进行数据库查询需要指定数据模型，许多NoSQL数据库都有REST式的数据接口或者查询API。\n",
    "- 典型产品：Neo4J，InfoGrid"
   ]
  },
  {
   "cell_type": "markdown",
   "metadata": {},
   "source": [
    "按照早期的数据库理论，比较流行的数据库模型有三种，分别为**层次式数据库**、**网络式数据库**和**关系型数据库**。\n",
    "\n",
    "目前最常用的数据库模型主要是两种：关系型数据库和非关系型数据库。\n",
    "\n",
    "我们主要了解关系型数据库和非关系型数据库这两类最重要的也是目前实现使用最多的数据库种类。"
   ]
  },
  {
   "cell_type": "markdown",
   "metadata": {},
   "source": [
    "注意：   \n",
    "列存储Column-oriented中小企业不用，非高阶人士不用，基本上属于高阶使用，了解即可。\n",
    "\n",
    "MongoDB很灵活，搭建非常容易。\n",
    "\n",
    "Memcached基于内存的数据库；Redis是支持内存和磁盘的持久化的数据库。\n"
   ]
  },
  {
   "cell_type": "markdown",
   "metadata": {},
   "source": [
    "## 2. 关系型数据库介绍"
   ]
  },
  {
   "cell_type": "markdown",
   "metadata": {},
   "source": [
    "### 关系型数据库的由来：\n",
    "    虽然网状数据库和层次数据库已经很好地解决了数据的集中和共享问题，但是在数据独立性和抽象级别上仍有很大欠缺。   \n",
    "    用户在对这两种数据进行存取时，仍然需要明确数据的存储结构，指出存取路径，而关系型数据库可以比较好地解决这些问题。"
   ]
  },
  {
   "cell_type": "markdown",
   "metadata": {},
   "source": [
    "### 关系型数据库介绍\n",
    "    关系型数据库模型是把复杂的数据结构归结为简单的二元关系（即二维表格形式）。  \n",
    "    例如：学校某一学年的学生关系就是二元关系。\n",
    "\n",
    "    在关系型数据库中，对数据的操作几乎全部建立在一个或多个关系表格上，通过对这些关联的表格分类、合并、连接或选取等运算来实现数据的管理。\n",
    "\n",
    "    典型产品：MySQL，Oracle，SqlServer"
   ]
  },
  {
   "cell_type": "markdown",
   "metadata": {},
   "source": [
    "### 关系型数据库表格之间的关系举例"
   ]
  },
  {
   "cell_type": "markdown",
   "metadata": {},
   "source": [
    "<img src=\"./files/images/dbms_example01.png\" width=240/>"
   ]
  },
  {
   "cell_type": "markdown",
   "metadata": {},
   "source": [
    "### 常用关系型数据库产品介绍\n",
    "- Oracle数据库\n",
    "    Oracle前身叫SDL，由Larry Ellison和另两个编程人员在1977创办，它们开发了自己的拳头产品，在市场上大量销售，1979年，Oracle公司引进了第一个商用SQL关系数据库管理系统。\n",
    "    Oracle公司是最早开发关系数据库的厂商之一，其产品支持最广泛的操作系统平台。\n",
    "    目前Oracle关系数据库产品的市场占有率数一数二。\n",
    "- 2007年 Oracle 11g 这是Oracle数据库的最新版本\n",
    "    Oracle介绍说，Oracle 11g有400多项功能，经过了1500万个小时的测试，开发工作量达到了3.6万人/月。\n",
    "- 主要应用范围：传统大企业、大公司、政府、金融、证券等等。\n",
    "- 版本升级：Oracle8i，Oracle9i，Oracle10g，Oracle11g"
   ]
  },
  {
   "cell_type": "markdown",
   "metadata": {},
   "source": [
    "- MySQL数据库\n",
    "    MySQL数据库是一个中小型关系型数据库管理系统，软件开发者为瑞典MySQL AB功能更是。   \n",
    "    被Sun公司收购，Sun公司又被Oracle公司收购。   \n",
    "    \n",
    "    目前MySQL被广泛地应用在Internet上的中小型网站中。由于其体积小、速度快、总体拥有成本低，尤其是开放源码这一特点，许多大中小型网站为了降低网站总体拥有成本而选择了MySQL作为网站数据库，甚至国内知名的淘宝网页选择弃用Oracle而更换为更开发的MySQL。   \n",
    "    MySQL数据库主要应用范围：互联网领域，大中小型网站，游戏公司，电商平台等等。"
   ]
  },
  {
   "cell_type": "markdown",
   "metadata": {},
   "source": [
    "- MariaDB数据库\n",
    "    MariaDB数据库管理系统是MySQL数据库的一个分支，主要是由开源社区维护，采用GPL授权许可。      \n",
    "    开发这个MariaDB数据库分支的可能原因是：甲骨文公司收购了MySQL后，有将MySQL闭源的潜在风险，因此MySQL开源社区采用分支的方式来避开这个风险。   \n",
    "    \n",
    "    开发MariaDB数据库的目的是完全兼容MySQL数据库，包括API和明亮航，使之能秦松的称为MySQL的代替品。在存储引擎方面，使用XtraDB来代替MySQL的InnoDB，MariaDB由MySQL的创始人Michael Widenius主导开发，他将MySQLAB卖给Sun之后，将MySQL的创始人Michael Widenius的女儿Maria的名字。   \n",
    "    MariaDB基于事务的Maria存储引擎，替换了MySQL的MyISAM存储引擎，它使用了Percona的XtraDb（InnoDB的变体）。这个版本还包括了PrimeBase XT（PBXT）和FederatedX存储引擎。   \n",
    "    MariaDB数据库直到5.5版本，均依照MySQL的版本发型。因此，使用MariaDB5.5的人会从MySQL5.5中年了解到MariaDB的所有功能。   "
   ]
  },
  {
   "cell_type": "markdown",
   "metadata": {},
   "source": [
    "- SQL Server数据库    \n",
    "    Microsoft SQL Server是微软公司开发的大型关系型数据库系统。SQL Server的功能比较全面，效率高，可以作为中型企业或单位的数据库平台。SQL Server可以与Windows操作系统紧密集成，不论是应用程序开发速度还是系统事务处理运行速度，都能得到较大的提升。对于在Windows平台上开发的各种企业级信息管理系统来说，不论是C/S（客户机/服务器）架构还是B/S（浏览器/服务器）架构，SQL Server都是一个很好的选择。SQL Server的缺点是只能在Windows系统下运行。 \n",
    "    \n",
    "    主要应用范围：部分企业电商（央视购物），使用windows服务器平台的企业。"
   ]
  },
  {
   "cell_type": "markdown",
   "metadata": {},
   "source": [
    "- Access数据库  \n",
    "    美国Microsoft公司于1994年推出的**微机数据库管理系统**。   \n",
    "    它具有界面友好、易学易用、开发简单、接口灵活等特点，是典型的新一代桌面关系型数据库管理系统；它结合了Microsoft Jet Database Engine和图形用户界面两项特点，是Microsoft Office的成员之一。\n",
    "    \n",
    "    Access能够存取Access/Jet，Microsoft SQL Server、Oracle，或者任何ODBC兼容数据库的资料。Access界面友好而且易学易用，作为Office套件的一部分，可以与Office集成，实现无缝连接Access提供了表（Table），查询（Query），窗体（Form），报表（Report），宏（Macro），模块（Module）等用来建立数据库系统的对象，提供了多种向导、生成器、模板，把数据存储，数据查询，界面设计，报表生成等操作规范化。\n",
    "    \n",
    "    Access是**入门级小型桌面数据库**，性能安全性都很一般，可供个人管理或小型网站之用。Access不是数据库语言，只是一个数据库程序。目前最新版本为Office 2007，其主要特点如下：\n",
    "    - 完善地管理各种数据库对象，具有强大的数据组织、用户管理、安全检查等功能。\n",
    "    - 强大的数据处理功能，在一个工作组级别的网络环境中，使用Access开发的多用哪个胡数据库管理系统具有传统的XBASE（DBASE，FoxBASE的统称）数据库系统所无法实现的客户服务器（Client/Server）结构和相应的数据库安全机制。Access具备了许多先进的大型数据库管理系统所具备的特征，如事务处理/出错回滚能力等。\n",
    "    - 可以方便地生成各种数据对象，利用存储的数据建立窗体和报表，可视性好。\n",
    "    - 作为Office套件的一部分，可以与Office集成，实现无缝链接。\n",
    "    - 能够利用Web检索和发布数据，实现与Internet的连接。Access主要适用于中小型应用系统，或作为客户机/服务器系统中的客户端数据库。\n",
    "    \n",
    "    早期应用领域：小型程序系统asp+access系统，留言板，校友录等。"
   ]
  },
  {
   "cell_type": "markdown",
   "metadata": {},
   "source": [
    "- 其他不常用关系型数据库    \n",
    "    DB2，PostgreSQL，Informix，Sybase等。这些关系型数据库逐步的淡出了普通那个运维的实现，特别是互联网公司几乎见不到。"
   ]
  },
  {
   "cell_type": "markdown",
   "metadata": {},
   "source": [
    "## 3.非关系型数据库介绍"
   ]
  },
  {
   "cell_type": "markdown",
   "metadata": {},
   "source": [
    "### 非关系型数据库诞生背景\n",
    "**非关系型数据库**也被称为**NoSQL数据库**。   \n",
    "注意，NoSQL的本意是**“Not Only SQL”**，指的是非关系型数据库，而不是“No SQL”的意思（没有SQL语句？），因此，NoSQL的产生并不是要彻底地否定关系型数据库，而是作为传统关系型数据库的一个有效补充。\n",
    "    NoSQL数据库在特定的场景下可以发挥出难以想象的高效率和高性能。\n",
    "    \n",
    "    随着互联网web2.0网站的兴起，传统的关系型数据库在应付web2.0网站，特别是对于规模日益扩大的海量数据，超大规模和高并发的微博。\n",
    "    微信、SNS类型的web2.0纯动态网站已经显得力不从心，暴露了很多难以克服的问题，例如：传统的关系型数据库IO瓶颈、性能瓶颈都难以有效突破，于是开始出现了大批针对特定场景，以高性能和使用便利为目的的功能特异化的数据库产品，NoSQL（非关系型）类的数据库就是在这样的情景中诞生并得到了非常迅速的发展。\n",
    "    \n",
    "    NoSQL是非关系型数据库的广义定义。它打破了长久以来关系型数据库与ACID理论大一统的局面。\n",
    "     NoSQL数据存储不需要固定的表结构，通常也不存在链接操作。\n",
    "    在大数据存取上具备关系型数据库无法比拟的性能优势。\n",
    "    \n",
    "    当今的应用体系结构需要数据存储在横向伸缩性上能够满足需要。而NoSQL存储是为了实现这个需求而诞生的。\n",
    "\n",
    "Google的BigTable与Amazon的Dynamo是非常成功的商业NoSQL实现。一些开源的NoSQL体系，如Facebook的Cassndra，**Apache的HBase**，也得到了广泛认同，Redis，mongodb也逐渐的越来越受到各类大中小型公司的欢迎和追捧。"
   ]
  },
  {
   "cell_type": "markdown",
   "metadata": {},
   "source": [
    "### 常用非关系型数据库产品介绍\n",
    "- Memcached（key-value）\n",
    "    - Memcaced是一个**开源的、高性能的、具有分布式内存对象的缓存系统**。\n",
    "    - 通过它，可以**减轻数据库负载，加速动态的Web应用**，最初版本由LiveJournal的Brad Fitzpatrick在2003年开发完成。目前全球有非常多的用户都在使用它来构建自己的**大负载网站**或**提高自己的高访问网站的响应速度**。\n",
    "    - 注意：Memcache是这个项目的名称，而Memcached是服务器端的主程序文件名。\n",
    "    - 缓存一般用来保存一些经常被存取的对象或数据（例如：浏览器会把经常访问的网页缓存起来一样），通过缓存来存取对象或数据要比在磁盘上存取快很多，前者是内存，后者是磁盘。Memcaced是一种纯内存缓存系统，把经常存取的对象或数据缓存在memcached的内存中，这些被缓存的数据被程序通过API的方式被存取，memcaced里面的数据就像一张巨大的HASH表，数据以key-value对的方式存在。Memcached通过缓存经常被存取的对象或数据，从而减轻频繁读取数据库的压力，提高网站的响应速度，构建出速度更快的可拓展的Web应用。\n",
    "    - 官方：http://memcached.org/\n",
    "    - 由于memcached为**纯内存缓存软件，一旦重启所有数据都会丢失**，因此，新浪网基于memcached开发了一个开源项目Memcacedb，通过为Memcaced增加Berkeley DB的持久化存储机制和异步主辅复制机制，使Memcached具备了事务恢复能力、持久化数据存储能力和分布式复制能力，Memcacedb非常适合需要超高性能读写速度、持久化保存的应用场景，但是最近几年逐渐被其他的持久化产品替代，如：Redis。"
   ]
  },
  {
   "cell_type": "markdown",
   "metadata": {},
   "source": [
    "- Redis\n",
    "    - 和Memcaced类似，redis也是一个key-value型的存储系统。\n",
    "    - redis支持的存储value类型相对更多，包括string，list，set，zset（有序集合）等。这些数据类型都支持push/pop，add/remove及取交集、并集和差集及更丰富的操作，而且这些操作都是原子性的。\n",
    "    - 在此基础上，redis支持各种不同方式的排序，与Memcaced一样，为了保证效率，redis的数据都是缓存在内存中。区别是redis会**周期性的把更新的数据写入磁盘或者把修改操作写入追加的记录文件**，并且在此基础上实现了master-salve（主从）同步。\n",
    "    - redis是一个高性能的key-value数据库，redis的出现，很大程度补偿了memcaced这类key-value存储的不足，在部分场合可以对关系数据库起到很好的补充作用。\n",
    "    - 他提供了Python、Ruby、Erlang、PHP客户端，使用很方便。\n",
    "    - 官方：http://www.redis.io/documentation\n",
    "    - 特点：\n",
    "        - 支持内存缓存，这个功能相当于memcached\n",
    "        - 支持持久化，这个功能相当于memcachedb, ttserver.\n",
    "        - 数据类型更丰富，比其他key-value库功能更强\n",
    "        - 支持集群、分布式\n",
    "        - 支持队列等特殊功能。\n",
    "        \n",
    "        应用：缓存从存取memcached更改存取redis。"
   ]
  },
  {
   "cell_type": "markdown",
   "metadata": {},
   "source": [
    "Memcacedb在开发时，比Redis更方便。中小企业Memcached更受欢迎。"
   ]
  },
  {
   "cell_type": "markdown",
   "metadata": {},
   "source": [
    "- MongoDB（Document-oriented）    \n",
    "    - MongoDB是一个**介于关系数据库和非关系数据库之间的产品**，是**非关系数据库当中功能最丰富、最像关系数据的**。\n",
    "    - 它支持的**数据结构非常松散**，类似Json的bjson格式，因此可以存储比较复杂的数据类型。\n",
    "    - MongoDB最大的特点是它支持的查询语言非常强大，其语法有些类似于**面向对象的查询语言**，几乎可以实现类似关系型数据库单表查询的绝大部分功能，而且还支持对**数据建立索引**。\n",
    "    - 它的特点是**高性能**，**易使用**，**存储数据非常方便**。\n",
    "    - 主要功能特性：\n",
    "        - 面向集合存储，易存储对象类型的数据。  \n",
    "            “面向集合”Collection-Orented，意思是数据被分组存储在数据集中，被称为一个集合（Collection）。每个集合在数据库中都有一个唯一的标识名，并且可以包含无限数目的文档。集合的概念类似于关系型数据库（RDBMS）里的表Table，不同的是它不需要定义任何模式Schema。\n",
    "        - 模式自由   \n",
    "            模式自由Schema-free，意味着存储在mongodb数据库中的文件，我们不需要知道它的任何结构定义。如果需要，你完全可以把不同结构的文件存储在同一个数据库里。\n",
    "        - 支持动态查询\n",
    "        - 支持完全索引，包含内部对象\n",
    "        - 支持查询\n",
    "        - 支持复制和故障恢复\n",
    "        - 使用高效的而二进制数据存储，包括大型对象（如视频等）。\n",
    "        - 自动处理碎片，以支持云计算层次的扩展性\n",
    "        - 支持Ruby，Python，Java，C++，PHP等多种语言\n",
    "        - 文件存储格式为BSON（一种JSON的扩展）  \n",
    "            BSON（Binary Serialized Document Format）存储形式是指：存储在集合中的文档，被存储为键值对的形式。键用于唯一标识一个文档，为字符串类型，而值则可以是各种复杂的文件类型。\n",
    "        - 可通过网络访问。   \n",
    "            MongoDB服务端可运行在Linux、Windows或OS X平台，支持32位和54位应用，默认端口为27017。推荐运行在64位平台。\n",
    "            MongoDB把数据存储在文件中（默认路径为：/data/db），为提高效率使用内存映射文件进行管理。\n",
    "            MongoDB更详细的文档 http://www.mongodb.org/display/DOCS/Manual"
   ]
  },
  {
   "cell_type": "markdown",
   "metadata": {},
   "source": [
    "- Cassanndra(Column-oriented)\n",
    "    - Apache Cassanndra是一套开源分布式Key-value存储系统。它最初由Facebook开发，用于存储特别大的数据。\n",
    "    - 暂时不需要了解"
   ]
  },
  {
   "cell_type": "markdown",
   "metadata": {},
   "source": [
    "- 其他不常用非关系型数据库\n",
    "    - HBase，MemcacheDB，Berkeley DB， Tokyo Cabinet\\Tokyo Tyrant(ttserver)"
   ]
  }
 ],
 "metadata": {
  "kernelspec": {
   "display_name": "Python 3",
   "language": "python",
   "name": "python3"
  },
  "language_info": {
   "codemirror_mode": {
    "name": "ipython",
    "version": 3
   },
   "file_extension": ".py",
   "mimetype": "text/x-python",
   "name": "python",
   "nbconvert_exporter": "python",
   "pygments_lexer": "ipython3",
   "version": "3.6.5"
  }
 },
 "nbformat": 4,
 "nbformat_minor": 2
}
