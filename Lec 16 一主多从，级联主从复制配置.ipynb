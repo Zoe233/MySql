{
 "cells": [
  {
   "cell_type": "markdown",
   "metadata": {},
   "source": [
    "当前环境已经准备好3306主库，3307从库。\n",
    "\n",
    "现在要设置级联主从配置的模式：\n",
    "master 3306 ==>  3307 ===> 3308"
   ]
  },
  {
   "cell_type": "markdown",
   "metadata": {},
   "source": [
    "# 一、实现步骤"
   ]
  },
  {
   "cell_type": "markdown",
   "metadata": {},
   "source": [
    "1. 确保3306的环境不动，binlog开启状态，rep@192.168.0.%的账号权限给定replication slave权限，3307的从库开启等。"
   ]
  },
  {
   "cell_type": "markdown",
   "metadata": {},
   "source": [
    "2. 从库3307的my.cnf配置文件添加："
   ]
  },
  {
   "cell_type": "raw",
   "metadata": {},
   "source": [
    "[mysqld] \n",
    "server-id       = 3    \n",
    "log-bin = /data/3307/binlog/mysql-bin \n",
    "log-slave-updates   # 主从同步中的中间的级联主库\n",
    "expire_logs_days = 7   # binlog7天过期后自动删除"
   ]
  },
  {
   "cell_type": "markdown",
   "metadata": {},
   "source": [
    "3. 重启3307，查看binlog是否开启"
   ]
  },
  {
   "cell_type": "markdown",
   "metadata": {},
   "source": [
    "4. 3308将3307备份数据直接导入后，开启start slave;"
   ]
  },
  {
   "cell_type": "raw",
   "metadata": {},
   "source": [
    "3307主机：\n",
    "flush table with read lock;\n",
    "show master status;\n",
    "mysqldump -u root -p -S /data/3306/mysql.sock -A -B --events --master-data=1 > /sql_file/rep3307_to_3308.sql\n",
    "unlock tables;\n",
    "\n"
   ]
  },
  {
   "cell_type": "markdown",
   "metadata": {},
   "source": [
    "3308从机：\n",
    "mysql -u system -p -S /data/3308/mysql.sock < /sql_file/rep3307_to_3308.sql\n",
    "\n",
    "登录3308mysql环境：\n",
    "change master to master_host='192.168.0.107', master_port=3307, master_user='rep', master_password='123456'; \n",
    "start slave; \n",
    "show slave status\\G"
   ]
  }
 ],
 "metadata": {
  "kernelspec": {
   "display_name": "Python 3",
   "language": "python",
   "name": "python3"
  },
  "language_info": {
   "codemirror_mode": {
    "name": "ipython",
    "version": 3
   },
   "file_extension": ".py",
   "mimetype": "text/x-python",
   "name": "python",
   "nbconvert_exporter": "python",
   "pygments_lexer": "ipython3",
   "version": "3.6.5"
  }
 },
 "nbformat": 4,
 "nbformat_minor": 2
}
