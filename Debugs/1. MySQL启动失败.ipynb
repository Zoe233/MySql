{
 "cells": [
  {
   "cell_type": "markdown",
   "metadata": {},
   "source": [
    "1. 为MySQL多实例添加实例，完成了初始化，但是启动失败，错误日志："
   ]
  },
  {
   "cell_type": "raw",
   "metadata": {},
   "source": [
    "[root@oldboy data]# cat oldboy.err\n",
    "190902 14:56:12 mysqld_safe Starting mysqld daemon with databases from /data/3308/data\n",
    "190902 14:56:12 [Note] Plugin 'FEDERATED' is disabled.\n",
    "190902 14:56:12 InnoDB: The InnoDB memory heap is disabled\n",
    "190902 14:56:12 InnoDB: Mutexes and rw_locks use GCC atomic builtins\n",
    "190902 14:56:12 InnoDB: Compressed tables use zlib 1.2.3\n",
    "190902 14:56:12 InnoDB: Initializing buffer pool, size = 32.0M\n",
    "190902 14:56:12 InnoDB: Completed initialization of buffer pool\n",
    "190902 14:56:12 InnoDB: highest supported file format is Barracuda.\n",
    "190902 14:56:12  InnoDB: Waiting for the background threads to start\n",
    "190902 14:56:13 InnoDB: 5.5.32 started; log sequence number 1595668\n",
    "190902 14:56:13 [ERROR] /usr/local/mysql/bin/mysqld: unknown variable 'base_dir=/usr/local/mysql'\n",
    "190902 14:56:13 [ERROR] Aborting\n",
    "\n",
    "190902 14:56:13  InnoDB: Starting shutdown...\n",
    "190902 14:56:13  InnoDB: Shutdown completed; log sequence number 1595668\n",
    "190902 14:56:13 [Note] /usr/local/mysql/bin/mysqld: Shutdown complete\n",
    "\n",
    "190902 14:56:13 mysqld_safe mysqld from pid file /data/3308/mysql.pid ended"
   ]
  },
  {
   "cell_type": "markdown",
   "metadata": {},
   "source": [
    "发现除了innodb的错误，还有一个base_dir参数不识别，发现手动改错了，应该是basedir。\n",
    "\n",
    "启动成功。"
   ]
  },
  {
   "cell_type": "markdown",
   "metadata": {},
   "source": [
    "网上查找相关错误解决资料，发现有人也是启动失败报错。"
   ]
  },
  {
   "cell_type": "markdown",
   "metadata": {},
   "source": [
    "是 innodb 没有设置配置 \n",
    "\n",
    "一般来说，是由于，在my.cnf中关于INNODB的一些配置是被注释的，在没有更改的情况下，系统就使用了默认值，这样，当你把关于innodb的配置选项注释去掉的时候，就会出现这个报错！\n",
    "\n",
    "解决办法可以更改配置文件，也可以删除现在这个日志，再启动mysql这样它会重新生成这两个日志文件。\n",
    "\n",
    "或者也可以修改my.cnf配置文件 将INNODB部分的注释去掉"
   ]
  },
  {
   "cell_type": "markdown",
   "metadata": {},
   "source": [
    "2. 同一一样，复制的另外一个实例的my.cnf，发现启动失败。"
   ]
  },
  {
   "cell_type": "raw",
   "metadata": {},
   "source": [
    "[root@oldboy data]# cat oldboy.err\n",
    "190902 14:48:10 mysqld_safe Starting mysqld daemon with databases from /data/3309/data\n",
    "/usr/local/mysql/bin/mysqld: File '/data/3309/binlog/mysql-bin.index' not found (Errcode: 2)\n",
    "190902 14:48:10 [ERROR] Aborting\n",
    "\n",
    "190902 14:48:10 [Note] /usr/local/mysql/bin/mysqld: Shutdown complete\n",
    "\n",
    "190902 14:48:10 mysqld_safe mysqld from pid file /data/3309/mysql.pid ended\n",
    "190902 15:19:55 mysqld_safe Starting mysqld daemon with databases from /data/3309/data\n",
    "/usr/local/mysql/bin/mysqld: File '/data/3309/binlog/mysql-bin.index' not found (Errcode: 2)\n",
    "190902 15:19:55 [ERROR] Aborting\n",
    "\n",
    "190902 15:19:55 [Note] /usr/local/mysql/bin/mysqld: Shutdown complete\n",
    "\n",
    "190902 15:19:55 mysqld_safe mysqld from pid file /data/3309/mysql.pid ended"
   ]
  },
  {
   "cell_type": "markdown",
   "metadata": {},
   "source": [
    "将my.cnf中关于log-bin的相关参数删除即可。"
   ]
  },
  {
   "cell_type": "markdown",
   "metadata": {},
   "source": []
  },
  {
   "cell_type": "markdown",
   "metadata": {},
   "source": []
  },
  {
   "cell_type": "markdown",
   "metadata": {},
   "source": []
  },
  {
   "cell_type": "markdown",
   "metadata": {},
   "source": []
  },
  {
   "cell_type": "markdown",
   "metadata": {},
   "source": []
  },
  {
   "cell_type": "markdown",
   "metadata": {},
   "source": []
  },
  {
   "cell_type": "markdown",
   "metadata": {},
   "source": []
  },
  {
   "cell_type": "markdown",
   "metadata": {},
   "source": []
  },
  {
   "cell_type": "markdown",
   "metadata": {},
   "source": []
  },
  {
   "cell_type": "markdown",
   "metadata": {},
   "source": []
  },
  {
   "cell_type": "markdown",
   "metadata": {},
   "source": []
  },
  {
   "cell_type": "markdown",
   "metadata": {},
   "source": []
  },
  {
   "cell_type": "markdown",
   "metadata": {},
   "source": []
  },
  {
   "cell_type": "markdown",
   "metadata": {},
   "source": []
  },
  {
   "cell_type": "markdown",
   "metadata": {},
   "source": []
  },
  {
   "cell_type": "markdown",
   "metadata": {},
   "source": []
  }
 ],
 "metadata": {
  "kernelspec": {
   "display_name": "Python 3",
   "language": "python",
   "name": "python3"
  },
  "language_info": {
   "codemirror_mode": {
    "name": "ipython",
    "version": 3
   },
   "file_extension": ".py",
   "mimetype": "text/x-python",
   "name": "python",
   "nbconvert_exporter": "python",
   "pygments_lexer": "ipython3",
   "version": "3.6.5"
  }
 },
 "nbformat": 4,
 "nbformat_minor": 2
}
