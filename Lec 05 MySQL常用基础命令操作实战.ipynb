{
 "cells": [
  {
   "cell_type": "markdown",
   "metadata": {},
   "source": [
    "# 1. 单实例mysql数据库启动和关闭方法"
   ]
  },
  {
   "cell_type": "markdown",
   "metadata": {},
   "source": [
    "## 1.1 启动单实例mysql"
   ]
  },
  {
   "cell_type": "raw",
   "metadata": {},
   "source": [
    "[root@localhost ~]# /etc/init.d/mysqld start\n",
    "Starting MySQL. SUCCESS!"
   ]
  },
  {
   "cell_type": "markdown",
   "metadata": {},
   "source": [
    "/etc/init.d/mysqld是一个shell启动脚本，启动后最终会调用安装目录下mysqld_safe脚本，最后调用mysqld服务启动mysql。\n",
    "\n",
    "如下，/etc/init.d/mysqld脚本中调用的mysqld_safe的程序。"
   ]
  },
  {
   "cell_type": "raw",
   "metadata": {},
   "source": [
    "[root@oldboy init.d]# cat /etc/init.d/mysqld|grep mysqld_safe -n\n",
    "279:    if test -x $bindir/mysqld_safe\n",
    "283:      $bindir/mysqld_safe --datadir=\"$datadir\" --pid-file=\"$mysqld_pid_file_path\" $other_args >/dev/null 2>&1 &\n",
    "294:      log_failure_msg \"Couldn't find MySQL server ($bindir/mysqld_safe)\""
   ]
  },
  {
   "cell_type": "markdown",
   "metadata": {},
   "source": [
    "## 1.2 关闭单实例mysql"
   ]
  },
  {
   "cell_type": "raw",
   "metadata": {},
   "source": [
    "/etc/init.d/mysqld stop"
   ]
  },
  {
   "cell_type": "markdown",
   "metadata": {},
   "source": [
    "MySQL常规关闭数据库原理"
   ]
  },
  {
   "cell_type": "raw",
   "metadata": {},
   "source": [
    "[root@oldboy init.d]# sed -n '299,327p' /etc/init.d/mysqld \n",
    "    # Stop daemon. We use a signal here to avoid having to know the\n",
    "    # root password.\n",
    "\n",
    "    if test -s \"$mysqld_pid_file_path\"\n",
    "    then\n",
    "      mysqld_pid=`cat \"$mysqld_pid_file_path\"`\n",
    "\n",
    "      if (kill -0 $mysqld_pid 2>/dev/null)\n",
    "      then\n",
    "        echo $echo_n \"Shutting down MySQL\"\n",
    "        kill $mysqld_pid\n",
    "        # mysqld should remove the pid file when it exits, so wait for it.\n",
    "        wait_for_pid removed \"$mysqld_pid\" \"$mysqld_pid_file_path\"; return_value=$?\n",
    "      else\n",
    "        log_failure_msg \"MySQL server process #$mysqld_pid is not running!\"\n",
    "        rm \"$mysqld_pid_file_path\"\n",
    "      fi\n",
    "\n",
    "      # Delete lock for RedHat / SuSE\n",
    "      if test -f \"$lock_file_path\"\n",
    "      then\n",
    "        rm -f \"$lock_file_path\"\n",
    "      fi\n",
    "      exit $return_value\n",
    "    else\n",
    "      log_failure_msg \"MySQL server PID file could not be found!\"\n",
    "    fi\n",
    "    ;;\n"
   ]
  },
  {
   "cell_type": "markdown",
   "metadata": {},
   "source": [
    "## 3. 强制关闭MySQL的方法"
   ]
  },
  {
   "cell_type": "raw",
   "metadata": {},
   "source": [
    "killall mysqld\n",
    "pkill mysqld\n",
    "killall -9 mysqld\n",
    "kill pid"
   ]
  },
  {
   "cell_type": "markdown",
   "metadata": {},
   "source": [
    "## 4. 优雅关闭数据库的方法"
   ]
  },
  {
   "cell_type": "markdown",
   "metadata": {},
   "source": [
    "第一种mysqladmin方法，多实例需要指定sock文件"
   ]
  },
  {
   "cell_type": "raw",
   "metadata": {},
   "source": [
    "[root@localhost ~]# mysqladmin -uroot -p123456 shutdown  单实例\n",
    "[root@linzhongniao mysql]# mysqladmin -uroot -p123456 -S /data/3306/mysql.sock shutdown"
   ]
  },
  {
   "cell_type": "markdown",
   "metadata": {},
   "source": [
    "第二种是自带的脚本"
   ]
  },
  {
   "cell_type": "markdown",
   "metadata": {},
   "source": [
    "/etc/init.d/mysqld stop"
   ]
  },
  {
   "cell_type": "markdown",
   "metadata": {},
   "source": [
    "提示：强制关闭mysql数据库一般生产环境不用。\n",
    "\n",
    "强调：尽量不要强制关闭mysql服务，生产高并发环境可能会引起数据丢失。"
   ]
  },
  {
   "cell_type": "markdown",
   "metadata": {},
   "source": [
    "# 2. 查看mysql数据库是否启动的方法"
   ]
  },
  {
   "cell_type": "markdown",
   "metadata": {},
   "source": [
    "## 2.1 查看mysql端口"
   ]
  },
  {
   "cell_type": "raw",
   "metadata": {},
   "source": [
    "[root@oldboy 3306]# ss -lnt|grep 3306\n",
    "LISTEN     0      128                       *:3306                     *:*     "
   ]
  },
  {
   "cell_type": "markdown",
   "metadata": {},
   "source": [
    "## 2.2 查看mysql进程"
   ]
  },
  {
   "cell_type": "markdown",
   "metadata": {},
   "source": [
    "会启动两个进程第一个就是mysql_safe第二个是mysqld"
   ]
  },
  {
   "cell_type": "raw",
   "metadata": {},
   "source": [
    "[root@localhost ~]# ps -ef|grep mysql|grep -v grep\n",
    "root   2796  1  0 16:23 pts/000:00:00 /bin/sh /usr/local/mysql/bin/mysqld_safe --datadir=/usr/local/mysql/var --pid-file=/usr/local/mysql/var/localhost.localdomain.pid\n",
    "\n",
    "mysql  2912   2796  0 16:23 pts/000:00:00 /usr/local/mysql/libexec/mysqld --basedir=/usr/local/mysql --datadir=/usr/local/mysql/var --user=mysql --log-error=/usr/local/mysql/var/localhost.localdomain.err --pid-file=/usr/local/mysql/var/localhost.localdomain.pid --socket=/tmp/mysql.sock --port=3306 "
   ]
  },
  {
   "cell_type": "markdown",
   "metadata": {},
   "source": [
    "# 3. 后台初始化mysql数据库"
   ]
  },
  {
   "cell_type": "markdown",
   "metadata": {},
   "source": [
    "## 3.1 单实例初始化数据库"
   ]
  },
  {
   "cell_type": "raw",
   "metadata": {},
   "source": [
    "[root@mysql scripts]# ./mysql_install_db --basedir=/usr/local/\n",
    "mysql/ --datadir=/usr/local/mysql/data/ --user=mysql &"
   ]
  },
  {
   "cell_type": "markdown",
   "metadata": {},
   "source": [
    "## 3.2 多实例初始化数据库"
   ]
  },
  {
   "cell_type": "raw",
   "metadata": {},
   "source": [
    "[root@mysql scripts]# pwd\n",
    "/usr/local/mysql/scripts\n",
    "[root@mysql scripts]# ./mysql_install_db --basedir=/usr/local/mysql/ --datadir=/data/3306/data/ --user=mysql &"
   ]
  },
  {
   "cell_type": "markdown",
   "metadata": {},
   "source": [
    "提示：\n",
    "\n",
    "1. 当找回root密码时，会经常使用mysqld_safe –user=mysql &带参数启动\n",
    "\n",
    "2. 我们自己开发数据库启动脚本时，会用到这个方法。\n",
    "\n",
    "3. /etc/init.d/mysqld和mysqld_safe --user=mysql的启动实质一样。一般出故障的时候我们用mysqld_safe来启动，因为可以加参数。"
   ]
  },
  {
   "cell_type": "raw",
   "metadata": {},
   "source": [
    "[root@localhost ~]# cd /usr/local/mysql/|mysqld_safe &"
   ]
  },
  {
   "cell_type": "markdown",
   "metadata": {},
   "source": [
    "# 4. 多实例mysql启动与关闭的方式示例"
   ]
  },
  {
   "cell_type": "markdown",
   "metadata": {},
   "source": [
    "启动："
   ]
  },
  {
   "cell_type": "raw",
   "metadata": {},
   "source": [
    "/data/3306/mysql start\n",
    "/data/3307/mysql start"
   ]
  },
  {
   "cell_type": "markdown",
   "metadata": {},
   "source": [
    "关闭："
   ]
  },
  {
   "cell_type": "raw",
   "metadata": {},
   "source": [
    "/data/3306/mysql stop\n",
    "/data/3306/mysql stop"
   ]
  },
  {
   "cell_type": "markdown",
   "metadata": {},
   "source": [
    "多实例启动脚本实现启动和关闭方法原理:"
   ]
  },
  {
   "cell_type": "raw",
   "metadata": {},
   "source": [
    "/usr/local/mysql/bin/mysqld_safe --defaults-file=/data/3306/my.cnf --user=mysql --basedir=/usr/local/mysql --datadir=/data/3306/data 2>&1 >/dev/null &"
   ]
  },
  {
   "cell_type": "raw",
   "metadata": {},
   "source": [
    "/usr/local/mysql/bin/mysqladmin -uroot -p123456 -S /data/3306/mysql.sock shutdown"
   ]
  },
  {
   "cell_type": "markdown",
   "metadata": {},
   "source": [
    "# 5. 登录mysql方法"
   ]
  },
  {
   "cell_type": "markdown",
   "metadata": {},
   "source": [
    "## 5.1 单实例mysql登录的方法"
   ]
  },
  {
   "cell_type": "raw",
   "metadata": {},
   "source": [
    "mysql                    刚装完数据库无需密码登录，不要密码。\n",
    "mysql –uroot             刚装完数据库无需密码登录，不要密码。\n",
    "mysql –uroot –p          这是标准的命令行登录命令。\n",
    "mysql –uroot –p123456    非脚本一般不这样用，密码明文会泄露密码可以掩饰history功能解决。"
   ]
  },
  {
   "cell_type": "markdown",
   "metadata": {},
   "source": [
    "解决方法："
   ]
  },
  {
   "cell_type": "raw",
   "metadata": {},
   "source": [
    "history –c清空历史记录\n",
    "\n",
    "history –d 删除指定行"
   ]
  },
  {
   "cell_type": "markdown",
   "metadata": {},
   "source": [
    "可以查看系统历史记录，可以删除"
   ]
  },
  {
   "cell_type": "raw",
   "metadata": {},
   "source": [
    "cat /root/.bash_history\n",
    "cat /root/.mysql_history"
   ]
  },
  {
   "cell_type": "markdown",
   "metadata": {},
   "source": [
    "## 5.2 修改mysql数据库提示符"
   ]
  },
  {
   "cell_type": "markdown",
   "metadata": {},
   "source": [
    "登录后默认提示符是mysql>这个提示符可以修改，目的是**为了区分测试环境和正式环境**。\n",
    "\n",
    "工作中一定要先区分正式环境和测试环境。不管正式环境还是测试环境都要先备份在操作。\n",
    "\n",
    "### 更改mysql数据登录提示符（了解的知识）方法如下："
   ]
  },
  {
   "cell_type": "markdown",
   "metadata": {},
   "source": [
    "#### 1. 命令行临时修改提示符"
   ]
  },
  {
   "cell_type": "raw",
   "metadata": {},
   "source": [
    "mysql> prompt \\u@oldboy \\r:\\m:\\s->\n",
    "PROMPT set to '\\u@oldboy \\r:\\m:\\s->'"
   ]
  },
  {
   "cell_type": "markdown",
   "metadata": {},
   "source": [
    "这种改变是临时的"
   ]
  },
  {
   "cell_type": "markdown",
   "metadata": {},
   "source": [
    "#### 2. 配置文件修改提示符"
   ]
  },
  {
   "cell_type": "markdown",
   "metadata": {},
   "source": [
    "在my.cnf配置文件中的[mysql]模块下添加如下内容，保存后，无需重启mysql，退出当前session重新登录即可，如果在配置文件中添加，可以用“\\”反斜线避免转义带来的问题。"
   ]
  },
  {
   "cell_type": "raw",
   "metadata": {},
   "source": [
    "[mysql]\n",
    "no-auto-rehash\n",
    "prompt \\\\u@oldboy \\\\r:\\\\m:\\\\s->"
   ]
  },
  {
   "cell_type": "markdown",
   "metadata": {},
   "source": [
    "实际操作中，更改/data/3307/my.cnf文件，不生效。这个是由于虚拟机上有多个my.cnf文件，根据mysql官方文档，提示会读取到/etc/my.cnf和~/.my.cnf下的prompt，就容易联想到是不是mysql客户端就只能读取到默认路径下的[mysql]？\n",
    "\n",
    "通过修改/etc/my.cnf的配置文件，生效。   \n",
    "移除/etc/my.cnf配置文件，/data/3307/my.cnf文件仍不生效。这里需要细细考虑到配置文件的读取顺序。"
   ]
  },
  {
   "cell_type": "raw",
   "metadata": {},
   "source": [
    "读取顺序为：\n",
    "/etc/my.cnf\n",
    "basedir/my.cnf\n",
    "datadir/my.cnf\n",
    "--defaults-extra-file    #在读取全局配置文件之后，读取用户配置文件(~/.my.cnf)之前，读取extra指定的参数文件\n",
    "~/.my.cnf      #家目录下面的隐藏文件，my.cnf前面的点，说明my.cnf是隐藏文件   \n",
    "假设4个配置文件都存在，同时使用--defaults-extra-file指定了参数文件，如果这时有一个 \"参数变量\"在5个配置文件中都出现了，那么后面的配置文件中的参数变量值 会 覆盖 前面配置文件中的参数变量值，就是说会使用~/.my.cnf中设置的值。\n",
    " \n",
    " \n",
    "*****注意*****\n",
    "   如果使用./bin/mysqld_safe 守护进程启动mysql数据库时，使用了 --defaults-file=<配置文件的绝对路径>参数，这时只会使用这个参数指定的配置文件。"
   ]
  },
  {
   "cell_type": "markdown",
   "metadata": {},
   "source": [
    "## 5.3 多实例mysql登录方法"
   ]
  },
  {
   "cell_type": "markdown",
   "metadata": {},
   "source": [
    "多实例mysql本地登录\n",
    "\n",
    "[root@mysql ~]# mysql -uroot -p -S /data/3306/mysql.sock    \n",
    "[root@mysql ~]# mysql -uroot -p -S /data/3307/mysql.sock   \n",
    "\n",
    "提示：多实例通过mysql的-S 指定不同的sock文件登录"
   ]
  },
  {
   "cell_type": "markdown",
   "metadata": {},
   "source": [
    "注意：多实例远程连接无需指定sock路径\n",
    "\n",
    "mysql -uroot -p -h 192.168.1.115 -P 3306"
   ]
  },
  {
   "cell_type": "markdown",
   "metadata": {},
   "source": [
    "# 6. 善用mysql帮助命令help"
   ]
  },
  {
   "cell_type": "markdown",
   "metadata": {},
   "source": [
    "MySQL中的help命令和linux命令行的man是类似的，想要查看MySQL中的命令使用语法，就到需要用help，help后面接相关命令及命令组合即可。例如：help create."
   ]
  },
  {
   "cell_type": "markdown",
   "metadata": {},
   "source": [
    "# 7. 设置及修改mysql管理员账号密码"
   ]
  },
  {
   "cell_type": "markdown",
   "metadata": {},
   "source": [
    "## 7.1 MySQL数据库用户安全策略介绍\n",
    "安装完mysql数据库后，默认的管理员root密码为空，很不安全，因此要设置一个密码，在安装MySQL单实例后，我们已经做了一些安全措施，例如：\n",
    "\n",
    "1. 为root设置密码\n",
    "\n",
    "2. 删除无用的mysql库内的用户账号\n",
    "\n",
    "3. 删除默认存在的test数据库"
   ]
  },
  {
   "cell_type": "markdown",
   "metadata": {},
   "source": [
    "## 7.2 删除root用户创建新的超级用户\n",
    "除了上面的方法，针对MySQL数据库的用户处理，我们还需要删除root用户，并添加新的超级用户。\n",
    "\n",
    "1. 删除所有mysql中的用户，包括root超级用户。"
   ]
  },
  {
   "cell_type": "raw",
   "metadata": {},
   "source": [
    "delete from mysql.user;"
   ]
  },
  {
   "cell_type": "markdown",
   "metadata": {},
   "source": [
    "2. 增加system并升级为超级管理员，及和root等价的用户。"
   ]
  },
  {
   "cell_type": "raw",
   "metadata": {},
   "source": [
    "grant all privileges on *.* to 'system'@'localhost' identified by '123456' with  grant option;"
   ]
  },
  {
   "cell_type": "markdown",
   "metadata": {},
   "source": [
    "## 7.3 为管理员设置密码"
   ]
  },
  {
   "cell_type": "markdown",
   "metadata": {},
   "source": [
    "1. 命令行外修改管理员root密码"
   ]
  },
  {
   "cell_type": "markdown",
   "metadata": {},
   "source": [
    "mysqladmin -uroot -p123456 password '666666' -S /data/3306/mysql.sock 使用于多实例数据库，单实例不用指定sock文件"
   ]
  },
  {
   "cell_type": "markdown",
   "metadata": {},
   "source": [
    "2. sql语句修改管理员密码"
   ]
  },
  {
   "cell_type": "raw",
   "metadata": {},
   "source": [
    "mysql> update mysql.user set password=password(\"123456\") where user='root' and host='localhost';\n",
    "Query OK, 1 row affected (0.00 sec)\n",
    "Rows matched: 1  Changed: 1  Warnings: 0\n",
    "\n",
    "mysql> flush privileges;\n",
    "Query OK, 0 rows affected (0.00 sec)"
   ]
  },
  {
   "cell_type": "markdown",
   "metadata": {},
   "source": [
    "提示：\n",
    "\n",
    "1. 必须指定where条件。\n",
    "\n",
    "2. 必须使用password()函数来加密更改密码。\n",
    "\n",
    "注意：如果是生产环境，应该起码8为数字并且有字母数字的混合。这种方法可以使用mysqld_safe的—skip-grant-tables参数找回密码。\n",
    "\n"
   ]
  },
  {
   "cell_type": "markdown",
   "metadata": {},
   "source": [
    "3. 第三个方法修改管理员密码，极少用"
   ]
  },
  {
   "cell_type": "raw",
   "metadata": {},
   "source": [
    "mysql> set password=password('123456');\n",
    "Query OK, 0 rows affected (0.02 sec)\n",
    "\n",
    "mysql> flush privileges;\n",
    "Query OK, 0 rows affected (0.00 sec)"
   ]
  },
  {
   "cell_type": "raw",
   "metadata": {},
   "source": [
    "set password for '用户名'@'IP地址' = Password('新密码');\n",
    "flush privileges;"
   ]
  },
  {
   "cell_type": "markdown",
   "metadata": {},
   "source": [
    "# 8. 找回丢失的mysql root用户密码的方法"
   ]
  },
  {
   "cell_type": "markdown",
   "metadata": {},
   "source": [
    "## 8.1 多实例MySQL启动修改丢失root密码\n",
    "1. 关闭mysql\n",
    "\n",
    "由于不知道密码只有强制关闭musql数据库\n",
    "\n",
    "killall mysqld"
   ]
  },
  {
   "cell_type": "markdown",
   "metadata": {},
   "source": [
    "2. 启动时加--skip-grant-table参数，指定3306的配置文件"
   ]
  },
  {
   "cell_type": "raw",
   "metadata": {},
   "source": [
    "[root@linzhongniao ~]# /usr/local/mysql/bin/mysqld_safe --defaults-file=/data/3306/my.cnf --skip-grant-table &\n",
    "[1] 10984\n",
    "[root@linzhongniao ~]# 181014 14:45:55 mysqld_safe Logging to '/data/3306/mysql_linzhongniao3306.err'.\n",
    "181014 14:45:55 mysqld_safe Starting mysqld daemon with databases from /data/3306/data\n",
    "\n",
    "[root@linzhongniao ~]# mysql -uroot -p -S /data/3306/mysql.sock \n",
    "Enter password: 再登录的时候不需要密码"
   ]
  },
  {
   "cell_type": "markdown",
   "metadata": {},
   "source": [
    "3. 修改数据库密码"
   ]
  },
  {
   "cell_type": "raw",
   "metadata": {},
   "source": [
    "mysql> update mysql.user set password=password(\"123456\") where user='root' and host='localhost'; \n",
    "Query OK, 1 row affected (0.00 sec)\n",
    "Rows matched: 1  Changed: 1  Warnings: 0\n",
    "\n",
    "mysql> flush privileges;\n",
    "Query OK, 0 rows affected (0.00 sec)"
   ]
  },
  {
   "cell_type": "markdown",
   "metadata": {},
   "source": [
    "4. 重启数据库，用新密码登录"
   ]
  },
  {
   "cell_type": "raw",
   "metadata": {},
   "source": [
    "/data/3306/mysql restart"
   ]
  },
  {
   "cell_type": "markdown",
   "metadata": {},
   "source": [
    "## 8.2 修改丢失的mysql单实例root密码方法"
   ]
  },
  {
   "cell_type": "raw",
   "metadata": {},
   "source": [
    "1. 首先停止数据库\n",
    "/etc/init.d/mysqld stop\n",
    "\n",
    "2. 带--skip-grant-tables启动mysql\n",
    "mysqld_safe --skip-grant-tables --user=mysql &\n",
    "\n",
    "3. 无密码即可登录mysql\n",
    "\n",
    "4. 修改root密码为新密码\n",
    "\n",
    "set password=password(\"123456\"); 不能用这种方法\n",
    "\n",
    "    ERROR 1290 (HY000): The MySQL server is running with the --skip-grant-tables option so it cannot execute this statement\n",
    "\n",
    "update mysql.user set password=password(\"123456\") where user='system' and host='localhost';\n",
    "\n",
    "flush privileges;\n",
    "\n",
    "5. 重启服务在登录\n",
    "mysqladmin -usystem -p123456 shutdown;\n",
    "/etc/init.d/mysql start\n",
    "mysql -usystem -p123456"
   ]
  },
  {
   "cell_type": "markdown",
   "metadata": {},
   "source": []
  }
 ],
 "metadata": {
  "kernelspec": {
   "display_name": "Python 3",
   "language": "python",
   "name": "python3"
  },
  "language_info": {
   "codemirror_mode": {
    "name": "ipython",
    "version": 3
   },
   "file_extension": ".py",
   "mimetype": "text/x-python",
   "name": "python",
   "nbconvert_exporter": "python",
   "pygments_lexer": "ipython3",
   "version": "3.6.5"
  }
 },
 "nbformat": 4,
 "nbformat_minor": 2
}
