{
 "cells": [
  {
   "cell_type": "markdown",
   "metadata": {},
   "source": [
    "# 1. 单实例mysql数据库启动和关闭方法"
   ]
  },
  {
   "cell_type": "markdown",
   "metadata": {},
   "source": [
    "## 1.1 启动单实例mysql"
   ]
  },
  {
   "cell_type": "raw",
   "metadata": {},
   "source": [
    "[root@localhost ~]# /etc/init.d/mysqld start\n",
    "Starting MySQL. SUCCESS!"
   ]
  },
  {
   "cell_type": "markdown",
   "metadata": {},
   "source": [
    "/etc/init.d/mysqld是一个shell启动脚本，启动后最终会调用安装目录下mysqld_safe脚本，最后调用mysqld服务启动mysql。\n",
    "\n",
    "如下，/etc/init.d/mysqld脚本中调用的mysqld_safe的程序。"
   ]
  },
  {
   "cell_type": "raw",
   "metadata": {},
   "source": [
    "[root@oldboy init.d]# cat /etc/init.d/mysqld|grep mysqld_safe -n\n",
    "279:    if test -x $bindir/mysqld_safe\n",
    "283:      $bindir/mysqld_safe --datadir=\"$datadir\" --pid-file=\"$mysqld_pid_file_path\" $other_args >/dev/null 2>&1 &\n",
    "294:      log_failure_msg \"Couldn't find MySQL server ($bindir/mysqld_safe)\""
   ]
  },
  {
   "cell_type": "markdown",
   "metadata": {},
   "source": [
    "初始化数据库时MySQL系统输出给出的启动方法"
   ]
  },
  {
   "cell_type": "raw",
   "metadata": {},
   "source": [
    "mysql_safe --user=mysql"
   ]
  },
  {
   "cell_type": "markdown",
   "metadata": {},
   "source": []
  },
  {
   "cell_type": "markdown",
   "metadata": {},
   "source": [
    "## 1.2 关闭单实例mysql"
   ]
  },
  {
   "cell_type": "raw",
   "metadata": {},
   "source": [
    "/etc/init.d/mysqld stop"
   ]
  },
  {
   "cell_type": "markdown",
   "metadata": {},
   "source": [
    "MySQL常规关闭数据库原理"
   ]
  },
  {
   "cell_type": "raw",
   "metadata": {},
   "source": [
    "[root@oldboy init.d]# sed -n '299,327p' /etc/init.d/mysqld \n",
    "    # Stop daemon. We use a signal here to avoid having to know the\n",
    "    # root password.\n",
    "\n",
    "    if test -s \"$mysqld_pid_file_path\"\n",
    "    then\n",
    "      mysqld_pid=`cat \"$mysqld_pid_file_path\"`\n",
    "\n",
    "      if (kill -0 $mysqld_pid 2>/dev/null)\n",
    "      then\n",
    "        echo $echo_n \"Shutting down MySQL\"\n",
    "        kill $mysqld_pid\n",
    "        # mysqld should remove the pid file when it exits, so wait for it.\n",
    "        wait_for_pid removed \"$mysqld_pid\" \"$mysqld_pid_file_path\"; return_value=$?\n",
    "      else\n",
    "        log_failure_msg \"MySQL server process #$mysqld_pid is not running!\"\n",
    "        rm \"$mysqld_pid_file_path\"\n",
    "      fi\n",
    "\n",
    "      # Delete lock for RedHat / SuSE\n",
    "      if test -f \"$lock_file_path\"\n",
    "      then\n",
    "        rm -f \"$lock_file_path\"\n",
    "      fi\n",
    "      exit $return_value\n",
    "    else\n",
    "      log_failure_msg \"MySQL server PID file could not be found!\"\n",
    "    fi\n",
    "    ;;\n"
   ]
  },
  {
   "cell_type": "markdown",
   "metadata": {},
   "source": [
    "## 3. 强制关闭MySQL的方法"
   ]
  },
  {
   "cell_type": "raw",
   "metadata": {},
   "source": [
    "killall mysqld\n",
    "pkill mysqld\n",
    "killall -9 mysqld\n",
    "kill pid"
   ]
  },
  {
   "cell_type": "markdown",
   "metadata": {},
   "source": [
    "## 4. 优雅关闭数据库的方法"
   ]
  },
  {
   "cell_type": "markdown",
   "metadata": {},
   "source": [
    "第一种mysqladmin方法，多实例需要指定sock文件"
   ]
  },
  {
   "cell_type": "raw",
   "metadata": {},
   "source": [
    "[root@localhost ~]# mysqladmin -uroot -p123456 shutdown  单实例\n",
    "[root@linzhongniao mysql]# mysqladmin -uroot -p123456 -S /data/3306/mysql.sock shutdown"
   ]
  },
  {
   "cell_type": "markdown",
   "metadata": {},
   "source": [
    "第二种是自带的脚本"
   ]
  },
  {
   "cell_type": "markdown",
   "metadata": {},
   "source": [
    "/etc/init.d/mysqld stop"
   ]
  },
  {
   "cell_type": "markdown",
   "metadata": {},
   "source": [
    "提示：强制关闭mysql数据库一般生产环境不用。\n",
    "\n",
    "强调：尽量不要强制关闭mysql服务，生产高并发环境可能会引起数据丢失。"
   ]
  },
  {
   "cell_type": "markdown",
   "metadata": {},
   "source": [
    "# 2. 查看mysql数据库是否启动的方法"
   ]
  },
  {
   "cell_type": "markdown",
   "metadata": {},
   "source": [
    "## 2.1 查看mysql端口"
   ]
  },
  {
   "cell_type": "raw",
   "metadata": {},
   "source": [
    "[root@oldboy 3306]# ss -lnt|grep 3306\n",
    "LISTEN     0      128                       *:3306                     *:*     "
   ]
  },
  {
   "cell_type": "markdown",
   "metadata": {},
   "source": [
    "## 2.2 查看mysql进程"
   ]
  },
  {
   "cell_type": "markdown",
   "metadata": {},
   "source": [
    "会启动两个进程第一个就是mysql_safe第二个是mysqld"
   ]
  },
  {
   "cell_type": "raw",
   "metadata": {},
   "source": [
    "[root@localhost ~]# ps -ef|grep mysql|grep -v grep\n",
    "root   2796  1  0 16:23 pts/000:00:00 /bin/sh /usr/local/mysql/bin/mysqld_safe --datadir=/usr/local/mysql/var --pid-file=/usr/local/mysql/var/localhost.localdomain.pid\n",
    "\n",
    "mysql  2912   2796  0 16:23 pts/000:00:00 /usr/local/mysql/libexec/mysqld --basedir=/usr/local/mysql --datadir=/usr/local/mysql/var --user=mysql --log-error=/usr/local/mysql/var/localhost.localdomain.err --pid-file=/usr/local/mysql/var/localhost.localdomain.pid --socket=/tmp/mysql.sock --port=3306 "
   ]
  },
  {
   "cell_type": "markdown",
   "metadata": {},
   "source": [
    "# 3. 后台初始化mysql数据库"
   ]
  },
  {
   "cell_type": "markdown",
   "metadata": {},
   "source": [
    "## 3.1 单实例初始化数据库"
   ]
  },
  {
   "cell_type": "raw",
   "metadata": {},
   "source": [
    "[root@mysql scripts]# ./mysql_install_db --basedir=/usr/local/\n",
    "mysql/ --datadir=/usr/local/mysql/data/ --user=mysql &"
   ]
  },
  {
   "cell_type": "markdown",
   "metadata": {},
   "source": [
    "## 3.2 多实例初始化数据库"
   ]
  },
  {
   "cell_type": "raw",
   "metadata": {},
   "source": [
    "[root@mysql scripts]# pwd\n",
    "/usr/local/mysql/scripts\n",
    "[root@mysql scripts]# ./mysql_install_db --basedir=/usr/local/mysql/ --datadir=/data/3306/data/ --user=mysql &"
   ]
  },
  {
   "cell_type": "markdown",
   "metadata": {},
   "source": [
    "提示：\n",
    "\n",
    "1. 当找回root密码时，会经常使用mysqld_safe –user=mysql &带参数启动\n",
    "\n",
    "2. 我们自己开发数据库启动脚本时，会用到这个方法。\n",
    "\n",
    "3. /etc/init.d/mysqld和mysqld_safe --user=mysql的启动实质一样。一般出故障的时候我们用mysqld_safe来启动，因为可以加参数。"
   ]
  },
  {
   "cell_type": "markdown",
   "metadata": {},
   "source": []
  },
  {
   "cell_type": "markdown",
   "metadata": {},
   "source": []
  },
  {
   "cell_type": "markdown",
   "metadata": {},
   "source": []
  },
  {
   "cell_type": "markdown",
   "metadata": {},
   "source": []
  },
  {
   "cell_type": "code",
   "execution_count": null,
   "metadata": {},
   "outputs": [],
   "source": []
  },
  {
   "cell_type": "markdown",
   "metadata": {},
   "source": []
  },
  {
   "cell_type": "markdown",
   "metadata": {},
   "source": []
  },
  {
   "cell_type": "markdown",
   "metadata": {},
   "source": []
  },
  {
   "cell_type": "markdown",
   "metadata": {},
   "source": []
  },
  {
   "cell_type": "markdown",
   "metadata": {},
   "source": []
  },
  {
   "cell_type": "markdown",
   "metadata": {},
   "source": []
  },
  {
   "cell_type": "markdown",
   "metadata": {},
   "source": []
  },
  {
   "cell_type": "markdown",
   "metadata": {},
   "source": []
  },
  {
   "cell_type": "markdown",
   "metadata": {},
   "source": []
  },
  {
   "cell_type": "markdown",
   "metadata": {},
   "source": []
  },
  {
   "cell_type": "markdown",
   "metadata": {},
   "source": []
  },
  {
   "cell_type": "markdown",
   "metadata": {},
   "source": []
  },
  {
   "cell_type": "markdown",
   "metadata": {},
   "source": []
  },
  {
   "cell_type": "markdown",
   "metadata": {},
   "source": []
  },
  {
   "cell_type": "markdown",
   "metadata": {},
   "source": []
  },
  {
   "cell_type": "markdown",
   "metadata": {},
   "source": []
  },
  {
   "cell_type": "markdown",
   "metadata": {},
   "source": []
  },
  {
   "cell_type": "markdown",
   "metadata": {},
   "source": []
  },
  {
   "cell_type": "markdown",
   "metadata": {},
   "source": []
  },
  {
   "cell_type": "markdown",
   "metadata": {},
   "source": []
  },
  {
   "cell_type": "markdown",
   "metadata": {},
   "source": []
  },
  {
   "cell_type": "markdown",
   "metadata": {},
   "source": []
  },
  {
   "cell_type": "markdown",
   "metadata": {},
   "source": []
  },
  {
   "cell_type": "markdown",
   "metadata": {},
   "source": []
  },
  {
   "cell_type": "markdown",
   "metadata": {},
   "source": []
  },
  {
   "cell_type": "code",
   "execution_count": null,
   "metadata": {},
   "outputs": [],
   "source": []
  }
 ],
 "metadata": {
  "kernelspec": {
   "display_name": "Python 3",
   "language": "python",
   "name": "python3"
  },
  "language_info": {
   "codemirror_mode": {
    "name": "ipython",
    "version": 3
   },
   "file_extension": ".py",
   "mimetype": "text/x-python",
   "name": "python",
   "nbconvert_exporter": "python",
   "pygments_lexer": "ipython3",
   "version": "3.6.5"
  }
 },
 "nbformat": 4,
 "nbformat_minor": 2
}
