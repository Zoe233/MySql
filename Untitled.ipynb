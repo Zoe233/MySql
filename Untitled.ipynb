{
 "cells": [
  {
   "cell_type": "markdown",
   "metadata": {},
   "source": [
    "# Lec 01 老男孩运维DBA开班"
   ]
  },
  {
   "cell_type": "markdown",
   "metadata": {},
   "source": [
    "## 非关系型数据库种类\n",
    "（1） 键值（key-value）存储数据库  \n",
    "- 键值数据库就类似传统语言中使用的哈希表，可以通过key来添加、查询或者删除数据，因为使用key主键访问，所以会获得很高的性能及扩展性。  \n",
    "- 键值（key-value）数据库主要是使用一个哈希表，这个表中有一个特定的键和一个指针指向特定的数据，key-value模型对于IT系统来说的优势在于**简单、易部署、高并发**。  \n",
    "- 典型产品：Memcached, Redis, MemcacheDB, Berkeley DB  \n",
    "        \n",
    "（2）列存储（Colum-oriented）数据库    \n",
    "- 列存储数据库将数据储存在列表（column family）中，一个列族存储经常被一起查询的相关数据。    \n",
    "- 举个例子，如果我们有一个Person类，我们通常会一起查询他们的姓名和年龄而不是薪资，这种情况下，姓名和年龄就会被放入一个列族中，而薪资则在另一个列族中。  "
   ]
  },
  {
   "cell_type": "code",
   "execution_count": null,
   "metadata": {},
   "outputs": [],
   "source": []
  }
 ],
 "metadata": {
  "kernelspec": {
   "display_name": "Python 3",
   "language": "python",
   "name": "python3"
  },
  "language_info": {
   "codemirror_mode": {
    "name": "ipython",
    "version": 3
   },
   "file_extension": ".py",
   "mimetype": "text/x-python",
   "name": "python",
   "nbconvert_exporter": "python",
   "pygments_lexer": "ipython3",
   "version": "3.6.5"
  }
 },
 "nbformat": 4,
 "nbformat_minor": 2
}
