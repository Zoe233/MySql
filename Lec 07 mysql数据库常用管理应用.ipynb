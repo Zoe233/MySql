{
 "cells": [
  {
   "cell_type": "markdown",
   "metadata": {},
   "source": [
    "# 1. 创建数据库"
   ]
  },
  {
   "cell_type": "raw",
   "metadata": {},
   "source": [
    "create database zoe; 默认数据库配置，相当于创建拉丁字符集数据库。\n",
    "create database zoe DEFAULT CHARACTER SET gbk; 创建gbk字符集数据库\n",
    "create database zoe DEFAULT CHARACTER SET utf8; 创建utf8字符集数据库\n",
    "create database zoe default character set latin1; 创建latin字符集数据库"
   ]
  },
  {
   "cell_type": "markdown",
   "metadata": {},
   "source": [
    "提示：\n",
    "\n",
    "1. 字符集的不一致是导致数据库中文内容乱码的罪魁祸首，根据开发的环境确定字符集（建议UTF8。\n",
    "\n",
    "2. 如果编译安装mysql的时候可以指定特定的字符集，以后创建对应字符集的数据库就不需要指定了。如下："
   ]
  },
  {
   "cell_type": "raw",
   "metadata": {},
   "source": [
    "    -DDEFAULT_CHARSET=utf8 \\ #指定默认字符集\n",
    "\n",
    "    -DDEFAULT_COLLATION=utf8_general_ci \\"
   ]
  },
  {
   "cell_type": "markdown",
   "metadata": {},
   "source": [
    "3. 编译的时候没有指定字符集或者指定了和程序不同的字符集，如何解决？    \n",
    "指定字符集创建数据库即可，数据库要支持创建库所需要的字符集，例如："
   ]
  },
  {
   "cell_type": "raw",
   "metadata": {},
   "source": [
    "    -DEXTRA_CHARSETS=gbk,gb2312,utf8,asci或\n",
    "    -DEXTRA_CHARSETS=all"
   ]
  },
  {
   "cell_type": "markdown",
   "metadata": {},
   "source": [
    "# 2. 查看数据库信息"
   ]
  },
  {
   "cell_type": "raw",
   "metadata": {},
   "source": [
    "show databases;\n",
    "show databases like 'zo%'"
   ]
  },
  {
   "cell_type": "markdown",
   "metadata": {},
   "source": [
    "# 3. 连接数据库"
   ]
  },
  {
   "cell_type": "markdown",
   "metadata": {},
   "source": [
    "命令：use <数据库名> 相当于linux下的cd切换目录的命令，use是切换数据库"
   ]
  },
  {
   "cell_type": "raw",
   "metadata": {},
   "source": [
    "use db_name;"
   ]
  },
  {
   "cell_type": "markdown",
   "metadata": {},
   "source": [
    "# 4. 查看当前使用库"
   ]
  },
  {
   "cell_type": "raw",
   "metadata": {},
   "source": [
    "mysql> select database();\n",
    "+------------+\n",
    "| database() |\n",
    "+------------+\n",
    "| mysql      |\n",
    "+------------+\n",
    "1 row in set (0.00 sec)"
   ]
  },
  {
   "cell_type": "markdown",
   "metadata": {},
   "source": [
    "# 5. 删除数据库"
   ]
  },
  {
   "cell_type": "raw",
   "metadata": {},
   "source": [
    "命令：drop database <数据库名>"
   ]
  },
  {
   "cell_type": "markdown",
   "metadata": {},
   "source": [
    "# 6. 查看当前数据库的版本"
   ]
  },
  {
   "cell_type": "raw",
   "metadata": {},
   "source": [
    "mysql> select version();\n",
    "+-----------+\n",
    "| version() |\n",
    "+-----------+\n",
    "| 5.5.32    |\n",
    "+-----------+\n",
    "1 row in set (0.00 sec)"
   ]
  },
  {
   "cell_type": "markdown",
   "metadata": {},
   "source": [
    "# 7. 查看当前登录数据库的用户"
   ]
  },
  {
   "cell_type": "raw",
   "metadata": {},
   "source": [
    "mysql> select user();\n",
    "+----------------+\n",
    "| user()         |\n",
    "+----------------+\n",
    "| root@localhost |\n",
    "+----------------+\n",
    "1 row in set (0.00 sec)"
   ]
  },
  {
   "cell_type": "markdown",
   "metadata": {},
   "source": [
    "# 8. 查看当前的时间"
   ]
  },
  {
   "cell_type": "raw",
   "metadata": {},
   "source": [
    "mysql> select now();\n",
    "+---------------------+\n",
    "| now()               |\n",
    "+---------------------+\n",
    "| 2019-09-03 15:20:24 |\n",
    "+---------------------+\n",
    "1 row in set (0.00 sec)"
   ]
  },
  {
   "cell_type": "markdown",
   "metadata": {},
   "source": [
    "# 9. 查看当前数据库包含的表信息"
   ]
  },
  {
   "cell_type": "raw",
   "metadata": {},
   "source": [
    "切换到指定库里面去查看\n",
    "\n",
    "mysql>show tables;\n",
    "Empty set (0.00 sec) 空表，新库还没有建表\n",
    "mysql>show tables like 'user';\n",
    "Empty set (0.00 sec)\n",
    "mysql>show tables from zoe; 查询指定数据库的表\n",
    "Empty set (0.00 sec)\n",
    "mysql>show tables in zoe;\n",
    "Empty set (0.00 sec)"
   ]
  },
  {
   "cell_type": "markdown",
   "metadata": {},
   "source": [
    "# 10. 删除mysql库的多余账号"
   ]
  },
  {
   "cell_type": "markdown",
   "metadata": {},
   "source": [
    "语法：drop user “user”@”主机域”<=注意引号可以是单引号或双引号，但是不能不加。"
   ]
  },
  {
   "cell_type": "markdown",
   "metadata": {},
   "source": [
    "注意：如果drop删除不了（一般是特殊字符或大写导致的），可以用下面方式删除。"
   ]
  },
  {
   "cell_type": "raw",
   "metadata": {},
   "source": [
    "mysql> delete from mysql.user where user=' ' and host='localhost';\n",
    "Query OK, 1 row affected (0.00 sec)\n",
    "mysql> select user,host from mysql.user;\n",
    "+------+--------------+\n",
    "| user | host |\n",
    "+------+--------------+\n",
    "| root | 127.0.0.1|\n",
    "| root | ::1  |\n",
    "|  | linzhongniao |\n",
    "| root | linzhongniao |\n",
    "| root | localhost|\n",
    "+------+--------------+\n",
    "5 rows in set (0.00 sec)\n",
    "mysql> flush privileges;\n",
    "Query OK, 0 rows affected (0.00 sec)"
   ]
  }
 ],
 "metadata": {
  "kernelspec": {
   "display_name": "Python 3",
   "language": "python",
   "name": "python3"
  },
  "language_info": {
   "codemirror_mode": {
    "name": "ipython",
    "version": 3
   },
   "file_extension": ".py",
   "mimetype": "text/x-python",
   "name": "python",
   "nbconvert_exporter": "python",
   "pygments_lexer": "ipython3",
   "version": "3.6.5"
  }
 },
 "nbformat": 4,
 "nbformat_minor": 2
}
