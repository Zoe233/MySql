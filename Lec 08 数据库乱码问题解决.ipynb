{
 "cells": [
  {
   "cell_type": "markdown",
   "metadata": {},
   "source": [
    "# 1. 在mysql数据库中插入数据不乱码的方法\n",
    "## 1.1 建立测试数据"
   ]
  },
  {
   "cell_type": "raw",
   "metadata": {},
   "source": [
    "create database test;\n",
    "show create database test\\G\n",
    "\n",
    "use test\n",
    "create table student(\n",
    "    id int(4) not null auto_increment,\n",
    "    name char(20) not null,\n",
    "    primary key(id) );\n",
    "    \n",
    "desc student;\n",
    "show create table student\\G\n",
    "\n",
    "insert into student values(1,'zhangsan'),(2,'lisi'),(3,'xiaozhang'),(4,'xiaohong');\n",
    "select * from student;\n",
    "\n",
    "insert into student values(5,'小明'),(6,'李四'),(7,'王五');\n",
    "select * from student;"
   ]
  },
  {
   "cell_type": "markdown",
   "metadata": {},
   "source": [
    "出现问题：中文内容乱码\n",
    "\n",
    "### 为什么插入中文数据会出现乱码问题呢？\n",
    "\n",
    "通过上面的例子我们可以看出**客户端字符集和库，表字符集不一样导致乱码问题**，所以我们在插入数据的时候要\n",
    "- 先查看系统字符集和客户端，库表字符集是否一样，不一样将字符集修改一致再插入数据。\n",
    "- 已经插入的数据有乱码可以将数据导出备份添加修改字符集命令后再重新导入。"
   ]
  },
  {
   "cell_type": "markdown",
   "metadata": {},
   "source": [
    "# 2. 解决数据库乱码问题"
   ]
  },
  {
   "cell_type": "markdown",
   "metadata": {},
   "source": [
    "## 2.1 set names 指定字符集"
   ]
  },
  {
   "cell_type": "markdown",
   "metadata": {},
   "source": [
    "设置MySQL客户端的字符集和建表的字符集一致。"
   ]
  },
  {
   "cell_type": "raw",
   "metadata": {},
   "source": [
    "set names latin1\n",
    "set names utf8"
   ]
  },
  {
   "cell_type": "markdown",
   "metadata": {},
   "source": [
    "## 2.2 执行sql文件"
   ]
  },
  {
   "cell_type": "markdown",
   "metadata": {},
   "source": [
    "将要更新的多个sql语句放在文本文件中如test.sql\n",
    "\n",
    "需要用system命令，执行system命令可以不退出数据库对系统的文件进行引用和查看。当然也可以退出数据库，这样会比较麻烦。"
   ]
  },
  {
   "cell_type": "raw",
   "metadata": {},
   "source": [
    "mysql> system cat test.sql\n",
    "set names latin1;\n",
    "insert into student values(8,'不认识');\n",
    "mysql> system ls;\n",
    "beifen.sh  test.sql"
   ]
  },
  {
   "cell_type": "markdown",
   "metadata": {},
   "source": [
    "在MySQL命令行中通过source调用test.sql文件插入数据\n",
    "\n",
    "用source命令执行sql文件实现对数据库的操作，可以恢复数据库的数据。  \n",
    "当然也可以退出数据库用输入重定向执行sql文件对数据库的数据进行恢复。"
   ]
  },
  {
   "cell_type": "markdown",
   "metadata": {},
   "source": [
    "## 2.3 添加字符集参数解决导入数据乱码的问题"
   ]
  },
  {
   "cell_type": "raw",
   "metadata": {},
   "source": [
    "1. 把要更新的多个SQL语句放入文本中，这次不带set names latin1\n",
    "\n",
    "insert into student values(9,'小红');\n",
    "\n",
    "2. 通过MySQL命令加上字符集参数指定latin1字符集导入test.sql\n",
    "mysql -uroot -p123456 --default-character-set=utf8 db_test < test.sql\n",
    "\n",
    "3. 通过-e参数在mysql库外查看结果\n",
    "mysql -uroot -p123456 -e \"select * from linzhongniao.student where id='9'\"\n",
    "+----+--------+\n",
    "| id | name   |\n",
    "+----+--------+\n",
    "|  9 | 小红 |\n",
    "+----+--------+"
   ]
  },
  {
   "cell_type": "markdown",
   "metadata": {},
   "source": [
    "## 2.5 小结"
   ]
  },
  {
   "cell_type": "markdown",
   "metadata": {},
   "source": [
    "1. set names utf8\n",
    "2. system cat test.sql   \n",
    "source test.sql\n",
    "3. source test.sql\n",
    "4. mysql -uroot -p --default-character-set=utf8 db_test  < test.sql\n",
    "5. 更改my.cnf：  \n",
    "    客户端client模块的参数\n",
    "            [client]\n",
    "            default-character-set=latin1\n",
    "     在服务端mysqld模块里面再指定字符集\n",
    "             [mysqld]\n",
    "            default-character-set=latin1适合5.1 及以前呢版本\n",
    "            default-character-server=latin1 适合5.5"
   ]
  }
 ],
 "metadata": {
  "kernelspec": {
   "display_name": "Python 3",
   "language": "python",
   "name": "python3"
  },
  "language_info": {
   "codemirror_mode": {
    "name": "ipython",
    "version": 3
   },
   "file_extension": ".py",
   "mimetype": "text/x-python",
   "name": "python",
   "nbconvert_exporter": "python",
   "pygments_lexer": "ipython3",
   "version": "3.6.5"
  }
 },
 "nbformat": 4,
 "nbformat_minor": 2
}
