{
 "cells": [
  {
   "cell_type": "markdown",
   "metadata": {},
   "source": [
    "# 1. 服务器宕机"
   ]
  },
  {
   "cell_type": "markdown",
   "metadata": {},
   "source": [
    "## 1.1 实验环境"
   ]
  },
  {
   "cell_type": "markdown",
   "metadata": {},
   "source": [
    "- 主服务器：mysql3306\n",
    "- 从服务器1：mysql3307\n",
    "- 从服务器2：mysql3309\n",
    "\n",
    "一主多从模式：3306--> 3307；3306 --> 3309"
   ]
  },
  {
   "cell_type": "markdown",
   "metadata": {},
   "source": [
    "### 问题：主服务器宕机，切换3307为主库\n",
    "我用的是多实例，模拟服务器宕机将3306端口数据库停掉。"
   ]
  },
  {
   "cell_type": "markdown",
   "metadata": {},
   "source": [
    "## 1.2 查看两个从库同步的状态"
   ]
  },
  {
   "cell_type": "markdown",
   "metadata": {},
   "source": [
    "查看3307线程的状态；查看3309线程的状态："
   ]
  },
  {
   "cell_type": "markdown",
   "metadata": {},
   "source": [
    "查看看两个线程的更新状态，确保所有relay log已经复制完毕，在每个从库上执行下面命令，直到看到has read all relay或者Slave has read all relay log"
   ]
  },
  {
   "cell_type": "raw",
   "metadata": {},
   "source": [
    "mysql> stop slave io_thread;\n",
    "Query OK, 0 rows affected, 1 warning (0.00 sec)\n",
    "\n",
    "mysql> show processlist\\G "
   ]
  },
  {
   "cell_type": "markdown",
   "metadata": {},
   "source": [
    "## 1.3 选择要切换的从库"
   ]
  },
  {
   "cell_type": "markdown",
   "metadata": {},
   "source": [
    "分别查看从库master.info，将binlog位置最靠前的更新最快的（即：POS最大），作为主库的从库，切换到主库，这里将3309切换为主库（仅仅是因为方便，因为3307下面还有级联的3308从库，为避免出现问题，选择3309从库）。"
   ]
  },
  {
   "cell_type": "markdown",
   "metadata": {},
   "source": [
    "可以通过show slave status; 或查看master.info文件获取binlog文件的POS的值，取比较大的值作为优先选择从库的原因。"
   ]
  },
  {
   "cell_type": "markdown",
   "metadata": {},
   "source": [
    "## 1.4 要切换的从库上的操作"
   ]
  },
  {
   "cell_type": "markdown",
   "metadata": {},
   "source": [
    "#### 1. 登录到3309从库执行下面操作："
   ]
  },
  {
   "cell_type": "raw",
   "metadata": {},
   "source": [
    "stop slave;\n",
    "reset master; \n",
    "quit"
   ]
  },
  {
   "cell_type": "markdown",
   "metadata": {},
   "source": [
    "#### 2. 删除master.info和relay-log.info"
   ]
  },
  {
   "cell_type": "markdown",
   "metadata": {},
   "source": [
    "进入到要切换主库的数据库目录中，删除master.info和relay-log.info"
   ]
  },
  {
   "cell_type": "markdown",
   "metadata": {},
   "source": [
    "#### 3. 检查授权表和read-only等参数"
   ]
  },
  {
   "cell_type": "markdown",
   "metadata": {},
   "source": [
    "将3309配置文件中的my.cnf的授权表的相关参数注释掉：\n",
    "- read-only\n",
    "- replicate_wild-ignore-table = mysql.%"
   ]
  },
  {
   "cell_type": "markdown",
   "metadata": {},
   "source": [
    "#### 4. 将3309提升为主库"
   ]
  },
  {
   "cell_type": "markdown",
   "metadata": {},
   "source": [
    "开启binlog：log-bin=/data/3309/binlog/mysql-bin"
   ]
  },
  {
   "cell_type": "markdown",
   "metadata": {},
   "source": [
    "重启数据库服务：/data/3309/mysql restart"
   ]
  },
  {
   "cell_type": "markdown",
   "metadata": {},
   "source": [
    "至此，完成将3309从库提升为主库。"
   ]
  },
  {
   "cell_type": "markdown",
   "metadata": {},
   "source": [
    "## 1.5 管理其他从库的操作"
   ]
  },
  {
   "cell_type": "markdown",
   "metadata": {},
   "source": [
    "1. 查看3307主库master的状态，记录binlog和位置\n",
    "2. change master;\n",
    "    - 将master.info 和 relay-log.info 删除，重新change master to IP，端口，用户名和密码\n",
    "    - start slave;"
   ]
  },
  {
   "cell_type": "raw",
   "metadata": {},
   "source": [
    "stop slave;\n",
    "change master to MASTER_PORT=3309;  # master.info 的配置信息可以不用删，直接改也可以\n",
    "start slave;"
   ]
  },
  {
   "cell_type": "markdown",
   "metadata": {},
   "source": [
    "-----"
   ]
  },
  {
   "cell_type": "markdown",
   "metadata": {},
   "source": [
    "# 2. 数据库宕机"
   ]
  },
  {
   "cell_type": "markdown",
   "metadata": {},
   "source": [
    "- 主库宕机，服务器还能起来登录其他从库查看线程状态，确保数据数据复制完毕。  \n",
    "- 如果没有同步完毕，登录每个仓库查看从库的主从复制状态，将没有同步的binlog数据备份，在从其中一个库补全把差距补回来（增量备份）。\n",
    "- 然后把这个从库作为主库。"
   ]
  },
  {
   "cell_type": "markdown",
   "metadata": {},
   "source": [
    "# 3. 主库以外宕机"
   ]
  },
  {
   "cell_type": "markdown",
   "metadata": {},
   "source": [
    "例如：我们有计划切换，怎么做呢\n",
    "\n",
    "1. 登录所有从库查看同步的状态，如果都一样主库锁表，要切换主库的从库关闭同步，设置同步参数change master。\n",
    "\n",
    "2. 登录所有的库查看同步状态，是否完成。"
   ]
  },
  {
   "cell_type": "markdown",
   "metadata": {},
   "source": [
    "# 4. 从库slave宕机"
   ]
  },
  {
   "cell_type": "markdown",
   "metadata": {},
   "source": [
    "恢复方法：**重做slave**\n",
    "\n",
    "1. 导入主库的数据\n",
    "\n",
    "mysql –uroot –p123456 –S /data/3307/mysql.sock < test.sql &\n",
    "\n",
    "2. 配置从库同步参数Change master\n",
    "\n",
    "mysql> CHANGE MASTER TO\n",
    " -> MASTER_HOST='192.168.130.113',   主库的IP\n",
    " -> MASTER_PORT=3306, 主库的端口，从库端口可以和主库不同\n",
    " -> MASTER_USER='rep',主库上建立的用于复制的用户rep\n",
    " -> MASTER_PASSWORD='123456', 这里是rep的密码\n",
    " -> MASTER_LOG_FILE='mysql-bin.000036',这里是show master status;查看到的二进制日志文件名称注意不能有空格。\n",
    " -> MASTER_LOG_POS=335;这里也是show master status时看到的二进制日志偏移量注意不能多空格。\n",
    "\n",
    "3. 开启从库同步开关，查看同步状态\n",
    "\n",
    "start slave;\n",
    "show slave status\\G"
   ]
  }
 ],
 "metadata": {
  "kernelspec": {
   "display_name": "Python 3",
   "language": "python",
   "name": "python3"
  },
  "language_info": {
   "codemirror_mode": {
    "name": "ipython",
    "version": 3
   },
   "file_extension": ".py",
   "mimetype": "text/x-python",
   "name": "python",
   "nbconvert_exporter": "python",
   "pygments_lexer": "ipython3",
   "version": "3.6.5"
  }
 },
 "nbformat": 4,
 "nbformat_minor": 2
}
