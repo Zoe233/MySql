{
 "cells": [
  {
   "cell_type": "markdown",
   "metadata": {},
   "source": [
    "## 1. 查看当前数据库有多少用户连接"
   ]
  },
  {
   "cell_type": "markdown",
   "metadata": {},
   "source": [
    "show processlist;\n",
    "\n",
    "Show processlist; 查看正在执行的SQL语句，看不全。   \n",
    "Show full processlist;查看正在执行的完整的SQL语句，完整显示。"
   ]
  },
  {
   "cell_type": "markdown",
   "metadata": {},
   "source": [
    "## 2. 查看数据库的所有参数信息"
   ]
  },
  {
   "cell_type": "markdown",
   "metadata": {},
   "source": [
    "show variables;"
   ]
  },
  {
   "cell_type": "markdown",
   "metadata": {},
   "source": [
    "show variables like '%log_bin%';"
   ]
  },
  {
   "cell_type": "markdown",
   "metadata": {},
   "source": [
    "## 3. 查看当前会话的状态"
   ]
  },
  {
   "cell_type": "markdown",
   "metadata": {},
   "source": [
    "show status;"
   ]
  },
  {
   "cell_type": "markdown",
   "metadata": {},
   "source": [
    "Show global status; 查看整个数据库运行的状态，很重要要分析并要做好监控。"
   ]
  },
  {
   "cell_type": "markdown",
   "metadata": {},
   "source": [
    "## 4. 动态查看整个数据库运行的状态"
   ]
  },
  {
   "cell_type": "markdown",
   "metadata": {},
   "source": [
    "show global status like '%select%';   \n",
    "show global status like '%update%';   \n",
    "show global status like '%insert%';   "
   ]
  },
  {
   "cell_type": "markdown",
   "metadata": {},
   "source": [
    "## 5. 修改数据库参数，不重启生效实践\n",
    "set global key_buffer_size=1024\\*1024\\*32不重启数据库调整数据库参数，直接生效，重启后失效。"
   ]
  },
  {
   "cell_type": "markdown",
   "metadata": {},
   "source": [
    "以key_buffer_size参数为例，key_buffer_size为myisam引擎存放索引的缓冲区\n",
    "\n",
    "1. 查看key_buffer_size的值    \n",
    "\n",
    "    [root@oldboy ~]# grep 'key_buffer' /data/3306/my.cnf\n",
    "    key_buffer_size = 16M\n",
    "    \n",
    "    root@3306 ]show variables like 'key_buffer%'\\G\n",
    "    *************************** 1. row ***************************\n",
    "    Variable_name: key_buffer_size\n",
    "            Value: 16777216\n",
    "    \n",
    "2. 修改key_buffer_size参数的值，不重启数据库生效    \n",
    "上面是查看key_buffer_size参数值的两种，要想使参数不用重启生效，那么必须把上面两种方法查看的参数值都做修改。\n",
    "\n",
    "    - 将key_buffer_size参数的值修改为32M，先修改my.cnf配置文件\n",
    "\n",
    "    [root@linzhongniao ~]# sed -i 's#key_buffer_size = 16M#key_buffer_size = 32M#g' /data/3306/my.cnf \n",
    "\n",
    "    - 还要修改mysql内置参数的值，可以用set global key_buffer_size=1024*1024*32 命令"
   ]
  },
  {
   "cell_type": "markdown",
   "metadata": {},
   "source": []
  },
  {
   "cell_type": "markdown",
   "metadata": {},
   "source": []
  },
  {
   "cell_type": "markdown",
   "metadata": {},
   "source": []
  },
  {
   "cell_type": "markdown",
   "metadata": {},
   "source": []
  },
  {
   "cell_type": "markdown",
   "metadata": {},
   "source": []
  },
  {
   "cell_type": "markdown",
   "metadata": {},
   "source": []
  }
 ],
 "metadata": {
  "kernelspec": {
   "display_name": "Python 3",
   "language": "python",
   "name": "python3"
  }
 },
 "nbformat": 4,
 "nbformat_minor": 2
}
