{
 "cells": [
  {
   "cell_type": "markdown",
   "metadata": {},
   "source": [
    "官方手册：5.7版本https://dev.mysql.com/doc/refman/5.7/en/history.html"
   ]
  },
  {
   "cell_type": "markdown",
   "metadata": {},
   "source": [
    "# 1. MySQL的内部和便携性"
   ]
  },
  {
   "cell_type": "markdown",
   "metadata": {},
   "source": [
    "1. 用C和C++编写\n",
    "2. 经过广泛的不同编译器测试\n",
    "3. 可在许多不同平台上使用\n",
    "4. 为了便于移植，请在MySQL 5.5及更高版本中使用CMake。先前的系列使用GNU Automake，Autoconf和Libtool。\n",
    "5. 已通过Purify（商用内存泄漏检测器）以及GPL工具Valgrind（http://developer.kde.org/~sewardj/）进行了测试。\n",
    "6. 使用具有独立模块的多层服务器设计。\n",
    "7. 使用具有独立模块的多层服务器设计。\n",
    "8. 提供事务性和非事务性存储引擎。\n",
    "9. 使用MyISAM索引压缩非常快的B树磁盘表（）。\n",
    "10. 旨在使其相对容易地添加其他存储引擎。如果要为内部数据库提供SQL接口，这将很有用。\n",
    "11. 使用非常快速的基于线程的内存分配系统。\n",
    "12. 使用优化的嵌套循环联接执行非常快速的联接。\n",
    "13. 使用优化的嵌套循环联接执行非常快速的联接。\n",
    "14. 使用高度优化的类库来实现SQL函数，该类库应尽可能快。通常，查询初始化后根本没有内存分配。\n",
    "15. 提供服务器作为在客户端/服务器网络环境中使用的单独程序，以及作为可嵌入（链接）到独立应用程序中的库。此类应用程序可以隔离使用，也可以在没有网络可用的环境中使用。"
   ]
  },
  {
   "cell_type": "markdown",
   "metadata": {},
   "source": [
    "# 2. 陈述和功能"
   ]
  },
  {
   "cell_type": "markdown",
   "metadata": {},
   "source": [
    "1. 查询SELECT列表和 WHERE子句中的 完全运算符和函数支持 。"
   ]
  },
  {
   "cell_type": "raw",
   "metadata": {},
   "source": [
    "mysql> SELECT CONCAT(first_name, ' ', last_name)\n",
    "    -> FROM citizen\n",
    "    -> WHERE income/dependents > 10000 AND age > 30;"
   ]
  },
  {
   "cell_type": "markdown",
   "metadata": {},
   "source": [
    "2. 完全支持SQL GROUP BY和 ORDER BY子句。支持聚合函数（COUNT()， AVG()， STD()， SUM()， MAX()， MIN()，和 GROUP_CONCAT()）。"
   ]
  },
  {
   "cell_type": "markdown",
   "metadata": {},
   "source": [
    "3. 支持LEFT OUTER JOIN和 支持RIGHT OUTER JOIN标准SQL和ODBC语法。\n",
    "\n",
    "4. 支持标准SQL要求的表和列**别名**。\n",
    "\n",
    "5. 支持DELETE， INSERT， REPLACE，和 UPDATE以返回更改（受影响）的行数，或返回通过连接到服务器时设置标志，而不是匹配的行的数量。\n",
    "\n",
    "6. 支持特定于MySQL的SHOW 语句，该语句检索有关数据库，存储引擎，表和索引的信息。支持 INFORMATION_SCHEMA数据库，根据标准SQL实现。\n",
    "\n",
    "6. 一条EXPLAIN语句，显示优化器如何解析查询。\n",
    "\n",
    "7. 函数名称与表或列名称的独立性。例如，ABS是一个有效的列名。唯一的限制是对于函数调用，函数名称和其后的“ (”之间不允许有空格 。请参见 第9.3节“关键字和保留字”。\n",
    "\n",
    "8. 您可以在同一条语句中引用来自不同数据库的表。\n"
   ]
  },
  {
   "cell_type": "markdown",
   "metadata": {},
   "source": [
    "# 3. 可扩展性和限制"
   ]
  },
  {
   "cell_type": "markdown",
   "metadata": {},
   "source": [
    "- 支持大型数据库。我们将MySQL Server与包含5000万条记录的数据库一起使用。我们也知道使用MySQL Server的用户有200,000个表和大约5,000,000,000行。\n",
    "    - 20万个表，5亿行\n",
    "\n",
    "- 每个表最多支持64个索引。每个索引可以包含1到16列或部分列。InnoDB表的最大索引宽度为767字节或3072字节。请参见 第14.6.1.6节“ InnoDB表的限制”。MyISAM表的最大索引宽度为1000字节。请参见第15.2节“ MyISAM存储引擎”。索引可使用的柱的前缀CHAR， VARCHAR， BLOB，或 TEXT列类型。"
   ]
  },
  {
   "cell_type": "markdown",
   "metadata": {},
   "source": [
    "# 4. 安全"
   ]
  },
  {
   "cell_type": "markdown",
   "metadata": {},
   "source": [
    "- 特权和密码系统，非常灵活和安全，并且可以进行基于主机的验证。\n",
    "\n",
    "- 连接服务器时，通过对所有密码通信进行加密来实现密码安全。"
   ]
  },
  {
   "cell_type": "markdown",
   "metadata": {},
   "source": []
  },
  {
   "cell_type": "markdown",
   "metadata": {},
   "source": []
  },
  {
   "cell_type": "markdown",
   "metadata": {},
   "source": []
  },
  {
   "cell_type": "markdown",
   "metadata": {},
   "source": []
  },
  {
   "cell_type": "markdown",
   "metadata": {},
   "source": []
  },
  {
   "cell_type": "markdown",
   "metadata": {},
   "source": []
  },
  {
   "cell_type": "markdown",
   "metadata": {},
   "source": []
  },
  {
   "cell_type": "markdown",
   "metadata": {},
   "source": []
  },
  {
   "cell_type": "markdown",
   "metadata": {},
   "source": []
  },
  {
   "cell_type": "markdown",
   "metadata": {},
   "source": []
  },
  {
   "cell_type": "markdown",
   "metadata": {},
   "source": []
  },
  {
   "cell_type": "markdown",
   "metadata": {},
   "source": []
  },
  {
   "cell_type": "code",
   "execution_count": null,
   "metadata": {},
   "outputs": [],
   "source": []
  }
 ],
 "metadata": {
  "kernelspec": {
   "display_name": "Python 3",
   "language": "python",
   "name": "python3"
  },
  "language_info": {
   "codemirror_mode": {
    "name": "ipython",
    "version": 3
   },
   "file_extension": ".py",
   "mimetype": "text/x-python",
   "name": "python",
   "nbconvert_exporter": "python",
   "pygments_lexer": "ipython3",
   "version": "3.6.5"
  }
 },
 "nbformat": 4,
 "nbformat_minor": 2
}
