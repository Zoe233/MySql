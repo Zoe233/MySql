{
 "cells": [
  {
   "cell_type": "markdown",
   "metadata": {},
   "source": [
    "# 一、内连接"
   ]
  },
  {
   "cell_type": "markdown",
   "metadata": {},
   "source": [
    "## 1. 通过=比较运算符连接"
   ]
  },
  {
   "cell_type": "markdown",
   "metadata": {},
   "source": [
    "内连接通过比较运算符在不同的表之间操作，并列出不同的表中连接条件相同的数据行，将其拼接成新的记录。\n",
    "\n",
    "也就是说，只有满足条件的记录才能出现在结果关系中。"
   ]
  },
  {
   "cell_type": "raw",
   "metadata": {},
   "source": [
    "select * from tb1,tb2 where tb1.id=tb2.id;"
   ]
  },
  {
   "cell_type": "markdown",
   "metadata": {},
   "source": [
    "## 2. 通过join实现内连接查询；"
   ]
  },
  {
   "cell_type": "markdown",
   "metadata": {},
   "source": [
    "通过join关键字进行连接查询。"
   ]
  },
  {
   "cell_type": "raw",
   "metadata": {},
   "source": [
    "select * from tb1 inner join tb2 where tb1.id=tb2.id;"
   ]
  },
  {
   "cell_type": "markdown",
   "metadata": {},
   "source": [
    "## 3. 两种连接方式对比"
   ]
  },
  {
   "cell_type": "markdown",
   "metadata": {},
   "source": [
    "两种写法的对比：\n",
    "- 使用WHERE字句定义条件比较简单明了，而使用 INNER JOIN 查询的优势在于不会忘记连接条件。\n",
    "- 另外，WHERE在某些时候会影响查询的性能。"
   ]
  },
  {
   "cell_type": "markdown",
   "metadata": {},
   "source": [
    "## 4. 自连接查询"
   ]
  },
  {
   "cell_type": "markdown",
   "metadata": {},
   "source": [
    "如果一个查询中，涉及的两个表都是同一个表，那么这种查询称之为**自连接查询**。\n",
    "\n",
    "自连接查询是一种特殊的内连接，它指相互连接的表在物理上为同一张表，但在逻辑上可以分为两张表。\n",
    "\n",
    "自连接的使用条件是，当某张表里的字段  指向的还是 当前表里的另外一个字段。"
   ]
  },
  {
   "cell_type": "markdown",
   "metadata": {},
   "source": [
    "select * from t_employ as t1 join t_employ as t2 on t1.id=t2.did;"
   ]
  },
  {
   "cell_type": "markdown",
   "metadata": {},
   "source": [
    "---"
   ]
  },
  {
   "cell_type": "markdown",
   "metadata": {},
   "source": [
    "# 二、外连接"
   ]
  },
  {
   "cell_type": "markdown",
   "metadata": {},
   "source": [
    "如果说内连接是在当前表中进行自己跟自己连接，那么外连接就是在多个表之间进行连接。"
   ]
  },
  {
   "cell_type": "markdown",
   "metadata": {},
   "source": [
    "内连接会忽略符合不符合连接条件的记录，但有时候需要包含没有关联的记录中的数据。"
   ]
  },
  {
   "cell_type": "markdown",
   "metadata": {},
   "source": [
    "- LEFT JOIN     \n",
    "    - 左连接：返回包括左表中的所有记录和右表中连接字段相等的记录。\n",
    "\n",
    "- RIGHT JOIN  \n",
    "    - 右连接：返回包括右表中的所有记录和左表中连接字段相等的记录。"
   ]
  },
  {
   "cell_type": "markdown",
   "metadata": {},
   "source": [
    "## 1. 左连接left join"
   ]
  },
  {
   "cell_type": "markdown",
   "metadata": {},
   "source": [
    "如果左表的某行在右表中没有匹配行，则在相关联的结果行中，右表的所有列的值均为NULL。"
   ]
  },
  {
   "cell_type": "markdown",
   "metadata": {},
   "source": [
    "有外键关联的表之间是通过从表外键指向主表主键之间形成数据关联关系的。  \n",
    "而外连接可以通过相同语义的列进行连接操作，不需要它们一定有外键关联的关系。"
   ]
  },
  {
   "cell_type": "markdown",
   "metadata": {},
   "source": [
    "## 2. 右连接right join"
   ]
  },
  {
   "cell_type": "markdown",
   "metadata": {},
   "source": [
    "右连接是左连接的反向连接，将返回右表中的所有记录。如果右表的某行在左表中没有匹配行，左表将返回空值。"
   ]
  },
  {
   "cell_type": "markdown",
   "metadata": {},
   "source": [
    "原来右查询就是把右表中的纪录一条一条的拿到左表中做连接查询，如果能够按照指定的连接条件连接成功，则返回相关的连接后的记录。\n",
    "\n",
    "如果右表的某条记录按照指定的连接条件，在左表中却没有找到可以连接的记录，那么就用NULL来补充左表的数据。\n",
    "\n",
    "一条右表的记录，可能会连接多个左表的记录，那么就分别返回连接后的记录。\n"
   ]
  }
 ],
 "metadata": {
  "kernelspec": {
   "display_name": "Python 3",
   "language": "python",
   "name": "python3"
  },
  "language_info": {
   "codemirror_mode": {
    "name": "ipython",
    "version": 3
   },
   "file_extension": ".py",
   "mimetype": "text/x-python",
   "name": "python",
   "nbconvert_exporter": "python",
   "pygments_lexer": "ipython3",
   "version": "3.6.5"
  }
 },
 "nbformat": 4,
 "nbformat_minor": 2
}
