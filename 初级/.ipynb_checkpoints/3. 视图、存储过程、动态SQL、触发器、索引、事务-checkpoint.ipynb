{
 "cells": [
  {
   "cell_type": "markdown",
   "metadata": {},
   "source": [
    "# 1. 视图"
   ]
  },
  {
   "cell_type": "markdown",
   "metadata": {},
   "source": [
    "视图是一个虚拟表（非真实存在），其本质是【根据SQL语句获取动态的数据集，并为其命名】，用户使用时只需使用【名称】即可获取结果集，并可以将其当作表来使用。\n",
    "\n",
    "- 临时表\n",
    "- 只能查\n",
    "-  执行时才获取数据"
   ]
  },
  {
   "cell_type": "markdown",
   "metadata": {},
   "source": [
    "临时表搜索："
   ]
  },
  {
   "cell_type": "raw",
   "metadata": {},
   "source": [
    "SELECT\n",
    "    *\n",
    "FROM\n",
    "    (\n",
    "        SELECT\n",
    "            nid,\n",
    "            NAME\n",
    "        FROM\n",
    "            tb1\n",
    "        WHERE\n",
    "            nid > 2\n",
    "    ) AS A\n",
    "WHERE\n",
    "    A. NAME > 'alex';"
   ]
  },
  {
   "cell_type": "markdown",
   "metadata": {},
   "source": [
    "## 1.1 创建视图"
   ]
  },
  {
   "cell_type": "markdown",
   "metadata": {},
   "source": [
    "格式：\n",
    "    CREATE VIEW 视图名称 AS  SQL语句"
   ]
  },
  {
   "cell_type": "markdown",
   "metadata": {},
   "source": [
    "定义一个名称：\n",
    "    a. 定义对应关系，# 视图--不是真实的表\n",
    "    \n",
    "        temp1 <---> select * from score where course_id in (1,2)\n",
    "        \n",
    "数据是动态的，每次调用视图都会重新执行查询。\n",
    "\n",
    "视图的功能只是方便写SQL语句。\n",
    "    \n",
    "\n"
   ]
  },
  {
   "cell_type": "markdown",
   "metadata": {},
   "source": [
    "创建视图示例："
   ]
  },
  {
   "cell_type": "raw",
   "metadata": {},
   "source": [
    "CREATE VIEW v1 AS \n",
    "SELET \n",
    "    nid, name\n",
    "FROM\n",
    "    A\n",
    "WHERE\n",
    "    nid > 4"
   ]
  },
  {
   "cell_type": "markdown",
   "metadata": {},
   "source": [
    "## 1.2 删除视图"
   ]
  },
  {
   "cell_type": "markdown",
   "metadata": {},
   "source": [
    "格式：DROP VIEW 视图名称"
   ]
  },
  {
   "cell_type": "markdown",
   "metadata": {},
   "source": [
    "DROP VIEW v1"
   ]
  },
  {
   "cell_type": "markdown",
   "metadata": {},
   "source": [
    "## 1.3 修改视图"
   ]
  },
  {
   "cell_type": "markdown",
   "metadata": {},
   "source": [
    "格式：ALTER VIEW 视图名称 AS SQL语句"
   ]
  },
  {
   "cell_type": "raw",
   "metadata": {},
   "source": [
    "ALTER VIEW v1 AS\n",
    "SELET A.nid,\n",
    "    B. NAME\n",
    "FROM\n",
    "    A\n",
    "LEFT JOIN B ON A.id = B.nid\n",
    "LEFT JOIN C ON A.id = C.nid\n",
    "WHERE\n",
    "    A.id > 2\n",
    "AND C.nid < 5"
   ]
  },
  {
   "cell_type": "markdown",
   "metadata": {},
   "source": [
    "## 1.4 使用视图"
   ]
  },
  {
   "cell_type": "markdown",
   "metadata": {},
   "source": [
    "使用视图时，将其当作表进行操作即可，由于视图是虚拟表，所以无法使用其对真实表进行创建、更新和删除操作，仅能做查询用。"
   ]
  },
  {
   "cell_type": "markdown",
   "metadata": {},
   "source": [
    "select * from v1"
   ]
  },
  {
   "cell_type": "markdown",
   "metadata": {},
   "source": [
    "-----"
   ]
  },
  {
   "cell_type": "markdown",
   "metadata": {},
   "source": [
    "# 2. 触发器"
   ]
  },
  {
   "cell_type": "markdown",
   "metadata": {},
   "source": [
    "对某个表进行【增/删/改】操作的前后如果希望触发某个特定的行为时，可以使用触发器，触发器用于定制用户对表的行进行【增/删/改】前后的行为。"
   ]
  },
  {
   "cell_type": "raw",
   "metadata": {},
   "source": [
    "a. 为某一个表：\n",
    "        insert 前后\n",
    "        update 前后\n",
    "        delete 前后\n",
    "b. OLD，NEW\n",
    "    \n",
    "c. 删除多行，插入，更新\n",
    "        for 多行：\n",
    "            OLD，NEW\n",
    "    \n",
    "    # 删除之前，将删除的值添加到另外一张表\n",
    "    delete from tb1 where nid = 1\n",
    "    -- 张二狗 =>tb2\n",
    "    delete from tb1： OLD\n",
    "    -- 张二狗 =>tb2\n",
    "    -- 张三狗 =>tb2\n",
    "    -- 张四狗 =>tb2\n",
    "    -- 张六狗 =>tb2"
   ]
  },
  {
   "cell_type": "markdown",
   "metadata": {},
   "source": [
    "## 2.1 创建触发器"
   ]
  },
  {
   "cell_type": "markdown",
   "metadata": {},
   "source": [
    "### 创建基础语法"
   ]
  },
  {
   "cell_type": "raw",
   "metadata": {},
   "source": [
    "# 插入前\n",
    "CREATE TRIGGER tri_before_insert_tb1 BEFORE INSERT ON tb1 FOR EACH ROW\n",
    "BEGIN\n",
    "    ...\n",
    "END\n",
    "\n",
    "# 插入后\n",
    "CREATE TRIGGER tri_after_insert_tb1 AFTER INSERT ON tb1 FOR EACH ROW\n",
    "BEGIN\n",
    "    ...\n",
    "END\n",
    "\n",
    "# 删除前\n",
    "CREATE TRIGGER tri_before_delete_tb1 BEFORE DELETE ON tb1 FOR EACH ROW\n",
    "BEGIN\n",
    "    ...\n",
    "END\n",
    "\n",
    "# 删除后\n",
    "CREATE TRIGGER tri_after_delete_tb1 AFTER DELETE ON tb1 FOR EACH ROW\n",
    "BEGIN\n",
    "    ...\n",
    "END\n",
    "\n",
    "# 更新前\n",
    "CREATE TRIGGER tri_before_update_tb1 BEFORE UPDATE ON tb1 FOR EACH ROW\n",
    "BEGIN\n",
    "    ...\n",
    "END\n",
    "\n",
    "# 更新后\n",
    "CREATE TRIGGER tri_after_update_tb1 AFTER UPDATE ON tb1 FOR EACH ROW\n",
    "BEGIN\n",
    "    ...\n",
    "END"
   ]
  },
  {
   "cell_type": "markdown",
   "metadata": {},
   "source": [
    "### 插入前触发器"
   ]
  },
  {
   "cell_type": "raw",
   "metadata": {},
   "source": [
    "delimiter //\n",
    "CREATE TRIGGER tri_before_insert_tb1 BEFORE INSERT ON tb1 FOR EACH ROW\n",
    "BEGIN\n",
    "\n",
    "IF NEW. NAME == 'alex' THEN\n",
    "    INSERT INTO tb2 (NAME)\n",
    "VALUES\n",
    "    ('aa')\n",
    "END\n",
    "END//\n",
    "delimiter ;\n"
   ]
  },
  {
   "cell_type": "markdown",
   "metadata": {},
   "source": [
    "### 插入后触发器"
   ]
  },
  {
   "cell_type": "raw",
   "metadata": {},
   "source": [
    "delimiter //\n",
    "CREATE TRIGGER tri_after_insert_tb1 AFTER INSERT ON tb1 FOR EACH ROW\n",
    "BEGIN\n",
    "    IF NEW. num = 666 THEN\n",
    "        INSERT INTO tb2 (NAME)\n",
    "        VALUES\n",
    "            ('666'),\n",
    "            ('666') ;\n",
    "    ELSEIF NEW. num = 555 THEN\n",
    "        INSERT INTO tb2 (NAME)\n",
    "        VALUES\n",
    "            ('555'),\n",
    "            ('555') ;\n",
    "    END IF;\n",
    "END//\n",
    "delimiter ;"
   ]
  },
  {
   "cell_type": "markdown",
   "metadata": {},
   "source": [
    "特别的：NEW表示即将插入的数据行，OLD表示即将删除的数据行。"
   ]
  },
  {
   "cell_type": "markdown",
   "metadata": {},
   "source": [
    "## 2.2 删除触发器"
   ]
  },
  {
   "cell_type": "markdown",
   "metadata": {},
   "source": [
    "DROP TRIGGER tri_after_insert_tb1;"
   ]
  },
  {
   "cell_type": "markdown",
   "metadata": {},
   "source": [
    "## 2.3 使用触发器"
   ]
  },
  {
   "cell_type": "markdown",
   "metadata": {},
   "source": [
    "触发器无法由用户直接调用，而是由于对表的【增/删/改】操作被动引发的。"
   ]
  },
  {
   "cell_type": "markdown",
   "metadata": {},
   "source": [
    "insert into tb1(num) values(666)"
   ]
  },
  {
   "cell_type": "markdown",
   "metadata": {},
   "source": [
    "-----"
   ]
  },
  {
   "cell_type": "markdown",
   "metadata": {},
   "source": [
    "# 3. 存储过程"
   ]
  },
  {
   "cell_type": "markdown",
   "metadata": {},
   "source": [
    "存储过程是一个SQL语句集合，当主动去调用存储过程时，其中内部的SQL语句会按照逻辑执行。"
   ]
  },
  {
   "cell_type": "markdown",
   "metadata": {},
   "source": [
    "- 可写复杂逻辑\n",
    "- 参数：in   out   inout\n",
    "- 结果集：select ..."
   ]
  },
  {
   "cell_type": "markdown",
   "metadata": {},
   "source": [
    "## 3.1 创建存储过程"
   ]
  },
  {
   "cell_type": "markdown",
   "metadata": {},
   "source": [
    "### 无参数存储过程示例："
   ]
  },
  {
   "cell_type": "raw",
   "metadata": {},
   "source": [
    "-- 创建存储过程\n",
    "\n",
    "delimiter //\n",
    "create procedure p1()\n",
    "BEGIN\n",
    "    select * from t1;\n",
    "    select * from t2;\n",
    "END//\n",
    "delimiter ;\n",
    "\n",
    "-- 执行存储过程\n",
    "\n",
    "call p1()\n"
   ]
  },
  {
   "cell_type": "markdown",
   "metadata": {},
   "source": [
    "注意：写存储过程中时刻注意语法。"
   ]
  },
  {
   "cell_type": "markdown",
   "metadata": {},
   "source": [
    "对于存储过程，可以接收参数，其**参数**有三类：\n",
    "\n",
    "- in          仅用于传入参数用\n",
    "- out        仅用于返回值用\n",
    "- inout     既可以传入又可以当作返回值"
   ]
  },
  {
   "cell_type": "markdown",
   "metadata": {},
   "source": [
    "示例：创建存储过程，带参数的"
   ]
  },
  {
   "cell_type": "raw",
   "metadata": {},
   "source": [
    "-- 创建存储过程\n",
    "delimiter \\\\\n",
    "create procedure p1(\n",
    "    in i1 int,\n",
    "    in i2 int,\n",
    "    inout i3 int,\n",
    "    out r1 int\n",
    ")\n",
    "BEGIN\n",
    "    DECLARE temp1 int;\n",
    "    DECLARE temp2 int default 0;\n",
    "    \n",
    "    set temp1 = 1;\n",
    "\n",
    "    set r1 = i1 + i2 + temp1 + temp2;\n",
    "    \n",
    "    set i3 = i3 + 100;\n",
    "\n",
    "end\\\\\n",
    "delimiter ;\n",
    "\n",
    "-- 执行存储过程\n",
    "set @t1 =4;\n",
    "set @t2 = 0;\n",
    "CALL p1 (1, 2 ,@t1, @t2);\n",
    "SELECT @t1,@t2;"
   ]
  },
  {
   "cell_type": "markdown",
   "metadata": {},
   "source": [
    "- DECLARE 在存储过程内部声明变量时，必须使用\n",
    "    - DECLARE temp1 int; 相当于python中的 temp1 = 0\n",
    "    - DECLARE temp2 int default 0; 相当于python中的 temp2=0"
   ]
  },
  {
   "cell_type": "markdown",
   "metadata": {},
   "source": [
    "#### 结果集："
   ]
  },
  {
   "cell_type": "raw",
   "metadata": {},
   "source": [
    "delimiter //\n",
    "    create procedure p1()\n",
    "begin\n",
    "    select * from v1;\n",
    "end //\n",
    "delimiter ;"
   ]
  },
  {
   "cell_type": "markdown",
   "metadata": {},
   "source": [
    "结果集中只能有一个select的结果集，如果想要多个表的内容，可以自己做好连接等各种处理再返回一个结果集。"
   ]
  },
  {
   "cell_type": "markdown",
   "metadata": {},
   "source": [
    "####  结果集+out值"
   ]
  },
  {
   "cell_type": "raw",
   "metadata": {},
   "source": [
    "delimiter //\n",
    "create procedure p2(\n",
    "    in n1 int,\n",
    "    inout n3 int,\n",
    "    out n2 int,\n",
    ")\n",
    "begin\n",
    "    declare temp1 int ;\n",
    "    declare temp2 int default 0;\n",
    "    \n",
    "    select * from v1;\n",
    "    \n",
    "    set n2 = n1 + 100;\n",
    "    set n3 = n3 + n1 + 100;\n",
    "    \n",
    "end //\n",
    "delimiter ;"
   ]
  },
  {
   "cell_type": "markdown",
   "metadata": {},
   "source": [
    "#### 事务"
   ]
  },
  {
   "cell_type": "raw",
   "metadata": {},
   "source": [
    "delimiter \\\\\n",
    "                        create PROCEDURE p1(\n",
    "                            OUT p_return_code tinyint\n",
    "                        )\n",
    "                        BEGIN \n",
    "                          DECLARE exit handler for sqlexception \n",
    "                          BEGIN \n",
    "                            -- ERROR \n",
    "                            set p_return_code = 1; \n",
    "                            rollback; \n",
    "                          END; \n",
    "                         \n",
    "                          DECLARE exit handler for sqlwarning \n",
    "                          BEGIN \n",
    "                            -- WARNING \n",
    "                            set p_return_code = 2; \n",
    "                            rollback; \n",
    "                          END; \n",
    "                         \n",
    "                          START TRANSACTION; \n",
    "                            DELETE from tb1;\n",
    "                            insert into tb2(name)values('seven');\n",
    "                          COMMIT; \n",
    "                         \n",
    "                          -- SUCCESS \n",
    "                          set p_return_code = 0; \n",
    "                         \n",
    "                          END\\\\\n",
    "                    delimiter ;"
   ]
  },
  {
   "cell_type": "markdown",
   "metadata": {},
   "source": [
    "#### 游标"
   ]
  },
  {
   "cell_type": "raw",
   "metadata": {},
   "source": [
    "delimiter //\n",
    "                    create procedure p3()\n",
    "                    begin \n",
    "                        declare ssid int; -- 自定义变量1  \n",
    "                        declare ssname varchar(50); -- 自定义变量2  \n",
    "                        DECLARE done INT DEFAULT FALSE;\n",
    "\n",
    "\n",
    "                        DECLARE my_cursor CURSOR FOR select sid,sname from student;\n",
    "                        DECLARE CONTINUE HANDLER FOR NOT FOUND SET done = TRUE;\n",
    "                        \n",
    "                        open my_cursor;\n",
    "                            xxoo: LOOP\n",
    "                                fetch my_cursor into ssid,ssname;\n",
    "                                if done then \n",
    "                                    leave xxoo;\n",
    "                                END IF;\n",
    "                                insert into teacher(tname) values(ssname);\n",
    "                            end loop xxoo;\n",
    "                        close my_cursor;\n",
    "                    end  //\n",
    "                    delimter ;\n",
    "\n"
   ]
  },
  {
   "cell_type": "markdown",
   "metadata": {},
   "source": [
    "#### 动态执行SQL"
   ]
  },
  {
   "cell_type": "raw",
   "metadata": {},
   "source": [
    "delimiter \\\\\n",
    "                    CREATE PROCEDURE p4 (\n",
    "                        in nid int\n",
    "                    )\n",
    "                    BEGIN\n",
    "                        PREPARE prod FROM 'select * from student where sid > ?';\n",
    "                        EXECUTE prod USING @nid;\n",
    "                        DEALLOCATE prepare prod; \n",
    "                    END\\\\\n",
    "                    delimiter ;\n",
    "\n"
   ]
  },
  {
   "cell_type": "markdown",
   "metadata": {},
   "source": []
  },
  {
   "cell_type": "markdown",
   "metadata": {},
   "source": []
  },
  {
   "cell_type": "markdown",
   "metadata": {},
   "source": [
    "## 2.2 删除存储过程"
   ]
  },
  {
   "cell_type": "markdown",
   "metadata": {},
   "source": [
    "drop procedure proc_name;"
   ]
  },
  {
   "cell_type": "markdown",
   "metadata": {},
   "source": [
    "## 2.3 执行存储过程"
   ]
  },
  {
   "cell_type": "markdown",
   "metadata": {},
   "source": [
    "-- 无参数\n",
    "call proc_name()\n",
    "\n",
    "-- 有参数，全in\n",
    "call proc_name(1,2)\n",
    "\n",
    "-- 有参数，有in，out，inout\n",
    "set @t1=0;\n",
    "set @t2=3;\n",
    "call proc_name(1,2,@t1,@t2)"
   ]
  },
  {
   "cell_type": "markdown",
   "metadata": {},
   "source": [
    "#### pymysql执行存储过程："
   ]
  },
  {
   "cell_type": "raw",
   "metadata": {},
   "source": [
    "#!/usr/bin/env python\n",
    "# -*- coding:utf-8 -*-\n",
    "import pymysql\n",
    "\n",
    "conn = pymysql.connect(host='127.0.0.1', port=3306, user='root', passwd='123', db='t1')\n",
    "cursor = conn.cursor(cursor=pymysql.cursors.DictCursor)\n",
    "\n",
    "# 执行存储过程,获取存储过程的结果集，将返回值设置给了  @_存储过程名_序号 =\n",
    "r1 = cursor.callproc('p11', args=(1, 22, 3, 4))\n",
    "# set @_p11_0 = 1\n",
    "# set @_p11_1 = 22\n",
    "# set @_p11_2 = 3\n",
    "# set @_p11_3 = 4\n",
    "# call p11(1, 22, 3, 4)\n",
    "print(r1)\n",
    "\n",
    "# 除了获取变量值，还可以获取select结果集\n",
    "result1 = cursor.fetchall()\n",
    "print(result1)\n",
    "\n",
    "# 获取执行完存储的参数\n",
    "r2 = cursor.execute(\"select @_p11_0,@_p11_1,@_p11_2,@_p11_3\")\n",
    "print(r2)\n",
    "result2 = cursor.fetchall()\n",
    "print(result2)\n",
    "conn.commit()\n",
    "cursor.close()\n",
    "conn.close()"
   ]
  },
  {
   "cell_type": "markdown",
   "metadata": {},
   "source": [
    "# 4. 函数"
   ]
  },
  {
   "cell_type": "markdown",
   "metadata": {},
   "source": [
    "- 内置函数\n",
    "- 自定义函数"
   ]
  },
  {
   "cell_type": "markdown",
   "metadata": {},
   "source": [
    "MySQL中提供了许多内置函数，例如："
   ]
  },
  {
   "cell_type": "raw",
   "metadata": {},
   "source": [
    "CHAR_LENGTH(str)\n",
    "        返回值为字符串str 的长度，长度的单位为字符。一个多字节字符算作一个单字符。\n",
    "        对于一个包含五个二字节字符集, LENGTH()返回值为 10, 而CHAR_LENGTH()的返回值为5。\n",
    "\n",
    "CONCAT(str1,str2,...)\n",
    "        字符串拼接\n",
    "        如有任何一个参数为NULL ，则返回值为 NULL。\n",
    "    \n",
    "CONCAT_WS(separator,str1,str2,...)\n",
    "        字符串拼接（自定义连接符）\n",
    "        CONCAT_WS()不会忽略任何空字符串。 (然而会忽略所有的 NULL）。\n",
    "\n",
    "CONV(N,from_base,to_base)\n",
    "        进制转换\n",
    "        例如：\n",
    "            SELECT CONV('a',16,2); 表示将 a 由16进制转换为2进制字符串表示\n",
    "\n",
    "FORMAT(X,D)\n",
    "        将数字X 的格式写为'#,###,###.##',以四舍五入的方式保留小数点后 D 位， 并将结果以字符串的形式返回。若  D 为 0, 则返回结果不带有小数点，或不含小数部分。\n",
    "        例如：\n",
    "            SELECT FORMAT(12332.1,4); 结果为： '12,332.1000'\n",
    "    \n",
    "INSERT(str,pos,len,newstr)\n",
    "        在str的指定位置插入字符串\n",
    "            pos：要替换位置其实位置\n",
    "            len：替换的长度\n",
    "            newstr：新字符串\n",
    "        特别的：\n",
    "            如果pos超过原字符串长度，则返回原字符串\n",
    "            如果len超过原字符串长度，则由新字符串完全替换\n",
    "   \n",
    "INSTR(str,substr)\n",
    "        返回字符串 str 中子字符串的第一个出现位置。\n",
    "\n",
    "LEFT(str,len)\n",
    "        返回字符串str 从开始的len位置的子序列字符。\n",
    "\n",
    "LOWER(str)\n",
    "        变小写\n",
    "\n",
    "UPPER(str)\n",
    "        变大写\n",
    "\n",
    "LTRIM(str)\n",
    "        返回字符串 str ，其引导空格字符被删除。\n",
    "RTRIM(str)\n",
    "        返回字符串 str ，结尾空格字符被删去。\n",
    "SUBSTRING(str,pos,len)\n",
    "        获取字符串子序列\n",
    "\n",
    "LOCATE(substr,str,pos)\n",
    "        获取子序列索引位置\n",
    "\n",
    "REPEAT(str,count)\n",
    "        返回一个由重复的字符串str 组成的字符串，字符串str的数目等于count 。\n",
    "        若 count <= 0,则返回一个空字符串。\n",
    "        若str 或 count 为 NULL，则返回 NULL 。\n",
    "    \n",
    "REPLACE(str,from_str,to_str)\n",
    "        返回字符串str 以及所有被字符串to_str替代的字符串from_str 。\n",
    "    \n",
    "REVERSE(str)\n",
    "        返回字符串 str ，顺序和字符顺序相反。\n",
    "   \n",
    "RIGHT(str,len)\n",
    "        从字符串str 开始，返回从后边开始len个字符组成的子序列\n",
    "\n",
    "SPACE(N)\n",
    "        返回一个由N空格组成的字符串。\n",
    "\n",
    "SUBSTRING(str,pos) , SUBSTRING(str FROM pos) SUBSTRING(str,pos,len) , SUBSTRING(str FROM pos FOR len)\n",
    "        不带有len 参数的格式从字符串str返回一个子字符串，起始于位置 pos。带有len参数的格式从字符串str返回一个长度同len字符相同的子字符串，起始于位置 pos。 使用 FROM的格式为标准 SQL 语法。也可能对pos使用一个负值。假若这样，则子字符串的位置起始于字符串结尾的pos 字符，而不是字符串的开头位置。在以下格式的函数中可以对pos 使用一个负值。\n",
    "\n",
    "        mysql> SELECT SUBSTRING('Quadratically',5);\n",
    "            -> 'ratically'\n",
    "\n",
    "        mysql> SELECT SUBSTRING('foobarbar' FROM 4);\n",
    "            -> 'barbar'\n",
    "\n",
    "        mysql> SELECT SUBSTRING('Quadratically',5,6);\n",
    "            -> 'ratica'\n",
    "\n",
    "        mysql> SELECT SUBSTRING('Sakila', -3);\n",
    "            -> 'ila'\n",
    "\n",
    "        mysql> SELECT SUBSTRING('Sakila', -5, 3);\n",
    "            -> 'aki'\n",
    "\n",
    "        mysql> SELECT SUBSTRING('Sakila' FROM -4 FOR 2);\n",
    "            -> 'ki'\n",
    "\n",
    "TRIM([{BOTH | LEADING | TRAILING} [remstr] FROM] str) TRIM(remstr FROM] str)\n",
    "        返回字符串 str ， 其中所有remstr 前缀和/或后缀都已被删除。若分类符BOTH、LEADIN或TRAILING中没有一个是给定的,则假设为BOTH 。 remstr 为可选项，在未指定情况下，可删除空格。\n",
    "\n",
    "        mysql> SELECT TRIM('  bar   ');\n",
    "                -> 'bar'\n",
    "\n",
    "        mysql> SELECT TRIM(LEADING 'x' FROM 'xxxbarxxx');\n",
    "                -> 'barxxx'\n",
    "\n",
    "        mysql> SELECT TRIM(BOTH 'x' FROM 'xxxbarxxx');\n",
    "                -> 'bar'\n",
    "\n",
    "        mysql> SELECT TRIM(TRAILING 'xyz' FROM 'barxxyz');\n",
    "                -> 'barx'\n"
   ]
  },
  {
   "cell_type": "markdown",
   "metadata": {},
   "source": [
    "### 1. 自定义函数"
   ]
  },
  {
   "cell_type": "raw",
   "metadata": {},
   "source": [
    "delimiter \\\\\n",
    "create function f1(\n",
    "    i1 int,\n",
    "    i2 int)\n",
    "returns int\n",
    "BEGIN\n",
    "    declare num int;\n",
    "    set num = i1 + i2;\n",
    "    return(num);\n",
    "END \\\\\n",
    "delimiter ;"
   ]
  },
  {
   "cell_type": "markdown",
   "metadata": {},
   "source": [
    "### 2. 删除函数"
   ]
  },
  {
   "cell_type": "markdown",
   "metadata": {},
   "source": [
    "drop function func_name;"
   ]
  },
  {
   "cell_type": "markdown",
   "metadata": {},
   "source": [
    "### 3. 执行函数"
   ]
  },
  {
   "cell_type": "raw",
   "metadata": {},
   "source": [
    "# 获取返回值\n",
    "declare @i VARCHAR(32);\n",
    "select UPPER('alex') into @i;\n",
    "SELECT @i;\n",
    "\n",
    "\n",
    "# 在查询中使用\n",
    "select f1(11,nid) ,name from tb2;"
   ]
  },
  {
   "cell_type": "markdown",
   "metadata": {},
   "source": [
    "### 4. 条件语句"
   ]
  },
  {
   "cell_type": "raw",
   "metadata": {},
   "source": [
    "delimiter \\\\\n",
    "CREATE PROCEDURE proc_if ()\n",
    "BEGIN\n",
    "    \n",
    "    declare i int default 0;\n",
    "    if i = 1 THEN\n",
    "        SELECT 1;\n",
    "    ELSEIF i = 2 THEN\n",
    "        SELECT 2;\n",
    "    ELSE\n",
    "        SELECT 7;\n",
    "    END IF;\n",
    "\n",
    "END\\\\\n",
    "delimiter ;"
   ]
  },
  {
   "cell_type": "markdown",
   "metadata": {},
   "source": [
    "### 5. 循环语句"
   ]
  },
  {
   "cell_type": "markdown",
   "metadata": {},
   "source": [
    "#### while循环"
   ]
  },
  {
   "cell_type": "raw",
   "metadata": {},
   "source": [
    "delimiter \\\\\n",
    "CREATE PROCEDURE proc_while ()\n",
    "BEGIN\n",
    "\n",
    "    DECLARE num INT ;\n",
    "    SET num = 0 ;\n",
    "    WHILE num < 10 DO\n",
    "        SELECT\n",
    "            num ;\n",
    "        SET num = num + 1 ;\n",
    "    END WHILE ;\n",
    "\n",
    "END\\\\\n",
    "delimiter ;\n"
   ]
  },
  {
   "cell_type": "markdown",
   "metadata": {},
   "source": [
    "#### repeat 循环"
   ]
  },
  {
   "cell_type": "raw",
   "metadata": {},
   "source": [
    "delimiter \\\\\n",
    "CREATE PROCEDURE proc_repeat ()\n",
    "BEGIN\n",
    "\n",
    "    DECLARE i INT ;\n",
    "    SET i = 0 ;\n",
    "    repeat\n",
    "        select i;\n",
    "        set i = i + 1;\n",
    "        until i >= 5\n",
    "    end repeat;\n",
    "\n",
    "END\\\\\n",
    "delimiter ;"
   ]
  },
  {
   "cell_type": "markdown",
   "metadata": {},
   "source": [
    "#### loop循环"
   ]
  },
  {
   "cell_type": "raw",
   "metadata": {},
   "source": [
    "BEGIN\n",
    "    \n",
    "    declare i int default 0;\n",
    "    loop_label: loop\n",
    "        \n",
    "        set i=i+1;\n",
    "        if i<8 then\n",
    "            iterate loop_label;\n",
    "        end if;\n",
    "        if i>=10 then\n",
    "            leave loop_label;\n",
    "        end if;\n",
    "        select i;\n",
    "    end loop loop_label;\n",
    "\n",
    "END\n"
   ]
  },
  {
   "cell_type": "markdown",
   "metadata": {},
   "source": [
    "#### 动态执行SQL"
   ]
  },
  {
   "cell_type": "raw",
   "metadata": {},
   "source": [
    "delimiter \\\\\n",
    "DROP PROCEDURE IF EXISTS proc_sql \\\\\n",
    "CREATE PROCEDURE proc_sql ()\n",
    "BEGIN\n",
    "    declare p1 int;\n",
    "    set p1 = 11;\n",
    "    set @p1 = p1; \n",
    "\n",
    "    PREPARE prod FROM 'select * from tb2 where nid > ?';\n",
    "    EXECUTE prod USING @p1;   -- 执行的参数规定必须是@开头的\n",
    "    DEALLOCATE prepare prod; \n",
    "\n",
    "END\\\\\n",
    "delimiter ;"
   ]
  },
  {
   "cell_type": "markdown",
   "metadata": {},
   "source": [
    "prepare相当于python中的getattr。\n",
    "\n",
    "可以在存储过程中，将sql语句传递给存储过程。\n",
    "\n",
    "防止sql注入。"
   ]
  },
  {
   "cell_type": "markdown",
   "metadata": {},
   "source": [
    "# 5. 事务"
   ]
  },
  {
   "cell_type": "markdown",
   "metadata": {},
   "source": [
    "事务用于将某些操作的多个SQL作为原子性操作，一旦有某一个出现错误，即可回滚到原来的状态，从而保证数据库数据完整性。\n",
    "\n",
    "innodb支持"
   ]
  },
  {
   "cell_type": "markdown",
   "metadata": {},
   "source": [
    "#### 支持事务的存储过程"
   ]
  },
  {
   "cell_type": "raw",
   "metadata": {},
   "source": [
    "delimiter \\\\\n",
    "create PROCEDURE p1(\n",
    "    OUT p_return_code tinyint\n",
    ")\n",
    "BEGIN \n",
    "  DECLARE exit handler for sqlexception \n",
    "  BEGIN \n",
    "    -- ERROR \n",
    "    set p_return_code = 1; \n",
    "    rollback; \n",
    "  END; \n",
    " \n",
    "  DECLARE exit handler for sqlwarning \n",
    "  BEGIN \n",
    "    -- WARNING \n",
    "    set p_return_code = 2; \n",
    "    rollback; \n",
    "  END; \n",
    " \n",
    "  START TRANSACTION;   # 开始一个事务\n",
    "    DELETE from tb1;\n",
    "    insert into tb2(name)values('seven');\n",
    "  COMMIT; \n",
    " \n",
    "  -- SUCCESS \n",
    "  set p_return_code = 0; \n",
    " \n",
    "  END\\\\\n",
    "delimiter ;\n"
   ]
  },
  {
   "cell_type": "raw",
   "metadata": {},
   "source": [
    "set @i =0;\n",
    "call p1(@i);\n",
    "select @i;"
   ]
  },
  {
   "cell_type": "markdown",
   "metadata": {},
   "source": [
    "---"
   ]
  },
  {
   "cell_type": "markdown",
   "metadata": {},
   "source": [
    "# 6. 索引"
   ]
  },
  {
   "cell_type": "markdown",
   "metadata": {},
   "source": [
    "索引，是数据库中专门用于帮助用户快速查询数据的一种数据结构。\n",
    "\n",
    "类似于字典中的目录，查找字典内容时可以根据目录查找到数据的存放位置，然后直接获取即可。\n",
    "\n",
    "索引是表的目录，在查找内容之前可以先在目录中查找索引位置，以此快速定位查询数据。对于索引，会保存在额外的文件中。"
   ]
  },
  {
   "cell_type": "markdown",
   "metadata": {},
   "source": [
    "MySQL中常见索引有：\n",
    "\n",
    "- 普通索引：仅加速查询\n",
    "- 唯一索引：加速查询 + 列值唯一（可以有null）\n",
    "- 主键索引：加速查询 + 列值唯一 +　表中只有一个（不可以有null）\n",
    "- 组合索引：多列可以组成一个索引，\n",
    "    - 专门用于组合搜索，其效率大于索引合并\n",
    "- 全文索引：对文本的内容进行分词，进行搜索 \n",
    "\n",
    "索引合并，使用多个单列索引组合搜索\n",
    "覆盖索引，select的数据列只用从索引中就能够取得，不必读取数据行，换句话说查询列要被所建的索引覆盖"
   ]
  },
  {
   "cell_type": "markdown",
   "metadata": {},
   "source": [
    "索引的功能：\n",
    "- 约束\n",
    "    - 主键\n",
    "    - 外键\n",
    "    - 唯一\n",
    "    - 普通\n",
    "    - 组合\n",
    "- 加速查找"
   ]
  },
  {
   "cell_type": "markdown",
   "metadata": {},
   "source": [
    "为什么索引可以这么快？\n",
    "    \n",
    "比如要对name列建立索引，就会创建一个文件，name列所有数据拿出来\n",
    "    name='eric' > 6 # 4\n",
    "    name='tony' > 66 # 3\n",
    "    1024"
   ]
  },
  {
   "cell_type": "markdown",
   "metadata": {},
   "source": [
    "**B-tree**：\n",
    "        name索引示例说明"
   ]
  },
  {
   "cell_type": "raw",
   "metadata": {},
   "source": [
    "                           30\n",
    " \n",
    "                10                        40\n",
    "         \n",
    "           5         15            35             66 （真是表中我当前行的数据在硬盘上的位置）\n",
    "         \n",
    "        1    6     11    19      21      39     55     100\n",
    "                 \n",
    "     ...\n",
    "     "
   ]
  },
  {
   "cell_type": "code",
   "execution_count": 3,
   "metadata": {},
   "outputs": [
    {
     "data": {
      "text/plain": [
       "1267650600228229401496703205376"
      ]
     },
     "execution_count": 3,
     "metadata": {},
     "output_type": "execute_result"
    }
   ],
   "source": [
    "pow(2,10) # 如果B-tree的层数为10层，可以存储1024个数据\n",
    "\n",
    "pow(2,100)  # 如果B-tree的层数为100层，可以存储的数据极大。"
   ]
  },
  {
   "cell_type": "code",
   "execution_count": 6,
   "metadata": {},
   "outputs": [
    {
     "data": {
      "text/plain": [
       "'A'"
      ]
     },
     "execution_count": 6,
     "metadata": {},
     "output_type": "execute_result"
    }
   ],
   "source": [
    "ord('a')\n",
    "chr(65)"
   ]
  },
  {
   "cell_type": "raw",
   "metadata": {},
   "source": [
    "1、创建表\n",
    "        nid name pwd email\n",
    "        \n",
    "        数据文件：硬盘，。。。。。。。\n",
    "        \n",
    "2、创建索引\n",
    "        nid主键索引：\n",
    "             \n",
    "        name列创建索引\n",
    "            - 数据name列数据全部拿到\n",
    "            - name每一个转化成一个数字,算法B-Tree\n",
    "            - \n",
    "        \n",
    "                               30\n",
    "     \n",
    "                    10                        40\n",
    "             \n",
    "               5         15            35             66（位置,位置,位置） （数据表中我当前行的数据在硬盘上的位置）\n",
    "             \n",
    "            1    6     11    19      21      39     55     100\n",
    "            \n",
    "            - 索引文件： 硬盘\n",
    "            \n",
    "            \n",
    "        pwd列创建索引\n",
    "            - 数据pwd列数据全部拿到\n",
    "            - pwd每一个转化成一个数字\n",
    "            - \n",
    "        \n",
    "                               30\n",
    "     \n",
    "                    10                        40\n",
    "             \n",
    "               5         15            35             66 （数据表中我当前行的数据在硬盘上的位置）\n",
    "             \n",
    "            1    6     11    19      21      39     55     100\n",
    "            \n",
    "            - 索引文件： 硬盘\n",
    "\n",
    "搜索：\n",
    "        \n",
    "        select * from tb1 where name='alex'\n",
    "        name列有索引，所以去name索引中，将'alex'转换成数字，在索引的B-Tree中找到对应的数据位置。\n",
    "    \n",
    "        select * from tb1 where email='alex'\n",
    "        email列没有索引，所以去扫描数据表tb1。"
   ]
  },
  {
   "cell_type": "markdown",
   "metadata": {},
   "source": [
    "### 1、普通索引\n",
    "\n",
    "普通索引仅有一个功能：加速查询"
   ]
  },
  {
   "cell_type": "markdown",
   "metadata": {},
   "source": [
    "#### 创建表 + 索引"
   ]
  },
  {
   "cell_type": "raw",
   "metadata": {},
   "source": [
    "create table in1(\n",
    "    nid int not null auto_increment primary key,\n",
    "    name varchar(32) not null,\n",
    "    email varchar(64) not null,\n",
    "    extra text,\n",
    "    index ix_name (name)\n",
    ")"
   ]
  },
  {
   "cell_type": "markdown",
   "metadata": {},
   "source": [
    "#### 单独在表的基础上创建索引"
   ]
  },
  {
   "cell_type": "markdown",
   "metadata": {},
   "source": [
    "create index index_name on table_name(column_name)"
   ]
  },
  {
   "cell_type": "markdown",
   "metadata": {},
   "source": [
    "#### 删除索引"
   ]
  },
  {
   "cell_type": "markdown",
   "metadata": {},
   "source": [
    "drop index_name on table_name;"
   ]
  },
  {
   "cell_type": "markdown",
   "metadata": {},
   "source": [
    "#### 查看索引"
   ]
  },
  {
   "cell_type": "markdown",
   "metadata": {},
   "source": [
    "show index from table_name;"
   ]
  },
  {
   "cell_type": "markdown",
   "metadata": {},
   "source": [
    "注意：对于创建索引时如果是BLOB 和 TEXT 类型，必须指定length。"
   ]
  },
  {
   "cell_type": "markdown",
   "metadata": {},
   "source": [
    "create index ix_extra on in1(extra(32));"
   ]
  },
  {
   "cell_type": "markdown",
   "metadata": {},
   "source": [
    "### 2、唯一索引\n",
    "\n",
    "唯一索引有两个功能：加速查询 和 唯一约束（可含null）"
   ]
  },
  {
   "cell_type": "markdown",
   "metadata": {},
   "source": [
    "#### 创建表 + 唯一索引"
   ]
  },
  {
   "cell_type": "raw",
   "metadata": {},
   "source": [
    "create table in1(\n",
    "    nid int not null auto_increment primary key,\n",
    "    name varchar(32) not null,\n",
    "    email varchar(64) not null,\n",
    "    extra text,\n",
    "    unique ix_name (name)\n",
    ");"
   ]
  },
  {
   "cell_type": "markdown",
   "metadata": {},
   "source": [
    "#### 创建唯一索引"
   ]
  },
  {
   "cell_type": "markdown",
   "metadata": {},
   "source": [
    "create unique index 索引名 on 表名(列名)"
   ]
  },
  {
   "cell_type": "markdown",
   "metadata": {},
   "source": [
    "#### 删除唯一索引"
   ]
  },
  {
   "cell_type": "markdown",
   "metadata": {},
   "source": [
    "drop unique index 索引名 on 表名"
   ]
  },
  {
   "cell_type": "markdown",
   "metadata": {},
   "source": [
    "### 3. 主键索引"
   ]
  },
  {
   "cell_type": "markdown",
   "metadata": {},
   "source": [
    "主键有两个功能：加速查询 和 唯一约束（不可含null）"
   ]
  },
  {
   "cell_type": "markdown",
   "metadata": {},
   "source": [
    "#### 创建表 + 创建主键"
   ]
  },
  {
   "cell_type": "raw",
   "metadata": {},
   "source": [
    "create table in1(\n",
    "    nid int not null auto_increment primary key,\n",
    "    name varchar(32) not null,\n",
    "    email varchar(64) not null,\n",
    "    extra text,\n",
    "    index ix_name (name)\n",
    ")\n",
    "\n",
    "OR\n",
    "\n",
    "create table in1(\n",
    "    nid int not null auto_increment,\n",
    "    name varchar(32) not null,\n",
    "    email varchar(64) not null,\n",
    "    extra text,\n",
    "    primary key(ni1),\n",
    "    index ix_name (name)\n",
    ")\n"
   ]
  },
  {
   "cell_type": "markdown",
   "metadata": {},
   "source": [
    "#### 创建主键"
   ]
  },
  {
   "cell_type": "markdown",
   "metadata": {},
   "source": [
    "alter table 表名 add primary key(列名);"
   ]
  },
  {
   "cell_type": "markdown",
   "metadata": {},
   "source": [
    "#### 删除主键"
   ]
  },
  {
   "cell_type": "raw",
   "metadata": {},
   "source": [
    "alter table 表名 drop primary key;\n",
    "alter table 表名  modify  列名 int, drop primary key;"
   ]
  },
  {
   "cell_type": "markdown",
   "metadata": {},
   "source": [
    "### 4、组合索引\n",
    "组合索引是将n个列组合成一个索引。\n",
    "\n",
    "其应用场景为：频繁的同时使用n列来进行查询，如：where n1='alex' and n2=666"
   ]
  },
  {
   "cell_type": "markdown",
   "metadata": {},
   "source": [
    "#### 创建表"
   ]
  },
  {
   "cell_type": "raw",
   "metadata": {},
   "source": [
    "create table in3(\n",
    "    nid int not null auto_increment primary key,\n",
    "    name varchar(32) not null,\n",
    "    email varchar(64) not null,\n",
    "    extra text\n",
    ")"
   ]
  },
  {
   "cell_type": "markdown",
   "metadata": {},
   "source": [
    "#### 创建组合索引"
   ]
  },
  {
   "cell_type": "markdown",
   "metadata": {},
   "source": [
    "create index ix_name_email on in3(name,email);"
   ]
  },
  {
   "cell_type": "markdown",
   "metadata": {},
   "source": [
    "如上创建组合索引之后，查询：\n",
    "- name and email  -- 使用索引\n",
    "- name                 -- 使用索引\n",
    "- email                 -- 不使用索引\n",
    "\n",
    "注意：对于同时搜索n个条件时，组合索引的性能好于多个单一索引合并。"
   ]
  },
  {
   "cell_type": "markdown",
   "metadata": {},
   "source": []
  },
  {
   "cell_type": "markdown",
   "metadata": {},
   "source": []
  }
 ],
 "metadata": {
  "kernelspec": {
   "display_name": "Python 3",
   "language": "python",
   "name": "python3"
  },
  "language_info": {
   "codemirror_mode": {
    "name": "ipython",
    "version": 3
   },
   "file_extension": ".py",
   "mimetype": "text/x-python",
   "name": "python",
   "nbconvert_exporter": "python",
   "pygments_lexer": "ipython3",
   "version": "3.6.5"
  }
 },
 "nbformat": 4,
 "nbformat_minor": 2
}
