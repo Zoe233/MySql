{
 "cells": [
  {
   "cell_type": "markdown",
   "metadata": {},
   "source": [
    "# 1. 视图"
   ]
  },
  {
   "cell_type": "markdown",
   "metadata": {},
   "source": [
    "视图是一个虚拟表（非真实存在），其本质是【根据SQL语句获取动态的数据集，并为其命名】，用户使用时只需使用【名称】即可获取结果集，并可以将其当作表来使用。\n",
    "\n",
    "- 临时表\n",
    "- 只能查\n",
    "-  执行时才获取数据"
   ]
  },
  {
   "cell_type": "markdown",
   "metadata": {},
   "source": [
    "临时表搜索："
   ]
  },
  {
   "cell_type": "raw",
   "metadata": {},
   "source": [
    "SELECT\n",
    "    *\n",
    "FROM\n",
    "    (\n",
    "        SELECT\n",
    "            nid,\n",
    "            NAME\n",
    "        FROM\n",
    "            tb1\n",
    "        WHERE\n",
    "            nid > 2\n",
    "    ) AS A\n",
    "WHERE\n",
    "    A. NAME > 'alex';"
   ]
  },
  {
   "cell_type": "markdown",
   "metadata": {},
   "source": [
    "## 1.1 创建视图"
   ]
  },
  {
   "cell_type": "markdown",
   "metadata": {},
   "source": [
    "格式：\n",
    "    CREATE VIEW 视图名称 AS  SQL语句"
   ]
  },
  {
   "cell_type": "markdown",
   "metadata": {},
   "source": [
    "定义一个名称：\n",
    "    a. 定义对应关系，# 视图--不是真实的表\n",
    "    \n",
    "        temp1 <---> select * from score where course_id in (1,2)\n",
    "        \n",
    "数据是动态的，每次调用视图都会重新执行查询。\n",
    "\n",
    "视图的功能只是方便写SQL语句。\n",
    "    \n",
    "\n"
   ]
  },
  {
   "cell_type": "markdown",
   "metadata": {},
   "source": [
    "创建视图示例："
   ]
  },
  {
   "cell_type": "raw",
   "metadata": {},
   "source": [
    "CREATE VIEW v1 AS \n",
    "SELET \n",
    "    nid, name\n",
    "FROM\n",
    "    A\n",
    "WHERE\n",
    "    nid > 4"
   ]
  },
  {
   "cell_type": "markdown",
   "metadata": {},
   "source": [
    "## 1.2 删除视图"
   ]
  },
  {
   "cell_type": "markdown",
   "metadata": {},
   "source": [
    "格式：DROP VIEW 视图名称"
   ]
  },
  {
   "cell_type": "markdown",
   "metadata": {},
   "source": [
    "DROP VIEW v1"
   ]
  },
  {
   "cell_type": "markdown",
   "metadata": {},
   "source": [
    "## 1.3 修改视图"
   ]
  },
  {
   "cell_type": "markdown",
   "metadata": {},
   "source": [
    "格式：ALTER VIEW 视图名称 AS SQL语句"
   ]
  },
  {
   "cell_type": "raw",
   "metadata": {},
   "source": [
    "ALTER VIEW v1 AS\n",
    "SELET A.nid,\n",
    "    B. NAME\n",
    "FROM\n",
    "    A\n",
    "LEFT JOIN B ON A.id = B.nid\n",
    "LEFT JOIN C ON A.id = C.nid\n",
    "WHERE\n",
    "    A.id > 2\n",
    "AND C.nid < 5"
   ]
  },
  {
   "cell_type": "markdown",
   "metadata": {},
   "source": [
    "## 1.4 使用视图"
   ]
  },
  {
   "cell_type": "markdown",
   "metadata": {},
   "source": [
    "使用视图时，将其当作表进行操作即可，由于视图是虚拟表，所以无法使用其对真实表进行创建、更新和删除操作，仅能做查询用。"
   ]
  },
  {
   "cell_type": "markdown",
   "metadata": {},
   "source": [
    "select * from v1"
   ]
  },
  {
   "cell_type": "markdown",
   "metadata": {},
   "source": [
    "-----"
   ]
  },
  {
   "cell_type": "markdown",
   "metadata": {},
   "source": [
    "# 2. 触发器"
   ]
  },
  {
   "cell_type": "markdown",
   "metadata": {},
   "source": [
    "对某个表进行【增/删/改】操作的前后如果希望触发某个特定的行为时，可以使用触发器，触发器用于定制用户对表的行进行【增/删/改】前后的行为。"
   ]
  },
  {
   "cell_type": "raw",
   "metadata": {},
   "source": [
    "a. 为某一个表：\n",
    "        insert 前后\n",
    "        update 前后\n",
    "        delete 前后\n",
    "b. OLD，NEW\n",
    "    \n",
    "c. 删除多行，插入，更新\n",
    "        for 多行：\n",
    "            OLD，NEW\n",
    "    \n",
    "    # 删除之前，将删除的值添加到另外一张表\n",
    "    delete from tb1 where nid = 1\n",
    "    -- 张二狗 =>tb2\n",
    "    delete from tb1： OLD\n",
    "    -- 张二狗 =>tb2\n",
    "    -- 张三狗 =>tb2\n",
    "    -- 张四狗 =>tb2\n",
    "    -- 张六狗 =>tb2"
   ]
  },
  {
   "cell_type": "markdown",
   "metadata": {},
   "source": [
    "## 2.1 创建触发器"
   ]
  },
  {
   "cell_type": "markdown",
   "metadata": {},
   "source": [
    "### 创建基础语法"
   ]
  },
  {
   "cell_type": "raw",
   "metadata": {},
   "source": [
    "# 插入前\n",
    "CREATE TRIGGER tri_before_insert_tb1 BEFORE INSERT ON tb1 FOR EACH ROW\n",
    "BEGIN\n",
    "    ...\n",
    "END\n",
    "\n",
    "# 插入后\n",
    "CREATE TRIGGER tri_after_insert_tb1 AFTER INSERT ON tb1 FOR EACH ROW\n",
    "BEGIN\n",
    "    ...\n",
    "END\n",
    "\n",
    "# 删除前\n",
    "CREATE TRIGGER tri_before_delete_tb1 BEFORE DELETE ON tb1 FOR EACH ROW\n",
    "BEGIN\n",
    "    ...\n",
    "END\n",
    "\n",
    "# 删除后\n",
    "CREATE TRIGGER tri_after_delete_tb1 AFTER DELETE ON tb1 FOR EACH ROW\n",
    "BEGIN\n",
    "    ...\n",
    "END\n",
    "\n",
    "# 更新前\n",
    "CREATE TRIGGER tri_before_update_tb1 BEFORE UPDATE ON tb1 FOR EACH ROW\n",
    "BEGIN\n",
    "    ...\n",
    "END\n",
    "\n",
    "# 更新后\n",
    "CREATE TRIGGER tri_after_update_tb1 AFTER UPDATE ON tb1 FOR EACH ROW\n",
    "BEGIN\n",
    "    ...\n",
    "END"
   ]
  },
  {
   "cell_type": "markdown",
   "metadata": {},
   "source": [
    "### 插入前触发器"
   ]
  },
  {
   "cell_type": "raw",
   "metadata": {},
   "source": [
    "delimiter //\n",
    "CREATE TRIGGER tri_before_insert_tb1 BEFORE INSERT ON tb1 FOR EACH ROW\n",
    "BEGIN\n",
    "\n",
    "IF NEW. NAME == 'alex' THEN\n",
    "    INSERT INTO tb2 (NAME)\n",
    "VALUES\n",
    "    ('aa')\n",
    "END\n",
    "END//\n",
    "delimiter ;\n"
   ]
  },
  {
   "cell_type": "markdown",
   "metadata": {},
   "source": [
    "### 插入后触发器"
   ]
  },
  {
   "cell_type": "raw",
   "metadata": {},
   "source": [
    "delimiter //\n",
    "CREATE TRIGGER tri_after_insert_tb1 AFTER INSERT ON tb1 FOR EACH ROW\n",
    "BEGIN\n",
    "    IF NEW. num = 666 THEN\n",
    "        INSERT INTO tb2 (NAME)\n",
    "        VALUES\n",
    "            ('666'),\n",
    "            ('666') ;\n",
    "    ELSEIF NEW. num = 555 THEN\n",
    "        INSERT INTO tb2 (NAME)\n",
    "        VALUES\n",
    "            ('555'),\n",
    "            ('555') ;\n",
    "    END IF;\n",
    "END//\n",
    "delimiter ;"
   ]
  },
  {
   "cell_type": "markdown",
   "metadata": {},
   "source": [
    "特别的：NEW表示即将插入的数据行，OLD表示即将删除的数据行。"
   ]
  },
  {
   "cell_type": "markdown",
   "metadata": {},
   "source": [
    "## 2.2 删除触发器"
   ]
  },
  {
   "cell_type": "markdown",
   "metadata": {},
   "source": [
    "DROP TRIGGER tri_after_insert_tb1;"
   ]
  },
  {
   "cell_type": "markdown",
   "metadata": {},
   "source": [
    "## 2.3 使用触发器"
   ]
  },
  {
   "cell_type": "markdown",
   "metadata": {},
   "source": [
    "触发器无法由用户直接调用，而是由于对表的【增/删/改】操作被动引发的。"
   ]
  },
  {
   "cell_type": "markdown",
   "metadata": {},
   "source": [
    "insert into tb1(num) values(666)"
   ]
  },
  {
   "cell_type": "markdown",
   "metadata": {},
   "source": [
    "-----"
   ]
  },
  {
   "cell_type": "markdown",
   "metadata": {},
   "source": [
    "# 3. 存储过程"
   ]
  },
  {
   "cell_type": "markdown",
   "metadata": {},
   "source": [
    "存储过程是一个SQL语句集合，当主动去调用存储过程时，其中内部的SQL语句会按照逻辑执行。"
   ]
  },
  {
   "cell_type": "markdown",
   "metadata": {},
   "source": [
    "- 可写复杂逻辑\n",
    "- 参数：in   out   inout\n",
    "- 结果集：select ..."
   ]
  },
  {
   "cell_type": "markdown",
   "metadata": {},
   "source": [
    "## 3.1 创建存储过程"
   ]
  },
  {
   "cell_type": "markdown",
   "metadata": {},
   "source": [
    "### 无参数存储过程示例："
   ]
  },
  {
   "cell_type": "raw",
   "metadata": {},
   "source": [
    "-- 创建存储过程\n",
    "\n",
    "delimiter //\n",
    "create procedure p1()\n",
    "BEGIN\n",
    "    select * from t1;\n",
    "    select * from t2;\n",
    "END//\n",
    "delimiter ;\n",
    "\n",
    "-- 执行存储过程\n",
    "\n",
    "call p1()\n"
   ]
  },
  {
   "cell_type": "markdown",
   "metadata": {},
   "source": [
    "注意：写存储过程中时刻注意语法。"
   ]
  },
  {
   "cell_type": "markdown",
   "metadata": {},
   "source": [
    "对于存储过程，可以接收参数，其**参数**有三类：\n",
    "\n",
    "- in          仅用于传入参数用\n",
    "- out        仅用于返回值用\n",
    "- inout     既可以传入又可以当作返回值"
   ]
  },
  {
   "cell_type": "markdown",
   "metadata": {},
   "source": [
    "示例：创建存储过程，带参数的"
   ]
  },
  {
   "cell_type": "raw",
   "metadata": {},
   "source": [
    "-- 创建存储过程\n",
    "delimiter \\\\\n",
    "create procedure p1(\n",
    "    in i1 int,\n",
    "    in i2 int,\n",
    "    inout i3 int,\n",
    "    out r1 int\n",
    ")\n",
    "BEGIN\n",
    "    DECLARE temp1 int;\n",
    "    DECLARE temp2 int default 0;\n",
    "    \n",
    "    set temp1 = 1;\n",
    "\n",
    "    set r1 = i1 + i2 + temp1 + temp2;\n",
    "    \n",
    "    set i3 = i3 + 100;\n",
    "\n",
    "end\\\\\n",
    "delimiter ;\n",
    "\n",
    "-- 执行存储过程\n",
    "set @t1 =4;\n",
    "set @t2 = 0;\n",
    "CALL p1 (1, 2 ,@t1, @t2);\n",
    "SELECT @t1,@t2;"
   ]
  },
  {
   "cell_type": "markdown",
   "metadata": {},
   "source": [
    "- DECLARE 在存储过程内部声明变量时，必须使用\n",
    "    - DECLARE temp1 int; 相当于python中的 temp1 = 0\n",
    "    - DECLARE temp2 int default 0; 相当于python中的 temp2=0"
   ]
  },
  {
   "cell_type": "markdown",
   "metadata": {},
   "source": [
    "#### 结果集："
   ]
  },
  {
   "cell_type": "raw",
   "metadata": {},
   "source": [
    "delimiter //\n",
    "    create procedure p1()\n",
    "begin\n",
    "    select * from v1;\n",
    "end //\n",
    "delimiter ;"
   ]
  },
  {
   "cell_type": "markdown",
   "metadata": {},
   "source": [
    "结果集中只能有一个select的结果集，如果想要多个表的内容，可以自己做好连接等各种处理再返回一个结果集。"
   ]
  },
  {
   "cell_type": "markdown",
   "metadata": {},
   "source": [
    "####  结果集+out值"
   ]
  },
  {
   "cell_type": "raw",
   "metadata": {},
   "source": [
    "delimiter //\n",
    "create procedure p2(\n",
    "    in n1 int,\n",
    "    inout n3 int,\n",
    "    out n2 int,\n",
    ")\n",
    "begin\n",
    "    declare temp1 int ;\n",
    "    declare temp2 int default 0;\n",
    "    \n",
    "    select * from v1;\n",
    "    \n",
    "    set n2 = n1 + 100;\n",
    "    set n3 = n3 + n1 + 100;\n",
    "    \n",
    "end //\n",
    "delimiter ;"
   ]
  },
  {
   "cell_type": "markdown",
   "metadata": {},
   "source": [
    "#### 事务"
   ]
  },
  {
   "cell_type": "raw",
   "metadata": {},
   "source": [
    "delimiter \\\\\n",
    "                        create PROCEDURE p1(\n",
    "                            OUT p_return_code tinyint\n",
    "                        )\n",
    "                        BEGIN \n",
    "                          DECLARE exit handler for sqlexception \n",
    "                          BEGIN \n",
    "                            -- ERROR \n",
    "                            set p_return_code = 1; \n",
    "                            rollback; \n",
    "                          END; \n",
    "                         \n",
    "                          DECLARE exit handler for sqlwarning \n",
    "                          BEGIN \n",
    "                            -- WARNING \n",
    "                            set p_return_code = 2; \n",
    "                            rollback; \n",
    "                          END; \n",
    "                         \n",
    "                          START TRANSACTION; \n",
    "                            DELETE from tb1;\n",
    "                            insert into tb2(name)values('seven');\n",
    "                          COMMIT; \n",
    "                         \n",
    "                          -- SUCCESS \n",
    "                          set p_return_code = 0; \n",
    "                         \n",
    "                          END\\\\\n",
    "                    delimiter ;"
   ]
  },
  {
   "cell_type": "markdown",
   "metadata": {},
   "source": [
    "#### 游标"
   ]
  },
  {
   "cell_type": "raw",
   "metadata": {},
   "source": [
    "delimiter //\n",
    "                    create procedure p3()\n",
    "                    begin \n",
    "                        declare ssid int; -- 自定义变量1  \n",
    "                        declare ssname varchar(50); -- 自定义变量2  \n",
    "                        DECLARE done INT DEFAULT FALSE;\n",
    "\n",
    "\n",
    "                        DECLARE my_cursor CURSOR FOR select sid,sname from student;\n",
    "                        DECLARE CONTINUE HANDLER FOR NOT FOUND SET done = TRUE;\n",
    "                        \n",
    "                        open my_cursor;\n",
    "                            xxoo: LOOP\n",
    "                                fetch my_cursor into ssid,ssname;\n",
    "                                if done then \n",
    "                                    leave xxoo;\n",
    "                                END IF;\n",
    "                                insert into teacher(tname) values(ssname);\n",
    "                            end loop xxoo;\n",
    "                        close my_cursor;\n",
    "                    end  //\n",
    "                    delimter ;\n",
    "\n"
   ]
  },
  {
   "cell_type": "markdown",
   "metadata": {},
   "source": [
    "#### 动态执行SQL"
   ]
  },
  {
   "cell_type": "raw",
   "metadata": {},
   "source": [
    "delimiter \\\\\n",
    "                    CREATE PROCEDURE p4 (\n",
    "                        in nid int\n",
    "                    )\n",
    "                    BEGIN\n",
    "                        PREPARE prod FROM 'select * from student where sid > ?';\n",
    "                        EXECUTE prod USING @nid;\n",
    "                        DEALLOCATE prepare prod; \n",
    "                    END\\\\\n",
    "                    delimiter ;\n",
    "\n"
   ]
  },
  {
   "cell_type": "markdown",
   "metadata": {},
   "source": []
  },
  {
   "cell_type": "markdown",
   "metadata": {},
   "source": []
  },
  {
   "cell_type": "markdown",
   "metadata": {},
   "source": [
    "## 2.2 删除存储过程"
   ]
  },
  {
   "cell_type": "markdown",
   "metadata": {},
   "source": [
    "drop procedure proc_name;"
   ]
  },
  {
   "cell_type": "markdown",
   "metadata": {},
   "source": [
    "## 2.3 执行存储过程"
   ]
  },
  {
   "cell_type": "markdown",
   "metadata": {},
   "source": [
    "-- 无参数\n",
    "call proc_name()\n",
    "\n",
    "-- 有参数，全in\n",
    "call proc_name(1,2)\n",
    "\n",
    "-- 有参数，有in，out，inout\n",
    "set @t1=0;\n",
    "set @t2=3;\n",
    "call proc_name(1,2,@t1,@t2)"
   ]
  },
  {
   "cell_type": "markdown",
   "metadata": {},
   "source": [
    "#### pymysql执行存储过程："
   ]
  },
  {
   "cell_type": "raw",
   "metadata": {},
   "source": [
    "#!/usr/bin/env python\n",
    "# -*- coding:utf-8 -*-\n",
    "import pymysql\n",
    "\n",
    "conn = pymysql.connect(host='127.0.0.1', port=3306, user='root', passwd='123', db='t1')\n",
    "cursor = conn.cursor(cursor=pymysql.cursors.DictCursor)\n",
    "\n",
    "# 执行存储过程,获取存储过程的结果集，将返回值设置给了  @_存储过程名_序号 =\n",
    "r1 = cursor.callproc('p11', args=(1, 22, 3, 4))\n",
    "# set @_p11_0 = 1\n",
    "# set @_p11_1 = 22\n",
    "# set @_p11_2 = 3\n",
    "# set @_p11_3 = 4\n",
    "# call p11(1, 22, 3, 4)\n",
    "print(r1)\n",
    "\n",
    "# 除了获取变量值，还可以获取select结果集\n",
    "result1 = cursor.fetchall()\n",
    "print(result1)\n",
    "\n",
    "# 获取执行完存储的参数\n",
    "r2 = cursor.execute(\"select @_p11_0,@_p11_1,@_p11_2,@_p11_3\")\n",
    "print(r2)\n",
    "result2 = cursor.fetchall()\n",
    "print(result2)\n",
    "conn.commit()\n",
    "cursor.close()\n",
    "conn.close()"
   ]
  },
  {
   "cell_type": "markdown",
   "metadata": {},
   "source": [
    "# 4. 函数"
   ]
  },
  {
   "cell_type": "markdown",
   "metadata": {},
   "source": [
    "- 内置函数\n",
    "- 自定义函数"
   ]
  },
  {
   "cell_type": "markdown",
   "metadata": {},
   "source": [
    "MySQL中提供了许多内置函数，例如："
   ]
  },
  {
   "cell_type": "raw",
   "metadata": {},
   "source": [
    "CHAR_LENGTH(str)\n",
    "        返回值为字符串str 的长度，长度的单位为字符。一个多字节字符算作一个单字符。\n",
    "        对于一个包含五个二字节字符集, LENGTH()返回值为 10, 而CHAR_LENGTH()的返回值为5。\n",
    "\n",
    "CONCAT(str1,str2,...)\n",
    "        字符串拼接\n",
    "        如有任何一个参数为NULL ，则返回值为 NULL。\n",
    "    \n",
    "CONCAT_WS(separator,str1,str2,...)\n",
    "        字符串拼接（自定义连接符）\n",
    "        CONCAT_WS()不会忽略任何空字符串。 (然而会忽略所有的 NULL）。\n",
    "\n",
    "CONV(N,from_base,to_base)\n",
    "        进制转换\n",
    "        例如：\n",
    "            SELECT CONV('a',16,2); 表示将 a 由16进制转换为2进制字符串表示\n",
    "\n",
    "FORMAT(X,D)\n",
    "        将数字X 的格式写为'#,###,###.##',以四舍五入的方式保留小数点后 D 位， 并将结果以字符串的形式返回。若  D 为 0, 则返回结果不带有小数点，或不含小数部分。\n",
    "        例如：\n",
    "            SELECT FORMAT(12332.1,4); 结果为： '12,332.1000'\n",
    "    \n",
    "INSERT(str,pos,len,newstr)\n",
    "        在str的指定位置插入字符串\n",
    "            pos：要替换位置其实位置\n",
    "            len：替换的长度\n",
    "            newstr：新字符串\n",
    "        特别的：\n",
    "            如果pos超过原字符串长度，则返回原字符串\n",
    "            如果len超过原字符串长度，则由新字符串完全替换\n",
    "   \n",
    "INSTR(str,substr)\n",
    "        返回字符串 str 中子字符串的第一个出现位置。\n",
    "\n",
    "LEFT(str,len)\n",
    "        返回字符串str 从开始的len位置的子序列字符。\n",
    "\n",
    "LOWER(str)\n",
    "        变小写\n",
    "\n",
    "UPPER(str)\n",
    "        变大写\n",
    "\n",
    "LTRIM(str)\n",
    "        返回字符串 str ，其引导空格字符被删除。\n",
    "RTRIM(str)\n",
    "        返回字符串 str ，结尾空格字符被删去。\n",
    "SUBSTRING(str,pos,len)\n",
    "        获取字符串子序列\n",
    "\n",
    "LOCATE(substr,str,pos)\n",
    "        获取子序列索引位置\n",
    "\n",
    "REPEAT(str,count)\n",
    "        返回一个由重复的字符串str 组成的字符串，字符串str的数目等于count 。\n",
    "        若 count <= 0,则返回一个空字符串。\n",
    "        若str 或 count 为 NULL，则返回 NULL 。\n",
    "    \n",
    "REPLACE(str,from_str,to_str)\n",
    "        返回字符串str 以及所有被字符串to_str替代的字符串from_str 。\n",
    "    \n",
    "REVERSE(str)\n",
    "        返回字符串 str ，顺序和字符顺序相反。\n",
    "   \n",
    "RIGHT(str,len)\n",
    "        从字符串str 开始，返回从后边开始len个字符组成的子序列\n",
    "\n",
    "SPACE(N)\n",
    "        返回一个由N空格组成的字符串。\n",
    "\n",
    "SUBSTRING(str,pos) , SUBSTRING(str FROM pos) SUBSTRING(str,pos,len) , SUBSTRING(str FROM pos FOR len)\n",
    "        不带有len 参数的格式从字符串str返回一个子字符串，起始于位置 pos。带有len参数的格式从字符串str返回一个长度同len字符相同的子字符串，起始于位置 pos。 使用 FROM的格式为标准 SQL 语法。也可能对pos使用一个负值。假若这样，则子字符串的位置起始于字符串结尾的pos 字符，而不是字符串的开头位置。在以下格式的函数中可以对pos 使用一个负值。\n",
    "\n",
    "        mysql> SELECT SUBSTRING('Quadratically',5);\n",
    "            -> 'ratically'\n",
    "\n",
    "        mysql> SELECT SUBSTRING('foobarbar' FROM 4);\n",
    "            -> 'barbar'\n",
    "\n",
    "        mysql> SELECT SUBSTRING('Quadratically',5,6);\n",
    "            -> 'ratica'\n",
    "\n",
    "        mysql> SELECT SUBSTRING('Sakila', -3);\n",
    "            -> 'ila'\n",
    "\n",
    "        mysql> SELECT SUBSTRING('Sakila', -5, 3);\n",
    "            -> 'aki'\n",
    "\n",
    "        mysql> SELECT SUBSTRING('Sakila' FROM -4 FOR 2);\n",
    "            -> 'ki'\n",
    "\n",
    "TRIM([{BOTH | LEADING | TRAILING} [remstr] FROM] str) TRIM(remstr FROM] str)\n",
    "        返回字符串 str ， 其中所有remstr 前缀和/或后缀都已被删除。若分类符BOTH、LEADIN或TRAILING中没有一个是给定的,则假设为BOTH 。 remstr 为可选项，在未指定情况下，可删除空格。\n",
    "\n",
    "        mysql> SELECT TRIM('  bar   ');\n",
    "                -> 'bar'\n",
    "\n",
    "        mysql> SELECT TRIM(LEADING 'x' FROM 'xxxbarxxx');\n",
    "                -> 'barxxx'\n",
    "\n",
    "        mysql> SELECT TRIM(BOTH 'x' FROM 'xxxbarxxx');\n",
    "                -> 'bar'\n",
    "\n",
    "        mysql> SELECT TRIM(TRAILING 'xyz' FROM 'barxxyz');\n",
    "                -> 'barx'\n"
   ]
  },
  {
   "cell_type": "markdown",
   "metadata": {},
   "source": [
    "### 1. 自定义函数"
   ]
  },
  {
   "cell_type": "raw",
   "metadata": {},
   "source": [
    "delimiter \\\\\n",
    "create function f1(\n",
    "    i1 int,\n",
    "    i2 int)\n",
    "returns int\n",
    "BEGIN\n",
    "    declare num int;\n",
    "    set num = i1 + i2;\n",
    "    return(num);\n",
    "END \\\\\n",
    "delimiter ;"
   ]
  },
  {
   "cell_type": "markdown",
   "metadata": {},
   "source": [
    "### 2. 删除函数"
   ]
  },
  {
   "cell_type": "markdown",
   "metadata": {},
   "source": [
    "drop function func_name;"
   ]
  },
  {
   "cell_type": "markdown",
   "metadata": {},
   "source": [
    "### 3. 执行函数"
   ]
  },
  {
   "cell_type": "raw",
   "metadata": {},
   "source": [
    "# 获取返回值\n",
    "declare @i VARCHAR(32);\n",
    "select UPPER('alex') into @i;\n",
    "SELECT @i;\n",
    "\n",
    "\n",
    "# 在查询中使用\n",
    "select f1(11,nid) ,name from tb2;"
   ]
  },
  {
   "cell_type": "markdown",
   "metadata": {},
   "source": [
    "### 4. 条件语句"
   ]
  },
  {
   "cell_type": "raw",
   "metadata": {},
   "source": [
    "delimiter \\\\\n",
    "CREATE PROCEDURE proc_if ()\n",
    "BEGIN\n",
    "    \n",
    "    declare i int default 0;\n",
    "    if i = 1 THEN\n",
    "        SELECT 1;\n",
    "    ELSEIF i = 2 THEN\n",
    "        SELECT 2;\n",
    "    ELSE\n",
    "        SELECT 7;\n",
    "    END IF;\n",
    "\n",
    "END\\\\\n",
    "delimiter ;"
   ]
  },
  {
   "cell_type": "markdown",
   "metadata": {},
   "source": [
    "### 5. 循环语句"
   ]
  },
  {
   "cell_type": "markdown",
   "metadata": {},
   "source": [
    "#### while循环"
   ]
  },
  {
   "cell_type": "raw",
   "metadata": {},
   "source": [
    "delimiter \\\\\n",
    "CREATE PROCEDURE proc_while ()\n",
    "BEGIN\n",
    "\n",
    "    DECLARE num INT ;\n",
    "    SET num = 0 ;\n",
    "    WHILE num < 10 DO\n",
    "        SELECT\n",
    "            num ;\n",
    "        SET num = num + 1 ;\n",
    "    END WHILE ;\n",
    "\n",
    "END\\\\\n",
    "delimiter ;\n"
   ]
  },
  {
   "cell_type": "markdown",
   "metadata": {},
   "source": [
    "#### repeat 循环"
   ]
  },
  {
   "cell_type": "raw",
   "metadata": {},
   "source": [
    "delimiter \\\\\n",
    "CREATE PROCEDURE proc_repeat ()\n",
    "BEGIN\n",
    "\n",
    "    DECLARE i INT ;\n",
    "    SET i = 0 ;\n",
    "    repeat\n",
    "        select i;\n",
    "        set i = i + 1;\n",
    "        until i >= 5\n",
    "    end repeat;\n",
    "\n",
    "END\\\\\n",
    "delimiter ;"
   ]
  },
  {
   "cell_type": "markdown",
   "metadata": {},
   "source": [
    "#### loop循环"
   ]
  },
  {
   "cell_type": "raw",
   "metadata": {},
   "source": [
    "BEGIN\n",
    "    \n",
    "    declare i int default 0;\n",
    "    loop_label: loop\n",
    "        \n",
    "        set i=i+1;\n",
    "        if i<8 then\n",
    "            iterate loop_label;\n",
    "        end if;\n",
    "        if i>=10 then\n",
    "            leave loop_label;\n",
    "        end if;\n",
    "        select i;\n",
    "    end loop loop_label;\n",
    "\n",
    "END\n"
   ]
  },
  {
   "cell_type": "markdown",
   "metadata": {},
   "source": [
    "#### 动态执行SQL"
   ]
  },
  {
   "cell_type": "raw",
   "metadata": {},
   "source": [
    "delimiter \\\\\n",
    "DROP PROCEDURE IF EXISTS proc_sql \\\\\n",
    "CREATE PROCEDURE proc_sql ()\n",
    "BEGIN\n",
    "    declare p1 int;\n",
    "    set p1 = 11;\n",
    "    set @p1 = p1; \n",
    "\n",
    "    PREPARE prod FROM 'select * from tb2 where nid > ?';\n",
    "    EXECUTE prod USING @p1;   -- 执行的参数规定必须是@开头的\n",
    "    DEALLOCATE prepare prod; \n",
    "\n",
    "END\\\\\n",
    "delimiter ;"
   ]
  },
  {
   "cell_type": "markdown",
   "metadata": {},
   "source": [
    "prepare相当于python中的getattr。\n",
    "\n",
    "可以在存储过程中，将sql语句传递给存储过程。\n",
    "\n",
    "防止sql注入。"
   ]
  },
  {
   "cell_type": "markdown",
   "metadata": {},
   "source": [
    "# 5. 事务"
   ]
  },
  {
   "cell_type": "markdown",
   "metadata": {},
   "source": [
    "事务用于将某些操作的多个SQL作为原子性操作，一旦有某一个出现错误，即可回滚到原来的状态，从而保证数据库数据完整性。\n",
    "\n",
    "innodb支持"
   ]
  },
  {
   "cell_type": "markdown",
   "metadata": {},
   "source": [
    "#### 支持事务的存储过程"
   ]
  },
  {
   "cell_type": "raw",
   "metadata": {},
   "source": [
    "delimiter \\\\\n",
    "create PROCEDURE p1(\n",
    "    OUT p_return_code tinyint\n",
    ")\n",
    "BEGIN \n",
    "  DECLARE exit handler for sqlexception \n",
    "  BEGIN \n",
    "    -- ERROR \n",
    "    set p_return_code = 1; \n",
    "    rollback; \n",
    "  END; \n",
    " \n",
    "  DECLARE exit handler for sqlwarning \n",
    "  BEGIN \n",
    "    -- WARNING \n",
    "    set p_return_code = 2; \n",
    "    rollback; \n",
    "  END; \n",
    " \n",
    "  START TRANSACTION;   # 开始一个事务\n",
    "    DELETE from tb1;\n",
    "    insert into tb2(name)values('seven');\n",
    "  COMMIT; \n",
    " \n",
    "  -- SUCCESS \n",
    "  set p_return_code = 0; \n",
    " \n",
    "  END\\\\\n",
    "delimiter ;\n"
   ]
  },
  {
   "cell_type": "raw",
   "metadata": {},
   "source": [
    "set @i =0;\n",
    "call p1(@i);\n",
    "select @i;"
   ]
  },
  {
   "cell_type": "markdown",
   "metadata": {},
   "source": [
    "---"
   ]
  },
  {
   "cell_type": "markdown",
   "metadata": {},
   "source": [
    "# 6. 索引"
   ]
  },
  {
   "cell_type": "markdown",
   "metadata": {},
   "source": [
    "索引，是数据库中专门用于帮助用户快速查询数据的一种数据结构。\n",
    "\n",
    "类似于字典中的目录，查找字典内容时可以根据目录查找到数据的存放位置，然后直接获取即可。\n",
    "\n",
    "索引是表的目录，在查找内容之前可以先在目录中查找索引位置，以此快速定位查询数据。对于索引，会保存在额外的文件中。"
   ]
  },
  {
   "cell_type": "markdown",
   "metadata": {},
   "source": [
    "MySQL中常见索引有：\n",
    "\n",
    "- 普通索引：仅加速查询\n",
    "- 唯一索引：加速查询 + 列值唯一（可以有null）\n",
    "- 主键索引：加速查询 + 列值唯一 +　表中只有一个（不可以有null）\n",
    "- 组合索引：多列可以组成一个索引，\n",
    "    - 专门用于组合搜索，其效率大于索引合并\n",
    "- 全文索引：对文本的内容进行分词，进行搜索 \n",
    "fulltext ---- 全文索引,是对于大表的文本域：char，varchar，text列才能创建全文索引，主要用于查找文本中的关键字，并不是直接与索引中的值进行比较。fulltext更像是一个搜索引擎，配合match against操作使用，而不是一般的where语句加like。\n",
    "\n",
    "　　注:全文索引目前只有MyISAM存储引擎支持全文索引，InnoDB引擎5.6以下版本还不支持全文索引\n",
    "\n",
    "\n",
    "索引合并，使用多个单列索引组合搜索\n",
    "覆盖索引，select的数据列只用从索引中就能够取得，不必读取数据行，换句话说查询列要被所建的索引覆盖"
   ]
  },
  {
   "cell_type": "markdown",
   "metadata": {},
   "source": [
    "　　所有存储引擎对每个表至少支持16个索引，总索引长度至少为256字节，索引有两种存储类型，包括B型树索引和哈希索引。\n",
    "\n",
    "　　索引可以提高查询的速度，但是创建和维护索引需要耗费时间，同时也会影响插入的速度，如果需要插入大量的数据时，最好是先删除索引，插入数据后再建立索引"
   ]
  },
  {
   "cell_type": "markdown",
   "metadata": {},
   "source": [
    "索引的功能：\n",
    "- 约束\n",
    "    - 主键\n",
    "    - 外键\n",
    "    - 唯一\n",
    "    - 普通\n",
    "    - 组合\n",
    "- 加速查找"
   ]
  },
  {
   "cell_type": "markdown",
   "metadata": {},
   "source": [
    "为什么索引可以这么快？\n",
    "    \n",
    "比如要对name列建立索引，就会创建一个文件，name列所有数据拿出来\n",
    "    name='eric' > 6 # 4\n",
    "    name='tony' > 66 # 3\n",
    "    1024"
   ]
  },
  {
   "cell_type": "markdown",
   "metadata": {},
   "source": [
    "**B-tree**：\n",
    "        name索引示例说明"
   ]
  },
  {
   "cell_type": "raw",
   "metadata": {},
   "source": [
    "                           30\n",
    " \n",
    "                10                        40\n",
    "         \n",
    "           5         15            35             66 （真是表中我当前行的数据在硬盘上的位置）\n",
    "         \n",
    "        1    6     11    19      21      39     55     100\n",
    "                 \n",
    "     ...\n",
    "     "
   ]
  },
  {
   "cell_type": "code",
   "execution_count": 3,
   "metadata": {},
   "outputs": [
    {
     "data": {
      "text/plain": [
       "1267650600228229401496703205376"
      ]
     },
     "execution_count": 3,
     "metadata": {},
     "output_type": "execute_result"
    }
   ],
   "source": [
    "pow(2,10) # 如果B-tree的层数为10层，可以存储1024个数据\n",
    "\n",
    "pow(2,100)  # 如果B-tree的层数为100层，可以存储的数据极大。"
   ]
  },
  {
   "cell_type": "code",
   "execution_count": 6,
   "metadata": {},
   "outputs": [
    {
     "data": {
      "text/plain": [
       "'A'"
      ]
     },
     "execution_count": 6,
     "metadata": {},
     "output_type": "execute_result"
    }
   ],
   "source": [
    "ord('a')\n",
    "chr(65)"
   ]
  },
  {
   "cell_type": "raw",
   "metadata": {},
   "source": [
    "1、创建表\n",
    "        nid name pwd email\n",
    "        \n",
    "        数据文件：硬盘，。。。。。。。\n",
    "        \n",
    "2、创建索引\n",
    "        nid主键索引：\n",
    "             \n",
    "        name列创建索引\n",
    "            - 数据name列数据全部拿到\n",
    "            - name每一个转化成一个数字,算法B-Tree\n",
    "            - \n",
    "        \n",
    "                               30\n",
    "     \n",
    "                    10                        40\n",
    "             \n",
    "               5         15            35             66（位置,位置,位置） （数据表中我当前行的数据在硬盘上的位置）\n",
    "             \n",
    "            1    6     11    19      21      39     55     100\n",
    "            \n",
    "            - 索引文件： 硬盘\n",
    "            \n",
    "            \n",
    "        pwd列创建索引\n",
    "            - 数据pwd列数据全部拿到\n",
    "            - pwd每一个转化成一个数字\n",
    "            - \n",
    "        \n",
    "                               30\n",
    "     \n",
    "                    10                        40\n",
    "             \n",
    "               5         15            35             66 （数据表中我当前行的数据在硬盘上的位置）\n",
    "             \n",
    "            1    6     11    19      21      39     55     100\n",
    "            \n",
    "            - 索引文件： 硬盘\n",
    "\n",
    "搜索：\n",
    "        \n",
    "        select * from tb1 where name='alex'\n",
    "        name列有索引，所以去name索引中，将'alex'转换成数字，在索引的B-Tree中找到对应的数据位置。\n",
    "    \n",
    "        select * from tb1 where email='alex'\n",
    "        email列没有索引，所以去扫描数据表tb1。"
   ]
  },
  {
   "cell_type": "markdown",
   "metadata": {},
   "source": [
    "### 1、普通索引\n",
    "\n",
    "普通索引仅有一个功能：加速查询"
   ]
  },
  {
   "cell_type": "markdown",
   "metadata": {},
   "source": [
    "#### 创建表 + 索引"
   ]
  },
  {
   "cell_type": "raw",
   "metadata": {},
   "source": [
    "create table in1(\n",
    "    nid int not null auto_increment primary key,\n",
    "    name varchar(32) not null,\n",
    "    email varchar(64) not null,\n",
    "    extra text,\n",
    "    index ix_name (name)\n",
    ")"
   ]
  },
  {
   "cell_type": "markdown",
   "metadata": {},
   "source": [
    "#### 单独在表的基础上创建索引"
   ]
  },
  {
   "cell_type": "markdown",
   "metadata": {},
   "source": [
    "create index index_name on table_name(column_name)"
   ]
  },
  {
   "cell_type": "markdown",
   "metadata": {},
   "source": [
    "#### 删除索引"
   ]
  },
  {
   "cell_type": "markdown",
   "metadata": {},
   "source": [
    "drop index_name on table_name;"
   ]
  },
  {
   "cell_type": "markdown",
   "metadata": {},
   "source": [
    "#### 查看索引"
   ]
  },
  {
   "cell_type": "markdown",
   "metadata": {},
   "source": [
    "show index from table_name;"
   ]
  },
  {
   "cell_type": "markdown",
   "metadata": {},
   "source": [
    "注意：对于创建索引时如果是BLOB 和 TEXT 类型，必须指定length。"
   ]
  },
  {
   "cell_type": "markdown",
   "metadata": {},
   "source": [
    "create index ix_extra on in1(extra(32));"
   ]
  },
  {
   "cell_type": "markdown",
   "metadata": {},
   "source": [
    "### 2、唯一索引\n",
    "\n",
    "唯一索引有两个功能：加速查询 和 唯一约束（可含null）"
   ]
  },
  {
   "cell_type": "markdown",
   "metadata": {},
   "source": [
    "#### 创建表 + 唯一索引"
   ]
  },
  {
   "cell_type": "raw",
   "metadata": {},
   "source": [
    "create table in1(\n",
    "    nid int not null auto_increment primary key,\n",
    "    name varchar(32) not null,\n",
    "    email varchar(64) not null,\n",
    "    extra text,\n",
    "    unique ix_name (name)\n",
    ");"
   ]
  },
  {
   "cell_type": "markdown",
   "metadata": {},
   "source": [
    "#### 创建唯一索引"
   ]
  },
  {
   "cell_type": "markdown",
   "metadata": {},
   "source": [
    "create unique index 索引名 on 表名(列名)"
   ]
  },
  {
   "cell_type": "markdown",
   "metadata": {},
   "source": [
    "#### 删除唯一索引"
   ]
  },
  {
   "cell_type": "markdown",
   "metadata": {},
   "source": [
    "drop unique index 索引名 on 表名"
   ]
  },
  {
   "cell_type": "markdown",
   "metadata": {},
   "source": [
    "### 3. 主键索引"
   ]
  },
  {
   "cell_type": "markdown",
   "metadata": {},
   "source": [
    "主键有两个功能：加速查询 和 唯一约束（不可含null）"
   ]
  },
  {
   "cell_type": "markdown",
   "metadata": {},
   "source": [
    "#### 创建表 + 创建主键"
   ]
  },
  {
   "cell_type": "raw",
   "metadata": {},
   "source": [
    "create table in1(\n",
    "    nid int not null auto_increment primary key,\n",
    "    name varchar(32) not null,\n",
    "    email varchar(64) not null,\n",
    "    extra text,\n",
    "    index ix_name (name)\n",
    ")\n",
    "\n",
    "OR\n",
    "\n",
    "create table in1(\n",
    "    nid int not null auto_increment,\n",
    "    name varchar(32) not null,\n",
    "    email varchar(64) not null,\n",
    "    extra text,\n",
    "    primary key(nid),\n",
    "    index ix_name (name)\n",
    ")\n"
   ]
  },
  {
   "cell_type": "markdown",
   "metadata": {},
   "source": [
    "#### 创建主键"
   ]
  },
  {
   "cell_type": "markdown",
   "metadata": {},
   "source": [
    "alter table 表名 add primary key(列名);"
   ]
  },
  {
   "cell_type": "markdown",
   "metadata": {},
   "source": [
    "#### 删除主键"
   ]
  },
  {
   "cell_type": "raw",
   "metadata": {},
   "source": [
    "alter table 表名 drop primary key;\n",
    "alter table 表名  modify  列名 int, drop primary key;"
   ]
  },
  {
   "cell_type": "markdown",
   "metadata": {},
   "source": [
    "### 4、组合索引\n",
    "组合索引是将n个列组合成一个索引。\n",
    "\n",
    "其应用场景为：频繁的同时使用n列来进行查询，如：where n1='alex' and n2=666"
   ]
  },
  {
   "cell_type": "markdown",
   "metadata": {},
   "source": [
    "name,pwd\n",
    "- 普通组合索引：\n",
    "                无约束\n",
    "                name,pwd\n",
    "- 联合唯一索引：\n",
    "                有约束，两列数据同时不相同，才能插入，不然报错\n",
    "                name,pwd\n",
    "                \n",
    "                \n",
    "查找：最左匹配\n",
    "> select \\* from tb1 where name = 'alex'   \n",
    "> select \\* from tb1 where name = 'alex' and pwd='123'  \n",
    "> select \\* from tb1 where pwd='123'  # 不会走索引   \n",
    "        \n",
    "查找：最左匹配 name,pwd,email   \n",
    "> select \\* xx where name ='alex'    \n",
    "> select \\* xx where pwd ='alex'    # 不会走索引   \n",
    "> select \\* xx where email ='alex'    # 不会走索引   \n",
    "> select \\* xx where name='alex' and pwd='xx'   "
   ]
  },
  {
   "cell_type": "markdown",
   "metadata": {},
   "source": [
    "#### 创建表"
   ]
  },
  {
   "cell_type": "raw",
   "metadata": {},
   "source": [
    "create table in3(\n",
    "    nid int not null auto_increment primary key,\n",
    "    name varchar(32) not null,\n",
    "    email varchar(64) not null,\n",
    "    extra text\n",
    ")"
   ]
  },
  {
   "cell_type": "markdown",
   "metadata": {},
   "source": [
    "#### 创建组合索引"
   ]
  },
  {
   "cell_type": "markdown",
   "metadata": {},
   "source": [
    "create index ix_name_email on in3(name,email);"
   ]
  },
  {
   "cell_type": "markdown",
   "metadata": {},
   "source": [
    "【最左匹配】如上创建组合索引之后，查询：\n",
    "- name and email  -- 使用索引\n",
    "- name                 -- 使用索引\n",
    "- email                 -- 不使用索引\n",
    "\n",
    "注意：对于同时搜索n个条件时，组合索引的性能好于多个单一索引合并。"
   ]
  },
  {
   "cell_type": "markdown",
   "metadata": {},
   "source": [
    "---"
   ]
  },
  {
   "cell_type": "markdown",
   "metadata": {},
   "source": [
    "# 7. 索引扩展：覆盖索引，合并索引"
   ]
  },
  {
   "cell_type": "markdown",
   "metadata": {},
   "source": [
    "### 1、覆盖索引"
   ]
  },
  {
   "cell_type": "markdown",
   "metadata": {},
   "source": [
    "覆盖索引：不是真实存在的索引，而是使用索引过程中的一种模式。\n",
    "\n",
    "覆盖索引：【select的数据列只用从索引中就能够取得，不必读取数据行】，换句话说查询列要被所建的索引覆盖"
   ]
  },
  {
   "cell_type": "markdown",
   "metadata": {},
   "source": [
    "\n",
    "        \n",
    "- select * from tb where nid=1\n",
    "    - 先去索引中找，再去数据表找\n",
    "        \n",
    "- select nid from tb where nid < 10 \n",
    "    - 先去索引中找\n",
    "    - 索引中已经找到了所有的数据，不需要再去数据表中查找\n",
    "    - 这种就是【覆盖索引】"
   ]
  },
  {
   "cell_type": "markdown",
   "metadata": {},
   "source": [
    "### 2. 合并索引"
   ]
  },
  {
   "cell_type": "markdown",
   "metadata": {},
   "source": [
    "索引合并，使用多个单列索引组合搜索"
   ]
  },
  {
   "cell_type": "raw",
   "metadata": {},
   "source": [
    "假设一张表的情况为：\n",
    "    nid   name(单独索引)    email（单独索引）    pwd\n",
    "        \n",
    "执行select语句：\n",
    "        select * from tb where name='alex'  # 直接使用name索引\n",
    "        select * from tb where email='alex3714@163.com' # 直接使用email索引\n",
    "        \n",
    "        select * from tb where name='alex' or email='alex3714@163.com'  \n",
    "        # 这种情况下，称为【合并索引】\n",
    "        \n",
    "        \n",
    "假设一张表的情况为：\n",
    "    nid   name(组合索引)    email（组合索引）    pwd\n",
    "    \n",
    "# 最左前缀 OR 最左匹配\n",
    "\n",
    "执行select语句：\n",
    "        select * from tb where name='alex'  # 可以命中索引\n",
    "        select * from tb where email='alex3714@163.com' ########无法满足########\n",
    "        \n",
    "        select * from tb where name='alex' or email='alex3714@163.com'\n",
    "        # 通过【组合索引】进行搜索\n",
    "        \n"
   ]
  },
  {
   "cell_type": "markdown",
   "metadata": {},
   "source": [
    "用户表：\n",
    "    nid   username（组合索引）    password（组合索引）\n",
    "             1     alex         123\n",
    "             2     shaogbing    123\n",
    "             \n",
    "执行select语句：            \n",
    "            select * from tb where username='xx' and password='xx'\n",
    "            select * from tb where username='xx'\n",
    "            # select * from tb where password='xx'\n",
    "               "
   ]
  },
  {
   "cell_type": "markdown",
   "metadata": {},
   "source": [
    "### 组合和合并索引取舍？\n",
    "业务需求来决定"
   ]
  },
  {
   "cell_type": "markdown",
   "metadata": {},
   "source": [
    "组合索引比合并索引效率高。"
   ]
  },
  {
   "cell_type": "markdown",
   "metadata": {},
   "source": [
    "在2个列上单独创建索引，如果查询语句使用到，叫合并索引；  \n",
    "如果是在2个列上创建组合索引，就叫组合索引。  \n",
    "\n",
    "\n",
    "下面通过原理来解释一下合并索引和组合索引的区别，也讲解一下为什么组合索引会比合并索引要快许多。"
   ]
  },
  {
   "cell_type": "markdown",
   "metadata": {},
   "source": [
    "【合并索引】\n",
    "- 单独的2个索引进行查找——索引合并，需要反复在2个索引表间进行跳转，这是造成速度慢的第一个影响。\n",
    "- 第2个影响是，假设满足COL1=’ABC’的数据有5行，满足COL2=123的数据有1000行。最坏的情况下（那5行在COL2的1000行最后面）需要扫描完COL2的1000行才能找到需要的数据，并不能达到快速查找的目的。"
   ]
  },
  {
   "cell_type": "markdown",
   "metadata": {},
   "source": [
    "【组合索引】\n",
    "- 由于组合索引综合保存了COL1和COL2的数据，它不需要在2个索引表之间跳转，所以速度会更快。\n",
    "- 组合索引不需要像索引合并那样对索引的ROWID进行比较合并。\n"
   ]
  },
  {
   "cell_type": "markdown",
   "metadata": {},
   "source": [
    "以上就是对索引合并于组合索引区别的说明，另外补充一点，【在什么情况下使用组合索引比较好】——在查询条件中对索引列使用了【等值比较】时，组合索引才能发挥最大的效能。"
   ]
  },
  {
   "cell_type": "markdown",
   "metadata": {},
   "source": [
    "-----"
   ]
  },
  {
   "cell_type": "markdown",
   "metadata": {},
   "source": [
    "# 8. MySQL执行计划"
   ]
  },
  {
   "cell_type": "markdown",
   "metadata": {},
   "source": [
    "## 执行计划：\n",
    "相对比较准确地表达出当前SQL运行状况。"
   ]
  },
  {
   "cell_type": "markdown",
   "metadata": {},
   "source": [
    "## 语法：\n",
    "explain + 查询SQL - 用于显示SQL执行信息参数，根据参考信息可以进行SQL优化"
   ]
  },
  {
   "cell_type": "markdown",
   "metadata": {},
   "source": [
    "### 示例："
   ]
  },
  {
   "cell_type": "raw",
   "metadata": {},
   "source": [
    "mysql> explain select * from tb2;\n",
    "+----+-------------+-------+------+---------------+------+---------+------+------+-------+\n",
    "| id | select_type | table | type | possible_keys | key  | key_len | ref  | rows | Extra |\n",
    "+----+-------------+-------+------+---------------+------+---------+------+------+-------+\n",
    "|  1 | SIMPLE      | tb2   | ALL  | NULL          | NULL | NULL    | NULL |    2 | NULL  |\n",
    "+----+-------------+-------+------+---------------+------+---------+------+------+-------+\n",
    "1 row in set (0.00 sec)"
   ]
  },
  {
   "cell_type": "markdown",
   "metadata": {},
   "source": [
    "## explain参数值："
   ]
  },
  {
   "cell_type": "markdown",
   "metadata": {},
   "source": [
    "- id 查询顺序标识\n",
    "- select_type 查询类型\n",
    "- table 正在访问的表名\n",
    "- type  查询时的访问方式\n",
    "    - 性能：all < index < range < index_merge < ref_or_null < ref < eq_ref < system < const\n",
    "- possible_keys 可能使用的索引\n",
    "- key 真实使用的\n",
    "- key_len MySQL中使用索引字节长度\n",
    "- ref\n",
    "- rows  预估值，估计为了找到所需的行而要读取的行数\n",
    "- Extra  包含MySQL解决查询的详细信息"
   ]
  },
  {
   "cell_type": "markdown",
   "metadata": {},
   "source": [
    "### 【id】【查询顺序标识】"
   ]
  },
  {
   "cell_type": "markdown",
   "metadata": {},
   "source": [
    "如：mysql> explain select * from (select nid,name from tb1 where nid < 10) as B;\n",
    "            +----+-------------+------------+-------+---------------+---------+---------+------+------+-------------+\n",
    "            | id | select_type | table      | type  | possible_keys | key     | key_len | ref  | rows | Extra       |\n",
    "            +----+-------------+------------+-------+---------------+---------+---------+------+------+-------------+\n",
    "            |  1 | PRIMARY     | <derived2> | ALL   | NULL          | NULL    | NULL    | NULL |    9 | NULL        |\n",
    "            |  2 | DERIVED     | tb1        | range | PRIMARY       | PRIMARY | 8       | NULL |    9 | Using where |\n",
    "            +----+-------------+------------+-------+---------------+---------+---------+------+------+-------------+\n",
    "特别的：如果使用union连接气值可能为null\n",
    "\n"
   ]
  },
  {
   "cell_type": "markdown",
   "metadata": {},
   "source": [
    "### 【select_type】查询类型"
   ]
  },
  {
   "cell_type": "markdown",
   "metadata": {},
   "source": [
    "- SIMPLE          简单查询\n",
    "- PRIMARY         最外层查询\n",
    "- SUBQUERY        映射为子查询\n",
    "- DERIVED         子查询\n",
    "- UNION           联合\n",
    "- UNION RESULT    使用联合的结果"
   ]
  },
  {
   "cell_type": "markdown",
   "metadata": {},
   "source": [
    "### 【type】查询时的访问方式\n",
    "- all 全数据表扫描，效率最低，\n",
    "    - 全表扫描，对于数据表从头到尾找一遍\n",
    "    - select * from tb1;\n",
    "    - 特别的：如果有limit限制，则找到之后就不在继续向下扫描\n",
    "        - select * from tb1 where email = 'seven@live.com'\n",
    "        - select * from tb1 where email = 'seven@live.com' limit 1;\n",
    "        - 虽然上述两个语句都会进行全表扫描，第二句使用了limit，则找到一个后就不再继续扫描。\n",
    "- index 全索引表扫描，效率低\n",
    "    - 全索引扫描，对索引从头到尾找一遍\n",
    "    - select nid from tb1;\n",
    "- range  对索引列进行范围查找\n",
    "    - select *  from tb1 where name < 'alex';\n",
    "    - between and， in\n",
    "    - \\>   \\>=  <   <=  操作，注意：!= 和 > 符号（这时对索引列进行查找还是无法命中索引，会是全表扫描）\n",
    "- index_merge 合并索引，使用多个单列索引搜索\n",
    "    - select *  from tb1 where name = 'alex' or nid in (11,22,33);    \n",
    "- ref_or_null \n",
    "- ref  \n",
    "    - 根据索引查找一个或多个值\n",
    "    - select *  from tb1 where name = 'seven';\n",
    "- eq_ref \n",
    "    - 连接时使用primary key 或 unique类型\n",
    "    - select tb2.nid,tb1.name from tb2 left join tb1 on tb2.nid = tb1.nid;\n",
    "\n",
    "- const\n",
    "    - 常量\n",
    "    - 表最多有一个匹配行,因为仅有一行,在这行的列值可被优化器剩余部分认为是常数,const表很快,因为它们只读取一次。\n",
    "    - select nid from tb1 where nid = 2 ;\n",
    "- system\n",
    "    - 系统\n",
    "    - 表仅有一行(=系统表)。这是const联接类型的一个特例。\n",
    "    - select * from (select nid from tb1 where nid = 1) as A;\n",
    "    \n",
    "\n",
    "性能：all < index < range < index_merge < ref_or_null < ref < eq_ref < system < const"
   ]
  },
  {
   "cell_type": "markdown",
   "metadata": {},
   "source": [
    "#### ---------Type不同类型的补充说明-------"
   ]
  },
  {
   "cell_type": "markdown",
   "metadata": {},
   "source": [
    "【是否走索引，不走索引】\n",
    "        \n",
    "explain SQL语句\n",
    "1. explain SQL语句\n",
    "    - type： ALL    - 全数据表扫描\n",
    "    - type： index  - 全索引表扫描\n",
    "            \n",
    "2. limit \n",
    "    - select * from tb1 where email='123'\n",
    "    - select * from tb1 where email='123' limit 1;\n",
    "        - 加上limit 1 可能会提升效率，也可能不会提升效率，主要看数据的位置，第一个就找到，就极快地提升了效率。\n",
    "\n",
    "-----SQL： ALL、Index，都是有优化的余地 -------\n",
    "        "
   ]
  },
  {
   "cell_type": "markdown",
   "metadata": {},
   "source": [
    "### 【extra】 包含MySQL解决查询的详细信息"
   ]
  },
  {
   "cell_type": "markdown",
   "metadata": {},
   "source": [
    "-  “Using index”\n",
    "            此值表示mysql将使用覆盖索引，以避免访问表。不要把覆盖索引和index访问类型弄混了。\n",
    "- “Using where”\n",
    "            这意味着mysql服务器将在存储引擎检索行后再进行过滤，许多where条件里涉及索引中的列，当（并且如果）它读取索引时，就能被存储引擎检验，因此不是所有带where子句的查询都会显示“Using where”。有时“Using where”的出现就是一个暗示：查询可受益于不同的索引。\n",
    "- “Using temporary”\n",
    "            这意味着mysql在对查询结果排序时会使用一个临时表。\n",
    "- “Using filesort”\n",
    "            这意味着mysql会对结果使用一个外部索引排序，而不是按索引次序从表里读取行。mysql有两种文件排序算法，这两种排序方式都可以在内存或者磁盘上完成，explain不会告诉你mysql将使用哪一种文件排序，也不会告诉你排序会在内存里还是磁盘上完成。\n",
    "- “Range checked for each record(index map: N)”\n",
    "            这个意味着没有好用的索引，新的索引将在联接的每一行上重新估算，N是显示在possible_keys列中索引的位图，并且是冗余的。"
   ]
  },
  {
   "cell_type": "markdown",
   "metadata": {},
   "source": [
    "-----"
   ]
  },
  {
   "cell_type": "markdown",
   "metadata": {},
   "source": [
    "# 9. 正确使用索引"
   ]
  },
  {
   "cell_type": "markdown",
   "metadata": {},
   "source": [
    "由于索引是专门用于加速搜索而生，所以加上索引之后，查询效率会快到飞起来。"
   ]
  },
  {
   "cell_type": "raw",
   "metadata": {},
   "source": [
    "# 有索引\n",
    "mysql> select * from tb1 where name = 'wupeiqi-888';\n",
    "+-----+-------------+---------------------+----------------------------------+---------------------+\n",
    "| nid | name        | email               | radom                            | ctime               |\n",
    "+-----+-------------+---------------------+----------------------------------+---------------------+\n",
    "| 889 | wupeiqi-888 | wupeiqi888@live.com | 5312269e76a16a90b8a8301d5314204b | 2016-08-03 09:33:35 |\n",
    "+-----+-------------+---------------------+----------------------------------+---------------------+\n",
    "1 row in set (0.00 sec)\n",
    " \n",
    "# 无索引\n",
    "mysql> select * from tb1 where email = 'wupeiqi888@live.com';\n",
    "+-----+-------------+---------------------+----------------------------------+---------------------+\n",
    "| nid | name        | email               | radom                            | ctime               |\n",
    "+-----+-------------+---------------------+----------------------------------+---------------------+\n",
    "| 889 | wupeiqi-888 | wupeiqi888@live.com | 5312269e76a16a90b8a8301d5314204b | 2016-08-03 09:33:35 |\n",
    "+-----+-------------+---------------------+----------------------------------+---------------------+\n",
    "1 row in set (1.23 sec)"
   ]
  },
  {
   "cell_type": "markdown",
   "metadata": {},
   "source": [
    "数据库表中添加索引后确实会让查询速度起飞，但前提必须是正确的使用索引来查询，如果以【错误的方式】使用，则即使建立索引也会不奏效。"
   ]
  },
  {
   "cell_type": "markdown",
   "metadata": {},
   "source": [
    "### 即使建立索引，索引也不会生效："
   ]
  },
  {
   "cell_type": "markdown",
   "metadata": {},
   "source": [
    "示例中nid是主键，name是普通索引，email不是索引。"
   ]
  },
  {
   "cell_type": "markdown",
   "metadata": {},
   "source": [
    "- like '%xx'\n",
    "    - select * from tb1 where name like '%cn';\n",
    "        - 这种不会走索引\n",
    "    - select * from tb1 where name like 'cn%'\n",
    "        - 最左前缀，这种可以走索引。\n",
    "- 使用函数\n",
    "    - select * from tb1 where reverse(name) = 'wupeiqi';\n",
    "    - select * from tb1 where substring(name,4,3)='zoe';\n",
    "    - 查找出来的值进行函数处理后，函数处理过后的值作为新值，没有建立索引，所以不会走索引\n",
    "    - 例子：时间格式转换，时间戳信息建立索引，与查询的时间格式不匹配，则转换时间格式，而不是要转换索引的列。\n",
    "- or\n",
    "    - select * from tb1 where nid = 1 or email = 'seven@live.com';\n",
    "        - email不是索引列，所以不走索引\n",
    "    - 特别的：当or条件中有未建立索引的列才失效，以下会走索引\n",
    "        - select * from tb1 where nid = 1 or name = 'seven';\n",
    "            - 合并索引，index_merge\n",
    "        - select * from tb1 where nid = 1 or email = 'seven@live.com' and name = 'alex'\n",
    "            - emial不是索引，所以不走索引\n",
    "        \n",
    "- 类型不一致\n",
    "    - 如果列是字符串类型，传入条件是必须用引号引起来，不然...\n",
    "        - select * from tb1 where name = 999;\n",
    "         - 数据类型不匹配，就不会走索引。\n",
    "         \n",
    "#######------- 条件比较中，只有!=和>是不走索引的 ----#######\n",
    "####### ------ 特别的是主键索引-------------------#######\n",
    "- !=\n",
    "    - select * from tb1 where name != 'alex'\n",
    "    - 特别的：如果是主键，则还是会走索引\n",
    "        - select * from tb1 where nid != 123\n",
    "- \\>\n",
    "    - select * from tb1 where name > 'alex'\n",
    "    - 特别的：如果是主键或索引是整数类型，则还是会走索引\n",
    "        - select * from tb1 where nid > 123\n",
    "        - select * from tb1 where num > 123\n",
    "        \n",
    "- order by\n",
    "    - select email from tb1 order by name desc;\n",
    "        - 当根据索引排序时候，选择的映射如果不是索引，则不走索引\n",
    "    - 特别的：如果对主键排序，则还是走索引：\n",
    "        - select * from tb1 order by nid desc;\n",
    " \n",
    "- 组合索引最左前缀    \n",
    "    - 如果组合索引为：(name,email)\n",
    "        - name and email       -- 使用索引\n",
    "        - name                 -- 使用索引\n",
    "        - email                -- 不使用索引"
   ]
  },
  {
   "cell_type": "markdown",
   "metadata": {},
   "source": [
    "### 其他注意事项\n",
    "- 避免使用select *\n",
    "- count(1)或count(列) 代替 count(*)\n",
    "- 创建表时尽量时 char 代替 varchar\n",
    "- 表的字段顺序固定长度的字段优先\n",
    "- 组合索引代替多个单列索引（经常使用多个条件查询时）\n",
    "- 尽量使用短索引\n",
    "    - 指定列前几个字符创建索引\n",
    "- 使用连接（JOIN）来代替子查询(Sub-Queries)\n",
    "- 连表时注意条件类型需一致\n",
    "- 索引散列值（重复少）不适合建索引，例：性别不适合"
   ]
  },
  {
   "cell_type": "markdown",
   "metadata": {},
   "source": [
    "-----"
   ]
  },
  {
   "cell_type": "markdown",
   "metadata": {},
   "source": [
    "# 10. limit分页"
   ]
  },
  {
   "cell_type": "markdown",
   "metadata": {},
   "source": [
    "无论是否有索引，limit分页是一个值得关注的问题"
   ]
  },
  {
   "cell_type": "markdown",
   "metadata": {},
   "source": [
    "### 语法： \n",
    "    limit x,m :  表x+m\n",
    "\n",
    "### 问题：\n",
    "    执行分页会扫表，会读取 x+m行 数据；\n",
    "    表越大，分页越是后面的数据（即x越大），读取速度越慢。\n",
    "\n",
    "### 解决方法：\n",
    "想要分页，直接跳过特定值（比如：10000），继续往下扫分页的数据数\n",
    "- 网上错误的解决方法：\n",
    "    - 先在索引中找到指定的nid，再用select * from tb1 where nid in (select nid from tb1 where tb1>10000); 的方式查找数据\n",
    "    - 杯水车薪，还是要扫描表读取数据，性能无法提升太多\n",
    "- 【正确的解决方案】：\n",
    "    - 通过获取【上一页】【下一页】的nid的值，直接跳过上一页的nid的值，再扫表\n",
    "    - select * from tb1 where nid>@LAST_PAGE limit 10000,10"
   ]
  },
  {
   "cell_type": "raw",
   "metadata": {},
   "source": [
    "【where nid>10000 直接跳过 钱10000条数，继续往下扫】\n",
    "  \n",
    "注意，nid是自增列，所以nid每页10条的nid排列情况可能如下：\n",
    "\n",
    "    每页：10条\n",
    "        1     2    3     4  ...    18  19  20  21\n",
    "        1     17   31   45\n",
    "        16    29   42   90  \n",
    "            \n",
    "    -- nid排列可能中断的（原因，nid是自增列）\n",
    "        \n",
    "---------- 方式： 上一页，下一页 ----------\n",
    "        \n",
    "1、当用户查看页面时，第一页 limit 0,10： nid: 1 - 16（假设可能的前10条的nid的情况）\n",
    "              \n",
    "2、第二页 limit 10,10： nid: 17 - 36\n",
    "    where nid>16 limit 10： nid: 17 - 36\n",
    "3、第三页 limit 20,10： nid: 37 - 181\n",
    "     where nid>36 limit 10： nid: 37 - 181"
   ]
  },
  {
   "cell_type": "markdown",
   "metadata": {},
   "source": [
    "【上一页】【下一页】的值赋值给全局变量，通过全局变量控制 where nid> LAST_PAGE 的值。"
   ]
  },
  {
   "cell_type": "raw",
   "metadata": {},
   "source": [
    "倒序翻页：  \n",
    "\n",
    "下一页：\n",
    "\n",
    "select  *  from  tb1 \n",
    "where \n",
    "        nid < \n",
    "            (select nid from \n",
    "                    (select nid from tb1 where nid < 当前页最小值 order by nid desc limit 每页数据 *【页码-当前页】)  A \n",
    "            order by A.nid asc limit 1)  \n",
    "    order by \n",
    "        nid desc \n",
    "    limit 10;\n",
    "\n",
    "\n",
    "\n",
    "select * from tb1 \n",
    "where \n",
    "    nid <\n",
    "        (select nid from \n",
    "             (select nid from tb1 where nid < 970  order by nid desc limit 40) A          order by A.nid asc limit 1)  \n",
    "    order by \n",
    "        nid desc \n",
    "    limit 10;\n",
    "\n",
    "\n",
    "上一页：\n",
    "\n",
    "    select \n",
    "        * \n",
    "    from \n",
    "        tb1 \n",
    "    where \n",
    "        nid < (select nid from (select nid from tb1 where nid > 当前页最大值 order by nid asc limit 每页数据 *【当前页-页码】) A order by A.nid asc limit 1)  \n",
    "    order by \n",
    "        nid desc \n",
    "    limit 10;\n",
    "\n",
    "\n",
    "    select \n",
    "        * \n",
    "    from \n",
    "        tb1 \n",
    "    where \n",
    "        nid < (select nid from (select nid from tb1 where nid > 980 order by nid asc limit 20) A order by A.nid desc limit 1)  \n",
    "    order by \n",
    "        nid desc \n",
    "    limit 10;"
   ]
  },
  {
   "cell_type": "markdown",
   "metadata": {},
   "source": [
    "# 11. 慢日志查询"
   ]
  },
  {
   "cell_type": "markdown",
   "metadata": {},
   "source": [
    "### a、配置MySQL自动记录慢日志"
   ]
  },
  {
   "cell_type": "markdown",
   "metadata": {},
   "source": [
    "- 方式一：在内存中直接修改 mysqld\n",
    "- 方式二：写一个配置文件my-default.ini\n",
    "    - mysqld --default-files= path/defalt.ini \n",
    "        - 配置文件修改后如何生效：\n",
    "            - 重启\n",
    "            - 在内存中直接修改"
   ]
  },
  {
   "cell_type": "raw",
   "metadata": {},
   "source": [
    "slow_query_log = OFF                           是否开启慢日志记录ON，OFF\n",
    "long_query_time = 2                              时间限制，超过此时间，则记录\n",
    "slow_query_log_file = /usr/slow.log        日志文件\n",
    "log_queries_not_using_indexes = OFF     为使用索引的搜索是否记录 ON，OFF"
   ]
  },
  {
   "cell_type": "markdown",
   "metadata": {},
   "source": [
    "注：\n",
    "- 查看当前配置信息：\n",
    "　　     show variables like '%query%'\n",
    "- 修改当前配置：\n",
    "　　　　set global 变量名 = 值"
   ]
  },
  {
   "cell_type": "markdown",
   "metadata": {},
   "source": [
    "### b、查看MySQL慢日志"
   ]
  },
  {
   "cell_type": "markdown",
   "metadata": {},
   "source": [
    "mysqldumpslow -s at -a  /usr/local/var/mysql/MacBook-Pro-3-slow.log"
   ]
  },
  {
   "cell_type": "raw",
   "metadata": {},
   "source": [
    "\"\"\"\n",
    "--verbose    版本\n",
    "--debug      调试\n",
    "--help       帮助\n",
    " \n",
    "-v           版本\n",
    "-d           调试模式\n",
    "-s ORDER     排序方式\n",
    "             what to sort by (al, at, ar, c, l, r, t), 'at' is default\n",
    "              al: average lock time\n",
    "              ar: average rows sent\n",
    "              at: average query time\n",
    "               c: count\n",
    "               l: lock time\n",
    "               r: rows sent\n",
    "               t: query time\n",
    "-r           反转顺序，默认文件倒序拍。reverse the sort order (largest last instead of first)\n",
    "-t NUM       显示前N条just show the top n queries\n",
    "-a           不要将SQL中数字转换成N，字符串转换成S。don't abstract all numbers to N and strings to 'S'\n",
    "-n NUM       abstract numbers with at least n digits within names\n",
    "-g PATTERN   正则匹配；grep: only consider stmts that include this string\n",
    "-h HOSTNAME  mysql机器名或者IP；hostname of db server for *-slow.log filename (can be wildcard),\n",
    "             default is '*', i.e. match all\n",
    "-i NAME      name of server instance (if using mysql.server startup script)\n",
    "-l           总时间中不减去锁定时间；don't subtract lock time from total time\n",
    "\"\"\""
   ]
  },
  {
   "cell_type": "markdown",
   "metadata": {},
   "source": []
  },
  {
   "cell_type": "markdown",
   "metadata": {},
   "source": []
  },
  {
   "cell_type": "markdown",
   "metadata": {},
   "source": []
  },
  {
   "cell_type": "markdown",
   "metadata": {},
   "source": []
  },
  {
   "cell_type": "markdown",
   "metadata": {},
   "source": []
  },
  {
   "cell_type": "markdown",
   "metadata": {},
   "source": []
  },
  {
   "cell_type": "markdown",
   "metadata": {},
   "source": []
  }
 ],
 "metadata": {
  "kernelspec": {
   "display_name": "Python 3",
   "language": "python",
   "name": "python3"
  },
  "language_info": {
   "codemirror_mode": {
    "name": "ipython",
    "version": 3
   },
   "file_extension": ".py",
   "mimetype": "text/x-python",
   "name": "python",
   "nbconvert_exporter": "python",
   "pygments_lexer": "ipython3",
   "version": "3.6.5"
  }
 },
 "nbformat": 4,
 "nbformat_minor": 2
}
