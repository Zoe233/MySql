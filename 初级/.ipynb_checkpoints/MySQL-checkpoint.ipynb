{
 "cells": [
  {
   "cell_type": "markdown",
   "metadata": {},
   "source": [
    "# 目录\n",
    "<a href='#part1'>1. 安装</a>\n",
    "\n",
    "<a href='#part2'>2. 数据库的操作</a>\n",
    "\n",
    "<a href='#part3'>3. 数据库表的基本操作</a>\n",
    "\n",
    "<a href='#part4'>1. 安装</a>\n",
    "<a href='#part5'>1. 安装</a>\n",
    "<a href='#part6'>1. 安装</a>\n",
    "<a href='#part7'>1. 安装</a>"
   ]
  },
  {
   "cell_type": "markdown",
   "metadata": {},
   "source": [
    "1、需要转到地方添加，<a href=\"#命名\">文字</a>，注意href值是#开头+英文字母命名\n",
    "2、需要在被转到位置添加，<span id=\"命名\" name=\"命名\"></span>，注意id和name值相同并且与a命名相同"
   ]
  },
  {
   "cell_type": "markdown",
   "metadata": {},
   "source": [
    "<h2><span id='part1' name='part1'>1. 安装</span></h2>"
   ]
  },
  {
   "cell_type": "markdown",
   "metadata": {},
   "source": []
  },
  {
   "cell_type": "markdown",
   "metadata": {},
   "source": [
    "<h2><span id='part2' name='part2'>2. 数据库操作</span></h2>"
   ]
  },
  {
   "cell_type": "markdown",
   "metadata": {},
   "source": [
    "show databases;\n",
    "create database DB_NAME default charset utf8 collate utf8_general_ci;\n",
    "create database DB_NAME default charset set gbk collate gbk_chinese_ci;\n",
    "\n",
    "use DB_NAME;\n",
    "\n",
    "show tables;\n"
   ]
  },
  {
   "cell_type": "markdown",
   "metadata": {},
   "source": [
    "### 1. 显示数据库\n",
    "\n",
    "show databases;"
   ]
  },
  {
   "cell_type": "markdown",
   "metadata": {},
   "source": [
    "默认数据库：\n",
    "- mysql - 用户权限相关数据\n",
    "- test - 用于用户测试数据\n",
    "- information_schema - MySQL本身架构相关数据"
   ]
  },
  {
   "cell_type": "raw",
   "metadata": {},
   "source": [
    "mysql> show databases;\n",
    "+--------------------+\n",
    "| Database           |\n",
    "+--------------------+\n",
    "| information_schema |\n",
    "| crm                |\n",
    "| dcba               |\n",
    "| mysql              |\n",
    "| perfectcrm         |\n",
    "| performance_schema |\n",
    "| sys                |\n",
    "| tags               |\n",
    "| tms                |\n",
    "+--------------------+\n",
    "9 rows in set (0.00 sec)"
   ]
  },
  {
   "cell_type": "markdown",
   "metadata": {},
   "source": [
    "### 2. 创建数据库"
   ]
  },
  {
   "cell_type": "raw",
   "metadata": {},
   "source": [
    "# utf-8\n",
    "create database DB_NAME default charset utf8 collate utf8_general_ci;\n",
    "\n",
    "# gbk \n",
    "create database DB_NAME default charset set gbk collate gbk_chinese_ci;"
   ]
  },
  {
   "cell_type": "markdown",
   "metadata": {},
   "source": [
    "### 3. 使用数据库"
   ]
  },
  {
   "cell_type": "raw",
   "metadata": {},
   "source": [
    "use DB_NAME;"
   ]
  },
  {
   "cell_type": "markdown",
   "metadata": {},
   "source": [
    "### 4. 显示当前使用的数据库中的所有表"
   ]
  },
  {
   "cell_type": "raw",
   "metadata": {},
   "source": [
    "show tables;"
   ]
  },
  {
   "cell_type": "markdown",
   "metadata": {},
   "source": [
    "### 5. 用户管理"
   ]
  },
  {
   "cell_type": "markdown",
   "metadata": {},
   "source": [
    "#### 创建用户"
   ]
  },
  {
   "cell_type": "raw",
   "metadata": {},
   "source": [
    "create user '用户名'@'IP地址' identified by '密码';"
   ]
  },
  {
   "cell_type": "markdown",
   "metadata": {},
   "source": [
    "#### 删除用户"
   ]
  },
  {
   "cell_type": "markdown",
   "metadata": {},
   "source": [
    "drop user '用户名'@'IP地址';"
   ]
  },
  {
   "cell_type": "markdown",
   "metadata": {},
   "source": [
    "#### 修改用户"
   ]
  },
  {
   "cell_type": "raw",
   "metadata": {},
   "source": [
    "rename user '用户名'@'IP地址'； to '新用户名'@'IP地址';;"
   ]
  },
  {
   "cell_type": "markdown",
   "metadata": {},
   "source": [
    "#### 修改密码"
   ]
  },
  {
   "cell_type": "raw",
   "metadata": {},
   "source": [
    "set passwd for '用户名'@'IP地址' = Password('新密码')"
   ]
  },
  {
   "cell_type": "markdown",
   "metadata": {},
   "source": [
    "PS：  \n",
    "用户权限相关数据保存在mysql数据库的user表中，所以也可以直接对其进行操作（不建议）"
   ]
  },
  {
   "cell_type": "markdown",
   "metadata": {},
   "source": [
    "#### 授权管理"
   ]
  },
  {
   "cell_type": "raw",
   "metadata": {},
   "source": [
    "# 查看权限\n",
    "show grants for '用户'@'IP地址'\n",
    "\n",
    "# 授权\n",
    "grant 权限 on 数据库.表 to '用户'@'IP地址'\n",
    "\n",
    "# 取消权限\n",
    "revoke 权限 on 数据库.表 from '用户'@'IP地址'"
   ]
  },
  {
   "cell_type": "markdown",
   "metadata": {},
   "source": [
    "---"
   ]
  },
  {
   "cell_type": "markdown",
   "metadata": {},
   "source": [
    "<h2><span id='part3' name='part3'>3. 数据库表基本操作</span></h2>"
   ]
  },
  {
   "cell_type": "markdown",
   "metadata": {},
   "source": []
  },
  {
   "cell_type": "markdown",
   "metadata": {},
   "source": []
  },
  {
   "cell_type": "markdown",
   "metadata": {},
   "source": []
  },
  {
   "cell_type": "markdown",
   "metadata": {},
   "source": []
  },
  {
   "cell_type": "markdown",
   "metadata": {},
   "source": []
  },
  {
   "cell_type": "markdown",
   "metadata": {},
   "source": []
  },
  {
   "cell_type": "markdown",
   "metadata": {},
   "source": []
  },
  {
   "cell_type": "markdown",
   "metadata": {},
   "source": []
  },
  {
   "cell_type": "markdown",
   "metadata": {},
   "source": []
  },
  {
   "cell_type": "markdown",
   "metadata": {},
   "source": []
  },
  {
   "cell_type": "markdown",
   "metadata": {},
   "source": []
  },
  {
   "cell_type": "markdown",
   "metadata": {},
   "source": []
  },
  {
   "cell_type": "markdown",
   "metadata": {},
   "source": []
  },
  {
   "cell_type": "markdown",
   "metadata": {},
   "source": []
  },
  {
   "cell_type": "markdown",
   "metadata": {},
   "source": []
  },
  {
   "cell_type": "markdown",
   "metadata": {},
   "source": []
  },
  {
   "cell_type": "markdown",
   "metadata": {},
   "source": []
  }
 ],
 "metadata": {
  "kernelspec": {
   "display_name": "Python 3",
   "language": "python",
   "name": "python3"
  },
  "language_info": {
   "codemirror_mode": {
    "name": "ipython",
    "version": 3
   },
   "file_extension": ".py",
   "mimetype": "text/x-python",
   "name": "python",
   "nbconvert_exporter": "python",
   "pygments_lexer": "ipython3",
   "version": "3.6.5"
  }
 },
 "nbformat": 4,
 "nbformat_minor": 2
}
