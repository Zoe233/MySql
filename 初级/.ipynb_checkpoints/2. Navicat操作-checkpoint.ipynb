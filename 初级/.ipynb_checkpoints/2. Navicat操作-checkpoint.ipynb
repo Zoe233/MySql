{
 "cells": [
  {
   "cell_type": "markdown",
   "metadata": {},
   "source": [
    "# 前言：\n",
    "mysql的重点梳理。"
   ]
  },
  {
   "cell_type": "raw",
   "metadata": {},
   "source": [
    "1、增删改查\n",
    "2、其他：\n",
    "    分组：\n",
    "        group by\n",
    "        xxx       having 聚合条件。。。\n",
    "        \n",
    "    分页：\n",
    "        前几行， select .... limit 3;\n",
    "        limit 3,4        # 第三行开始，取4行\n",
    "        limit 4 offset 3 # ...\n",
    "    \n",
    "    连表：\n",
    "        left outer join  on\n",
    "        # 表1 left join 表2 on \n",
    "        # 如果表1中的数据多，表2少，null\n",
    "        \n",
    "        right outer join \n",
    "        \n",
    "        inner join \n",
    "        # 如果表1中的数据多，表2少，null\n",
    "        \n",
    "    排序（张伟）：\n",
    "        desc\n",
    "        asc\n",
    "        \n",
    "        nid    name \n",
    "         1     alex\n",
    "         2     eric\n",
    "         1     alex\n",
    "         4     tony\n",
    "         # 从小到大，id从大到小\n",
    "         select * from tb order by name asc, nid desc,sid asc ;\n",
    "         \n",
    "    union\n",
    "        \n",
    "    条件：\n",
    "        > < = >= != <=\n",
    "        in (1,2,3,4)\n",
    "        not in (...)\n",
    "        in (select nid from tb)\n",
    "        \n",
    "3、连表，外键foreign key\n",
    "    一对多"
   ]
  },
  {
   "cell_type": "markdown",
   "metadata": {},
   "source": [
    "# 1. Navicat"
   ]
  },
  {
   "cell_type": "markdown",
   "metadata": {},
   "source": [
    "用于连接数据库\n",
    "- 查找\n",
    "- 修改\n",
    "- 更新\n",
    "...\n",
    "\n",
    "将操作转换为SQL语句。"
   ]
  },
  {
   "cell_type": "markdown",
   "metadata": {},
   "source": [
    "# 2. 导出数据库数据"
   ]
  },
  {
   "cell_type": "markdown",
   "metadata": {},
   "source": [
    "- 导出现有数据库数据：\n",
    "    - mysqldump -u用户名 -p密码 数据库名称 >导出文件路径           # 结构+数据\n",
    "    - mysqldump -u用户名 -p密码 -d 数据库名称 >导出文件路径       # 结构 \n",
    "- 导入现有数据库数据：\n",
    "    - mysqldump -uroot -p密码  数据库名称 < 文件路径  "
   ]
  },
  {
   "cell_type": "markdown",
   "metadata": {},
   "source": [
    "# 3. 练习题"
   ]
  },
  {
   "cell_type": "markdown",
   "metadata": {},
   "source": [
    "1. 自行创建测试数据"
   ]
  },
  {
   "cell_type": "markdown",
   "metadata": {},
   "source": [
    "自行创建或mysqldump 导入数据和结构。"
   ]
  },
  {
   "cell_type": "markdown",
   "metadata": {},
   "source": [
    "2. 查询“生物”课程比“物理”课程成绩高的所有学生的学号"
   ]
  },
  {
   "cell_type": "markdown",
   "metadata": {},
   "source": []
  },
  {
   "cell_type": "markdown",
   "metadata": {},
   "source": [
    "3. 查询平均成绩大于60分的同学的学号和平均成绩"
   ]
  },
  {
   "cell_type": "raw",
   "metadata": {},
   "source": [
    "select student_id,avg(num) as avg_score \n",
    "from \n",
    "score \n",
    "group by student_id having avg_score>60 ;"
   ]
  },
  {
   "cell_type": "raw",
   "metadata": {},
   "source": [
    "扩展：还要显示学生的名字\n",
    "\n",
    "select s1.student_id,s1.avg_score,student.sname from \n",
    "(select student_id,avg(num) as avg_score \n",
    "from \n",
    "score \n",
    "group by student_id having avg_score>60 ) as s1,student where s1.student_id=student.sid;\n",
    "\n",
    "或：\n",
    "select score.student_id,avg(score.num),student.sname\n",
    "from score left join student \n",
    "on score.student_id=student.sid\n",
    "group by score.student_id having avg(score.num) > 60;"
   ]
  },
  {
   "cell_type": "markdown",
   "metadata": {},
   "source": [
    "4. 查询所有同学的学号、姓名、选课数、总成绩；"
   ]
  },
  {
   "cell_type": "markdown",
   "metadata": {},
   "source": []
  },
  {
   "cell_type": "markdown",
   "metadata": {},
   "source": []
  },
  {
   "cell_type": "markdown",
   "metadata": {},
   "source": []
  },
  {
   "cell_type": "markdown",
   "metadata": {},
   "source": []
  },
  {
   "cell_type": "markdown",
   "metadata": {},
   "source": []
  },
  {
   "cell_type": "markdown",
   "metadata": {},
   "source": []
  },
  {
   "cell_type": "markdown",
   "metadata": {},
   "source": []
  },
  {
   "cell_type": "markdown",
   "metadata": {},
   "source": []
  },
  {
   "cell_type": "markdown",
   "metadata": {},
   "source": []
  },
  {
   "cell_type": "markdown",
   "metadata": {},
   "source": []
  },
  {
   "cell_type": "markdown",
   "metadata": {},
   "source": []
  },
  {
   "cell_type": "markdown",
   "metadata": {},
   "source": []
  },
  {
   "cell_type": "markdown",
   "metadata": {},
   "source": []
  },
  {
   "cell_type": "markdown",
   "metadata": {},
   "source": []
  },
  {
   "cell_type": "markdown",
   "metadata": {},
   "source": []
  },
  {
   "cell_type": "markdown",
   "metadata": {},
   "source": []
  },
  {
   "cell_type": "markdown",
   "metadata": {},
   "source": []
  },
  {
   "cell_type": "markdown",
   "metadata": {},
   "source": []
  },
  {
   "cell_type": "markdown",
   "metadata": {},
   "source": []
  },
  {
   "cell_type": "markdown",
   "metadata": {},
   "source": []
  },
  {
   "cell_type": "markdown",
   "metadata": {},
   "source": []
  },
  {
   "cell_type": "markdown",
   "metadata": {},
   "source": []
  },
  {
   "cell_type": "markdown",
   "metadata": {},
   "source": []
  },
  {
   "cell_type": "markdown",
   "metadata": {},
   "source": []
  },
  {
   "cell_type": "markdown",
   "metadata": {},
   "source": []
  },
  {
   "cell_type": "markdown",
   "metadata": {},
   "source": []
  },
  {
   "cell_type": "markdown",
   "metadata": {},
   "source": []
  },
  {
   "cell_type": "markdown",
   "metadata": {},
   "source": []
  },
  {
   "cell_type": "markdown",
   "metadata": {},
   "source": []
  },
  {
   "cell_type": "markdown",
   "metadata": {},
   "source": []
  },
  {
   "cell_type": "markdown",
   "metadata": {},
   "source": [
    "# 3. Python操作MySQL"
   ]
  },
  {
   "cell_type": "markdown",
   "metadata": {},
   "source": []
  },
  {
   "cell_type": "markdown",
   "metadata": {},
   "source": []
  },
  {
   "cell_type": "markdown",
   "metadata": {},
   "source": []
  },
  {
   "cell_type": "markdown",
   "metadata": {},
   "source": []
  },
  {
   "cell_type": "markdown",
   "metadata": {},
   "source": []
  },
  {
   "cell_type": "markdown",
   "metadata": {},
   "source": []
  },
  {
   "cell_type": "markdown",
   "metadata": {},
   "source": []
  },
  {
   "cell_type": "markdown",
   "metadata": {},
   "source": []
  },
  {
   "cell_type": "markdown",
   "metadata": {},
   "source": []
  },
  {
   "cell_type": "markdown",
   "metadata": {},
   "source": []
  },
  {
   "cell_type": "markdown",
   "metadata": {},
   "source": []
  },
  {
   "cell_type": "markdown",
   "metadata": {},
   "source": []
  },
  {
   "cell_type": "markdown",
   "metadata": {},
   "source": []
  },
  {
   "cell_type": "markdown",
   "metadata": {},
   "source": []
  },
  {
   "cell_type": "markdown",
   "metadata": {},
   "source": []
  },
  {
   "cell_type": "markdown",
   "metadata": {},
   "source": []
  },
  {
   "cell_type": "markdown",
   "metadata": {},
   "source": []
  },
  {
   "cell_type": "markdown",
   "metadata": {},
   "source": []
  },
  {
   "cell_type": "markdown",
   "metadata": {},
   "source": []
  },
  {
   "cell_type": "markdown",
   "metadata": {},
   "source": []
  },
  {
   "cell_type": "markdown",
   "metadata": {},
   "source": []
  }
 ],
 "metadata": {
  "kernelspec": {
   "display_name": "Python 3",
   "language": "python",
   "name": "python3"
  },
  "language_info": {
   "codemirror_mode": {
    "name": "ipython",
    "version": 3
   },
   "file_extension": ".py",
   "mimetype": "text/x-python",
   "name": "python",
   "nbconvert_exporter": "python",
   "pygments_lexer": "ipython3",
   "version": "3.6.5"
  }
 },
 "nbformat": 4,
 "nbformat_minor": 2
}
