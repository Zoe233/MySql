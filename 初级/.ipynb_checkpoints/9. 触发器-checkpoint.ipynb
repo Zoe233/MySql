{
 "cells": [
  {
   "cell_type": "markdown",
   "metadata": {},
   "source": [
    "## 1. 触发器定义"
   ]
  },
  {
   "cell_type": "markdown",
   "metadata": {},
   "source": [
    "触发器是由事件触发的操作，这些事件包括INSERT、UPDATE、DELETE事件。\n",
    "\n",
    "触发器是一种特殊的存储过程，它预定义了一些SQL，不用CALL来调用。\n",
    "\n",
    "当指定的事件发生的时候，触发器就会自动执行。"
   ]
  },
  {
   "cell_type": "markdown",
   "metadata": {},
   "source": [
    "## 2. 触发器语法"
   ]
  },
  {
   "cell_type": "markdown",
   "metadata": {},
   "source": [
    "**CREATE TRIGGER trigger_name  trigger_time  trigger_type  ON  table_name \n",
    "FOR EACH ROW trigger_stmt   **\n",
    "\n",
    "- trigger_name  是触发器的名字\n",
    "- trigger_time 取值为BEFORE和AFTER，表示触发时机。\n",
    "- trigger_type 指触发事件，包括INSERT  UPDATE  DELETE\n",
    "- trigger_stmt 可以编写存储过程，比如 SET @result = NEW.字段。    NEW代表刚才更新或者插入的记录。\n"
   ]
  },
  {
   "cell_type": "markdown",
   "metadata": {},
   "source": [
    "示例："
   ]
  },
  {
   "cell_type": "raw",
   "metadata": {},
   "source": [
    "-- 下面的触发器定义的意思是：\n",
    "-- 在table_name表执行UPDATE操作之前，先往t_operation表中插入一条记录，再执行更新的SQL\n",
    "CREATE TRIGGER trigger_name BEFORE UPDATE ON table_name\n",
    "FOR EACH ROW\n",
    "BEGIN\n",
    "     INSERT INTO t_operation(..) VALUES(..);\n",
    "END"
   ]
  },
  {
   "cell_type": "markdown",
   "metadata": {},
   "source": [
    "## 3. 触发器的作用"
   ]
  },
  {
   "cell_type": "markdown",
   "metadata": {},
   "source": [
    " 触发器用来满足一些复杂的业务需要，比如根据客户当前的账户状态，判断是否允许插入新的订单。"
   ]
  },
  {
   "cell_type": "markdown",
   "metadata": {},
   "source": [
    "原来触发器也不是什么神秘的东西，它是一种特殊的存储过程，它预定义了一些SQL语句。当其它表发生增删改事件的时候，它就会被触发，执行预定义的SQL。\n",
    "\n",
    "从设计模式的角度来看待，它其实就是一种观察者设计模式。从Java的角度来看待，它就是一个监听器。触发器触发后将会执行定义好的SQL语句。"
   ]
  },
  {
   "cell_type": "markdown",
   "metadata": {},
   "source": [
    "## 4. 查看触发器"
   ]
  },
  {
   "cell_type": "markdown",
   "metadata": {},
   "source": [
    "### 4.1 查看information_schema.triggers"
   ]
  },
  {
   "cell_type": "markdown",
   "metadata": {},
   "source": [
    " 所有的触发器都存放在information_schema数据库中的triggers表中。"
   ]
  },
  {
   "cell_type": "raw",
   "metadata": {},
   "source": [
    "SELECT * FROM information_schema.`TRIGGERS` WHERE TRIGGER_NAME LIKE '%Money%'"
   ]
  },
  {
   "cell_type": "markdown",
   "metadata": {},
   "source": [
    "### 4.2 show triggers;"
   ]
  },
  {
   "cell_type": "raw",
   "metadata": {},
   "source": [
    "SHOW TRIGGERS;"
   ]
  },
  {
   "cell_type": "markdown",
   "metadata": {},
   "source": [
    "## 5. 删除触发器"
   ]
  },
  {
   "cell_type": "raw",
   "metadata": {},
   "source": [
    "DROP TRIGGER IF EXISTS useMoney;"
   ]
  },
  {
   "cell_type": "markdown",
   "metadata": {},
   "source": [
    "## 6. 注意点"
   ]
  },
  {
   "cell_type": "markdown",
   "metadata": {},
   "source": [
    "### 6.1 能不能创建两个相同事件的触发器？比如能否在同一张表上创建两个 BEFORE INSERT 触发器？\n",
    "答案是不可以。此时，只可以在这张表上创建其它的触发器，比如 AFTER INSERT，BEFORE UPDATE。\n",
    "\n",
    "结论：**相同事件只能创建一个触发器**。\n"
   ]
  },
  {
   "cell_type": "markdown",
   "metadata": {},
   "source": [
    "### 6.2 表结构发生更改，触发器会自动删除吗?\n",
    "\n",
    "表结构发生更改，不会自动删除触发器，除非删除了这张表，触发器会自动被删除。\n",
    "\n",
    "如果因为需求的变化，旧的触发器没有被及时手动删除的话，旧的触发器将会照常工作，可能会影响数据完整性，因此需要手动删除。\n",
    "\n",
    "DROP TRIGGER trigger_name；\n"
   ]
  },
  {
   "cell_type": "markdown",
   "metadata": {},
   "source": []
  },
  {
   "cell_type": "markdown",
   "metadata": {},
   "source": []
  },
  {
   "cell_type": "markdown",
   "metadata": {},
   "source": []
  }
 ],
 "metadata": {
  "kernelspec": {
   "display_name": "Python 3",
   "language": "python",
   "name": "python3"
  },
  "language_info": {
   "codemirror_mode": {
    "name": "ipython",
    "version": 3
   },
   "file_extension": ".py",
   "mimetype": "text/x-python",
   "name": "python",
   "nbconvert_exporter": "python",
   "pygments_lexer": "ipython3",
   "version": "3.6.5"
  }
 },
 "nbformat": 4,
 "nbformat_minor": 2
}
