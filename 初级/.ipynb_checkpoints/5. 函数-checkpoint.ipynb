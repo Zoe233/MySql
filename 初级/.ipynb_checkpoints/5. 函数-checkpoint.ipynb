{
 "cells": [
  {
   "cell_type": "markdown",
   "metadata": {},
   "source": [
    "常见的MySQL函数。"
   ]
  },
  {
   "cell_type": "markdown",
   "metadata": {},
   "source": [
    "### 字符串相关函数：\n",
    "- char_length()  获取字符串长度，相当于len\n",
    "- concat  字符串拼接\n",
    "- concat_ws 字符串拼接with separator\n",
    "- group_concat  组拼接，用于group by\n",
    "- format 国际金融格式100,000,000.00\n",
    "- insert 从指定位置插入指定的字符串，相当于replace\n",
    "- locate  定位最早的匹配的字符串的所在位置\n",
    "- lcase  小写化\n",
    "- ucase  大写化\n",
    "- left  取左\n",
    "- right 取右\n",
    "- trim，ltrim，rtrim 去除空格\n",
    "- replace 替换\n",
    "- reverse 反向\n",
    "- substring 截取子字符串\n",
    "\n",
    "### 数字函数\n",
    "- ceil\n",
    "- floor\n",
    "- max\n",
    "- min\n",
    "- count\n",
    "- avg\n",
    "- abs\n",
    "- sum\n",
    "### 时间类函数\n",
    "- now(), sysdate()\n",
    "- current_date\n",
    "- current_time\n",
    "- date\n",
    "- year\n",
    "- month\n",
    "- day\n",
    "- time\n",
    "- adddate(now(), interval 1 Hour)\n",
    "- subdate(now(), interval 2 Day)\n",
    "- date_format(now(), '%Y-%m-%d-%r')\n",
    "- date_format(now(), '%Y-%m-%d %H:%i:%s')\n",
    "\n",
    "### 条件语句\n",
    "- if\n",
    "- ifnull\n",
    "- isnull\n",
    "- case"
   ]
  },
  {
   "cell_type": "markdown",
   "metadata": {},
   "source": [
    "## 一、字符串函数"
   ]
  },
  {
   "cell_type": "markdown",
   "metadata": {},
   "source": [
    "### 1. char_length(str)\n",
    "返回字符串长度。从结果来看，空格也算长度。如果字符串是null，则返回null。"
   ]
  },
  {
   "cell_type": "raw",
   "metadata": {},
   "source": [
    "mysql> select char_length('this is a string.') as length; \n",
    "+--------+\n",
    "| length |\n",
    "+--------+\n",
    "|     17 |\n",
    "+--------+\n",
    "1 row in set (0.00 sec)"
   ]
  },
  {
   "cell_type": "markdown",
   "metadata": {},
   "source": [
    "### 2. concat(str1, str2, ...)\n",
    "连接字符串。\n",
    "如果有任意字符串为null，那么返回结果为null。"
   ]
  },
  {
   "cell_type": "raw",
   "metadata": {},
   "source": [
    "mysql> select concat('1992','-','01','-','01') as c;\n",
    "+------------+\n",
    "| c          |\n",
    "+------------+\n",
    "| 1992-01-01 |\n",
    "+------------+\n",
    "1 row in set (0.00 sec)"
   ]
  },
  {
   "cell_type": "raw",
   "metadata": {},
   "source": [
    "mysql> select concat('str1',null) as n;\n",
    "+------+\n",
    "| n    |\n",
    "+------+\n",
    "| NULL |\n",
    "+------+\n",
    "1 row in set (0.00 sec)"
   ]
  },
  {
   "cell_type": "markdown",
   "metadata": {},
   "source": [
    "### 3. concat_ws(separator,str1,str2,...)\n",
    "全称就是concat_with_seperation，指定分隔字符串拼接字符串。"
   ]
  },
  {
   "cell_type": "raw",
   "metadata": {},
   "source": [
    "mysql> select concat_ws('-',1992,01,01) as d;\n",
    "+----------+\n",
    "| d        |\n",
    "+----------+\n",
    "| 1992-1-1 |\n",
    "+----------+\n",
    "1 row in set (0.00 sec)"
   ]
  },
  {
   "cell_type": "markdown",
   "metadata": {},
   "source": [
    "如果有任意字符串为null，则忽略掉这个null。"
   ]
  },
  {
   "cell_type": "raw",
   "metadata": {},
   "source": [
    "mysql> select concat_ws('-',1992,01,null) as d;  \n",
    "+--------+\n",
    "| d      |\n",
    "+--------+\n",
    "| 1992-1 |\n",
    "+--------+\n",
    "1 row in set (0.00 sec)"
   ]
  },
  {
   "cell_type": "markdown",
   "metadata": {},
   "source": [
    "### 4. group_concat (column_name)\n",
    "可以用于group by查看一些不能合并的列的值。"
   ]
  },
  {
   "cell_type": "markdown",
   "metadata": {},
   "source": [
    "mysql> SELECT student_name,\n",
    "    ->     GROUP_CONCAT(test_score)\n",
    "    ->     FROM student\n",
    "    ->     GROUP BY student_name;"
   ]
  },
  {
   "cell_type": "raw",
   "metadata": {},
   "source": [
    "mysql> select student_id,group_concat(num) from score group by student_id;\n",
    "+------------+-------------------+\n",
    "| student_id | group_concat(num) |\n",
    "+------------+-------------------+\n",
    "|          1 | 10,9,66           |\n",
    "|          2 | 8,65,68,99        |\n",
    "|          3 | 77,66,87,99       |\n",
    "|          4 | 79,11,67,100      |\n",
    "|          5 | 79,11,67,100      |\n",
    "|          6 | 9,100,67,100      |\n",
    "|          7 | 9,100,67,88       |\n",
    "|          8 | 9,100,67,88       |\n",
    "|          9 | 91,88,67,22       |\n",
    "|         10 | 90,77,43,87       |\n",
    "|         11 | 90,77,43,87       |\n",
    "|         12 | 90,77,43,87       |\n",
    "|         13 | 65,87             |\n",
    "|         14 | 65                |\n",
    "|         15 | 65                |\n",
    "|         16 | 65                |\n",
    "+------------+-------------------+\n",
    "16 rows in set (0.00 sec)"
   ]
  },
  {
   "cell_type": "markdown",
   "metadata": {},
   "source": [
    "### 5. FORMAT(X,D[,locale])\n",
    "国际化金额函数。\n",
    "把数字或者数字字符串，转为国际化的格式，并且还能保留小数位。"
   ]
  },
  {
   "cell_type": "raw",
   "metadata": {},
   "source": [
    "mysql> select format('1245566.75325',2);\n",
    "+---------------------------+\n",
    "| format('1245566.75325',2) |\n",
    "+---------------------------+\n",
    "| 1,245,566.75              |\n",
    "+---------------------------+\n",
    "1 row in set (0.00 sec)"
   ]
  },
  {
   "cell_type": "markdown",
   "metadata": {},
   "source": [
    "参数x为数值或字符串格式的数值，d为小数位（rounded四舍五入），\n",
    "\n",
    "locale参数为\n",
    "\n",
    "The optional third parameter enables a locale to be specified to be\n",
    "used for the result number's decimal point, thousands separator, and\n",
    "grouping between separators. Permissible locale values are the same as\n",
    "the legal values for the lc_time_names system variable (see\n",
    "http://dev.mysql.com/doc/refman/5.5/en/locale-support.html). If no\n",
    "locale is specified, the default is 'en_US'."
   ]
  },
  {
   "cell_type": "raw",
   "metadata": {},
   "source": [
    "Examples:\n",
    "mysql> SELECT FORMAT(12332.123456, 4);\n",
    "        -> '12,332.1235'\n",
    "mysql> SELECT FORMAT(12332.1,4);\n",
    "        -> '12,332.1000'\n",
    "mysql> SELECT FORMAT(12332.2,0);\n",
    "        -> '12,332'\n",
    "mysql> SELECT FORMAT(12332.2,2,'de_DE');\n",
    "        -> '12.332,20'"
   ]
  },
  {
   "cell_type": "markdown",
   "metadata": {},
   "source": [
    "### 6. insert(str, start,end, sub_str)\n",
    "字符串替换。把给定字符串从【start, end】替换为给定字符串。\n"
   ]
  },
  {
   "cell_type": "raw",
   "metadata": {},
   "source": [
    "mysql> select insert('XIAO da yu',1,5,'xxxx-') as name; \n",
    "+------------+\n",
    "| name       |\n",
    "+------------+\n",
    "| xxxx-da yu |\n",
    "+------------+\n",
    "1 row in set (0.00 sec)"
   ]
  },
  {
   "cell_type": "markdown",
   "metadata": {},
   "source": [
    "就是将XIAO da yu的第1位到第5位，替换成xxxx-。"
   ]
  },
  {
   "cell_type": "markdown",
   "metadata": {},
   "source": [
    "### 7. LOCATE(substr,str), LOCATE(substr,str,pos)\n",
    "字符串定位。某个字符串首次出现的位置。有null运算返回null。"
   ]
  },
  {
   "cell_type": "raw",
   "metadata": {},
   "source": [
    "Examples:\n",
    "mysql> SELECT LOCATE('bar', 'foobarbar');\n",
    "        -> 4\n",
    "mysql> SELECT LOCATE('xbar', 'foobar');\n",
    "        -> 0\n",
    "mysql> SELECT LOCATE('bar', 'foobarbar', 5);\n",
    "        -> 7"
   ]
  },
  {
   "cell_type": "raw",
   "metadata": {},
   "source": [
    "mysql> select locate('da','xiao da yu');\n",
    "+---------------------------+\n",
    "| locate('da','xiao da yu') |\n",
    "+---------------------------+\n",
    "|                         6 |\n",
    "+---------------------------+\n",
    "1 row in set (0.00 sec)"
   ]
  },
  {
   "cell_type": "raw",
   "metadata": {},
   "source": [
    "mysql> select insert ('从头开始学mysql',locate('mysql','从头开始学mysql'),char_length('mysql'),'MySQL') as blogName;\n",
    "+----------------------+\n",
    "| blogName             |\n",
    "+----------------------+\n",
    "| 从头开始学MySQL      |\n",
    "+----------------------+\n",
    "1 row in set (0.00 sec)"
   ]
  },
  {
   "cell_type": "markdown",
   "metadata": {},
   "source": [
    "首先要定位到\"mysql\"的开始位置，然后计算出\"mysql\"的长度。最后用\"MySQL\"替换\"mysql\"。"
   ]
  },
  {
   "cell_type": "markdown",
   "metadata": {},
   "source": [
    "### 8. LCASE(str)\n",
    "将字符串小写化。"
   ]
  },
  {
   "cell_type": "raw",
   "metadata": {},
   "source": [
    "mysql> select lcase('MYSQL') as lower;\n",
    "+-------+\n",
    "| lower |\n",
    "+-------+\n",
    "| mysql |\n",
    "+-------+\n",
    "1 row in set (0.00 sec)"
   ]
  },
  {
   "cell_type": "markdown",
   "metadata": {},
   "source": [
    "### 8. UCASE(str)\n",
    "将字符串大写化。"
   ]
  },
  {
   "cell_type": "raw",
   "metadata": {},
   "source": [
    "mysql> select ucase('mysql') as upper; \n",
    "+-------+\n",
    "| upper |\n",
    "+-------+\n",
    "| MYSQL |\n",
    "+-------+\n",
    "1 row in set (0.00 sec)"
   ]
  },
  {
   "cell_type": "markdown",
   "metadata": {},
   "source": [
    "### 9. LEFT(str,len)"
   ]
  },
  {
   "cell_type": "markdown",
   "metadata": {},
   "source": [
    "从左侧取字符串的指定长度。"
   ]
  },
  {
   "cell_type": "raw",
   "metadata": {},
   "source": [
    "mysql> select left('mysql',2) as f12;\n",
    "+-----+\n",
    "| f12 |\n",
    "+-----+\n",
    "| my  |\n",
    "+-----+\n",
    "1 row in set (0.00 sec)"
   ]
  },
  {
   "cell_type": "markdown",
   "metadata": {},
   "source": [
    "### 10. right(str, len)"
   ]
  },
  {
   "cell_type": "markdown",
   "metadata": {},
   "source": [
    "从字符串右侧取指定长度。"
   ]
  },
  {
   "cell_type": "raw",
   "metadata": {},
   "source": [
    "mysql> select right('mysql',3) as last;\n",
    "+------+\n",
    "| last |\n",
    "+------+\n",
    "| sql  |\n",
    "+------+\n",
    "1 row in set (0.00 sec)"
   ]
  },
  {
   "cell_type": "markdown",
   "metadata": {},
   "source": [
    "### 11. TRIM, LTRIM, RTRIM \n",
    "去除首位空格。  \n",
    "- TRIM去掉两边的空格；\n",
    "- LTRM去掉左边的空格；\n",
    "- RTRIM去掉右边空格。"
   ]
  },
  {
   "cell_type": "markdown",
   "metadata": {},
   "source": [
    "mysql> SELECT TRIM('  bar   ');\n",
    "        -> 'bar'\n",
    "mysql> SELECT TRIM(LEADING 'x' FROM 'xxxbarxxx');\n",
    "        -> 'barxxx'\n",
    "mysql> SELECT TRIM(BOTH 'x' FROM 'xxxbarxxx');\n",
    "        -> 'bar'\n",
    "mysql> SELECT TRIM(TRAILING 'xyz' FROM 'barxxyz');\n",
    "        -> 'barx'"
   ]
  },
  {
   "cell_type": "markdown",
   "metadata": {},
   "source": [
    "### 12. replace(str, find_str, re_str)\n",
    "替换"
   ]
  },
  {
   "cell_type": "raw",
   "metadata": {},
   "source": [
    "mysql> select replace('Mysql','sql','SQL') as result;\n",
    "+--------+\n",
    "| result |\n",
    "+--------+\n",
    "| MySQL  |\n",
    "+--------+\n",
    "1 row in set (0.00 sec)"
   ]
  },
  {
   "cell_type": "markdown",
   "metadata": {},
   "source": [
    "### 13. REVERSE(str)\n",
    "反转"
   ]
  },
  {
   "cell_type": "raw",
   "metadata": {},
   "source": [
    "mysql> select reverse('abcdefg');\n",
    "+--------------------+\n",
    "| reverse('abcdefg') |\n",
    "+--------------------+\n",
    "| gfedcba            |\n",
    "+--------------------+\n",
    "1 row in set (0.00 sec)"
   ]
  },
  {
   "cell_type": "markdown",
   "metadata": {},
   "source": [
    "### 14. substring \n",
    "截取\n",
    "- SUBSTRING(str,pos), \n",
    "- SUBSTRING(str FROM pos), \n",
    "- SUBSTRING(str,pos,len),\n",
    "- SUBSTRING(str FROM pos FOR len)"
   ]
  },
  {
   "cell_type": "markdown",
   "metadata": {},
   "source": [
    "mysql> SELECT SUBSTRING('Quadratically',5);\n",
    "        -> 'ratically'\n",
    "mysql> SELECT SUBSTRING('foobarbar' FROM 4);\n",
    "        -> 'barbar'\n",
    "mysql> SELECT SUBSTRING('Quadratically',5,6);\n",
    "        -> 'ratica'\n",
    "mysql> SELECT SUBSTRING('Sakila', -3);\n",
    "        -> 'ila'\n",
    "mysql> SELECT SUBSTRING('Sakila', -5, 3);\n",
    "        -> 'aki'\n",
    "mysql> SELECT SUBSTRING('Sakila' FROM -4 FOR 2);\n",
    "        -> 'ki'"
   ]
  },
  {
   "cell_type": "markdown",
   "metadata": {},
   "source": [
    "---"
   ]
  },
  {
   "cell_type": "markdown",
   "metadata": {},
   "source": [
    "## 二、数字函数"
   ]
  },
  {
   "cell_type": "markdown",
   "metadata": {},
   "source": [
    "为了方便操作，先创建t_grade表，并初始化一些数据。"
   ]
  },
  {
   "cell_type": "raw",
   "metadata": {},
   "source": [
    "mysql> drop table if exists t_grade;\n",
    "Query OK, 0 rows affected, 1 warning (0.00 sec)\n",
    "\n",
    "mysql> create table t_grade(\n",
    "    -> id BIGINT primary key auto_increment,\n",
    "    -> grade decimal(5,2) not null);\n",
    "Query OK, 0 rows affected (0.01 sec)\n",
    "\n",
    "mysql> insert into t_grade(grade) values(88.5),(-71.5),(-96),(58.5),(80);\n",
    "Query OK, 5 rows affected (0.00 sec)\n",
    "Records: 5  Duplicates: 0  Warnings: 0"
   ]
  },
  {
   "cell_type": "raw",
   "metadata": {},
   "source": [
    "mysql> select * from t_grade;\n",
    "+----+--------+\n",
    "| id | grade  |\n",
    "+----+--------+\n",
    "|  1 |  88.50 |\n",
    "|  2 | -71.50 |\n",
    "|  3 | -96.00 |\n",
    "|  4 |  58.50 |\n",
    "|  5 |  80.00 |\n",
    "+----+--------+\n",
    "5 rows in set (0.00 sec)"
   ]
  },
  {
   "cell_type": "markdown",
   "metadata": {},
   "source": [
    "### 1. ceil, floor \n",
    "获取大于它的最小整数，获取小于它的最大整数"
   ]
  },
  {
   "cell_type": "raw",
   "metadata": {},
   "source": [
    "mysql> select grade, ceil(grade) as '大于它的最小整数',floor(grade) as '小于它的最大整数' from t_grade;\n",
    "+--------+--------------------------+--------------------------+\n",
    "| grade  | 大于它的最小整数         | 小于它的最大整数         |\n",
    "+--------+--------------------------+--------------------------+\n",
    "|  88.50 |                       89 |                       88 |\n",
    "| -71.50 |                      -71 |                      -72 |\n",
    "| -96.00 |                      -96 |                      -96 |\n",
    "|  58.50 |                       59 |                       58 |\n",
    "|  80.00 |                       80 |                       80 |\n",
    "+--------+--------------------------+--------------------------+\n",
    "5 rows in set (0.00 sec)"
   ]
  },
  {
   "cell_type": "markdown",
   "metadata": {},
   "source": [
    "### 2. abs绝对值"
   ]
  },
  {
   "cell_type": "raw",
   "metadata": {},
   "source": [
    "mysql> select id,grade,abs(grade) as abs from t_grade;\n",
    "+----+--------+-------+\n",
    "| id | grade  | abs   |\n",
    "+----+--------+-------+\n",
    "|  1 |  88.50 | 88.50 |\n",
    "|  2 | -71.50 | 71.50 |\n",
    "|  3 | -96.00 | 96.00 |\n",
    "|  4 |  58.50 | 58.50 |\n",
    "|  5 |  80.00 | 80.00 |\n",
    "+----+--------+-------+\n",
    "5 rows in set (0.00 sec)"
   ]
  },
  {
   "cell_type": "markdown",
   "metadata": {},
   "source": [
    "### 3. max，min，avg最大值，最小值，平均值"
   ]
  },
  {
   "cell_type": "raw",
   "metadata": {},
   "source": [
    "mysql> select max(grade),min(grade),avg(grade) from t_grade;\n",
    "+------------+------------+------------+\n",
    "| max(grade) | min(grade) | avg(grade) |\n",
    "+------------+------------+------------+\n",
    "|      88.50 |     -96.00 |  11.900000 |\n",
    "+------------+------------+------------+\n",
    "1 row in set (0.00 sec)"
   ]
  },
  {
   "cell_type": "markdown",
   "metadata": {},
   "source": [
    "### 4. 个数count"
   ]
  },
  {
   "cell_type": "raw",
   "metadata": {},
   "source": [
    "mysql> select sum(grade),count(grade) from t_grade;\n",
    "+------------+--------------+\n",
    "| sum(grade) | count(grade) |\n",
    "+------------+--------------+\n",
    "|      59.50 |            5 |\n",
    "+------------+--------------+\n",
    "1 row in set (0.00 sec)"
   ]
  },
  {
   "cell_type": "markdown",
   "metadata": {},
   "source": [
    "### 5. 总和sum"
   ]
  },
  {
   "cell_type": "raw",
   "metadata": {},
   "source": [
    "mysql> select sum(grade),count(grade) from t_grade;\n",
    "+------------+--------------+\n",
    "| sum(grade) | count(grade) |\n",
    "+------------+--------------+\n",
    "|      59.50 |            5 |\n",
    "+------------+--------------+\n",
    "1 row in set (0.00 sec)"
   ]
  },
  {
   "cell_type": "markdown",
   "metadata": {},
   "source": [
    "---"
   ]
  },
  {
   "cell_type": "markdown",
   "metadata": {},
   "source": [
    "## 三、时间函数"
   ]
  },
  {
   "cell_type": "markdown",
   "metadata": {},
   "source": [
    "### 1. 当前时间 now(), current_time, current_date，SYSDATE()与NOW()一样"
   ]
  },
  {
   "cell_type": "raw",
   "metadata": {},
   "source": [
    "mysql> select now(),current_date,current_time;        \n",
    "+---------------------+--------------+--------------+\n",
    "| now()               | current_date | current_time |\n",
    "+---------------------+--------------+--------------+\n",
    "| 2019-09-03 01:24:22 | 2019-09-03   | 01:24:22     |\n"
   ]
  },
  {
   "cell_type": "markdown",
   "metadata": {},
   "source": [
    "### 2. 提取日期时间表达式中的不同时间date,year,month,day,time"
   ]
  },
  {
   "cell_type": "raw",
   "metadata": {},
   "source": [
    "mysql> select now(),date(now()) as date,year(now()) as year,month(now()) as month, day(now()) as day, time(now()) as now;\n",
    "+---------------------+------------+------+-------+------+----------+\n",
    "| now()               | date       | year | month | day  | now      |\n",
    "+---------------------+------------+------+-------+------+----------+\n",
    "| 2019-09-03 01:29:00 | 2019-09-03 | 2019 |     9 |    3 | 01:29:00 |\n",
    "+---------------------+------------+------+-------+------+----------+\n",
    "1 row in set (0.00 sec)"
   ]
  },
  {
   "cell_type": "markdown",
   "metadata": {},
   "source": [
    "### 3. 以当前时间为基准，增加时间和减少时间adddate，subdate\n",
    "- adddate(now(), interval 1 Hour)\n",
    "- subdate(now(), interval 2 Day)"
   ]
  },
  {
   "cell_type": "raw",
   "metadata": {},
   "source": [
    "mysql> SELECT  now(), \n",
    "    ADDDATE(now(), \n",
    "    INTERVAL 1 second) '1秒后',\n",
    "    ADDDATE(now(), INTERVAL 1 minute) '1分后',\n",
    "    ADDDATE(now(), INTERVAL 1 hour)   '1小时后', \n",
    "    ADDDATE(now(), INTERVAL 1 day)    '1天后',   \n",
    "    SUBDATE(now(), INTERVAL 2 day)    '2天前';\n",
    "\n",
    "| now()               | 1秒后               | 1分后               | 1小时后             | 1天后               | 2天前               |\n",
    "\n",
    "| 2019-09-03 01:32:07 | 2019-09-03 01:32:08 | 2019-09-03 01:33:07 | 2019-09-03 02:32:07 | 2019-09-04 01:32:07 | 2019-09-01 01:32:07 |\n"
   ]
  },
  {
   "cell_type": "markdown",
   "metadata": {},
   "source": [
    "练习：获取前三个小时到当前时间的所有记录。"
   ]
  },
  {
   "cell_type": "raw",
   "metadata": {},
   "source": [
    "# 数据准备 \n",
    "mysql> drop table if exists t_time_test;\n",
    "Query OK, 0 rows affected, 1 warning (0.00 sec)\n",
    "\n",
    "mysql> create table t_time_test(\n",
    "    -> time_sir varchar(20) not null);\n",
    "Query OK, 0 rows affected (0.01 sec)\n",
    "\n",
    "mysql> insert into t_time_test values('2019-08-29 10:00'),('2019-08-29 11:00'),('2019-08-29 12:00'),('2019-08-29 13:00'),('2019-08-29 14:00');\n",
    "Query OK, 5 rows affected (0.00 sec)\n",
    "Records: 5  Duplicates: 0  Warnings: 0"
   ]
  },
  {
   "cell_type": "raw",
   "metadata": {},
   "source": [
    "mysql> select * from t_time_test;\n",
    "+------------------+\n",
    "| time_sir         |\n",
    "+------------------+\n",
    "| 2019-08-29 10:00 |\n",
    "| 2019-08-29 11:00 |\n",
    "| 2019-08-29 12:00 |\n",
    "| 2019-08-29 13:00 |\n",
    "| 2019-08-29 14:00 |\n",
    "+------------------+\n",
    "5 rows in set (0.00 sec)"
   ]
  },
  {
   "cell_type": "raw",
   "metadata": {},
   "source": [
    "SELECT  t.* , now() AS '当前时间' FROM T_TIME_TEST t\n",
    "WHERE t.TIME_STR BETWEEN SUBDATE(now(), INTERVAL 3 HOUR) AND now()"
   ]
  },
  {
   "cell_type": "markdown",
   "metadata": {},
   "source": [
    "### 4. 时间格式化date_format"
   ]
  },
  {
   "cell_type": "markdown",
   "metadata": {},
   "source": [
    "\n",
    "\n",
    "- date_format(now(), '%Y-%m-%d-%r')\n",
    "- date_format(now(), '%Y-%m-%d %H:%i:%s')\n",
    "\n"
   ]
  },
  {
   "cell_type": "raw",
   "metadata": {},
   "source": [
    "mysql> SELECT  DATE_FORMAT(now(),'%Y-%m-%d-%r') AS '全', DATE_FORMAT(now(),'%Y-%m-%d %H:%i:%s') '年月日 时分秒';\n",
    "+------------------------+---------------------+\n",
    "| 全                     | 年月日 时分秒       |\n",
    "+------------------------+---------------------+\n",
    "| 2019-09-03-01:39:25 AM | 2019-09-03 01:39:25 |\n",
    "+------------------------+---------------------+\n",
    "1 row in set (0.00 sec)"
   ]
  },
  {
   "cell_type": "markdown",
   "metadata": {},
   "source": [
    "-----"
   ]
  },
  {
   "cell_type": "markdown",
   "metadata": {},
   "source": [
    "### 四、条件函数"
   ]
  },
  {
   "cell_type": "markdown",
   "metadata": {},
   "source": [
    "### 1. IF 三目运算函数"
   ]
  },
  {
   "cell_type": "markdown",
   "metadata": {},
   "source": [
    " IF(expr，V1，V2)  \n",
    " 功能与Java的三目运算符一样，如果expr为真，返回V1，否则为V2."
   ]
  },
  {
   "cell_type": "raw",
   "metadata": {},
   "source": [
    "mysql> select if(1>0,'right','false');\n",
    "+-------------------------+\n",
    "| if(1>0,'right','false') |\n",
    "+-------------------------+\n",
    "| right                   |\n",
    "+-------------------------+\n",
    "1 row in set (0.00 sec)"
   ]
  },
  {
   "cell_type": "markdown",
   "metadata": {},
   "source": [
    "### 2. isnull 判断是否为null值"
   ]
  },
  {
   "cell_type": "raw",
   "metadata": {},
   "source": [
    "mysql> select isnull(null), isnull('');\n",
    "+--------------+------------+\n",
    "| isnull(null) | isnull('') |\n",
    "+--------------+------------+\n",
    "|            1 |          0 |\n",
    "+--------------+------------+\n",
    "1 row in set (0.00 sec)"
   ]
  },
  {
   "cell_type": "markdown",
   "metadata": {},
   "source": [
    "### 3. ifnull(str1, str2)\n",
    "- 如果str1是null，则返回str2值；\n",
    "- 如果str1不是null值，则返回str1值。"
   ]
  },
  {
   "cell_type": "markdown",
   "metadata": {},
   "source": [
    "### 4. case when"
   ]
  },
  {
   "cell_type": "raw",
   "metadata": {},
   "source": [
    "CASE expr\n",
    "\n",
    "                 WHEN v1 THEN r1\n",
    "\n",
    "                 WHEN v2 THEN r2 \n",
    "\n",
    "                ...\n",
    "\n",
    "                  ELSE       rn\n",
    "\n",
    "          END"
   ]
  },
  {
   "cell_type": "raw",
   "metadata": {},
   "source": [
    "mysql> select \n",
    "    ->    case 1>0\n",
    "    ->        when 1 then 'true'\n",
    "    ->        when 0 then 'false'\n",
    "    ->        else 'more'\n",
    "    ->    end \n",
    "    ->    as result;\n",
    "    \n",
    "+--------+\n",
    "| result |\n",
    "+--------+\n",
    "| true   |\n",
    "+--------+\n",
    "1 row in set (0.00 sec)"
   ]
  },
  {
   "cell_type": "markdown",
   "metadata": {},
   "source": [
    "CASE的另外一种变法。      "
   ]
  },
  {
   "cell_type": "raw",
   "metadata": {},
   "source": [
    "CASE \n",
    "\n",
    "                 WHEN v1 THEN r1\n",
    "\n",
    "                 WHEN v2 THEN r2 \n",
    "\n",
    "                ...\n",
    "\n",
    "                 ELSE       rn\n",
    "\n",
    "          END"
   ]
  },
  {
   "cell_type": "markdown",
   "metadata": {},
   "source": [
    "如果没有表达式，那么将会顺序执行下面的WHEN语句，直到第一个为条件满足，返回后面的值。若没有符合的，则返回ELSE后面的值。"
   ]
  },
  {
   "cell_type": "raw",
   "metadata": {},
   "source": [
    "mysql>  SELECT \n",
    "    ->         CASE \n",
    "    ->             WHEN 1>2 THEN 'A'\n",
    "    ->             WHEN 1<2 THEN 'B'\n",
    "    ->             WHEN 1<3 THEN 'C'\n",
    "    ->             ELSE          'D'\n",
    "    ->          END AS RESULT;\n",
    "+--------+\n",
    "| RESULT |\n",
    "+--------+\n",
    "| B      |\n",
    "+--------+\n",
    "1 row in set (0.00 sec)"
   ]
  },
  {
   "cell_type": "markdown",
   "metadata": {},
   "source": []
  },
  {
   "cell_type": "markdown",
   "metadata": {},
   "source": []
  },
  {
   "cell_type": "markdown",
   "metadata": {},
   "source": []
  },
  {
   "cell_type": "markdown",
   "metadata": {},
   "source": []
  },
  {
   "cell_type": "markdown",
   "metadata": {},
   "source": []
  },
  {
   "cell_type": "markdown",
   "metadata": {},
   "source": []
  }
 ],
 "metadata": {
  "kernelspec": {
   "display_name": "Python 3",
   "language": "python",
   "name": "python3"
  },
  "language_info": {
   "codemirror_mode": {
    "name": "ipython",
    "version": 3
   },
   "file_extension": ".py",
   "mimetype": "text/x-python",
   "name": "python",
   "nbconvert_exporter": "python",
   "pygments_lexer": "ipython3",
   "version": "3.6.5"
  }
 },
 "nbformat": 4,
 "nbformat_minor": 2
}
