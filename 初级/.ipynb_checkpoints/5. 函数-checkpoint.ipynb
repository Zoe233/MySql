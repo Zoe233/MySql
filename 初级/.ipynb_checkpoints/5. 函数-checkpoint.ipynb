{
 "cells": [
  {
   "cell_type": "markdown",
   "metadata": {},
   "source": [
    "常见的MySQL函数。"
   ]
  },
  {
   "cell_type": "markdown",
   "metadata": {},
   "source": [
    "### 字符串相关函数：\n",
    "- char_length()  获取字符串长度，相当于len\n",
    "- concat  字符串拼接\n",
    "- concat_ws 字符串拼接with separator\n",
    "- group_concat  组拼接，用于group by\n",
    "- format 国际金融格式100,000,000.00\n",
    "- insert 从指定位置插入指定的字符串，相当于replace\n",
    "- locate  定位最早的匹配的字符串的所在位置\n",
    "- lcase  小写化\n",
    "- ucase  大写化\n",
    "- left  取左\n",
    "- right 取右\n",
    "- trim，ltrim，rtrim 去除空格\n",
    "- replace 替换\n",
    "- reverse 反向\n",
    "- substring 截取子字符串\n",
    "\n",
    "### 数字函数\n",
    "- ceil\n",
    "- floor\n",
    "- max\n",
    "- min\n",
    "- count\n",
    "- avg\n",
    "- abs\n",
    "- sum\n",
    "### 时间类函数\n",
    "- now()\n",
    "- current_date\n",
    "- current_time\n",
    "- systime()\n",
    "- date\n",
    "- year\n",
    "- month\n",
    "- day\n",
    "- time\n",
    "- adddate(now(), interval 1 Hour)\n",
    "- subdate(now(), interval 2 Day)\n",
    "- date_format(now(), '%Y-%m-%d-%r')\n",
    "- date_format(now(), '%Y-%m-%d %H:%i:%s')\n",
    "\n",
    "### 条件语句\n",
    "- if\n",
    "- ifnull\n",
    "- isnull\n",
    "- case"
   ]
  },
  {
   "cell_type": "markdown",
   "metadata": {},
   "source": [
    "## 一、字符串函数"
   ]
  },
  {
   "cell_type": "markdown",
   "metadata": {},
   "source": [
    "### 1. char_length(str)\n",
    "返回字符串长度。从结果来看，空格也算长度。如果字符串是null，则返回null。"
   ]
  },
  {
   "cell_type": "raw",
   "metadata": {},
   "source": [
    "mysql> select char_length('this is a string.') as length; \n",
    "+--------+\n",
    "| length |\n",
    "+--------+\n",
    "|     17 |\n",
    "+--------+\n",
    "1 row in set (0.00 sec)"
   ]
  },
  {
   "cell_type": "markdown",
   "metadata": {},
   "source": [
    "### 2. concat(str1, str2, ...)\n",
    "连接字符串。\n",
    "如果有任意字符串为null，那么返回结果为null。"
   ]
  },
  {
   "cell_type": "raw",
   "metadata": {},
   "source": [
    "mysql> select concat('1992','-','01','-','01') as c;\n",
    "+------------+\n",
    "| c          |\n",
    "+------------+\n",
    "| 1992-01-01 |\n",
    "+------------+\n",
    "1 row in set (0.00 sec)"
   ]
  },
  {
   "cell_type": "raw",
   "metadata": {},
   "source": [
    "mysql> select concat('str1',null) as n;\n",
    "+------+\n",
    "| n    |\n",
    "+------+\n",
    "| NULL |\n",
    "+------+\n",
    "1 row in set (0.00 sec)"
   ]
  },
  {
   "cell_type": "markdown",
   "metadata": {},
   "source": [
    "### 3. concat_ws(separator,str1,str2,...)\n",
    "全称就是concat_with_seperation，指定分隔字符串拼接字符串。"
   ]
  },
  {
   "cell_type": "raw",
   "metadata": {},
   "source": [
    "mysql> select concat_ws('-',1992,01,01) as d;\n",
    "+----------+\n",
    "| d        |\n",
    "+----------+\n",
    "| 1992-1-1 |\n",
    "+----------+\n",
    "1 row in set (0.00 sec)"
   ]
  },
  {
   "cell_type": "markdown",
   "metadata": {},
   "source": [
    "如果有任意字符串为null，则忽略掉这个null。"
   ]
  },
  {
   "cell_type": "raw",
   "metadata": {},
   "source": [
    "mysql> select concat_ws('-',1992,01,null) as d;  \n",
    "+--------+\n",
    "| d      |\n",
    "+--------+\n",
    "| 1992-1 |\n",
    "+--------+\n",
    "1 row in set (0.00 sec)"
   ]
  },
  {
   "cell_type": "markdown",
   "metadata": {},
   "source": [
    "### 4. group_concat (column_name)\n",
    "可以用于group by查看一些不能合并的列的值。"
   ]
  },
  {
   "cell_type": "markdown",
   "metadata": {},
   "source": [
    "mysql> SELECT student_name,\n",
    "    ->     GROUP_CONCAT(test_score)\n",
    "    ->     FROM student\n",
    "    ->     GROUP BY student_name;"
   ]
  },
  {
   "cell_type": "raw",
   "metadata": {},
   "source": [
    "mysql> select student_id,group_concat(num) from score group by student_id;\n",
    "+------------+-------------------+\n",
    "| student_id | group_concat(num) |\n",
    "+------------+-------------------+\n",
    "|          1 | 10,9,66           |\n",
    "|          2 | 8,65,68,99        |\n",
    "|          3 | 77,66,87,99       |\n",
    "|          4 | 79,11,67,100      |\n",
    "|          5 | 79,11,67,100      |\n",
    "|          6 | 9,100,67,100      |\n",
    "|          7 | 9,100,67,88       |\n",
    "|          8 | 9,100,67,88       |\n",
    "|          9 | 91,88,67,22       |\n",
    "|         10 | 90,77,43,87       |\n",
    "|         11 | 90,77,43,87       |\n",
    "|         12 | 90,77,43,87       |\n",
    "|         13 | 65,87             |\n",
    "|         14 | 65                |\n",
    "|         15 | 65                |\n",
    "|         16 | 65                |\n",
    "+------------+-------------------+\n",
    "16 rows in set (0.00 sec)"
   ]
  },
  {
   "cell_type": "markdown",
   "metadata": {},
   "source": [
    "### 5. FORMAT(X,D[,locale])\n",
    "国际化金额函数。\n",
    "把数字或者数字字符串，转为国际化的格式，并且还能保留小数位。"
   ]
  },
  {
   "cell_type": "raw",
   "metadata": {},
   "source": [
    "mysql> select format('1245566.75325',2);\n",
    "+---------------------------+\n",
    "| format('1245566.75325',2) |\n",
    "+---------------------------+\n",
    "| 1,245,566.75              |\n",
    "+---------------------------+\n",
    "1 row in set (0.00 sec)"
   ]
  },
  {
   "cell_type": "markdown",
   "metadata": {},
   "source": [
    "参数x为数值或字符串格式的数值，d为小数位（rounded四舍五入），\n",
    "\n",
    "locale参数为\n",
    "\n",
    "The optional third parameter enables a locale to be specified to be\n",
    "used for the result number's decimal point, thousands separator, and\n",
    "grouping between separators. Permissible locale values are the same as\n",
    "the legal values for the lc_time_names system variable (see\n",
    "http://dev.mysql.com/doc/refman/5.5/en/locale-support.html). If no\n",
    "locale is specified, the default is 'en_US'."
   ]
  },
  {
   "cell_type": "raw",
   "metadata": {},
   "source": [
    "Examples:\n",
    "mysql> SELECT FORMAT(12332.123456, 4);\n",
    "        -> '12,332.1235'\n",
    "mysql> SELECT FORMAT(12332.1,4);\n",
    "        -> '12,332.1000'\n",
    "mysql> SELECT FORMAT(12332.2,0);\n",
    "        -> '12,332'\n",
    "mysql> SELECT FORMAT(12332.2,2,'de_DE');\n",
    "        -> '12.332,20'"
   ]
  },
  {
   "cell_type": "markdown",
   "metadata": {},
   "source": [
    "### 6. insert(str, start,end, sub_str)\n",
    "字符串替换。把给定字符串从【start, end】替换为给定字符串。\n"
   ]
  },
  {
   "cell_type": "raw",
   "metadata": {},
   "source": [
    "mysql> select insert('XIAO da yu',1,5,'xxxx-') as name; \n",
    "+------------+\n",
    "| name       |\n",
    "+------------+\n",
    "| xxxx-da yu |\n",
    "+------------+\n",
    "1 row in set (0.00 sec)"
   ]
  },
  {
   "cell_type": "markdown",
   "metadata": {},
   "source": [
    "就是将XIAO da yu的第1位到第5位，替换成xxxx-。"
   ]
  },
  {
   "cell_type": "markdown",
   "metadata": {},
   "source": [
    "### 7. LOCATE(substr,str), LOCATE(substr,str,pos)\n",
    "字符串定位。某个字符串首次出现的位置。有null运算返回null。"
   ]
  },
  {
   "cell_type": "raw",
   "metadata": {},
   "source": [
    "Examples:\n",
    "mysql> SELECT LOCATE('bar', 'foobarbar');\n",
    "        -> 4\n",
    "mysql> SELECT LOCATE('xbar', 'foobar');\n",
    "        -> 0\n",
    "mysql> SELECT LOCATE('bar', 'foobarbar', 5);\n",
    "        -> 7"
   ]
  },
  {
   "cell_type": "raw",
   "metadata": {},
   "source": [
    "mysql> select locate('da','xiao da yu');\n",
    "+---------------------------+\n",
    "| locate('da','xiao da yu') |\n",
    "+---------------------------+\n",
    "|                         6 |\n",
    "+---------------------------+\n",
    "1 row in set (0.00 sec)"
   ]
  },
  {
   "cell_type": "raw",
   "metadata": {},
   "source": [
    "mysql> select insert ('从头开始学mysql',locate('mysql','从头开始学mysql'),char_length('mysql'),'MySQL') as blogName;\n",
    "+----------------------+\n",
    "| blogName             |\n",
    "+----------------------+\n",
    "| 从头开始学MySQL      |\n",
    "+----------------------+\n",
    "1 row in set (0.00 sec)"
   ]
  },
  {
   "cell_type": "markdown",
   "metadata": {},
   "source": [
    "首先要定位到\"mysql\"的开始位置，然后计算出\"mysql\"的长度。最后用\"MySQL\"替换\"mysql\"。"
   ]
  },
  {
   "cell_type": "markdown",
   "metadata": {},
   "source": [
    "### 8. LCASE(str)\n",
    "将字符串小写化。"
   ]
  },
  {
   "cell_type": "raw",
   "metadata": {},
   "source": [
    "mysql> select lcase('MYSQL') as lower;\n",
    "+-------+\n",
    "| lower |\n",
    "+-------+\n",
    "| mysql |\n",
    "+-------+\n",
    "1 row in set (0.00 sec)"
   ]
  },
  {
   "cell_type": "markdown",
   "metadata": {},
   "source": [
    "### 8. UCASE(str)\n",
    "将字符串大写化。"
   ]
  },
  {
   "cell_type": "raw",
   "metadata": {},
   "source": [
    "mysql> select ucase('mysql') as upper; \n",
    "+-------+\n",
    "| upper |\n",
    "+-------+\n",
    "| MYSQL |\n",
    "+-------+\n",
    "1 row in set (0.00 sec)"
   ]
  },
  {
   "cell_type": "markdown",
   "metadata": {},
   "source": [
    "### 9. LEFT(str,len)"
   ]
  },
  {
   "cell_type": "markdown",
   "metadata": {},
   "source": [
    "从左侧取字符串的指定长度。"
   ]
  },
  {
   "cell_type": "raw",
   "metadata": {},
   "source": [
    "mysql> select left('mysql',2) as f12;\n",
    "+-----+\n",
    "| f12 |\n",
    "+-----+\n",
    "| my  |\n",
    "+-----+\n",
    "1 row in set (0.00 sec)"
   ]
  },
  {
   "cell_type": "markdown",
   "metadata": {},
   "source": [
    "### 10. right(str, len)"
   ]
  },
  {
   "cell_type": "markdown",
   "metadata": {},
   "source": [
    "从字符串右侧取指定长度。"
   ]
  },
  {
   "cell_type": "raw",
   "metadata": {},
   "source": [
    "mysql> select right('mysql',3) as last;\n",
    "+------+\n",
    "| last |\n",
    "+------+\n",
    "| sql  |\n",
    "+------+\n",
    "1 row in set (0.00 sec)"
   ]
  },
  {
   "cell_type": "markdown",
   "metadata": {},
   "source": [
    "### 11. TRIM, LTRIM, RTRIM \n",
    "去除首位空格。  \n",
    "- TRIM去掉两边的空格；\n",
    "- LTRM去掉左边的空格；\n",
    "- RTRIM去掉右边空格。"
   ]
  },
  {
   "cell_type": "markdown",
   "metadata": {},
   "source": [
    "mysql> SELECT TRIM('  bar   ');\n",
    "        -> 'bar'\n",
    "mysql> SELECT TRIM(LEADING 'x' FROM 'xxxbarxxx');\n",
    "        -> 'barxxx'\n",
    "mysql> SELECT TRIM(BOTH 'x' FROM 'xxxbarxxx');\n",
    "        -> 'bar'\n",
    "mysql> SELECT TRIM(TRAILING 'xyz' FROM 'barxxyz');\n",
    "        -> 'barx'"
   ]
  },
  {
   "cell_type": "markdown",
   "metadata": {},
   "source": [
    "### 12. replace(str, find_str, re_str)\n",
    "替换"
   ]
  },
  {
   "cell_type": "raw",
   "metadata": {},
   "source": [
    "mysql> select replace('Mysql','sql','SQL') as result;\n",
    "+--------+\n",
    "| result |\n",
    "+--------+\n",
    "| MySQL  |\n",
    "+--------+\n",
    "1 row in set (0.00 sec)"
   ]
  },
  {
   "cell_type": "markdown",
   "metadata": {},
   "source": [
    "### 13. REVERSE(str)\n",
    "反转"
   ]
  },
  {
   "cell_type": "raw",
   "metadata": {},
   "source": [
    "mysql> select reverse('abcdefg');\n",
    "+--------------------+\n",
    "| reverse('abcdefg') |\n",
    "+--------------------+\n",
    "| gfedcba            |\n",
    "+--------------------+\n",
    "1 row in set (0.00 sec)"
   ]
  },
  {
   "cell_type": "markdown",
   "metadata": {},
   "source": [
    "### 14. substring \n",
    "截取\n",
    "- SUBSTRING(str,pos), \n",
    "- SUBSTRING(str FROM pos), \n",
    "- SUBSTRING(str,pos,len),\n",
    "- SUBSTRING(str FROM pos FOR len)"
   ]
  },
  {
   "cell_type": "markdown",
   "metadata": {},
   "source": [
    "mysql> SELECT SUBSTRING('Quadratically',5);\n",
    "        -> 'ratically'\n",
    "mysql> SELECT SUBSTRING('foobarbar' FROM 4);\n",
    "        -> 'barbar'\n",
    "mysql> SELECT SUBSTRING('Quadratically',5,6);\n",
    "        -> 'ratica'\n",
    "mysql> SELECT SUBSTRING('Sakila', -3);\n",
    "        -> 'ila'\n",
    "mysql> SELECT SUBSTRING('Sakila', -5, 3);\n",
    "        -> 'aki'\n",
    "mysql> SELECT SUBSTRING('Sakila' FROM -4 FOR 2);\n",
    "        -> 'ki'"
   ]
  },
  {
   "cell_type": "markdown",
   "metadata": {},
   "source": [
    "---"
   ]
  },
  {
   "cell_type": "markdown",
   "metadata": {},
   "source": [
    "## 二、数字函数"
   ]
  },
  {
   "cell_type": "markdown",
   "metadata": {},
   "source": [
    "- ceil\n",
    "- floor\n",
    "- max\n",
    "- min\n",
    "- count\n",
    "- avg\n",
    "- abs\n",
    "- sum"
   ]
  },
  {
   "cell_type": "markdown",
   "metadata": {},
   "source": []
  },
  {
   "cell_type": "markdown",
   "metadata": {},
   "source": []
  },
  {
   "cell_type": "code",
   "execution_count": null,
   "metadata": {},
   "outputs": [],
   "source": []
  },
  {
   "cell_type": "markdown",
   "metadata": {},
   "source": []
  },
  {
   "cell_type": "markdown",
   "metadata": {},
   "source": []
  },
  {
   "cell_type": "markdown",
   "metadata": {},
   "source": []
  },
  {
   "cell_type": "markdown",
   "metadata": {},
   "source": []
  },
  {
   "cell_type": "markdown",
   "metadata": {},
   "source": []
  },
  {
   "cell_type": "markdown",
   "metadata": {},
   "source": []
  }
 ],
 "metadata": {
  "kernelspec": {
   "display_name": "Python 3",
   "language": "python",
   "name": "python3"
  },
  "language_info": {
   "codemirror_mode": {
    "name": "ipython",
    "version": 3
   },
   "file_extension": ".py",
   "mimetype": "text/x-python",
   "name": "python",
   "nbconvert_exporter": "python",
   "pygments_lexer": "ipython3",
   "version": "3.6.5"
  }
 },
 "nbformat": 4,
 "nbformat_minor": 2
}
