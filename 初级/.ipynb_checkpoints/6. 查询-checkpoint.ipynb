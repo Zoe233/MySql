{
 "cells": [
  {
   "cell_type": "markdown",
   "metadata": {},
   "source": [
    "## 1. * 通配符查询所有字段"
   ]
  },
  {
   "cell_type": "markdown",
   "metadata": {},
   "source": [
    "SELECT * FROM fruits;"
   ]
  },
  {
   "cell_type": "markdown",
   "metadata": {},
   "source": [
    "- 优点：当不知道表的列名称的时候，可以节约时间，快速知道列的名称。\n",
    "\n",
    "- 缺点：获取不需要的数据可能会降低查询的效率。而且会出现全表扫描，要谨慎使用。我同学的公司的数据库表，数据量通常都是百万级别的，用这个SQL语句出结果估计要等到太阳下山。"
   ]
  },
  {
   "cell_type": "markdown",
   "metadata": {},
   "source": [
    "## 2. in 带IN关键字的查询"
   ]
  },
  {
   "cell_type": "markdown",
   "metadata": {},
   "source": [
    " 使用IN将查询 满足指定范围内的条件的 记录。"
   ]
  },
  {
   "cell_type": "markdown",
   "metadata": {},
   "source": [
    "相反，可以使用 NOT IN 来检索不在条件范围内的所有记录。"
   ]
  },
  {
   "cell_type": "markdown",
   "metadata": {},
   "source": [
    "## 3. BETWEEN AND 范围查询"
   ]
  },
  {
   "cell_type": "markdown",
   "metadata": {},
   "source": [
    "查询某个范围的值，包括开始值与结束值，一般用于数值型，常用于ID。"
   ]
  },
  {
   "cell_type": "markdown",
   "metadata": {},
   "source": [
    "## 4. 模糊查询 LIKE"
   ]
  },
  {
   "cell_type": "markdown",
   "metadata": {},
   "source": [
    "MySQL的通配符有'%'与'_'。\n",
    "- '%'视为任意长度的字符串。\n",
    "- '_'视为一个字符串。"
   ]
  },
  {
   "cell_type": "markdown",
   "metadata": {},
   "source": [
    "'%a'匹配以a结尾的字符串。'a%'匹配以a开头的字符串。'%a%'匹配含有字符a的字符串。"
   ]
  },
  {
   "cell_type": "markdown",
   "metadata": {},
   "source": [
    "## 5. 空值查询"
   ]
  },
  {
   "cell_type": "markdown",
   "metadata": {},
   "source": [
    "SELECT A IS NULL;  SELECT A IS NOT NULL; 返回的是 1或者0；\n",
    "\n",
    "现在用于条件判断了，查询f_price 是 NULL 的所有记录。  \n",
    "\n",
    "select * from f_price where f_price is null;"
   ]
  },
  {
   "cell_type": "markdown",
   "metadata": {},
   "source": [
    "IS NULL 与 IS NOT NULL 相反。"
   ]
  },
  {
   "cell_type": "markdown",
   "metadata": {},
   "source": [
    "## 6. 带AND的多条件查询 &&"
   ]
  },
  {
   "cell_type": "markdown",
   "metadata": {},
   "source": [
    "查询只有满足所有查询条件的记录才会被返回。AND可以连接两个甚至多个查询条件."
   ]
  },
  {
   "cell_type": "markdown",
   "metadata": {},
   "source": [
    "## 7. 带OR的多条件查询 ||"
   ]
  },
  {
   "cell_type": "markdown",
   "metadata": {},
   "source": [
    "在算术运算符中。与‘AND  && ’、 或‘OR  ||’、非 ‘NOT !’。\n",
    "\n",
    "使用OR操作符，表示只需要满足其中一个条件的记录即可返回。\n",
    "\n",
    "exprA || exprB  ，只要满足一个条件，返回的就是真。"
   ]
  },
  {
   "cell_type": "markdown",
   "metadata": {},
   "source": [
    " s_id in (101，102)  与   s_id = 101  OR  s_id = 102 效果是一样的。\n",
    "\n",
    "### OR的注意点\n",
    "\n",
    "1. 使用IN操作符使得查询语句变得更加简洁明了，IN的速度也同样快于OR。\n",
    "\n",
    "2. 更重要的是IN操作符可以执行更加复杂的嵌套查询。\n",
    "\n",
    "3. OR与AND的优先级：先做AND的操作，再连接OR\n",
    "\n",
    "                       A AND B OR C        A OR B AND C\n",
    "\n",
    "        等价于   (A AND B) OR C      A  OR  (B AND C)\n"
   ]
  },
  {
   "cell_type": "markdown",
   "metadata": {},
   "source": [
    "## 8. 查询结果不重复（去重）distinct"
   ]
  },
  {
   "cell_type": "markdown",
   "metadata": {},
   "source": [
    "去重语法格式：SELECT DISTINCT 字段  FROM 表名 WHERE 条件;"
   ]
  },
  {
   "cell_type": "markdown",
   "metadata": {},
   "source": [
    "SELECT DISTINCT s_id , f_name FROM fruits;  \n",
    "\n",
    "说明：  \n",
    "DISTINCT控制的重复是DISTINCT后面所有字段！即查询出来的记录中的s_id、f_name必须完全一样，才能算同一条。   \n",
    "而不是单纯的s_id相同就去重。"
   ]
  },
  {
   "cell_type": "markdown",
   "metadata": {},
   "source": [
    "## 9.  对查询结果进行排序asc, desc"
   ]
  },
  {
   "cell_type": "markdown",
   "metadata": {},
   "source": [
    "根据字母进行排序，或者根据数字进行排序。默认是升序  ASC"
   ]
  },
  {
   "cell_type": "markdown",
   "metadata": {},
   "source": [
    "降序的话，只需要加上 DESC"
   ]
  },
  {
   "cell_type": "markdown",
   "metadata": {},
   "source": [
    " 升序与降序，究竟是哪个方向？\n",
    "\n",
    "  如下所示，从第一条记录开始，往下比较指定的字段。如果越来越高，说明就是升序。\n",
    "\n",
    "                    从第一条记录开始，往下比较指定的字段。越来越低，说明就是降序。"
   ]
  },
  {
   "cell_type": "markdown",
   "metadata": {},
   "source": [
    "对于多列数据进行排序，只需要用逗号隔开，并指明其排列是升序还是降序。   \n",
    "升序降序的原则是拿第一条记录的值与下面的记录比较，变得越来越大就是升序，变得越来越小就是降序。\n",
    "\n",
    "\n",
    "另外，进行多列排序必须要满足第一个排序条件相同。如果第一个排序条件的字段是唯一的，那么压根就不会出现比较第二个排序条件。\n"
   ]
  },
  {
   "cell_type": "markdown",
   "metadata": {},
   "source": [
    "SELECT * FROM t_student ORDER BY score DESC , name ASC"
   ]
  },
  {
   "cell_type": "markdown",
   "metadata": {},
   "source": [
    "## 10. 分组查询 group by"
   ]
  },
  {
   "cell_type": "markdown",
   "metadata": {},
   "source": [
    "分组查询是按照某个或多个字段进行分组。\n",
    "\n",
    "使用的是GROUP BY 关键字。\n",
    "\n",
    "语法：\n",
    "\n",
    "**GROUP BY 字段   HAVING 条件**\n",
    "\n",
    "如果执行SELECT * FROM 表  GROUP BY  指定字段;   那么，会把每个组的第一条数据查询出来。其它的不显示。"
   ]
  },
  {
   "cell_type": "markdown",
   "metadata": {},
   "source": [
    "GROUP BY关键字常与集合函数一切使用。   \n",
    "常见的集合函数比如:\n",
    "- MAX() \n",
    "- MIN() \n",
    "- COUNT() \n",
    "- SUM() \n",
    "- AVG()。\n",
    "\n",
    "这里使用的是一个叫GROUP_CONCAT的函数，可以把需要的字段全部连接起来。"
   ]
  },
  {
   "cell_type": "markdown",
   "metadata": {},
   "source": [
    "分组系列的最后坑爹需求：多字段分组。\n",
    "\n",
    "- 按照具体的某个字段分组，即会把相同字段的多条记录视为一条记录，并只展示这个组里的第一条数据给客户端。\n",
    "- 若是多字段分组，那么也就是把多个字段视为一个依据。\n",
    "    - 比如 GROUP BY A , B  。 \n",
    "    - 如果两条记录的A字段与B字段一模一样，那么可把这两条记录视为同一组（个）。\n",
    "        -  因为没有任何两条记录的 classId与name 属性完全一样，所以大家都是独立的分组."
   ]
  },
  {
   "cell_type": "markdown",
   "metadata": {},
   "source": [
    "什么?上面的查询结果这么乱，能不能再根据ID排序。 \n",
    "\n",
    "原来，GROUP BY   HAVING  ORDER BY 是可以一起使用的。"
   ]
  },
  {
   "cell_type": "markdown",
   "metadata": {},
   "source": [
    "一般来说，ORDER BY 会放在SQL的最后，原因是它是对已经条件查询的结果 进行排序。\n",
    "\n",
    "我总结的关键字顺序     SELECT  *  FROM table GROUP BY 字段  HAVING 条件  ORDER BY 条件  LIMIT 0，10"
   ]
  },
  {
   "cell_type": "markdown",
   "metadata": {},
   "source": [
    "## 11. 分页查询"
   ]
  },
  {
   "cell_type": "markdown",
   "metadata": {},
   "source": [
    "MySQL的分页查询使用的是LIMIT 关键字，而Oracle用的是  ROWNUM什么的，坑的一批。"
   ]
  },
  {
   "cell_type": "markdown",
   "metadata": {},
   "source": [
    "LIMIT关键字语法如下：\n",
    "\n",
    "           ** LIMIT [位偏移量，]  行数 **\n",
    "\n",
    "第一条记录的位偏移量是0，第二条记录的位偏移量是1，以此类推。\n",
    "\n",
    "“行数”是指本次查询返回的记录的条数。\n",
    "\n",
    "若不指定位偏移量，则将会从表中的第一条记录开始。"
   ]
  },
  {
   "cell_type": "markdown",
   "metadata": {},
   "source": []
  }
 ],
 "metadata": {
  "kernelspec": {
   "display_name": "Python 3",
   "language": "python",
   "name": "python3"
  },
  "language_info": {
   "codemirror_mode": {
    "name": "ipython",
    "version": 3
   },
   "file_extension": ".py",
   "mimetype": "text/x-python",
   "name": "python",
   "nbconvert_exporter": "python",
   "pygments_lexer": "ipython3",
   "version": "3.6.5"
  }
 },
 "nbformat": 4,
 "nbformat_minor": 2
}
