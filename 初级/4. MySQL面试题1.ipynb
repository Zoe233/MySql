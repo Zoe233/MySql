{
 "cells": [
  {
   "cell_type": "markdown",
   "metadata": {},
   "source": [
    "# 本文的面试题如下：\n",
    "- MyisAM和innodb的有关索引的疑问\n",
    "- innodb为什么要用自增id作为主键\n",
    "- MySql索引是如何实现的\n",
    "- 说说分库与分表设计（面试过）\n",
    "- 聚集索引与非聚集索引的区别\n",
    "- 事务四大特性（ACID）原子性、一致性、隔离性、持久性？\n",
    "- 事务的并发？事务隔离级别，每个级别会引发什么问题，MySQL默认是哪个级别？\n",
    "- MySQL常见的存储引擎InnoDB、MyISAM的区别？【~】\n",
    "- 数据库三范式，根据某个场景设计数据表？优缺点\n",
    "- MySQL 索引使用的注意事项\n",
    "- SQL怎么优化\n",
    "- 数据库悲观锁和乐观锁的原理和应用场景？\n",
    "- 如何做 MySQL 的性能优化？\n",
    "- 索引是什么？MySQL为什么使用B+树，而不是使用其他？B+树的特点\n",
    "- 创建索引时需要注意什么？\n",
    "- CHAR和VARCHAR的区别？\n",
    "- NOW（）和CURRENT_DATE（）有什么区别？\n",
    "- 各种索引的概念：索引，主键，唯一索引，联合索引，索引分类\n",
    "- 建立索引的使用场景\n",
    "- Myql中的事务回滚机制,持久性，隔离级别的实现\n",
    "- 说一说drop、delete与truncate的区别\n",
    "- 什么叫视图？游标是什么？\n",
    "- 什么是存储过程？用什么来调用？\n",
    "- 内连接、自连接、外连接（左、右、全）、交叉连接的区别"
   ]
  },
  {
   "cell_type": "markdown",
   "metadata": {},
   "source": [
    "-------"
   ]
  },
  {
   "cell_type": "markdown",
   "metadata": {},
   "source": [
    "## 1. MyisAM和innodb的有关索引的疑问"
   ]
  },
  {
   "cell_type": "markdown",
   "metadata": {},
   "source": [
    "MySQL中myisam和innodb的主键索引有什么区别？"
   ]
  },
  {
   "cell_type": "markdown",
   "metadata": {},
   "source": [
    "- MyisAM的 非聚集索引\n",
    "- innodb是 聚集索引"
   ]
  },
  {
   "cell_type": "markdown",
   "metadata": {},
   "source": [
    "都使用 B+Tree 作为索引结构，但\n",
    "- MyisAM的叶节点的data域存放的是数据记录的地址\n",
    "    - MyISAM中索引检索的算法为首先按照B+Tree搜索算法搜索索引，如果指定的Key存在，则取出其data域的值，然后以data域的值为地址，读取相应数据记录。\n",
    "- InnoDB的数据文件本身就是索引文件，树的叶节点data域保存了完整的数据记录。\n",
    "    - 但是辅助索引搜索需要检索两遍索引：首先检索辅助索引获得主键，然后用主键到主索引中检索获得记录。"
   ]
  },
  {
   "cell_type": "markdown",
   "metadata": {},
   "source": [
    "因为InnoDB的数据文件本身要按主键聚集，所以InnoDB要求表必须有主键（MyISAM可以没有）\n",
    "- innodb必须要求有主键\n",
    "    - 如果没有显式指定，则MySQL系统会自动选择一个可以唯一标识数据记录的列作为主键\n",
    "    - 如果不存在这种列，则MySQL自动为InnoDB表生成一个隐含字段作为主键，这个字段长度为6个字节，类型为长整形。（隐含字段）\n",
    "- myisam可以没有"
   ]
  },
  {
   "cell_type": "markdown",
   "metadata": {},
   "source": [
    "## 详细说明："
   ]
  },
  {
   "cell_type": "markdown",
   "metadata": {},
   "source": [
    "### MyisAM的索引实现\n",
    "MyISAM引擎使用**B+Tree**作为索引结构，叶节点的data域存放的是数据记录的地址。\n",
    "\n",
    "下图是MyISAM索引的原理图："
   ]
  },
  {
   "cell_type": "markdown",
   "metadata": {},
   "source": [
    "<img src='./images/mysql001.png' width=400/>"
   ]
  },
  {
   "cell_type": "markdown",
   "metadata": {},
   "source": [
    "这里设表一共有三列，假设我们以Col1为主键，则上图是一个MyISAM表的主索引（Primary key）示意。\n",
    "\n",
    "可以看出**MyISAM的索引文件仅仅保存数据记录的地址**。\n",
    "\n",
    "在MyISAM中:\n",
    "- 主索引和辅助索引（Secondary key）在结构上没有任何区别\n",
    "- 只是主索引要求key是唯一的，而辅助索引的key可以重复。\n"
   ]
  },
  {
   "cell_type": "markdown",
   "metadata": {},
   "source": [
    "如果我们在Col2上建立一个辅助索引，则此索引的结构如下图所示："
   ]
  },
  {
   "cell_type": "markdown",
   "metadata": {},
   "source": [
    "<img src='./images/mysql002.png' width=400/>"
   ]
  },
  {
   "cell_type": "markdown",
   "metadata": {},
   "source": [
    "同样也是一颗B+Tree，data域保存数据记录的地址。\n",
    "\n",
    "因此，MyISAM中【索引检索的算法】\n",
    "- 首先按照B+Tree搜索算法搜索索引，\n",
    "- 如果指定的Key存在，则取出其data域的值，\n",
    "- 然后以data域的值为地址，读取相应数据记录。\n",
    "\n",
    "MyISAM的索引方式也叫做“非聚集”的，之所以这么称呼是为了与InnoDB的聚集索引区分。"
   ]
  },
  {
   "cell_type": "markdown",
   "metadata": {},
   "source": [
    "### InnoDB索引实现\n",
    "虽然InnoDB也使用**B+Tree作为索引结构**，但具体**实现方式却与MyISAM截然不同**。\n",
    "\n",
    "#### 第一个重大区别：\n",
    "- InnoDB的数据文件本身就是索引文件。\n",
    "    - 从上文知道，MyISAM索引文件和数据文件是分离的，索引文件仅保存数据记录的地址。\n",
    "    - 而在InnoDB中，表数据文件本身就是按B+Tree组织的一个索引结构，这棵树的叶节点data域保存了完整的数据记录。这个索引的key是数据表的主键，因此InnoDB表数据文件本身就是主索引。"
   ]
  },
  {
   "cell_type": "markdown",
   "metadata": {},
   "source": [
    "<img src='./images/mysql003.png' width=400/>"
   ]
  },
  {
   "cell_type": "markdown",
   "metadata": {},
   "source": [
    "上图是InnoDB主索引（同时也是数据文件）的示意图，可以看到叶节点包含了完整的数据记录。\n",
    "\n",
    "这种索引叫做【聚集索引】。\n",
    "\n",
    "因为InnoDB的数据文件本身要**按主键聚集**，所以InnoDB要求表**必须有主键**（MyISAM可以没有），如果没有显式指定，则MySQL系统会自动选择一个可以唯一标识数据记录的列作为主键，如果不存在这种列，则MySQL自动为InnoDB表生成一个隐含字段作为主键，这个字段长度为6个字节，类型为长整形。"
   ]
  },
  {
   "cell_type": "markdown",
   "metadata": {},
   "source": [
    "#### 第二个重大区别：\n",
    "- 与MyISAM索引的不同是InnoDB的辅助索引data域存储相应记录主键的值而不是地址。\n",
    "\n",
    "换句话说，InnoDB的所有辅助索引都引用主键作为data域。\n",
    "\n",
    "例如，下图为定义在Col3上的一个辅助索引："
   ]
  },
  {
   "cell_type": "markdown",
   "metadata": {},
   "source": [
    "<img src='./images/mysql004.png' width=400/>"
   ]
  },
  {
   "cell_type": "markdown",
   "metadata": {},
   "source": [
    "这里以英文字符的ASCII码作为比较准则。"
   ]
  },
  {
   "cell_type": "markdown",
   "metadata": {},
   "source": [
    "【聚集索引】这种实现方式使得按主键的搜索十分高效，但是辅助索引搜索需要检索两遍索引：\n",
    "- 首先检索辅助索引获得主键\n",
    "- 然后用主键到主索引中检索获得记录。"
   ]
  },
  {
   "cell_type": "markdown",
   "metadata": {},
   "source": [
    "了解不同存储引擎的索引实现方式对于正确使用和优化索引都非常有帮助。\n",
    "\n",
    "例如知道了InnoDB的索引实现后，就很容易明白为什么不建议使用过长的字段作为主键，因为所有辅助索引都引用主索引，过长的主索引会令辅助索引变得过大。\n",
    "\n",
    "再例如，用非单调的字段作为主键在InnoDB中不是个好主意，因为InnoDB数据文件本身是一颗B+Tree，非单调的主键会造成在插入新记录时数据文件为了维持B+Tree的特性而频繁的分裂调整，十分低效，而使用自增字段作为主键则是一个很好的选择。"
   ]
  },
  {
   "cell_type": "markdown",
   "metadata": {},
   "source": []
  },
  {
   "cell_type": "markdown",
   "metadata": {},
   "source": []
  },
  {
   "cell_type": "markdown",
   "metadata": {},
   "source": []
  },
  {
   "cell_type": "markdown",
   "metadata": {},
   "source": []
  },
  {
   "cell_type": "markdown",
   "metadata": {},
   "source": []
  },
  {
   "cell_type": "markdown",
   "metadata": {},
   "source": []
  },
  {
   "cell_type": "markdown",
   "metadata": {},
   "source": []
  },
  {
   "cell_type": "markdown",
   "metadata": {},
   "source": []
  },
  {
   "cell_type": "markdown",
   "metadata": {},
   "source": []
  },
  {
   "cell_type": "markdown",
   "metadata": {},
   "source": []
  },
  {
   "cell_type": "markdown",
   "metadata": {},
   "source": []
  },
  {
   "cell_type": "markdown",
   "metadata": {},
   "source": []
  },
  {
   "cell_type": "markdown",
   "metadata": {},
   "source": []
  },
  {
   "cell_type": "markdown",
   "metadata": {},
   "source": []
  },
  {
   "cell_type": "code",
   "execution_count": null,
   "metadata": {},
   "outputs": [],
   "source": []
  },
  {
   "cell_type": "markdown",
   "metadata": {},
   "source": []
  },
  {
   "cell_type": "markdown",
   "metadata": {},
   "source": []
  },
  {
   "cell_type": "code",
   "execution_count": null,
   "metadata": {},
   "outputs": [],
   "source": []
  },
  {
   "cell_type": "markdown",
   "metadata": {},
   "source": []
  },
  {
   "cell_type": "markdown",
   "metadata": {},
   "source": []
  },
  {
   "cell_type": "markdown",
   "metadata": {},
   "source": []
  },
  {
   "cell_type": "code",
   "execution_count": null,
   "metadata": {},
   "outputs": [],
   "source": []
  },
  {
   "cell_type": "markdown",
   "metadata": {},
   "source": []
  },
  {
   "cell_type": "markdown",
   "metadata": {},
   "source": []
  },
  {
   "cell_type": "markdown",
   "metadata": {},
   "source": []
  },
  {
   "cell_type": "markdown",
   "metadata": {},
   "source": []
  },
  {
   "cell_type": "markdown",
   "metadata": {},
   "source": []
  },
  {
   "cell_type": "markdown",
   "metadata": {},
   "source": []
  },
  {
   "cell_type": "code",
   "execution_count": null,
   "metadata": {},
   "outputs": [],
   "source": []
  }
 ],
 "metadata": {
  "kernelspec": {
   "display_name": "Python 3",
   "language": "python",
   "name": "python3"
  },
  "language_info": {
   "codemirror_mode": {
    "name": "ipython",
    "version": 3
   },
   "file_extension": ".py",
   "mimetype": "text/x-python",
   "name": "python",
   "nbconvert_exporter": "python",
   "pygments_lexer": "ipython3",
   "version": "3.6.5"
  }
 },
 "nbformat": 4,
 "nbformat_minor": 2
}
