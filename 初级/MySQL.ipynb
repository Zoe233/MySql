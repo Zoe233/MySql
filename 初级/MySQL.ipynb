{
 "cells": [
  {
   "cell_type": "markdown",
   "metadata": {},
   "source": [
    "# 目录\n",
    "<a href='#part1'>1. 安装</a>\n",
    "\n",
    "<a href='#part2'>2. 数据库的操作</a>\n",
    "\n",
    "<a href='#part3'>3. 数据库表的基本操作</a>\n",
    "\n",
    "<a href='#part4'>4. 数据库表的内容操作</a>\n",
    "<a href='#part5'>1. 安装</a>\n",
    "<a href='#part6'>1. 安装</a>\n",
    "<a href='#part7'>1. 安装</a>"
   ]
  },
  {
   "cell_type": "markdown",
   "metadata": {},
   "source": [
    "<h2><span id='part1' name='part1'>1. 安装</span></h2>"
   ]
  },
  {
   "cell_type": "markdown",
   "metadata": {},
   "source": [
    "----"
   ]
  },
  {
   "cell_type": "markdown",
   "metadata": {},
   "source": [
    "<h2><span id='part2' name='part2'>2. 数据库操作</span></h2>"
   ]
  },
  {
   "cell_type": "raw",
   "metadata": {},
   "source": [
    "数据库级别：\n",
    "        SHOW DATABASES;   # 查看当前Mysql都有那些数据，根目录都有那些文件夹\n",
    "         \n",
    "        CREATE DATABASE 数据库名称;  # 创建文件夹\n",
    "        CREATE DATABASE 数据库名称 DEFAULT CHARSET utf8 COLLATE utf8_general_ci;\n",
    "        \n",
    "        USE 数据库名称;   # 使用选中数据库，进入目录\n",
    "        \n",
    "        drop database 数据库名称;  # 删除数据库"
   ]
  },
  {
   "cell_type": "markdown",
   "metadata": {},
   "source": [
    "### 1. 显示数据库\n",
    "\n",
    "show databases;"
   ]
  },
  {
   "cell_type": "markdown",
   "metadata": {},
   "source": [
    "默认数据库：\n",
    "- mysql - 用户权限相关数据\n",
    "- test - 用于用户测试数据\n",
    "- information_schema - MySQL本身架构相关数据"
   ]
  },
  {
   "cell_type": "raw",
   "metadata": {},
   "source": [
    "mysql> show databases;\n",
    "+--------------------+\n",
    "| Database           |\n",
    "+--------------------+\n",
    "| information_schema |\n",
    "| crm                |\n",
    "| dcba               |\n",
    "| mysql              |\n",
    "| perfectcrm         |\n",
    "| performance_schema |\n",
    "| sys                |\n",
    "| tags               |\n",
    "| tms                |\n",
    "+--------------------+\n",
    "9 rows in set (0.00 sec)"
   ]
  },
  {
   "cell_type": "markdown",
   "metadata": {},
   "source": [
    "### 2. 创建数据库"
   ]
  },
  {
   "cell_type": "raw",
   "metadata": {},
   "source": [
    "# utf-8\n",
    "create database DB_NAME default charset utf8 collate utf8_general_ci;\n",
    "\n",
    "# gbk \n",
    "create database DB_NAME default charset set gbk collate gbk_chinese_ci;"
   ]
  },
  {
   "cell_type": "markdown",
   "metadata": {},
   "source": [
    "默认编码最好使用utf8，utf8_general_ci是用来做排序和编码的。"
   ]
  },
  {
   "cell_type": "markdown",
   "metadata": {},
   "source": [
    "### 3. 使用数据库"
   ]
  },
  {
   "cell_type": "raw",
   "metadata": {},
   "source": [
    "use DB_NAME;"
   ]
  },
  {
   "cell_type": "markdown",
   "metadata": {},
   "source": [
    "### 4. 显示当前使用的数据库中的所有表"
   ]
  },
  {
   "cell_type": "raw",
   "metadata": {},
   "source": [
    "show tables;"
   ]
  },
  {
   "cell_type": "markdown",
   "metadata": {},
   "source": [
    "### 5. 用户管理"
   ]
  },
  {
   "cell_type": "markdown",
   "metadata": {},
   "source": [
    "#### 创建用户"
   ]
  },
  {
   "cell_type": "raw",
   "metadata": {},
   "source": [
    "create user '用户名'@'IP地址' identified by '密码';"
   ]
  },
  {
   "cell_type": "markdown",
   "metadata": {},
   "source": [
    "#### 删除用户"
   ]
  },
  {
   "cell_type": "raw",
   "metadata": {},
   "source": [
    "drop user '用户名'@'IP地址';"
   ]
  },
  {
   "cell_type": "markdown",
   "metadata": {},
   "source": [
    "#### 修改用户"
   ]
  },
  {
   "cell_type": "raw",
   "metadata": {},
   "source": [
    "rename user '用户名'@'IP地址' to '新用户名'@'IP地址';"
   ]
  },
  {
   "cell_type": "markdown",
   "metadata": {},
   "source": [
    "#### 修改密码"
   ]
  },
  {
   "cell_type": "raw",
   "metadata": {},
   "source": [
    "set password for '用户名'@'IP地址' = Password('新密码')"
   ]
  },
  {
   "cell_type": "markdown",
   "metadata": {},
   "source": [
    "PS：  \n",
    "用户权限相关数据保存在mysql数据库的user表中，所以也可以直接对其进行操作（不建议）"
   ]
  },
  {
   "cell_type": "markdown",
   "metadata": {},
   "source": [
    "#### 授权管理"
   ]
  },
  {
   "cell_type": "markdown",
   "metadata": {},
   "source": [
    "##### 查看权限\n",
    "show grants for '用户'@'IP地址';\n",
    "\n",
    "##### 授权\n",
    "grant 权限 on 数据库.表 to '用户'@'IP地址';\n",
    "\n",
    "##### 取消权限\n",
    "revoke 权限 on 数据库.表 from '用户'@'IP地址';"
   ]
  },
  {
   "cell_type": "raw",
   "metadata": {},
   "source": [
    "mysql> show grants for 'ann'@'localhost';\n",
    "+---------------------------------------------------+\n",
    "| Grants for ann@localhost                          |\n",
    "+---------------------------------------------------+\n",
    "| GRANT USAGE ON *.* TO 'ann'@'localhost'           |\n",
    "| GRANT SELECT ON `test`.`tb1` TO 'ann'@'localhost' |\n",
    "+---------------------------------------------------+\n",
    "2 rows in set (0.00 sec)\n"
   ]
  },
  {
   "cell_type": "raw",
   "metadata": {},
   "source": [
    "示例：\n",
    "grant all privileges on db1.tb1 TO '用户名'@'IP'\n",
    "\n",
    "grant select on db1.* TO '用户名'@'IP'\n",
    "\n",
    "grant select,insert on *.* TO '用户名'@'IP'\n",
    "\n",
    "revoke select on db1.tb1 from '用户名'@'IP'\n"
   ]
  },
  {
   "cell_type": "markdown",
   "metadata": {},
   "source": [
    "- all privileges（除grant外的所有权限）：\n",
    "- select          仅查权限\n",
    "- select,insert   查和插入权限\n",
    "            ...\n",
    "- usage                   无访问权限\n",
    "- alter                   使用alter table\n",
    "- alter routine           使用alter procedure和drop procedure\n",
    "- create                  使用create table\n",
    "- create routine          使用create procedure\n",
    "- create temporary tables 使用create temporary tables\n",
    "- create user             使用create user、drop user、rename user和revoke  all privileges\n",
    "- create view             使用create view\n",
    "- delete                  使用delete\n",
    "- drop                    使用drop table\n",
    "- execute                 使用call和存储过程\n",
    "- file                    使用select into outfile 和 load data infile\n",
    "- grant option            使用grant 和 revoke\n",
    "- index                   使用index\n",
    "- insert                  使用insert\n",
    "- lock tables             使用lock table\n",
    "- process                 使用show full processlist\n",
    "- select                  使用select\n",
    "- show databases          使用show databases\n",
    "- show view               使用show view\n",
    "- update                  使用update\n",
    "- reload                  使用flush\n",
    "- super                   􏱂􏰈使用change master、kill、logs、purge、master和set global。还允许mysqladmin􏵗􏵘􏲊􏲋调试登陆\n",
    "- replication client      服务器位置的访问\n",
    "- replication slave       由复制从属使用"
   ]
  },
  {
   "cell_type": "markdown",
   "metadata": {},
   "source": [
    "对于目标数据库以及内部其他：\n",
    "- 数据库名.*           \n",
    "    - 数据库中的所有\n",
    "- 数据库名.表          \n",
    "    - 指定数据库中的某张表\n",
    "- 数据库名.存储过程      \n",
    "    - 指定数据库中的存储过程\n",
    "- \\*.\\*               \n",
    "    - 所有数据库\n"
   ]
  },
  {
   "cell_type": "markdown",
   "metadata": {},
   "source": [
    "- 用户名@IP地址         用户只能在该IP下才能访问\n",
    "- 用户名@192.168.1.%   用户只能在该IP段下才能访问(通配符%表示任意)\n",
    "- 用户名@%             用户可以在任意IP下访问(默认IP地址为%)"
   ]
  },
  {
   "cell_type": "markdown",
   "metadata": {},
   "source": [
    "---"
   ]
  },
  {
   "cell_type": "markdown",
   "metadata": {},
   "source": [
    "<h2><span id='part3' name='part3'>3. 数据库表基本操作</span></h2>"
   ]
  },
  {
   "cell_type": "raw",
   "metadata": {},
   "source": [
    "表级别：\n",
    "        show tables;  \n",
    "        desc tb1;   # 显示表中的字段信息\n",
    "        \n",
    "        create table tb1(nid int, name varchar(10));\n",
    "        # 事务，原子操作，回滚\n",
    "        a. 默认值\n",
    "        b. 是否可以为空\n",
    "        c. 自增列（一张表只能有一个，数字，必须是索引-主键）\n",
    "        d. 主键索引：\n",
    "        e. 外键foreign key，一对多\n",
    "        f. 数据类型：数值、时间和字符串\n",
    "        \n",
    "        drop table tb1;     # 直接表删除\n",
    "        \n",
    "        delete from tb1;    # 清空表内容\n",
    "        truncate table tb1; # 清空表内容，速度快，自增回到原点\n",
    "        \n",
    "        select * from tbl;"
   ]
  },
  {
   "cell_type": "markdown",
   "metadata": {},
   "source": [
    "### 1. 创建表"
   ]
  },
  {
   "cell_type": "raw",
   "metadata": {},
   "source": [
    "create table 表名(\n",
    "    列名  类型  是否可以为空，\n",
    "    列名  类型  是否可以为空\n",
    ")ENGINE=InnoDB DEFAULT CHARSET=utf8"
   ]
  },
  {
   "cell_type": "markdown",
   "metadata": {},
   "source": [
    "default charset=utf8 表级别的字符集设置   \n",
    "engine=InnoDB 数据库引擎，支持事务   \n",
    "engine=MyIsam 支持全文检索，速度更快   "
   ]
  },
  {
   "cell_type": "markdown",
   "metadata": {},
   "source": [
    "#### 是否可空null、not null:\n",
    " null表示空，非字符串\n",
    "- not null    - 不可空\n",
    "- null        - 可空"
   ]
  },
  {
   "cell_type": "markdown",
   "metadata": {},
   "source": [
    "#### 默认值 default：   \n",
    "创建列时可以指定默认值，当插入数据时如果未主动设置，则自动添加默认值。"
   ]
  },
  {
   "cell_type": "raw",
   "metadata": {},
   "source": [
    "create table tb1(\n",
    "                nid int not null defalut 2,\n",
    "                num int not null\n",
    "            )"
   ]
  },
  {
   "cell_type": "markdown",
   "metadata": {},
   "source": [
    "#### 自增auto_increment：  \n",
    "如果为某列设置自增列，插入数据时无需设置此列，默认将自增（表中只能有一个自增列）\n",
    "            \n",
    "注意：\n",
    "1. 对于自增列，必须是索引（含主键）。\n",
    "2. 对于自增可以设置步长和起始值\n",
    "                     show session variables like 'auto_inc%';\n",
    "                     set session auto_increment_increment=2;\n",
    "                     set session auto_increment_offset=10;\n",
    "\n",
    "                     shwo global  variables like 'auto_inc%';\n",
    "                     set global auto_increment_increment=2;\n",
    "                     set global auto_increment_offset=10;\n"
   ]
  },
  {
   "cell_type": "raw",
   "metadata": {},
   "source": [
    "create table tb1(\n",
    "                nid int not null auto_increment primary key,\n",
    "                num int null\n",
    "            )\n",
    "或\n",
    "\n",
    "create table tb1(\n",
    "                nid int not null auto_increment,\n",
    "                num int null,\n",
    "                index(nid)\n",
    "            )"
   ]
  },
  {
   "cell_type": "markdown",
   "metadata": {},
   "source": [
    "如果想要清空自增同时回到原点，使用 truncate table tbname;"
   ]
  },
  {
   "cell_type": "markdown",
   "metadata": {},
   "source": [
    "#### 主键primary key：\n",
    "一种特殊的唯一索引，不允许有空值，如果主键使用单个列，则它的值必须唯一，如果是多列，则其组合必须唯一。 "
   ]
  },
  {
   "cell_type": "raw",
   "metadata": {},
   "source": [
    " create table tb1(\n",
    "                nid int not null auto_increment primary key,\n",
    "                num int null\n",
    "            )engine=innodb default charset=utf8;\n",
    "            \n",
    "或\n",
    "多个列组合主键：\n",
    "create table tb1(\n",
    "                nid int not null,\n",
    "                num int not null,\n",
    "                primary key(nid,num)\n",
    "            )engine=innodb default charset=utf8;\n"
   ]
  },
  {
   "cell_type": "markdown",
   "metadata": {},
   "source": [
    "**主键索引和唯一索引的区别**：\n",
    "- 主键不能是null，唯一可以是null。\n",
    "- 主键一般和auto_increment自增一起使用\n",
    "- 主键可以是多个列的组合，组合主键\n",
    "- 一张表中，主键只能有一个，唯一索引可以有多个。\n",
    "\n",
    "**唯一索引：**\n",
    "    可以为null，一张表可以有多个唯一列\n",
    "                1，2，3，4，5，6，null\n",
    "             \n",
    "**索引的作用：**\n",
    "- 约束\n",
    "- 索引，加速查找            "
   ]
  },
  {
   "cell_type": "markdown",
   "metadata": {},
   "source": [
    "**主键：**\n",
    "- 不能为null\n",
    "- 不能重复\n",
    "- 一张表只有一个主键（可以多列组成主键）\n",
    "\n",
    "**一般用法：  **\n",
    "nid int not null auto_increment primary key\n"
   ]
  },
  {
   "cell_type": "markdown",
   "metadata": {},
   "source": [
    "#### 外键foreign key：\n",
    "一个特殊的索引，只能是指定内容         "
   ]
  },
  {
   "cell_type": "markdown",
   "metadata": {},
   "source": [
    "两张表建立约束\n",
    "- 约束\n",
    "- foreign key，一对多"
   ]
  },
  {
   "cell_type": "raw",
   "metadata": {},
   "source": [
    "creat table color(\n",
    "                nid int not null primary key,\n",
    "                name char(16) not null\n",
    "            )\n",
    "\n",
    "create table fruit(\n",
    "                nid int not null primary key,\n",
    "                smt char(32) null ,\n",
    "                color_id int not null,\n",
    "                constraint fk_cc foreign key (color_id) references color(nid)\n",
    "            )\n"
   ]
  },
  {
   "cell_type": "markdown",
   "metadata": {},
   "source": [
    "- 添加外键：alter table 从表 add constraint 外键名称（形如：FK_从表_主表） foreign key 从表(外键字段) references 主表(主键字段);"
   ]
  },
  {
   "cell_type": "raw",
   "metadata": {},
   "source": [
    "示例：  \n",
    "将userinfo表和department表中做一个外键约束。\n",
    "mysql> alter table userinfo add constraint fk_u_dpid foreign key userinfo(depart_id) references department(nid);\n",
    "Query OK, 1 row affected (0.03 sec)\n",
    "Records: 1  Duplicates: 0  Warnings: 0"
   ]
  },
  {
   "cell_type": "markdown",
   "metadata": {},
   "source": [
    "### 2. 删除表"
   ]
  },
  {
   "cell_type": "raw",
   "metadata": {},
   "source": [
    "drop table 表名"
   ]
  },
  {
   "cell_type": "markdown",
   "metadata": {},
   "source": [
    "### 3. 清空表"
   ]
  },
  {
   "cell_type": "markdown",
   "metadata": {},
   "source": [
    "- delete from 表名  \n",
    "    - 自增内容会继续，不会清零\n",
    "- truncate table 表名\n",
    "    - 效率更高，并且能够将自增清零，回到原点。"
   ]
  },
  {
   "cell_type": "markdown",
   "metadata": {},
   "source": [
    "### 4. 修改表"
   ]
  },
  {
   "cell_type": "markdown",
   "metadata": {},
   "source": [
    "- 添加列：\n",
    "    - alter table 表名 add 列名 类型;\n",
    "- 删除列：\n",
    "    - alter table 表名 drop column 列名;\n",
    "- 修改列：\n",
    "    - alter table 表名 modify column 列名 类型; \n",
    "    - alter table 表名 change 原列名 新列名 类型; \n",
    "  \n",
    "- 添加主键：\n",
    "    - alter table 表名 add primary key(列名);\n",
    "- 删除主键：\n",
    "    - alter table 表名 drop primary key;\n",
    "    - alter table 表名  modify  列名 int, drop primary key;\n",
    "  \n",
    "- 添加外键：\n",
    "    - alter table 从表 add constraint 外键名称（形如：FK_从表_主表） foreign key 从表(外键字段) references 主表(主键字段);\n",
    "- 删除外键：\n",
    "    - alter table 表名 drop foreign key 外键名称;\n",
    "  \n",
    "- 修改默认值：\n",
    "    - ALTER TABLE 表名 ALTER 列名 SET DEFAULT 1000;\n",
    "- 删除默认值：\n",
    "    - ALTER TABLE 表名 ALTER 列名 DROP DEFAULT;"
   ]
  },
  {
   "cell_type": "markdown",
   "metadata": {},
   "source": [
    "### 5. 基本数据类型"
   ]
  },
  {
   "cell_type": "markdown",
   "metadata": {},
   "source": [
    "MySQL的数据类型大致分为：\n",
    "- 数值\n",
    "- 时间\n",
    "- 字符串"
   ]
  },
  {
   "cell_type": "markdown",
   "metadata": {},
   "source": [
    "#### 细化划分：\n",
    "1. 数值：\n",
    "    - 二进制位 bit\n",
    "    - 整数：tinyint, smalliint, int, bigint\n",
    "    - 小数：decimal, float, double"
   ]
  },
  {
   "cell_type": "markdown",
   "metadata": {},
   "source": [
    "- bit[(M)]\n",
    "            二进制位（101001），m表示二进制位的长度（1-64），默认m＝1\n",
    "\n",
    "- tinyint[(m)] [unsigned] [zerofill]\n",
    "    - 小整数，数据类型用于保存一些范围的整数数值范围：\n",
    "        - 有符号：-128 ～ 127.\n",
    "        - 无符号unsigned：0～ 255\n",
    "    - 特别的： MySQL中无布尔值，使用tinyint(1)构造。\n",
    "\n",
    "- int[(m)][unsigned][zerofill]\n",
    "    - 整数，数据类型用于保存一些范围的整数数值范围：\n",
    "        - 有符号：-2147483648 ～ 2147483647\n",
    "        - 无符号：0～ 4294967295\n",
    "    - 特别的：整数类型中的m仅用于显示，对存储范围无限制。例如： int(5),当插入数据2时，select 时数据显示为： 00002\n",
    "\n",
    "- bigint[(m)][unsigned][zerofill]\n",
    "    - 大整数，数据类型用于保存一些范围的整数数值范围：\n",
    "        - 有符号： -9223372036854775808 ～ 9223372036854775807\n",
    "        - 无符号：0～  18446744073709551615\n",
    "\n",
    "- decimal[(m[,d])] [unsigned] [zerofill]\n",
    "    - 准确的小数值，m是数字总个数（负号不算），d是小数点后个数。 m最大值为65，d最大值为30。\n",
    "    - 特别的：对于精确数值计算时需要用此类型。decimal能够存储精确值的原因在于其内部按照**字符串**存储。\n",
    "\n",
    "- FLOAT[(M,D)] [UNSIGNED] [ZEROFILL]\n",
    "    - 单精度浮点数（非准确小数值），m是数字总个数，d是小数点后个数。\n",
    "        - 无符号：-3.402823466E+38 to -1.175494351E-38,\n",
    "                    1.175494351E-38 to 3.402823466E+38\n",
    "        - 有符号：\n",
    "                    1.175494351E-38 to 3.402823466E+38\n",
    "\n",
    "            **** 数值越大，越不准确 ****\n",
    "\n",
    "- DOUBLE[(M,D)] [UNSIGNED] [ZEROFILL]\n",
    "    - 双精度浮点数（非准确小数值），m是数字总个数，d是小数点后个数。\n",
    "        - 无符号：\n",
    "                    -1.7976931348623157E+308 to -2.2250738585072014E-308\n",
    "                    2.2250738585072014E-308 to 1.7976931348623157E+308\n",
    "        - 有符号：\n",
    "                    2.2250738585072014E-308 to 1.7976931348623157E+308\n",
    "            **** 数值越大，越不准确 ****"
   ]
  },
  {
   "cell_type": "markdown",
   "metadata": {},
   "source": [
    "2. 字符串：\n",
    "    - 定长\n",
    "        - char\n",
    "            - create table tb13(n char(7),b int, c int)\n",
    "            - 查找速度快，浪费空间          \n",
    "    - 变长\n",
    "        - varchar\n",
    "            - create table tb13(n varchar(7),b int, c int)\n",
    "            - 查获找速度慢，节省空间\n",
    "        - text\n",
    "        - mediumtext\n",
    "        - longtext"
   ]
  },
  {
   "cell_type": "markdown",
   "metadata": {},
   "source": [
    "- char (m)\n",
    "    - char数据类型用于表示固定长度的字符串，可以包含最多达255个字符。其中m代表字符串的长度。\n",
    "            PS: 即使数据小于m长度，也会占用m长度\n",
    "- varchar(m)\n",
    "    - varchars数据类型用于变长的字符串，可以包含最多达255个字符。其中m代表该数据类型所允许保存的字符串的最大长度，只要长度小于该最大值的字符串都可以被保存在该数据类型中。\n",
    "\n",
    "    - 注：虽然varchar使用起来较为灵活，但是从整个系统的性能角度来说，char数据类型的处理速度更快，有时甚至可以超出varchar处理速度的50%。因此，用户在设计数据库时应当综合考虑各方面的因素，以求达到最佳的平衡\n",
    "\n",
    "- text\n",
    "    - text数据类型用于保存变长的大字符串，可以组多到65535 (2**16 − 1)个字符。\n",
    "\n",
    "- mediumtext\n",
    "    - A TEXT column with a maximum length of 16,777,215 (2**24 − 1) characters.\n",
    "\n",
    "    - longtext\n",
    "            A TEXT column with a maximum length of 4,294,967,295 or 4GB (2**32 − 1) characters.\n",
    "\n"
   ]
  },
  {
   "cell_type": "markdown",
   "metadata": {},
   "source": [
    "3. 二进制数据：TinyBlob、Blob、MediumBlob、LongBlob\n",
    "    - 上传文件\n",
    "    - Blob,强制二进制方式\n",
    "    - varchar(65), \"D:\\av.avi\" 将上传的文件保存在硬盘， D:\\av.avi ;"
   ]
  },
  {
   "cell_type": "markdown",
   "metadata": {},
   "source": [
    "4. 时间：date, time, year, datetime, timestamp"
   ]
  },
  {
   "cell_type": "markdown",
   "metadata": {},
   "source": [
    "- DATE\n",
    "    - YYYY-MM-DD（1000-01-01/9999-12-31）\n",
    "\n",
    "- TIME\n",
    "    - HH:MM:SS（'-838:59:59'/'838:59:59'）\n",
    "\n",
    "- YEAR\n",
    "    - YYYY（1901/2155）\n",
    "\n",
    "- DATETIME\n",
    "     - YYYY-MM-DD HH:MM:SS（1000-01-01 00:00:00/9999-12-31 23:59:59    Y）\n",
    "\n",
    "- TIMESTAMP\n",
    "    - YYYYMMDD HHMMSS（1970-01-01 00:00:00/2037 年某时）"
   ]
  },
  {
   "cell_type": "markdown",
   "metadata": {},
   "source": [
    "5. enum枚举，set集合"
   ]
  },
  {
   "cell_type": "markdown",
   "metadata": {},
   "source": [
    "- enum\n",
    "    - 枚举类型，单选\n",
    "            An ENUM column can have a maximum of 65,535 distinct elements. (The practical limit is less than 3000.)\n",
    "    - 示例：\n",
    "                CREATE TABLE shirts (\n",
    "                    name VARCHAR(40),\n",
    "                    size ENUM('x-small', 'small', 'medium', 'large', 'x-large')\n",
    "                );\n",
    "                INSERT INTO shirts (name, size) VALUES ('dress shirt','large'), ('t-shirt','medium'),('polo shirt','small');\n",
    "\n",
    "- set\n",
    "    - 集合类型，可多选\n",
    "            A SET column can have a maximum of 64 distinct members.\n",
    "    - 示例：\n",
    "                CREATE TABLE myset (col SET('a', 'b', 'c', 'd'));\n",
    "                INSERT INTO myset (col) VALUES ('a,d'), ('d,a'), ('a,d,a'), ('a,d,d'), ('d,a,d');\n",
    "\n"
   ]
  },
  {
   "cell_type": "markdown",
   "metadata": {},
   "source": [
    "-----"
   ]
  },
  {
   "cell_type": "markdown",
   "metadata": {},
   "source": [
    "\n",
    "<h2><span id='part4' name='part4'>4. 数据库表的内容操作</span></h2>"
   ]
  },
  {
   "cell_type": "markdown",
   "metadata": {},
   "source": [
    "### 1. 增"
   ]
  },
  {
   "cell_type": "raw",
   "metadata": {},
   "source": [
    "insert into 表 (列名,列名...) values (值,值,值...)\n",
    "insert into 表 (列名,列名...) values (值,值,值...),(值,值,值...)\n",
    "\n",
    "# 将查找的表中的结果直接插入到表中\n",
    "insert into 表 (列名,列名...) select (列名,列名...) from 表"
   ]
  },
  {
   "cell_type": "markdown",
   "metadata": {},
   "source": [
    "### 2. 删"
   ]
  },
  {
   "cell_type": "raw",
   "metadata": {},
   "source": [
    "delete from 表\n",
    "delete from 表 where id＝1 and name＝'alex'"
   ]
  },
  {
   "cell_type": "markdown",
   "metadata": {},
   "source": [
    "### 3. 改"
   ]
  },
  {
   "cell_type": "raw",
   "metadata": {},
   "source": [
    "update 表 set name ＝ 'alex' where id>1"
   ]
  },
  {
   "cell_type": "markdown",
   "metadata": {},
   "source": [
    "### 4. 查"
   ]
  },
  {
   "cell_type": "raw",
   "metadata": {},
   "source": [
    "select * from 表\n",
    "select * from 表 where id > 1\n",
    "select nid,name,gender as gg from 表 where id > 1"
   ]
  },
  {
   "cell_type": "markdown",
   "metadata": {},
   "source": [
    "### 5. 其他"
   ]
  },
  {
   "cell_type": "raw",
   "metadata": {},
   "source": [
    "a、条件\n",
    "    select * from 表 where id > 1 and name != 'alex' and num = 12;\n",
    " \n",
    "    select * from 表 where id between 5 and 16;\n",
    " \n",
    "    select * from 表 where id in (11,22,33)\n",
    "    select * from 表 where id not in (11,22,33)\n",
    "    select * from 表 where id in (select nid from 表)\n",
    " \n",
    "b、通配符\n",
    "    select * from 表 where name like 'ale%'  - ale开头的所有（多个字符串）\n",
    "    select * from 表 where name like 'ale_'  - ale开头的所有（一个字符）\n",
    " \n",
    "c、限制\n",
    "    select * from 表 limit 5;            - 前5行\n",
    "    select * from 表 limit 4,5;          - 从第4行开始的5行\n",
    "    select * from 表 limit 5 offset 4    - 从第4行开始的5行\n",
    " \n",
    "d、排序\n",
    "    select * from 表 order by 列 asc              - 根据 “列” 从小到大排列\n",
    "    select * from 表 order by 列 desc             - 根据 “列” 从大到小排列\n",
    "    select * from 表 order by 列1 desc,列2 asc    - 根据 “列1” 从大到小排列，如果相同则按列2从小到大排序\n",
    " \n",
    "e、分组\n",
    "    select num from 表 group by num\n",
    "    select num,nid from 表 group by num,nid\n",
    "    select num,nid from 表  where nid > 10 group by num,nid order nid desc\n",
    "    select num,nid,count(*),sum(score),max(score),min(score) from 表 group by num,nid\n",
    " \n",
    "    select num from 表 group by num having max(id) > 10\n",
    " \n",
    "    特别的：group by 必须在where之后，order by之前\n",
    " \n",
    "f、连表\n",
    "    无对应关系则不显示\n",
    "    select A.num, A.name, B.name\n",
    "    from A,B\n",
    "    Where A.nid = B.nid\n",
    " \n",
    "    无对应关系则不显示\n",
    "    select A.num, A.name, B.name\n",
    "    from A inner join B\n",
    "    on A.nid = B.nid\n",
    " \n",
    "    A表所有显示，如果B中无对应关系，则值为null\n",
    "    select A.num, A.name, B.name\n",
    "    from A left join B\n",
    "    on A.nid = B.nid\n",
    " \n",
    "    B表所有显示，如果B中无对应关系，则值为null\n",
    "    select A.num, A.name, B.name\n",
    "    from A right join B\n",
    "    on A.nid = B.nid\n",
    " \n",
    "g、组合\n",
    "    组合，自动处理重合\n",
    "    select nickname\n",
    "    from A\n",
    "    union\n",
    "    select name\n",
    "    from B\n",
    " \n",
    "    组合，不处理重合\n",
    "    select nickname\n",
    "    from A\n",
    "    union all\n",
    "    select name\n",
    "    from B"
   ]
  },
  {
   "cell_type": "markdown",
   "metadata": {},
   "source": []
  },
  {
   "cell_type": "markdown",
   "metadata": {},
   "source": []
  }
 ],
 "metadata": {
  "kernelspec": {
   "display_name": "Python 3",
   "language": "python",
   "name": "python3"
  },
  "language_info": {
   "codemirror_mode": {
    "name": "ipython",
    "version": 3
   },
   "file_extension": ".py",
   "mimetype": "text/x-python",
   "name": "python",
   "nbconvert_exporter": "python",
   "pygments_lexer": "ipython3",
   "version": "3.6.5"
  }
 },
 "nbformat": 4,
 "nbformat_minor": 2
}
