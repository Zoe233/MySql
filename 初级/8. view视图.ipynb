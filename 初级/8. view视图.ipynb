{
 "cells": [
  {
   "cell_type": "markdown",
   "metadata": {},
   "source": [
    "## 1. 视图的含义"
   ]
  },
  {
   "cell_type": "markdown",
   "metadata": {},
   "source": [
    "视图是一个虚拟的表，它是把数据库中的一张或者多张表中的一些数据列，拼接起来的虚拟的表。\n",
    "\n",
    "创建视图的信息来自表的部分信息，只取需要的信息。   \n",
    "当对通过视图看到的数据进行修改的时候，相应的基本表的数据也要发生变化。\n",
    "同时，若基本表的数据发生变化，则这种变化也可以自动的反映到视图中。\n",
    "\n",
    "### 视图的好处：\n",
    "- 看到的就是需要的。\n",
    "- 另外，当视图表的某张数据来源表的表结构变化，只要那列数据不变，即使真实表的位置发生变化，也不影响视图。"
   ]
  },
  {
   "cell_type": "markdown",
   "metadata": {},
   "source": [
    "## 2. 创建视图"
   ]
  },
  {
   "cell_type": "markdown",
   "metadata": {},
   "source": [
    "指定部分字段。查询出来的数据，将会顺序对应视图中定义的列。"
   ]
  },
  {
   "cell_type": "raw",
   "metadata": {},
   "source": [
    "CREATE VIEW stu_teac_info(stuName,stuIdCard,teacName)\n",
    "AS\n",
    "SELECT s.name,s.idCard,t.teacName\n",
    "FROM t_student s\n",
    "JOIN t_teacher t ON s.teacherId = t.id;"
   ]
  },
  {
   "cell_type": "markdown",
   "metadata": {},
   "source": [
    "在单表上创建视图，如果不指定字段列的话，默认查询出所有的字段。"
   ]
  },
  {
   "cell_type": "raw",
   "metadata": {},
   "source": [
    "CREATE VIEW stuInfo\n",
    "AS SELECT * FROM t_student;"
   ]
  },
  {
   "cell_type": "markdown",
   "metadata": {},
   "source": [
    "原来视图就是已经编译好的SQL。  \n",
    "它把多张表里面的一些数据抽取出来，拼接成一张新的虚拟的表，这张虚拟的表里只有我们最想要的数据，这样就很好的保护了基本表中的其它数据。"
   ]
  },
  {
   "cell_type": "markdown",
   "metadata": {},
   "source": [
    "## 3. 查看视图"
   ]
  },
  {
   "cell_type": "markdown",
   "metadata": {},
   "source": [
    "### 3.1 查看视图的表结构\n",
    "因为视图是虚拟的表，所以可以像正常的表那样使用关键字DESC来查看表结构。"
   ]
  },
  {
   "cell_type": "raw",
   "metadata": {},
   "source": [
    "DESC stu_teac_info;"
   ]
  },
  {
   "cell_type": "markdown",
   "metadata": {},
   "source": [
    "### 3.2 使用show create view view_name查看代码\n",
    "使用SHOW CREATE VIEW view_name 可以查看到创建视图的代码。"
   ]
  },
  {
   "cell_type": "raw",
   "metadata": {},
   "source": [
    "语法： SHOW CREATE VIEW 视图名；"
   ]
  },
  {
   "cell_type": "markdown",
   "metadata": {},
   "source": [
    "### 3.3 视图存储位置information_schema.views表"
   ]
  },
  {
   "cell_type": "markdown",
   "metadata": {},
   "source": [
    "视图最终在MySQL中放入了information_schema数据库的views表中。"
   ]
  },
  {
   "cell_type": "raw",
   "metadata": {},
   "source": [
    "SELECT * FROM information_schema.views WHERE TABLE_NAME = 'stuinfo'"
   ]
  },
  {
   "cell_type": "markdown",
   "metadata": {},
   "source": [
    "## 4. 修改视图"
   ]
  },
  {
   "cell_type": "markdown",
   "metadata": {},
   "source": [
    "### 4.1 create or replace\n",
    "相当于if exists，如果存在就覆盖。"
   ]
  },
  {
   "cell_type": "raw",
   "metadata": {},
   "source": [
    "CREATE OR REPLACE VIEW stu_teac_info(stuName,stuIdCard,teacName,是否是教授) -- 加上OR REPLACE\n",
    "AS\n",
    " \n",
    "SELECT \n",
    "s.name,\n",
    "s.idCard,\n",
    "t.teacName,\n",
    "(\n",
    "\tCASE t.isProfessor = 1\n",
    "\t\t\tWHEN 1 THEN '是'\n",
    "\t\t\tWHEN 0 THEN '不是'\n",
    "\t\t\tELSE ' ' \n",
    "\tEND -- 尴尬，这里还要加一个END，查了一下以前的博客才知道\n",
    ")\n",
    "FROM t_student s\n",
    "JOIN t_teacher t ON s.teacherId = t.id"
   ]
  },
  {
   "cell_type": "markdown",
   "metadata": {},
   "source": [
    "### 4.2 alter view "
   ]
  },
  {
   "cell_type": "markdown",
   "metadata": {},
   "source": [
    "它需要确定了此视图一定存在，必定覆盖。"
   ]
  },
  {
   "cell_type": "raw",
   "metadata": {},
   "source": [
    "ALTER VIEW stu_teac_info\n",
    "AS \n",
    "SELECT * FROM t_teacher;"
   ]
  },
  {
   "cell_type": "markdown",
   "metadata": {},
   "source": [
    "## 5. 更新视图"
   ]
  },
  {
   "cell_type": "markdown",
   "metadata": {},
   "source": [
    " 更新视图是指通过视图来插入、更新、删除表中的数据。"
   ]
  },
  {
   "cell_type": "raw",
   "metadata": {},
   "source": [
    "UPDATE stu_teac_info set stuIdCard = 320103 WHERE stuName = '大宇';"
   ]
  },
  {
   "cell_type": "markdown",
   "metadata": {},
   "source": [
    "执行完毕后，查看视图，视图中的相关数据已经被修改了。 再查看基本表，基本表中的数据也被修改了。"
   ]
  },
  {
   "cell_type": "markdown",
   "metadata": {},
   "source": [
    "- 对视图增加或者删除记录，实际上是对基本表增加或者删除记录。\n",
    "\n",
    "- 如果往视图中插入的数据不包括基本表中非空的数据，那么插入失败。"
   ]
  },
  {
   "cell_type": "markdown",
   "metadata": {},
   "source": [
    "## 6. 删除视图"
   ]
  },
  {
   "cell_type": "raw",
   "metadata": {},
   "source": [
    "DROP VIEW IF EXISTS stu_teac_info;"
   ]
  },
  {
   "cell_type": "markdown",
   "metadata": {},
   "source": [
    "## 7. 视图与表的联系和区别"
   ]
  },
  {
   "cell_type": "markdown",
   "metadata": {},
   "source": [
    "1. 视图是已经编译好的SQL语句，是基于SQL语句的结果集的可视化表。\n",
    "\n",
    "2. 视图是逻辑上的存在，它是查看数据的一种办法，它不占磁盘。而表占物理磁盘。\n",
    "\n",
    "3. 视图的建立和删除只影响视图本身，不影响对应的基本表。\n",
    "\n",
    "4. 视图可以防止用户接触数据表，因为视图是虚拟的表，用户不知道基本表的表结构。"
   ]
  },
  {
   "cell_type": "code",
   "execution_count": null,
   "metadata": {},
   "outputs": [],
   "source": []
  }
 ],
 "metadata": {
  "kernelspec": {
   "display_name": "Python 3",
   "language": "python",
   "name": "python3"
  },
  "language_info": {
   "codemirror_mode": {
    "name": "ipython",
    "version": 3
   },
   "file_extension": ".py",
   "mimetype": "text/x-python",
   "name": "python",
   "nbconvert_exporter": "python",
   "pygments_lexer": "ipython3",
   "version": "3.6.5"
  }
 },
 "nbformat": 4,
 "nbformat_minor": 2
}
