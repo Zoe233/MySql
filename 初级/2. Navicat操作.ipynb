{
 "cells": [
  {
   "cell_type": "markdown",
   "metadata": {},
   "source": [
    "# 前言：\n",
    "mysql的重点梳理。"
   ]
  },
  {
   "cell_type": "raw",
   "metadata": {},
   "source": [
    "1、增删改查\n",
    "2、其他：\n",
    "    分组：\n",
    "        group by\n",
    "        xxx       having 聚合条件。。。\n",
    "        \n",
    "    分页：\n",
    "        前几行， select .... limit 3;\n",
    "        limit 3,4        # 第三行开始，取4行\n",
    "        limit 4 offset 3 # ...\n",
    "    \n",
    "    连表：\n",
    "        left outer join  on\n",
    "        # 表1 left join 表2 on \n",
    "        # 如果表1中的数据多，表2少，null\n",
    "        \n",
    "        right outer join \n",
    "        \n",
    "        inner join \n",
    "        # 如果表1中的数据多，表2少，null\n",
    "        \n",
    "    排序（张伟）：\n",
    "        desc\n",
    "        asc\n",
    "        \n",
    "        nid    name \n",
    "         1     alex\n",
    "         2     eric\n",
    "         1     alex\n",
    "         4     tony\n",
    "         # 从小到大，id从大到小\n",
    "         select * from tb order by name asc, nid desc,sid asc ;\n",
    "         \n",
    "    union\n",
    "        \n",
    "    条件：\n",
    "        > < = >= != <=\n",
    "        in (1,2,3,4)\n",
    "        not in (...)\n",
    "        in (select nid from tb)\n",
    "        \n",
    "3、连表，外键foreign key\n",
    "    一对多"
   ]
  },
  {
   "cell_type": "markdown",
   "metadata": {},
   "source": [
    "# 1. Navicat"
   ]
  },
  {
   "cell_type": "markdown",
   "metadata": {},
   "source": [
    "用于连接数据库\n",
    "- 查找\n",
    "- 修改\n",
    "- 更新\n",
    "...\n",
    "\n",
    "将操作转换为SQL语句。"
   ]
  },
  {
   "cell_type": "markdown",
   "metadata": {},
   "source": [
    "# 2. 导出数据库数据"
   ]
  },
  {
   "cell_type": "markdown",
   "metadata": {},
   "source": [
    "- 导出现有数据库数据：\n",
    "    - mysqldump -u用户名 -p密码 数据库名称 >导出文件路径           # 结构+数据\n",
    "    - mysqldump -u用户名 -p密码 -d 数据库名称 >导出文件路径       # 结构 \n",
    "- 导入现有数据库数据：\n",
    "    - mysqldump -uroot -p密码  数据库名称 < 文件路径  "
   ]
  },
  {
   "cell_type": "markdown",
   "metadata": {},
   "source": [
    "# 3. 练习题"
   ]
  },
  {
   "cell_type": "markdown",
   "metadata": {},
   "source": [
    "### 1. 自行创建测试数据"
   ]
  },
  {
   "cell_type": "markdown",
   "metadata": {},
   "source": [
    "自行创建或mysqldump 导入数据和结构。"
   ]
  },
  {
   "cell_type": "markdown",
   "metadata": {},
   "source": [
    "### 2. 查询“生物”课程比“物理”课程成绩高的所有学生的学号"
   ]
  },
  {
   "cell_type": "markdown",
   "metadata": {},
   "source": [
    "思路：\n",
    "- 获取所有有生物课程的人（学号，成绩） - 临时表\n",
    "- 获取所有有物理课程的人（学号，成绩） - 临时表\n",
    "- 根据【学号】连接两个临时表：\n",
    "        学号  物理成绩   生物成绩\n",
    " \n",
    "- 然后再进行筛选"
   ]
  },
  {
   "cell_type": "raw",
   "metadata": {},
   "source": [
    "select S.student_id,S.num, W.num from \n",
    "\n",
    "(select score.student_id, score.course_id, score.num\n",
    "from score \n",
    "left join course on score.course_id=course.cid\n",
    "where course.cname='生物') AS S \n",
    "\n",
    "left join \n",
    "\n",
    "(select score.student_id, score.course_id, score.num\n",
    "from score \n",
    "left join course on score.course_id=course.cid\n",
    "where course.cname='物理') AS W\n",
    "\n",
    "on S.student_id=W.student_id\n",
    "\n",
    "where S.num > if(isnull(W.num),0,W.num);\n"
   ]
  },
  {
   "cell_type": "raw",
   "metadata": {},
   "source": [
    "select A.student_id,sw,ty from\n",
    " \n",
    "        (select student_id,num as sw from score left join course on score.course_id = course.cid where course.cname = '生物') as A\n",
    " \n",
    "        left join\n",
    " \n",
    "        (select student_id,num  as ty from score left join course on score.course_id = course.cid where course.cname = '体育') as B\n",
    " \n",
    "        on A.student_id = B.student_id where sw > if(isnull(ty),0,ty);"
   ]
  },
  {
   "cell_type": "markdown",
   "metadata": {},
   "source": [
    "### 3. 查询平均成绩大于60分的同学的学号和平均成绩"
   ]
  },
  {
   "cell_type": "raw",
   "metadata": {},
   "source": [
    "select student_id,avg(num) as avg_score \n",
    "from \n",
    "score \n",
    "group by student_id having avg_score>60 ;"
   ]
  },
  {
   "cell_type": "raw",
   "metadata": {},
   "source": [
    "扩展：还要显示学生的名字\n",
    "\n",
    "select s1.student_id,s1.avg_score,student.sname from \n",
    "(select student_id,avg(num) as avg_score \n",
    "from \n",
    "score \n",
    "group by student_id having avg_score>60 ) as s1,student where s1.student_id=student.sid;\n",
    "\n",
    "或：\n",
    "select score.student_id,avg(score.num),student.sname\n",
    "from score left join student \n",
    "on score.student_id=student.sid\n",
    "group by score.student_id having avg(score.num) > 60;"
   ]
  },
  {
   "cell_type": "markdown",
   "metadata": {},
   "source": [
    "### 4. 查询所有同学的学号、姓名、选课数、总成绩；"
   ]
  },
  {
   "cell_type": "raw",
   "metadata": {},
   "source": [
    "select student.sid, student.sname,count(1) as class_count, sum(score.num)\n",
    "from score left join student on score.student_id=student.sid group by score.student_id;"
   ]
  },
  {
   "cell_type": "markdown",
   "metadata": {},
   "source": [
    "### 5. 查询姓“李”的老师的个数；"
   ]
  },
  {
   "cell_type": "raw",
   "metadata": {},
   "source": [
    "select tid, tname from teacher where tname like '李%';\n",
    "\n",
    "select count(1) as count from teacher where tname like '李%';  # 姓李的老师的个数"
   ]
  },
  {
   "cell_type": "markdown",
   "metadata": {},
   "source": [
    "### 6. 查询没学过“李平”老师课的同学的学号、姓名；"
   ]
  },
  {
   "cell_type": "markdown",
   "metadata": {},
   "source": [
    "- 先查到“李平老师”老师教的所有课ID\n",
    "- 获取选过课的所有学生ID\n",
    "- 学生表中筛选"
   ]
  },
  {
   "cell_type": "markdown",
   "metadata": {},
   "source": [
    "select * from student where sid not in (\n",
    "        select DISTINCT student_id from score where score.course_id in (\n",
    "            select cid from course left join teacher on course.teacher_id = teacher.tid where tname = '李平老师'\n",
    "        )\n",
    "    )"
   ]
  },
  {
   "cell_type": "markdown",
   "metadata": {},
   "source": [
    "### 7. 查询学过“001”并且也学过编号“002”课程的同学的学号、姓名；"
   ]
  },
  {
   "cell_type": "markdown",
   "metadata": {},
   "source": [
    "思路：\n",
    "- 先查到既选择001又选择002课程的所有同学\n",
    "- 根据学生进行分组，如果学生数量等于2表示，两门均已选择"
   ]
  },
  {
   "cell_type": "markdown",
   "metadata": {},
   "source": [
    "select student.sid, student.sname from student left join (\n",
    "\tselect student_id,count(1) as C from \n",
    "\t\t(select student_id,course_id from score where course_id in (1,2)) as A\n",
    "\tgroup by student_id having C=2) as B on student.sid = B.student_id;"
   ]
  },
  {
   "cell_type": "markdown",
   "metadata": {},
   "source": [
    "从性能上讲，下面这个sql语句更好，通过left join减少了一次字查询。"
   ]
  },
  {
   "cell_type": "raw",
   "metadata": {},
   "source": [
    "select student_id,sname from\n",
    " \n",
    "    (select student_id,course_id from score where course_id = 1 or course_id = 2) as B\n",
    "      \n",
    "    left join student on B.student_id = student.sid group by student_id HAVING count(student_id) > 1"
   ]
  },
  {
   "cell_type": "markdown",
   "metadata": {},
   "source": [
    "### 8. 查询学过“李平”老师所教的所有课的同学的学号、姓名；"
   ]
  },
  {
   "cell_type": "raw",
   "metadata": {},
   "source": [
    "select distinct score.student_id,student.sname \n",
    "from score left join student on score.student_id=student.sid \n",
    "where course_id in (\n",
    "\tselect cid from course where teacher_id = (select tid from teacher where tname='李平老师'));"
   ]
  },
  {
   "cell_type": "markdown",
   "metadata": {},
   "source": [
    "同上，只不过将001和002变成 in (叶平老师的所有课)"
   ]
  },
  {
   "cell_type": "raw",
   "metadata": {},
   "source": [
    "select distinct score.student_id, student.sname from score left join student on score.student_id=student.sid where score.course_id in (\n",
    "\tselect course.cid from course left join teacher on course.teacher_id=teacher.tid where teacher.tname='李平老师');"
   ]
  },
  {
   "cell_type": "markdown",
   "metadata": {},
   "source": [
    "left join减少子查询。"
   ]
  },
  {
   "cell_type": "markdown",
   "metadata": {},
   "source": [
    "### 9. 查询课程编号“002”的成绩比课程编号“001”课程低的所有同学的学号、姓名；"
   ]
  },
  {
   "cell_type": "raw",
   "metadata": {},
   "source": [
    "select C1.student_id, C1.num, C2.num,student.sname from \n",
    "(select score.student_id,score.num from score left join course on score.course_id=course.cid where course.cid=2) as C2\n",
    "\n",
    "left JOIN\n",
    "\n",
    "(select score.student_id,score.num from score left join course on score.course_id=course.cid where course.cid=1) as C1\n",
    "\n",
    "on C2.student_id=C1.student_id\n",
    "\n",
    "left join student on C1.student_id=student.sid  \n",
    "where if(isnull(C1.num),0,C1.num) > if(isnull(C2.num),0,C2.num);"
   ]
  },
  {
   "cell_type": "markdown",
   "metadata": {},
   "source": [
    "### 10. 查询有课程成绩小于60分的同学的学号、姓名；"
   ]
  },
  {
   "cell_type": "raw",
   "metadata": {},
   "source": [
    "select distinct score.student_id, student.sname\n",
    "from score left join student on score.student_id=student.sid\n",
    "where score.num<60;"
   ]
  },
  {
   "cell_type": "markdown",
   "metadata": {},
   "source": [
    "select sid,sname from student where sid in (\n",
    "        select distinct student_id from score where num < 60\n",
    "    )"
   ]
  },
  {
   "cell_type": "markdown",
   "metadata": {},
   "source": [
    "### 11. 查询没有学全所有课的同学的学号、姓名；"
   ]
  },
  {
   "cell_type": "raw",
   "metadata": {},
   "source": [
    "select score.student_id, student.sname, count(score.course_id) as course_num \n",
    "from score left join student on score.student_id=student.sid\n",
    "group by score.student_id\n",
    "having course_num < (select count(1) from course);"
   ]
  },
  {
   "cell_type": "raw",
   "metadata": {},
   "source": [
    "-- 选全所有课的学生\n",
    "select student_id,sname\n",
    "from score left join student on score.student_id = student.sid\n",
    "group by student_id HAVING count(course_id) = (select count(1) from course)"
   ]
  },
  {
   "cell_type": "markdown",
   "metadata": {},
   "source": [
    "### 12. 查询至少有一门课与学号为“001”的同学所学相同的同学的学号和姓名；"
   ]
  },
  {
   "cell_type": "raw",
   "metadata": {},
   "source": [
    "select distinct student.sid, student.sname\n",
    "from score left join student on score.student_id=student.sid \n",
    "where score.course_id in (\n",
    "    select course_id from score where score.student_id=1) and score.student_id !=1;"
   ]
  },
  {
   "cell_type": "markdown",
   "metadata": {},
   "source": [
    "思路：\n",
    "- 获取 001 同学选择的所有课程\n",
    "- 获取课程在其中的所有人以及所有课程\n",
    "- 根据学生筛选，获取所有学生信息\n",
    "- 再与学生表连接，获取姓名"
   ]
  },
  {
   "cell_type": "raw",
   "metadata": {},
   "source": [
    "select student_id,sname, count(course_id)\n",
    "from score left join student on score.student_id = student.sid\n",
    "where student_id != 1 and course_id in (select course_id from score where student_id = 1) group by student_id"
   ]
  },
  {
   "cell_type": "markdown",
   "metadata": {},
   "source": [
    "### 13. 查询学过学号为“001”同学所有课的其他同学学号和姓名；"
   ]
  },
  {
   "cell_type": "markdown",
   "metadata": {},
   "source": [
    "- 先找到和001的学过的所有人\n",
    "- 然后个数 ＝ 001所有学科     ＝＝> 其他人可能选择的更多"
   ]
  },
  {
   "cell_type": "markdown",
   "metadata": {},
   "source": [
    "select distinct score.student_id, student.sname, count(score.student_id) as Cnum\n",
    "from score left join student on score.student_id=student.sid \n",
    "where score.course_id in (select course_id from score where score.student_id=1) and score.student_id !=1\n",
    "group by score.student_id having Cnum=(select count(1) from score where score.student_id=1);"
   ]
  },
  {
   "cell_type": "markdown",
   "metadata": {},
   "source": [
    "### 14. 查询和“002”号的同学学习的课程完全相同的其他同学学号和姓名；"
   ]
  },
  {
   "cell_type": "markdown",
   "metadata": {},
   "source": [
    "- 个数相同\n",
    "- 002学过的也学过"
   ]
  },
  {
   "cell_type": "raw",
   "metadata": {},
   "source": [
    "select score.student_id,student.sname \n",
    "from score left join student on score.student_id=student.sid \n",
    "where \n",
    "    -- 课程的个数相同\n",
    "\tscore.student_id in (\n",
    "\t\tselect student_id\n",
    "\t\tfrom score \n",
    "\t\twhere student_id != 2\n",
    "\t\tgroup by student_id having count(student_id)=(select count(1) from score where student_id=2))\t\n",
    "\tAND\n",
    "    -- 课程的id在学号002同学的课程中\n",
    "\tscore.course_id in (select course_id from score where student_id=2)\n",
    "\n",
    "group by student_id HAVING count(score.course_id) = (select count(1) from score where student_id = 2);"
   ]
  },
  {
   "cell_type": "markdown",
   "metadata": {},
   "source": [
    "### 15. 删除学习“李平”老师课的score表记录；"
   ]
  },
  {
   "cell_type": "raw",
   "metadata": {},
   "source": [
    "delete from score where course_id in (select cid from course where teacher_id= (select tid from teacher where tname='李平老师'));"
   ]
  },
  {
   "cell_type": "raw",
   "metadata": {},
   "source": [
    "delete from score where course_id in (\n",
    "        select cid from course left join teacher on course.teacher_id = teacher.tid where teacher.name = '李平老师');"
   ]
  },
  {
   "cell_type": "markdown",
   "metadata": {},
   "source": [
    "### 16. 向score表中插入一些记录，这些记录要求符合以下条件：\n",
    "- 没有上过编号“002”课程的同学学号；\n",
    "- 插入“002”号课程的平均成绩；"
   ]
  },
  {
   "cell_type": "markdown",
   "metadata": {},
   "source": [
    "思路：\n",
    "- 由于insert 支持 \n",
    "                inset into tb1(xx,xx) select x1,x2 from tb2;\n",
    "        所有，获取所有没上过002课的所有人，获取002的平均成绩\n"
   ]
  },
  {
   "cell_type": "raw",
   "metadata": {},
   "source": [
    "insert into score(student_id,course_id,num)\n",
    "select distinct sid,2,(select avg(num) from score where course_id=2)\n",
    "from student where sid not in (select student_id from score where course_id=2);"
   ]
  },
  {
   "cell_type": "markdown",
   "metadata": {},
   "source": [
    "### 17. 按平均成绩从低到高 显示所有学生的“生物”、“物理”、“体育”三门的课程成绩，按如下形式显示： \n",
    "        学生ID,生物,物理,体育,有效课程数,有效平均分；"
   ]
  },
  {
   "cell_type": "raw",
   "metadata": {},
   "source": [
    "--方法1：通过子查询找到对应的数据值，left join一张大表再拼接获取。\n",
    "---比较蠢的方法，没写全\n",
    "select score.student_id,score.course_id,wl.num as wl_num,sw.num as sw_num,ty.num as ty_num, courses.c\n",
    "from\n",
    "score left join\n",
    "(select student_id,num from score left join course on score.course_id=course.cid where course.cname='物理') as wl\n",
    "on score.student_id=wl.student_id\n",
    "left join \n",
    "(select student_id,num from score left join course on score.course_id=course.cid where course.cname='生物') as sw\n",
    "on score.student_id=sw.student_id\n",
    "left JOIN\n",
    "(select student_id,num from score left join course on score.course_id=course.cid where course.cname='体育') as ty\n",
    "on score.student_id=ty.student_id\n",
    "left JOIN\n",
    "(select student_id,count(student_id) as c from score group by student_id) as courses\n",
    "on score.student_id=courses.student_id;"
   ]
  },
  {
   "cell_type": "markdown",
   "metadata": {},
   "source": [
    "下面是利用查找同一张表，内部的表的student_id和外部的表的student_id相同，从而在表中筛选出了匹配的值。"
   ]
  },
  {
   "cell_type": "raw",
   "metadata": {},
   "source": [
    "select sc.student_id,\n",
    "\t\t(select num from score left join course on score.course_id = course.cid where course.cname = \"生物\" and score.student_id=sc.student_id) as sy,\n",
    "        (select num from score left join course on score.course_id = course.cid where course.cname = \"物理\" and score.student_id=sc.student_id) as wl,\n",
    "        (select num from score left join course on score.course_id = course.cid where course.cname = \"体育\" and score.student_id=sc.student_id) as ty,\n",
    "\t\tcount(sc.course_id),\n",
    "\t\tavg(sc.num)\n",
    "from score as sc\n",
    "group by sc.student_id desc;"
   ]
  },
  {
   "cell_type": "markdown",
   "metadata": {},
   "source": [
    "### 18. 查询各科成绩最高和最低的分：以如下形式显示：课程ID，最高分，最低分；"
   ]
  },
  {
   "cell_type": "raw",
   "metadata": {},
   "source": [
    "select score.course_id,max(num),min(num)\n",
    "from score\n",
    "group by score.course_id;"
   ]
  },
  {
   "cell_type": "markdown",
   "metadata": {},
   "source": [
    "### 19. 按各科平均成绩从低到高和及格率的百分数从高到低顺序；"
   ]
  },
  {
   "cell_type": "raw",
   "metadata": {},
   "source": [
    "select course_id,avg(num) from score group by course_id order by avg(num);\n"
   ]
  },
  {
   "cell_type": "markdown",
   "metadata": {},
   "source": [
    "思路：case when .. then"
   ]
  },
  {
   "cell_type": "raw",
   "metadata": {},
   "source": [
    "select course_id,avg(num),sum(case when score.num>60 then 1 else 0 END)/count(1)*100 as percent\n",
    "from score \n",
    "group by course_id order by avg(num) asc, percent desc;"
   ]
  },
  {
   "cell_type": "markdown",
   "metadata": {},
   "source": [
    "### 20. 课程平均分从高到低显示（现实任课老师）；"
   ]
  },
  {
   "cell_type": "raw",
   "metadata": {},
   "source": [
    "select course_id,avg(num) from score group by course_id order by avg(num) desc;"
   ]
  },
  {
   "cell_type": "markdown",
   "metadata": {},
   "source": [
    "select score.course_id, avg(if(isnull(score.num),0,score.num)),teacher.tname \n",
    "from course\n",
    "left join score on course.cid = score.course_id\n",
    "left join teacher on course.teacher_id = teacher.tid\n",
    "group by score.course_id;"
   ]
  },
  {
   "cell_type": "markdown",
   "metadata": {},
   "source": [
    "group by会遇到问题，Mysql解决SELECT list is not in GROUP BY clause and contains nonaggregated column 问题\n",
    "\n",
    "1. 查询mysql 相关mode\n",
    "    select @@global.sql_mode;\n",
    "\n",
    "2. 可以看到模式中包含了ONLY_FULL_GROUP_BY，只要没有这个配置即可。\n",
    "我的Mysql版本是5.7.21，默认是带了ONLY_FULL_GROUP_BY模式。\n",
    "\n",
    " ONLY_FULL_GROUP_BY,STRICT_TRANS_TABLES,NO_ZERO_IN_DATE,NO_ZERO_DATE,\n",
    " ERROR_FOR_DIVISION_BY_ZERO,NO_AUTO_CREATE_USER,NO_ENGINE_SUBSTITUTION \n",
    "\n",
    "【重设模式值】\n",
    "\n",
    "set  @@global.sql_mode=`STRICT_TRANS_TABLES,NO_ZERO_IN_DATE,NO_ZERO_DATE,ERROR_FOR_DIVISION_BY_ZERO,NO_AUTO_CREATE_USER,NO_ENGINE_SUBSTITUTION`;\n",
    "\n",
    "3.重启Mysql即可【mac重启mysql服务遇到问题】"
   ]
  },
  {
   "cell_type": "markdown",
   "metadata": {},
   "source": [
    "### 21. 查询各科成绩前三名的记录:(不考虑成绩并列情况)"
   ]
  },
  {
   "cell_type": "raw",
   "metadata": {},
   "source": [
    "select score.sid,score.course_id,score.num,T.first_num,T.third_num from score left join\n",
    "    (\n",
    "    select\n",
    "        sid,\n",
    "        (select num from score as s2 where s2.course_id = s1.course_id order by num desc limit 0,1) as first_num,\n",
    "        (select num from score as s2 where s2.course_id = s1.course_id order by num desc limit 3,1) as third_num\n",
    "    from\n",
    "        score as s1\n",
    "    ) as T\n",
    "    on score.sid =T.sid\n",
    "    where score.num <= T.first_num and score.num >= T.third_num;"
   ]
  },
  {
   "cell_type": "markdown",
   "metadata": {},
   "source": [
    "### 22. 查询每门课程被选修的学生数；"
   ]
  },
  {
   "cell_type": "raw",
   "metadata": {},
   "source": [
    "select course_id,count(student_id) from score group by course_id;"
   ]
  },
  {
   "cell_type": "markdown",
   "metadata": {},
   "source": [
    "### 23. 查询出只选修了一门课程的全部学生的学号和姓名；"
   ]
  },
  {
   "cell_type": "raw",
   "metadata": {},
   "source": [
    "select * from score group by course_id having count(1)=1;"
   ]
  },
  {
   "cell_type": "raw",
   "metadata": {},
   "source": [
    "select student.sid, student.sname, count(1) \n",
    "from score\n",
    "left join student on score.student_id  = student.sid\n",
    "group by course_id having count(1) = 1"
   ]
  },
  {
   "cell_type": "markdown",
   "metadata": {},
   "source": [
    "### 24. 查询男生、女生的人数；"
   ]
  },
  {
   "cell_type": "raw",
   "metadata": {},
   "source": [
    "select gender,count(1) from student group by gender;"
   ]
  },
  {
   "cell_type": "markdown",
   "metadata": {},
   "source": [
    "### 25. 查询姓“张”的学生名单；"
   ]
  },
  {
   "cell_type": "raw",
   "metadata": {},
   "source": [
    "select * from student where sname like '张%';"
   ]
  },
  {
   "cell_type": "markdown",
   "metadata": {},
   "source": [
    "### 26. 查询同名同姓学生名单，并统计同名人数；"
   ]
  },
  {
   "cell_type": "raw",
   "metadata": {},
   "source": [
    "select sname,count(1) from student group by sname having count(1)>1;"
   ]
  },
  {
   "cell_type": "markdown",
   "metadata": {},
   "source": [
    "### 27. 查询每门课程的平均成绩，结果按平均成绩升序排列，平均成绩相同时，按课程号降序排列；"
   ]
  },
  {
   "cell_type": "raw",
   "metadata": {},
   "source": [
    "select course_id,avg(num) from score group by course_id order by avg(num) asc,course_id desc;"
   ]
  },
  {
   "cell_type": "raw",
   "metadata": {},
   "source": [
    "select course_id,avg(if(isnull(num), 0 ,num)) as avg from score group by course_id order by avg     asc,course_id desc;\n",
    " "
   ]
  },
  {
   "cell_type": "markdown",
   "metadata": {},
   "source": [
    "### 28. 查询平均成绩大于85的所有学生的学号、姓名和平均成绩；"
   ]
  },
  {
   "cell_type": "markdown",
   "metadata": {},
   "source": [
    "select score.student_id,student.sname,avg(if(isnull(score.num),0,score.num)) as avg \n",
    "from score left join student on score.student_id=student.sid\n",
    "group by score.student_id having avg >85;"
   ]
  },
  {
   "cell_type": "markdown",
   "metadata": {},
   "source": [
    "### 29. 查询课程名称为“数学”，且分数低于60的学生姓名和分数；"
   ]
  },
  {
   "cell_type": "raw",
   "metadata": {},
   "source": [
    "select student.sname, score.num from score \n",
    "left join course on score.course_id=course.cid \n",
    "left join student on score.student_id=student.sid\n",
    "where course.cname='生物' and score.num<60;"
   ]
  },
  {
   "cell_type": "markdown",
   "metadata": {},
   "source": [
    "### 30. 查询课程编号为003且课程成绩在80分以上的学生的学号和姓名；"
   ]
  },
  {
   "cell_type": "raw",
   "metadata": {},
   "source": [
    "select score.student_id,student.sname from score left join student on score.student_id=student.sid\n",
    "where score.num>80 and score.course_id=3;"
   ]
  },
  {
   "cell_type": "markdown",
   "metadata": {},
   "source": [
    "### 31. 求选了课程的学生人数"
   ]
  },
  {
   "cell_type": "raw",
   "metadata": {},
   "source": [
    "select count(c) from (select count(student_id) as c from score group by student_id) as A;"
   ]
  },
  {
   "cell_type": "markdown",
   "metadata": {},
   "source": [
    "select count(distinct student_id) from score;"
   ]
  },
  {
   "cell_type": "markdown",
   "metadata": {},
   "source": [
    "### 32. 查询选修“李平老师”所授课程的学生中，成绩最高的学生姓名及其成绩；"
   ]
  },
  {
   "cell_type": "raw",
   "metadata": {},
   "source": [
    "select sname,num from score\n",
    "left join student on score.student_id = student.sid\n",
    "where score.course_id in (select course.cid from course left join teacher on course.teacher_id = teacher.tid where tname='李平老师') order by num desc limit 1;"
   ]
  },
  {
   "cell_type": "markdown",
   "metadata": {},
   "source": [
    "### 33. 查询各个课程及相应的选修人数；"
   ]
  },
  {
   "cell_type": "raw",
   "metadata": {},
   "source": [
    "select course_id,count(1) from score group by course_id;"
   ]
  },
  {
   "cell_type": "raw",
   "metadata": {},
   "source": [
    "select course.cname,count(1) from score\n",
    "    left join course on score.course_id = course.cid\n",
    "    group by course_id;"
   ]
  },
  {
   "cell_type": "markdown",
   "metadata": {},
   "source": [
    "### 34. 查询不同课程但成绩相同的学生的学号、课程号、学生成绩；"
   ]
  },
  {
   "cell_type": "raw",
   "metadata": {},
   "source": [
    "select DISTINCT s1.course_id,s2.course_id,s1.num,s2.num \n",
    "from score as s1, score as s2 where s1.num = s2.num and s1.course_id != s2.course_id;"
   ]
  },
  {
   "cell_type": "markdown",
   "metadata": {},
   "source": [
    "### 35. 查询每门课程成绩最好的前两名；"
   ]
  },
  {
   "cell_type": "markdown",
   "metadata": {},
   "source": [
    "select score.sid,score.course_id,score.num,T.first_num,T.second_num from score left join\n",
    "    (\n",
    "    select\n",
    "        sid,\n",
    "        (select num from score as s2 where s2.course_id = s1.course_id order by num desc limit 0,1) as first_num,\n",
    "        (select num from score as s2 where s2.course_id = s1.course_id order by num desc limit 1,1) as second_num\n",
    "    from\n",
    "        score as s1\n",
    "    ) as T\n",
    "    on score.sid =T.sid\n",
    "    where score.num <= T.first_num and score.num >= T.second_num"
   ]
  },
  {
   "cell_type": "markdown",
   "metadata": {},
   "source": [
    "### 36. 检索至少选修两门课程的学生学号；"
   ]
  },
  {
   "cell_type": "raw",
   "metadata": {},
   "source": [
    "select student_id from score group by student_id having count(1)>=2;"
   ]
  },
  {
   "cell_type": "markdown",
   "metadata": {},
   "source": [
    "### 37. 查询全部学生都选修的课程的课程号和课程名；"
   ]
  },
  {
   "cell_type": "raw",
   "metadata": {},
   "source": [
    "select course_id from score group by course_id having count(1)=(select count(1) from student);"
   ]
  },
  {
   "cell_type": "markdown",
   "metadata": {},
   "source": [
    "### 38. 查询没学过“李平”老师讲授的任一门课程的学生姓名；"
   ]
  },
  {
   "cell_type": "raw",
   "metadata": {},
   "source": [
    "select distinct student.sname from score left join student on score.student_id=student.sid where score.course_id not in (select cid from course where teacher_id=(select tid from teacher where tname='李平老师'));"
   ]
  },
  {
   "cell_type": "markdown",
   "metadata": {},
   "source": [
    "### 39. 查询两门以上不及格课程的同学的学号及其平均成绩；"
   ]
  },
  {
   "cell_type": "raw",
   "metadata": {},
   "source": [
    "select student_id,avg(num) from score where num<60 group by student_id having count(student_id)>=2;\n"
   ]
  },
  {
   "cell_type": "markdown",
   "metadata": {},
   "source": [
    "### 40. 检索“004”课程分数小于60，按分数降序排列的同学学号；"
   ]
  },
  {
   "cell_type": "raw",
   "metadata": {},
   "source": [
    "select student_id from score where course_id=4 and num<60 order by num desc;"
   ]
  },
  {
   "cell_type": "markdown",
   "metadata": {},
   "source": [
    "### 41. 删除“002”同学的“001”课程的成绩；"
   ]
  },
  {
   "cell_type": "raw",
   "metadata": {},
   "source": [
    "delete from score where course_id = 1 and student_id = 2;"
   ]
  }
 ],
 "metadata": {
  "kernelspec": {
   "display_name": "Python 3",
   "language": "python",
   "name": "python3"
  },
  "language_info": {
   "codemirror_mode": {
    "name": "ipython",
    "version": 3
   },
   "file_extension": ".py",
   "mimetype": "text/x-python",
   "name": "python",
   "nbconvert_exporter": "python",
   "pygments_lexer": "ipython3",
   "version": "3.6.5"
  }
 },
 "nbformat": 4,
 "nbformat_minor": 2
}
