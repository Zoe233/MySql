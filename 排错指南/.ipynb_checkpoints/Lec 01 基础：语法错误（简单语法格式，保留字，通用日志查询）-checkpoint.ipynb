{
 "cells": [
  {
   "cell_type": "markdown",
   "metadata": {},
   "source": [
    "典型的基础类问题：执行一个查询但是返回非预期的结果。\n",
    "\n",
    "这类问题的表现形式可能是很明显的错误，也可能是在你明知有匹配记录的情况下却没有返回结果，或者其他应用程序中罕见的行为。\n",
    "\n",
    "简而言之，本章内容是建立在你充分了解应用程序的运行状况以及查询应该返回结果，或者其他应用程序中罕见的行为。"
   ]
  },
  {
   "cell_type": "markdown",
   "metadata": {},
   "source": [
    "# 1. 语法错误\n",
    "- 检查查询的语法错误作为排错的第一步\n",
    "- 始终尝试查看MySQL服务器最终接受到的查询，不仅调试应用程序代码，要获取查询语句"
   ]
  },
  {
   "cell_type": "markdown",
   "metadata": {},
   "source": [
    "## 1.1 简单语法错误"
   ]
  },
  {
   "cell_type": "raw",
   "metadata": {},
   "source": [
    "mysql> select * fro dept where id in (1,2,4); \n",
    "ERROR 1064 (42000): You have an error in your SQL syntax; check the manual that corresponds to your MySQL server version for the right syntax to use near 'fro dept where id in (1,2,4)' at line 1"
   ]
  },
  {
   "cell_type": "markdown",
   "metadata": {},
   "source": [
    "语法错误明显，错误消息也很清楚。"
   ]
  },
  {
   "cell_type": "markdown",
   "metadata": {},
   "source": [
    "## 1.2 困难的语法错误：版本迁移导致的问题：保留字"
   ]
  },
  {
   "cell_type": "raw",
   "metadata": {},
   "source": [
    "select id from t1 where accessible=1;"
   ]
  },
  {
   "cell_type": "markdown",
   "metadata": {},
   "source": [
    "这是一个版本迁移导致的问题；\n",
    "\n",
    "该语句在5.0版本中运行正常，但是在5.1 版本中出现错误。\n",
    "\n",
    "问题的原因在于，在5.1版本中，accessible是一个**保留字**。\n",
    "\n",
    "该该语句加上引号（反引号还是双引号取决于你的SQL格式），即可重新正常运行："
   ]
  },
  {
   "cell_type": "raw",
   "metadata": {},
   "source": [
    "select `id` from `t1` where `accessible`=1;"
   ]
  },
  {
   "cell_type": "markdown",
   "metadata": {},
   "source": [
    "实际场景中的查询语句看起来可能十分繁琐，包括大段的JOIN和复杂的WHERE条件。\n",
    "\n",
    "所以，即使是简单的错误在其他大量语句的干扰下也很难被查找出来。\n",
    "\n",
    "我们当时第一步的任务就是简单复杂的查询，使它变成像刚才看到的那样只有一行SELECT 的语句。\n",
    "\n",
    "这就是一个最简化测试的示例。\n",
    "\n",
    "当我们看到简化后只有一行的语句也有同样的Bug时，我们就能很块意识到原有程序是因为保留字的问题而产生了错误。"
   ]
  },
  {
   "cell_type": "markdown",
   "metadata": {},
   "source": [
    "## 1.3 启用通用查询日志\n",
    "变量：general_log, log_output"
   ]
  },
  {
   "cell_type": "markdown",
   "metadata": {},
   "source": [
    "通用查询日志包含MySQL服务器接收到的每条独立查询。\n",
    "\n",
    "很多产品不会在日常运行中使用该日志，因为它在高负载的情况下增长十分迅速，并且写入日志会消耗MySQL服务器的资源，这些资源很可能用于更重要的用途。\n",
    "\n",
    "从5.1版本开始，可以临时打开通用查询日志，方便随时记录你需要的查询。"
   ]
  },
  {
   "cell_type": "raw",
   "metadata": {},
   "source": [
    "# 默认是关闭OFF的状态\n",
    "mysql> show variables like 'general_log';\n",
    "+---------------+-------+\n",
    "| Variable_name | Value |\n",
    "+---------------+-------+\n",
    "| general_log   | OFF   |\n",
    "+---------------+-------+\n",
    "1 row in set (0.00 sec)\n",
    "\n",
    "# 临时打开通用查询日志\n",
    "mysql> SET GLOBAL general_log='on';\n",
    "Query OK, 0 rows affected (0.01 sec)\n",
    "\n",
    "\n",
    "mysql> show variables like 'general_log';\n",
    "+---------------+-------+\n",
    "| Variable_name | Value |\n",
    "+---------------+-------+\n",
    "| general_log   | ON    |\n",
    "+---------------+-------+\n",
    "1 row in set (0.00 sec)"
   ]
  },
  {
   "cell_type": "markdown",
   "metadata": {},
   "source": [
    "也可以将日志记录在表中，可以帮你方便地分类索引日志文件项，因为你可以像查询其他表一样访问查询日志表："
   ]
  },
  {
   "cell_type": "markdown",
   "metadata": {},
   "source": [
    "mysql> show variables like 'log_output';\n",
    "+---------------+-------+\n",
    "| Variable_name | Value |\n",
    "+---------------+-------+\n",
    "| log_output    | FILE  |\n",
    "+---------------+-------+\n",
    "1 row in set (0.00 sec)\n",
    "\n",
    "mysql> set global log_output='table';\n",
    "Query OK, 0 rows affected (0.00 sec)\n",
    "\n",
    "mysql> show variables like 'log_output';\n",
    "+---------------+-------+\n",
    "| Variable_name | Value |\n",
    "+---------------+-------+\n",
    "| log_output    | TABLE |\n",
    "+---------------+-------+\n",
    "1 row in set (0.01 sec)"
   ]
  },
  {
   "cell_type": "markdown",
   "metadata": {},
   "source": [
    "### 查看通用日志查询表，以查找有问题的查询："
   ]
  },
  {
   "cell_type": "raw",
   "metadata": {},
   "source": [
    "mysql> select * from general_log;\n",
    "+---------------------+---------------------------+-----------+-----------+--------------+----------------------------------+\n",
    "| event_time          | user_host                 | thread_id | server_id | command_type | argument                         |\n",
    "+---------------------+---------------------------+-----------+-----------+--------------+----------------------------------+\n",
    "| 2019-09-03 10:26:57 | root[root] @ localhost [] |        62 |        52 | Query        | show variables like 'log_output' |\n",
    "| 2019-09-03 10:27:22 | root[root] @ localhost [] |        62 |        52 | Query        | select * from mysql.generabl_log |\n",
    "| 2019-09-03 10:27:27 | root[root] @ localhost [] |        62 |        52 | Query        | SELECT DATABASE()                |\n",
    "| 2019-09-03 10:27:27 | root[root] @ localhost [] |        62 |        52 | Init DB      | mysql                            |\n",
    "| 2019-09-03 10:27:30 | root[root] @ localhost [] |        62 |        52 | Query        | show tables                      |\n",
    "| 2019-09-03 10:27:39 | root[root] @ localhost [] |        62 |        52 | Query        | show tables like 'gen%'          |\n",
    "| 2019-09-03 10:27:49 | root[root] @ localhost [] |        62 |        52 | Query        | desc general_log                 |\n",
    "| 2019-09-03 10:27:56 | root[root] @ localhost [] |        62 |        52 | Query        | select * from general_log        |\n",
    "| 2019-09-03 10:28:00 | root[root] @ localhost [] |        62 |        52 | Query        | select * from general_log        |\n",
    "| 2019-09-03 10:28:04 | root[root] @ localhost [] |        62 |        52 | Query        | select * from general_log        |\n",
    "| 2019-09-03 10:28:31 | root[root] @ localhost [] |        62 |        52 | Query        | select * from test.dept          |\n",
    "| 2019-09-03 10:28:33 | root[root] @ localhost [] |        62 |        52 | Query        | select * from general_log        |\n",
    "| 2019-09-03 10:28:58 | root[root] @ localhost [] |        62 |        52 | Query        | select * from general_log        |\n",
    "| 2019-09-03 10:29:18 | root[root] @ localhost [] |        62 |        52 | Query        | select * from general_log        |\n",
    "+---------------------+---------------------------+-----------+-----------+--------------+----------------------------------+\n",
    "14 rows in set (0.00 sec)"
   ]
  },
  {
   "cell_type": "raw",
   "metadata": {},
   "source": [
    "mysql> select * from general_log\\G\n",
    "*************************** 1. row ***************************\n",
    "  event_time: 2019-09-03 10:26:57\n",
    "   user_host: root[root] @ localhost []\n",
    "   thread_id: 62\n",
    "   server_id: 52\n",
    "command_type: Query\n",
    "    argument: show variables like 'log_output'\n",
    "*************************** 2. row ***************************\n",
    "  event_time: 2019-09-03 10:27:22\n",
    "   user_host: root[root] @ localhost []\n",
    "   thread_id: 62\n",
    "   server_id: 52\n",
    "command_type: Query\n",
    "    argument: select * from mysql.generabl_log\n",
    "*************************** 3. row ***************************\n",
    "  event_time: 2019-09-03 10:27:27\n",
    "   user_host: root[root] @ localhost []\n",
    "   thread_id: 62\n",
    "   server_id: 52\n",
    "command_type: Query\n",
    "    argument: SELECT DATABASE()\n",
    "*************************** 4. row ***************************\n",
    "  event_time: 2019-09-03 10:27:27\n",
    "   user_host: root[root] @ localhost []\n",
    "   thread_id: 62\n",
    "   server_id: 52\n",
    "command_type: Init DB\n",
    "    argument: mysql\n",
    "*************************** 5. row ***************************\n",
    "  event_time: 2019-09-03 10:27:30\n",
    "   user_host: root[root] @ localhost []\n",
    "   thread_id: 62\n",
    "   server_id: 52\n",
    "command_type: Query\n",
    "    argument: show tables\n",
    "*************************** 6. row ***************************\n",
    "  event_time: 2019-09-03 10:27:39\n",
    "   user_host: root[root] @ localhost []\n",
    "   thread_id: 62\n",
    "   server_id: 52\n",
    "command_type: Query\n",
    "    argument: show tables like 'gen%'\n",
    "*************************** 7. row ***************************\n",
    "  event_time: 2019-09-03 10:27:49\n",
    "   user_host: root[root] @ localhost []\n",
    "   thread_id: 62\n",
    "   server_id: 52\n",
    "command_type: Query\n",
    "    argument: desc general_log\n",
    "*************************** 8. row ***************************\n",
    "  event_time: 2019-09-03 10:27:56\n",
    "   user_host: root[root] @ localhost []\n",
    "   thread_id: 62\n",
    "   server_id: 52\n",
    "command_type: Query\n",
    "    argument: select * from general_log\n",
    "*************************** 9. row ***************************\n",
    "  event_time: 2019-09-03 10:28:00\n",
    "   user_host: root[root] @ localhost []\n",
    "   thread_id: 62\n",
    "   server_id: 52\n",
    "command_type: Query\n",
    "    argument: select * from general_log\n",
    "*************************** 10. row ***************************\n",
    "  event_time: 2019-09-03 10:28:04\n",
    "   user_host: root[root] @ localhost []\n",
    "   thread_id: 62\n",
    "   server_id: 52\n",
    "command_type: Query\n",
    "    argument: select * from general_log\n",
    "*************************** 11. row ***************************\n",
    "  event_time: 2019-09-03 10:28:31\n",
    "   user_host: root[root] @ localhost []\n",
    "   thread_id: 62\n",
    "   server_id: 52\n",
    "command_type: Query\n",
    "    argument: select * from test.dept\n",
    "*************************** 12. row ***************************\n",
    "  event_time: 2019-09-03 10:28:33\n",
    "   user_host: root[root] @ localhost []\n",
    "   thread_id: 62\n",
    "   server_id: 52\n",
    "command_type: Query\n",
    "    argument: select * from general_log\n",
    "*************************** 13. row ***************************\n",
    "  event_time: 2019-09-03 10:28:58\n",
    "   user_host: root[root] @ localhost []\n",
    "   thread_id: 62\n",
    "   server_id: 52\n",
    "command_type: Query\n",
    "    argument: select * from general_log\n",
    "13 rows in set (0.00 sec)"
   ]
  }
 ],
 "metadata": {
  "kernelspec": {
   "display_name": "Python 3",
   "language": "python",
   "name": "python3"
  },
  "language_info": {
   "codemirror_mode": {
    "name": "ipython",
    "version": 3
   },
   "file_extension": ".py",
   "mimetype": "text/x-python",
   "name": "python",
   "nbconvert_exporter": "python",
   "pygments_lexer": "ipython3",
   "version": "3.6.5"
  }
 },
 "nbformat": 4,
 "nbformat_minor": 2
}
