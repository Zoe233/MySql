{
 "cells": [
  {
   "cell_type": "markdown",
   "metadata": {},
   "source": [
    "# 1. SELECT 返回错误结果"
   ]
  },
  {
   "cell_type": "markdown",
   "metadata": {},
   "source": [
    "常见问题：\n",
    "- 用户看不到更新的结果\n",
    "- 展示的顺序错误或者查询到了非预期的结果"
   ]
  },
  {
   "cell_type": "markdown",
   "metadata": {},
   "source": [
    "原因：\n",
    "- select 有误\n",
    "- 数据库中的数据和你的想象不同"
   ]
  },
  {
   "cell_type": "markdown",
   "metadata": {},
   "source": [
    "### 执行计划：explain extended SQL语句"
   ]
  },
  {
   "cell_type": "markdown",
   "metadata": {},
   "source": [
    "### show warnings的输出信息\n",
    "mysql服务器不是总按照语句输入的顺序执行它，而是调用优化器去构造一个更好的执行计划，因此，用户通常都会很快得到返回结果。"
   ]
  },
  {
   "cell_type": "markdown",
   "metadata": {},
   "source": [
    "### 在explain extended命令之后，show warnings命令展示的就是优化后的查询。"
   ]
  },
  {
   "cell_type": "markdown",
   "metadata": {},
   "source": [
    "## SELECT 查询运行异常可能有很多不同的原因，但是查找问题的一般方法总是相同的。\n",
    "1. 将查询分解成小段，然后依次执行它们，直到你发现问题的原因\n",
    "2. 使用explain extended，然后使用show warnings 命令取获取查询执行计划及其实际运行方式的相关信息。\n",
    "3. 如果不理解mysql服务器的执行情况，可以使用互联网和其他有效的资源去获得信息。"
   ]
  },
  {
   "cell_type": "markdown",
   "metadata": {},
   "source": [
    "错误示例："
   ]
  },
  {
   "cell_type": "raw",
   "metadata": {},
   "source": [
    "select count(*) from items where id in (select id from items_links);"
   ]
  },
  {
   "cell_type": "markdown",
   "metadata": {},
   "source": [
    "说明：    \n",
    "因为items表中有一个名为id的列，因此mysql认为我们想要执行一个**依赖子查询**，结果实际中从items_links表中查询了items.id。\n",
    "\n",
    "**依赖子查询** 是指引用外部查询中字段的查询。"
   ]
  },
  {
   "cell_type": "markdown",
   "metadata": {},
   "source": []
  },
  {
   "cell_type": "markdown",
   "metadata": {},
   "source": []
  },
  {
   "cell_type": "markdown",
   "metadata": {},
   "source": []
  }
 ],
 "metadata": {
  "kernelspec": {
   "display_name": "Python 3",
   "language": "python",
   "name": "python3"
  },
  "language_info": {
   "codemirror_mode": {
    "name": "ipython",
    "version": 3
   },
   "file_extension": ".py",
   "mimetype": "text/x-python",
   "name": "python",
   "nbconvert_exporter": "python",
   "pygments_lexer": "ipython3",
   "version": "3.6.5"
  }
 },
 "nbformat": 4,
 "nbformat_minor": 2
}
