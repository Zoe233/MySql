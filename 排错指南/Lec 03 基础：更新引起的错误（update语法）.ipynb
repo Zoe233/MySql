{
 "cells": [
  {
   "cell_type": "markdown",
   "metadata": {},
   "source": [
    "如果select 查询返回了非预期的结果集，这并不总是查询语句本身有错误，也有可能是因为你以为已经进行了**插入、更新或者删除**等操作，而事实上它们并未生效。"
   ]
  },
  {
   "cell_type": "markdown",
   "metadata": {},
   "source": [
    "在select语句编写正确并且能够返回你想要的值的情况下，然后调查由数据本身的问题导致错误的可能性。"
   ]
  },
  {
   "cell_type": "markdown",
   "metadata": {},
   "source": [
    "### 原因：\n",
    "1. 使用了错误的备份，错误的UPDATE语句\n",
    "2. 从节点与主节点之间同步异常（这里仅列出这些最常见的可能）"
   ]
  },
  {
   "cell_type": "markdown",
   "metadata": {},
   "source": [
    "### 示例1："
   ]
  },
  {
   "cell_type": "markdown",
   "metadata": {},
   "source": [
    "数据准备："
   ]
  },
  {
   "cell_type": "markdown",
   "metadata": {},
   "source": [
    "mysql> create temporary table t1(f1 int);\n",
    "Query OK, 0 rows affected (0.01 sec)\n",
    "\n",
    "mysql> create temporary table t2(f2 int);\n",
    "Query OK, 0 rows affected (0.01 sec)\n",
    "\n",
    "mysql> insert into t1 values(1);\n",
    "Query OK, 1 row affected (0.00 sec)\n",
    "\n",
    "mysql> select * from t1;\n",
    "+------+\n",
    "| f1   |\n",
    "+------+\n",
    "|    1 |\n",
    "+------+\n",
    "1 row in set (0.00 sec)\n"
   ]
  },
  {
   "cell_type": "markdown",
   "metadata": {},
   "source": [
    "在应用程序中，临时表包含从主日志表中查询出来的部分结果集。\n",
    "\n",
    "这是一个保存日常常用数据经常使用的技术手段，当你只需要用到主表中的一小部分数据并且用户不想该表主表中的数据或者锁定主表的时候，可以用到临时表。"
   ]
  },
  {
   "cell_type": "markdown",
   "metadata": {},
   "source": [
    "所以，在这个示例中，当使用完结果集后，用户想要同时删除两个表中的相应行。\n",
    "\n",
    "通常人们很难想象用一个查询语句去做多件事情。   \n",
    "\n",
    "不过现实可能与你的设想不同，并且你还会得到非预期的结果或负面影响。"
   ]
  },
  {
   "cell_type": "raw",
   "metadata": {},
   "source": [
    "mysql> delete from t1,t2 using t1,t2;\n",
    "Query OK, 0 rows affected (0.00 sec)"
   ]
  },
  {
   "cell_type": "markdown",
   "metadata": {},
   "source": [
    "输出结果，delete操作没有影响到任何行，意味着它什么都没做。\n",
    "\n",
    "然而，一条语句的输出通常不是那么显而易见的，有时候它并不可见，通常情况下，你应该始终检查语句执行的返回信息，从而了解有多少行数据受影响且它们的值是否与你预期的一致。"
   ]
  },
  {
   "cell_type": "raw",
   "metadata": {},
   "source": [
    "mysql> select * from t1;\n",
    "+------+\n",
    "| f1   |\n",
    "+------+\n",
    "|    1 |\n",
    "+------+\n",
    "1 row in set (0.00 sec)"
   ]
  },
  {
   "cell_type": "markdown",
   "metadata": {},
   "source": [
    "通过查询可以看出，delete实际没有删除任何行。\n",
    "\n",
    "为了找出原因，我们可以将delete语句改为相应的select语句。"
   ]
  },
  {
   "cell_type": "raw",
   "metadata": {},
   "source": [
    "mysql> select * from t1,t2;\n",
    "Empty set (0.00 sec)"
   ]
  },
  {
   "cell_type": "markdown",
   "metadata": {},
   "source": [
    "与之前的结果一致，这里也返回空集合。这就是为什么没有删除任何行！然而，现在仍不清楚产生这个现象的具体原因，但是既然我们有一个select查询，就可以利用前面的技术：explain extended。"
   ]
  },
  {
   "cell_type": "raw",
   "metadata": {},
   "source": [
    "mysql> \\W\n",
    "Show warnings enabled.\n",
    "mysql> explain extended select * from t1,t2\\G\n",
    "*************************** 1. row ***************************\n",
    "           id: 1\n",
    "  select_type: SIMPLE\n",
    "        table: t1\n",
    "         type: ALL\n",
    "possible_keys: NULL\n",
    "          key: NULL\n",
    "      key_len: NULL\n",
    "          ref: NULL\n",
    "         rows: 1\n",
    "     filtered: 100.00\n",
    "        Extra: \n",
    "*************************** 2. row ***************************\n",
    "           id: 1\n",
    "  select_type: SIMPLE\n",
    "        table: t2\n",
    "         type: ALL\n",
    "possible_keys: NULL\n",
    "          key: NULL\n",
    "      key_len: NULL\n",
    "          ref: NULL\n",
    "         rows: 1\n",
    "     filtered: 100.00\n",
    "        Extra: Using join buffer\n",
    "2 rows in set, 1 warning (0.00 sec)\n",
    "\n",
    "Note (Code 1003): select `mysql`.`t1`.`f1` AS `f1`,`mysql`.`t2`.`f2` AS `f2` from `mysql`.`t1` join `mysql`.`t2`\n",
    "mysql> "
   ]
  },
  {
   "cell_type": "markdown",
   "metadata": {},
   "source": [
    "输出的最后的信息表明查询语句被修饰成了 内连接。\n",
    "\n",
    "**内连接**，仅当另一张表也有满足条件的行时，才会同时返回两行表的行。\n",
    "\n",
    "对于t1表中的每一行，在t2表中应至少有一行的值匹配。\n",
    "\n",
    "在这个示例中，t2表示空的，自然连接操作返回空集合。"
   ]
  },
  {
   "cell_type": "markdown",
   "metadata": {},
   "source": [
    "### 示例2："
   ]
  },
  {
   "cell_type": "raw",
   "metadata": {},
   "source": [
    "update items set description='no description' and additional='no additional comments' where description IS NULL;"
   ]
  },
  {
   "cell_type": "markdown",
   "metadata": {},
   "source": [
    "实际上这个语句计算了下列表达式："
   ]
  },
  {
   "cell_type": "raw",
   "metadata": {},
   "source": [
    "'no description' and additional='no additional comments'"
   ]
  },
  {
   "cell_type": "markdown",
   "metadata": {},
   "source": [
    "然后将值赋给description字段。"
   ]
  },
  {
   "cell_type": "markdown",
   "metadata": {},
   "source": [
    "计算等式\"=\"会产生一个布尔类型的结果，表示为LONGLONG类型的值。"
   ]
  },
  {
   "cell_type": "markdown",
   "metadata": {},
   "source": [
    "<img src='./images/mysql001.png'/>"
   ]
  },
  {
   "cell_type": "markdown",
   "metadata": {},
   "source": [
    "我们可以清楚地看到表达式的结果是0，这个值随后被插入了description字段。并且我们对additional字段的更新已经被这个奇怪的表达式所覆盖了，所以没有值插入该字段中，也就看不到服务器端给出任何该字段的信息。"
   ]
  },
  {
   "cell_type": "markdown",
   "metadata": {},
   "source": [
    "#### 修改后的语句："
   ]
  },
  {
   "cell_type": "raw",
   "metadata": {},
   "source": [
    "update items set description='no description', additional='no additional comments' where description is null;"
   ]
  },
  {
   "cell_type": "markdown",
   "metadata": {},
   "source": []
  }
 ],
 "metadata": {
  "kernelspec": {
   "display_name": "Python 3",
   "language": "python",
   "name": "python3"
  },
  "language_info": {
   "codemirror_mode": {
    "name": "ipython",
    "version": 3
   },
   "file_extension": ".py",
   "mimetype": "text/x-python",
   "name": "python",
   "nbconvert_exporter": "python",
   "pygments_lexer": "ipython3",
   "version": "3.6.5"
  }
 },
 "nbformat": 4,
 "nbformat_minor": 2
}
